{
 "cells": [
  {
   "cell_type": "markdown",
   "metadata": {},
   "source": [
    "# Comment"
   ]
  },
  {
   "cell_type": "markdown",
   "metadata": {},
   "source": [
    "Датасет http://www.cs.cmu.edu/~enron/\n",
    "Уже скаченный и лежит в папке '/mnt/data/molchanov/datasets/maildir'\n",
    "\n",
    "! pip install mail-parser"
   ]
  },
  {
   "cell_type": "markdown",
   "metadata": {},
   "source": [
    "StreamingGraph -  словарь графов (1 граф соответствует 1 дню) ключ - дата (день)\n",
    "Каждый граф - объект типа Graph, который хранит вершины и ребра (Edge) в виде списка смежности, \n",
    "что представляет из себя словарь словарей, ключи которых - имена нод графов в данном случае емэил адреса отправителя \n",
    "и получающего, например Graph['sender1@mail.ru']['reciver2@mail.ru'] это ребро, объект класса Edge - распарсенные письма\n",
    "между 'sender1@mail.ru' и 'reciver2@mail.ru' в течении дня. Edge - Хранит в себе словарь свойств, на данный момент там есть число \n",
    "писем и Subject письма."
   ]
  },
  {
   "cell_type": "code",
   "execution_count": 100,
   "metadata": {},
   "outputs": [],
   "source": [
    "import time\n",
    "import os\n",
    "from os import listdir\n",
    "from os import path as osp\n",
    "import tqdm\n",
    "import re\n",
    "from collections import defaultdict\n",
    "import numpy as np\n",
    "from copy import copy, deepcopy\n",
    "import datetime\n",
    "import mailparser\n",
    "from multiprocessing import Pool\n",
    "\n",
    "base_path = '/mnt/data/molchanov/datasets/maildir'\n",
    "\n",
    "def jn(p1, p2):\n",
    "    return osp.join(p1, p2)\n",
    "\n",
    "def jnb(p):\n",
    "    return jn(base_path, p)"
   ]
  },
  {
   "cell_type": "code",
   "execution_count": 102,
   "metadata": {},
   "outputs": [],
   "source": [
    "class Mapping:\n",
    "    \n",
    "    def __init__(self):\n",
    "        self.__dict__ = dict()\n",
    "\n",
    "    def __setitem__(self, key, item):\n",
    "        self.__dict__[key] = item\n",
    "\n",
    "    def __getitem__(self, key):\n",
    "        return self.__dict__[key]\n",
    "\n",
    "    def __repr__(self):\n",
    "        return repr(self.__dict__)\n",
    "\n",
    "    def __len__(self):\n",
    "        return len(self.__dict__)\n",
    "\n",
    "    def __delitem__(self, key):\n",
    "        del self.__dict__[key]\n",
    "\n",
    "    def clear(self):\n",
    "        return self.__dict__.clear()\n",
    "\n",
    "    def copy(self):\n",
    "        return self.__dict__.copy()\n",
    "\n",
    "    def has_key(self, k):\n",
    "        return k in self.__dict__\n",
    "\n",
    "    def update(self, *args, **kwargs):\n",
    "        return self.__dict__.update(*args, **kwargs)\n",
    "\n",
    "    def keys(self):\n",
    "        return self.__dict__.keys()\n",
    "\n",
    "    def values(self):\n",
    "        return self.__dict__.values()\n",
    "\n",
    "    def items(self):\n",
    "        return self.__dict__.items()\n",
    "\n",
    "    def pop(self, *args):\n",
    "        return self.__dict__.pop(*args)\n",
    "\n",
    "    def __cmp__(self, dict_):\n",
    "        return self.__cmp__(self.__dict__, dict_)\n",
    "\n",
    "    def __contains__(self, item):\n",
    "        return item in self.__dict__\n",
    "\n",
    "    def __iter__(self):\n",
    "        return iter(self.__dict__)\n",
    "\n",
    "    def __unicode__(self):\n",
    "        return unicode(repr(self.__dict__))"
   ]
  },
  {
   "cell_type": "markdown",
   "metadata": {},
   "source": [
    "# Stream Graph implementation"
   ]
  },
  {
   "cell_type": "code",
   "execution_count": 107,
   "metadata": {},
   "outputs": [],
   "source": [
    "class Edge(Mapping):\n",
    "    \n",
    "    def __init__(self, d={}):\n",
    "        super().__init__()\n",
    "        self.__dict__ = d\n",
    "        \n",
    "    def __add__(self, other):\n",
    "        cur = deepcopy(self)\n",
    "        for key, val in other.items():\n",
    "            if key in cur:\n",
    "                cur[key] += deepcopy(val)\n",
    "            else:\n",
    "                cur[key] = deepcopy(val)\n",
    "        return cur\n",
    "    \n",
    "    def __repr__(self):\n",
    "        return str(self.__dict__)\n",
    "    \n",
    "def ddict():\n",
    "    return defaultdict(Edge)\n",
    "    \n",
    "class Graph(Mapping):\n",
    "    \n",
    "    def __init__(self):\n",
    "        #self.__dict__ = defaultdict(lambda : defaultdict(Edge))\n",
    "        self.__dict__ = defaultdict(ddict)\n",
    "    \n",
    "    # srs - sourse mail addres\n",
    "    # dst - destination mail addres\n",
    "    # features - dict of key value features\n",
    "    def add_pair(self, srs, dst, features):\n",
    "        self[srs][dst] += Edge(features)\n",
    "    \n",
    "    def __repr__(self):\n",
    "        return str(self.__dict__)\n",
    "        \n",
    "\n",
    "class StreamingGraph(Mapping):\n",
    "    \n",
    "    def __init__(self):\n",
    "        self.__dict__ = defaultdict(Graph)\n",
    "        \n",
    "    # date - mail date\n",
    "    # srs - sourse mail addres\n",
    "    # dst - destination mail addres\n",
    "    # features - dict of key value features\n",
    "    def add_pair(self, date, srs, dst, features):\n",
    "        self[date].add_pair(srs, dst, features)\n",
    "        \n",
    "    def __repr__(self):\n",
    "        return str(self.__dict__)\n",
    "    \n",
    "    \n",
    "def merge_streamin_graphs(lst_graphs):\n",
    "    merged_graph = StreamingGraph()\n",
    "    \n",
    "    for stream_graph in tqdm.tqdm(lst_graphs):\n",
    "        for day, day_graph in stream_graph.items():\n",
    "            for srs, dst_dict in day_graph.items():\n",
    "                for dst, dst_mail in dst_dict.items():\n",
    "                    merged_graph.add_pair(day, srs, dst, dst_mail.__dict__)\n",
    "                    \n",
    "    res = {key: merged_graph[key] for key in sorted(merged_graph.keys())}\n",
    "    return res"
   ]
  },
  {
   "cell_type": "code",
   "execution_count": 117,
   "metadata": {
    "scrolled": true
   },
   "outputs": [],
   "source": [
    "def parce_mail(pth):\n",
    "    mail = mailparser.parse_from_file(pth)\n",
    "    \n",
    "    d = {}\n",
    "    dt = mail.Date[:-6]\n",
    "    mask = '%a, %d %b %Y %H:%M:%S %z'\n",
    "    try:\n",
    "        d['Date'] = datetime.datetime.strptime(dt, mask)\n",
    "    except:\n",
    "        mask = '%a, %d %b %Y %H:%M:%S'\n",
    "        try:\n",
    "            d['Date'] = datetime.datetime.strptime(dt, mask)\n",
    "        except Exception as e:\n",
    "            print('ERROR')\n",
    "            print(pth)\n",
    "            print(e)\n",
    "            print('----------------------------------------------------------------')\n",
    "            return None\n",
    "    \n",
    "    d['From'] = [m.lower() for _, m in mail.From]\n",
    "    d['To'] = [m.lower() for _, m in mail.To]\n",
    "    d['CC'] = [m.lower() for _, m in mail.CC]\n",
    "    d['BCC'] = [m.lower() for _, m in mail.BCC]\n",
    "    d['Subject'] = mail.Subject.lower()\n",
    "    #d['Body'] = re.sub(r'\\s', ' ', mail.body.lower())\n",
    "    return d\n",
    "\n",
    "\n",
    "def parce_mail_dict(streaming_graph, mail_dict):\n",
    "    if mail_dict is None:\n",
    "        return\n",
    "    \n",
    "    edges_types = {'To': 2, 'CC': 3, 'BCC': 4}\n",
    "    \n",
    "    date = mail_dict['Date']\n",
    "    date_key = datetime.datetime(date.year, date.month, date.day)\n",
    "    \n",
    "    source = mail_dict['From'][0]\n",
    "    subject = [mail_dict['Subject']]\n",
    "    \n",
    "    for dst_type in ['To', 'CC', 'BCC']:\n",
    "        for dst in mail_dict[dst_type]:\n",
    "            edge_features = {\n",
    "                'edge_weight': 1,\n",
    "                'edge_type': edges_types[dst_type],\n",
    "                'Subject': subject,\n",
    "                'isre': 'Re:' in subject\n",
    "            }\n",
    "            streaming_graph.add_pair(date_key, source, dst, edge_features)\n",
    "\n",
    "    return streaming_graph\n"
   ]
  },
  {
   "cell_type": "code",
   "execution_count": 118,
   "metadata": {},
   "outputs": [],
   "source": [
    "def scan_mails(streaming_graph, pth):\n",
    "    if streaming_graph is None:\n",
    "        streaming_graph = StreamingGraph()\n",
    "        \n",
    "    if osp.isdir(pth):\n",
    "        for sub_pth in listdir(pth):\n",
    "            streaming_graph = scan_mails(streaming_graph, jn(pth, sub_pth))\n",
    "        return streaming_graph\n",
    "    else:\n",
    "        streaming_graph = parce_mail_dict(streaming_graph, parce_mail(pth))\n",
    "        return streaming_graph\n",
    "        \n",
    "def scan_task(pth):\n",
    "    return scan_mails(None, pth[0])\n",
    "    \n",
    "\n",
    "def build_graph():\n",
    "    graphs = []\n",
    "    with Pool(processes=32) as p:\n",
    "        pathes = [(jn(base_path, employ), i) for i, employ in enumerate(listdir(base_path))]\n",
    "        with tqdm.tqdm(total=len(pathes)) as pbar:\n",
    "            for i, stream_graph in enumerate(p.imap_unordered(scan_task, pathes)):\n",
    "                graphs.append(stream_graph)\n",
    "                pbar.update()\n",
    "    return merge_streamin_graphs(graphs)"
   ]
  },
  {
   "cell_type": "markdown",
   "metadata": {},
   "source": [
    "# Построение графа"
   ]
  },
  {
   "cell_type": "code",
   "execution_count": 119,
   "metadata": {
    "scrolled": false
   },
   "outputs": [
    {
     "name": "stderr",
     "output_type": "stream",
     "text": [
      " 71%|███████▏  | 107/150 [00:31<00:16,  2.54it/s]"
     ]
    },
    {
     "name": "stdout",
     "output_type": "stream",
     "text": [
      "ERROR\n",
      "/mnt/data/molchanov/datasets/maildir/lokey-t/calendar/33.\n",
      "strptime() argument 1 must be str, not list\n",
      "----------------------------------------------------------------\n"
     ]
    },
    {
     "name": "stderr",
     "output_type": "stream",
     "text": [
      "100%|██████████| 150/150 [01:57<00:00,  1.28it/s]\n",
      "100%|██████████| 150/150 [00:38<00:00,  3.86it/s]\n"
     ]
    },
    {
     "name": "stdout",
     "output_type": "stream",
     "text": [
      "CPU times: user 56.1 s, sys: 10.4 s, total: 1min 6s\n",
      "Wall time: 2min 39s\n"
     ]
    }
   ],
   "source": [
    "%%time\n",
    "STREAMING_GRAPH = build_graph()"
   ]
  },
  {
   "cell_type": "markdown",
   "metadata": {},
   "source": [
    "# Обход графа (не полный)"
   ]
  },
  {
   "cell_type": "code",
   "execution_count": 120,
   "metadata": {
    "scrolled": true
   },
   "outputs": [
    {
     "name": "stdout",
     "output_type": "stream",
     "text": [
      "DATE: 0001-05-30 00:00:00\n",
      "\n",
      "    FROM: payables.ibuyit@enron.com\n",
      "        TO: jeff.skilling@enron.com\n",
      "        edge_weight: 2\n",
      "        edge_type: 4\n",
      "        Subject: ['action requested:  invoice requires coding/issue\\n resolution/approval 00110100059665', 'action requested:  invoice requires coding/issue\\n resolution/approval 00110100059665']\n",
      "        isre: 0\n",
      "\n",
      "\n",
      "___________________________________________________________________________________\n",
      "\n"
     ]
    }
   ],
   "source": [
    "for date, graph in STREAMING_GRAPH.items():\n",
    "    print(f'DATE: {date}\\n')\n",
    "    for sender, recivers_dict in graph.items():\n",
    "        print(f'    FROM: {sender}')\n",
    "        for reciver, sender_revicer_mail in recivers_dict.items():\n",
    "            print(f'        TO: {reciver}')\n",
    "            for key, val in sender_revicer_mail.items():\n",
    "                print(f'        {key}: {val}')\n",
    "            break\n",
    "        break\n",
    "    print('\\n\\n___________________________________________________________________________________\\n')\n",
    "    break\n",
    "    "
   ]
  },
  {
   "cell_type": "code",
   "execution_count": null,
   "metadata": {},
   "outputs": [],
   "source": []
  }
 ],
 "metadata": {
  "kernelspec": {
   "display_name": "Python 3",
   "language": "python",
   "name": "python3"
  },
  "language_info": {
   "codemirror_mode": {
    "name": "ipython",
    "version": 3
   },
   "file_extension": ".py",
   "mimetype": "text/x-python",
   "name": "python",
   "nbconvert_exporter": "python",
   "pygments_lexer": "ipython3",
   "version": "3.7.4"
  }
 },
 "nbformat": 4,
 "nbformat_minor": 4
}
