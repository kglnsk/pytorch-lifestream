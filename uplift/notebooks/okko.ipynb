{
 "cells": [
  {
   "cell_type": "code",
   "execution_count": 33,
   "metadata": {},
   "outputs": [],
   "source": [
    "import os\n",
    "import numpy as np\n",
    "import pandas as pd\n",
    "import pickle\n",
    "import tqdm\n",
    "DATA_PATH = '/mnt/data/molchanov/datasets/okko/rekko_challenge_rekko_challenge_2019'"
   ]
  },
  {
   "cell_type": "code",
   "execution_count": 2,
   "metadata": {},
   "outputs": [],
   "source": [
    "transactions = pd.read_csv(\n",
    "    os.path.join(DATA_PATH, 'transactions.csv'),\n",
    "    dtype={\n",
    "        'element_uid': np.uint16,\n",
    "        'user_uid': np.uint32,\n",
    "        'consumption_mode': 'category',\n",
    "        'ts': np.float64,\n",
    "        'watched_time': np.uint64,\n",
    "        'device_type': np.uint8,\n",
    "        'device_manufacturer': np.uint8\n",
    "    }\n",
    ")"
   ]
  },
  {
   "cell_type": "code",
   "execution_count": 3,
   "metadata": {},
   "outputs": [],
   "source": [
    "ratings = transactions.groupby(['element_uid'])['user_uid'].count()\\\n",
    "                      .reset_index()\\\n",
    "                      .sort_values(['user_uid'], ascending=False)"
   ]
  },
  {
   "cell_type": "code",
   "execution_count": 4,
   "metadata": {},
   "outputs": [
    {
     "data": {
      "text/html": [
       "<div>\n",
       "<style scoped>\n",
       "    .dataframe tbody tr th:only-of-type {\n",
       "        vertical-align: middle;\n",
       "    }\n",
       "\n",
       "    .dataframe tbody tr th {\n",
       "        vertical-align: top;\n",
       "    }\n",
       "\n",
       "    .dataframe thead th {\n",
       "        text-align: right;\n",
       "    }\n",
       "</style>\n",
       "<table border=\"1\" class=\"dataframe\">\n",
       "  <thead>\n",
       "    <tr style=\"text-align: right;\">\n",
       "      <th></th>\n",
       "      <th>element_uid</th>\n",
       "      <th>user_uid</th>\n",
       "    </tr>\n",
       "  </thead>\n",
       "  <tbody>\n",
       "    <tr>\n",
       "      <th>2194</th>\n",
       "      <td>2714</td>\n",
       "      <td>68320</td>\n",
       "    </tr>\n",
       "    <tr>\n",
       "      <th>616</th>\n",
       "      <td>747</td>\n",
       "      <td>61272</td>\n",
       "    </tr>\n",
       "    <tr>\n",
       "      <th>2126</th>\n",
       "      <td>2639</td>\n",
       "      <td>61119</td>\n",
       "    </tr>\n",
       "    <tr>\n",
       "      <th>3059</th>\n",
       "      <td>3783</td>\n",
       "      <td>55228</td>\n",
       "    </tr>\n",
       "    <tr>\n",
       "      <th>1801</th>\n",
       "      <td>2245</td>\n",
       "      <td>52942</td>\n",
       "    </tr>\n",
       "    <tr>\n",
       "      <th>4972</th>\n",
       "      <td>6127</td>\n",
       "      <td>52168</td>\n",
       "    </tr>\n",
       "    <tr>\n",
       "      <th>8185</th>\n",
       "      <td>10061</td>\n",
       "      <td>48993</td>\n",
       "    </tr>\n",
       "    <tr>\n",
       "      <th>3173</th>\n",
       "      <td>3916</td>\n",
       "      <td>48243</td>\n",
       "    </tr>\n",
       "    <tr>\n",
       "      <th>7126</th>\n",
       "      <td>8771</td>\n",
       "      <td>47480</td>\n",
       "    </tr>\n",
       "    <tr>\n",
       "      <th>2694</th>\n",
       "      <td>3336</td>\n",
       "      <td>45646</td>\n",
       "    </tr>\n",
       "  </tbody>\n",
       "</table>\n",
       "</div>"
      ],
      "text/plain": [
       "      element_uid  user_uid\n",
       "2194         2714     68320\n",
       "616           747     61272\n",
       "2126         2639     61119\n",
       "3059         3783     55228\n",
       "1801         2245     52942\n",
       "4972         6127     52168\n",
       "8185        10061     48993\n",
       "3173         3916     48243\n",
       "7126         8771     47480\n",
       "2694         3336     45646"
      ]
     },
     "execution_count": 4,
     "metadata": {},
     "output_type": "execute_result"
    }
   ],
   "source": [
    "ratings.head(10)"
   ]
  },
  {
   "cell_type": "code",
   "execution_count": 6,
   "metadata": {},
   "outputs": [],
   "source": [
    "ratings.to_csv(os.path.join(DATA_PATH, 'popularity_ratings.csv'))"
   ]
  },
  {
   "cell_type": "code",
   "execution_count": 7,
   "metadata": {},
   "outputs": [
    {
     "data": {
      "text/html": [
       "<div>\n",
       "<style scoped>\n",
       "    .dataframe tbody tr th:only-of-type {\n",
       "        vertical-align: middle;\n",
       "    }\n",
       "\n",
       "    .dataframe tbody tr th {\n",
       "        vertical-align: top;\n",
       "    }\n",
       "\n",
       "    .dataframe thead th {\n",
       "        text-align: right;\n",
       "    }\n",
       "</style>\n",
       "<table border=\"1\" class=\"dataframe\">\n",
       "  <thead>\n",
       "    <tr style=\"text-align: right;\">\n",
       "      <th></th>\n",
       "      <th>Unnamed: 0</th>\n",
       "      <th>element_uid</th>\n",
       "      <th>user_uid</th>\n",
       "    </tr>\n",
       "  </thead>\n",
       "  <tbody>\n",
       "    <tr>\n",
       "      <th>0</th>\n",
       "      <td>2194</td>\n",
       "      <td>2714</td>\n",
       "      <td>68320</td>\n",
       "    </tr>\n",
       "    <tr>\n",
       "      <th>1</th>\n",
       "      <td>616</td>\n",
       "      <td>747</td>\n",
       "      <td>61272</td>\n",
       "    </tr>\n",
       "    <tr>\n",
       "      <th>2</th>\n",
       "      <td>2126</td>\n",
       "      <td>2639</td>\n",
       "      <td>61119</td>\n",
       "    </tr>\n",
       "    <tr>\n",
       "      <th>3</th>\n",
       "      <td>3059</td>\n",
       "      <td>3783</td>\n",
       "      <td>55228</td>\n",
       "    </tr>\n",
       "    <tr>\n",
       "      <th>4</th>\n",
       "      <td>1801</td>\n",
       "      <td>2245</td>\n",
       "      <td>52942</td>\n",
       "    </tr>\n",
       "    <tr>\n",
       "      <th>5</th>\n",
       "      <td>4972</td>\n",
       "      <td>6127</td>\n",
       "      <td>52168</td>\n",
       "    </tr>\n",
       "    <tr>\n",
       "      <th>6</th>\n",
       "      <td>8185</td>\n",
       "      <td>10061</td>\n",
       "      <td>48993</td>\n",
       "    </tr>\n",
       "    <tr>\n",
       "      <th>7</th>\n",
       "      <td>3173</td>\n",
       "      <td>3916</td>\n",
       "      <td>48243</td>\n",
       "    </tr>\n",
       "    <tr>\n",
       "      <th>8</th>\n",
       "      <td>7126</td>\n",
       "      <td>8771</td>\n",
       "      <td>47480</td>\n",
       "    </tr>\n",
       "    <tr>\n",
       "      <th>9</th>\n",
       "      <td>2694</td>\n",
       "      <td>3336</td>\n",
       "      <td>45646</td>\n",
       "    </tr>\n",
       "  </tbody>\n",
       "</table>\n",
       "</div>"
      ],
      "text/plain": [
       "   Unnamed: 0  element_uid  user_uid\n",
       "0        2194         2714     68320\n",
       "1         616          747     61272\n",
       "2        2126         2639     61119\n",
       "3        3059         3783     55228\n",
       "4        1801         2245     52942\n",
       "5        4972         6127     52168\n",
       "6        8185        10061     48993\n",
       "7        3173         3916     48243\n",
       "8        7126         8771     47480\n",
       "9        2694         3336     45646"
      ]
     },
     "execution_count": 7,
     "metadata": {},
     "output_type": "execute_result"
    }
   ],
   "source": [
    "ratings = pd.read_csv(os.path.join(DATA_PATH, 'popularity_ratings.csv'))\n",
    "ratings.head(10)"
   ]
  },
  {
   "cell_type": "markdown",
   "metadata": {},
   "source": [
    "# Popularity model"
   ]
  },
  {
   "cell_type": "code",
   "execution_count": 56,
   "metadata": {},
   "outputs": [],
   "source": [
    "np.random.seed(15)\n",
    "\n",
    "# get data\n",
    "with open(f'/mnt/data/molchanov/datasets/okko/rekko_challenge_rekko_challenge_2019/transactions_grouped.pkl', 'rb') as handle:\n",
    "    data = pickle.load(handle)\n",
    "    data = [d for d in data if d['len'] >= 30]\n",
    "    data = np.random.permutation(data)\n",
    "\n",
    "    split_len = int(len(data)*0.7)\n",
    "    train_data, test_data = data[:split_len], data[:split_len]\n",
    "    \n",
    "# get ratings\n",
    "ratings = pd.read_csv(os.path.join(DATA_PATH, 'popularity_ratings.csv'))\n",
    "ratings = ratings['element_uid'].values.tolist()"
   ]
  },
  {
   "cell_type": "code",
   "execution_count": 65,
   "metadata": {},
   "outputs": [
    {
     "name": "stderr",
     "output_type": "stream",
     "text": [
      "100%|██████████| 63760/63760 [00:00<00:00, 97014.40it/s]\n"
     ]
    },
    {
     "data": {
      "text/plain": [
       "0.10378372020075283"
      ]
     },
     "execution_count": 65,
     "metadata": {},
     "output_type": "execute_result"
    }
   ],
   "source": [
    "recals = []\n",
    "N = 10\n",
    "for user in tqdm.tqdm(test_data):\n",
    "    seen_films = set(user['feature_arrays']['element_uid'][:-4])\n",
    "    relvs_films = set(user['feature_arrays']['element_uid'][-4:])\n",
    "    \n",
    "    # get top 4 not seen films for user\n",
    "    recs = []\n",
    "    for pop_film in ratings:\n",
    "        if pop_film not in seen_films:\n",
    "            recs.append(pop_film)\n",
    "        if len(recs) == N:\n",
    "            recs = set(recs)\n",
    "            break\n",
    "    \n",
    "    #recall\n",
    "    recals.append(float(len(recs.intersection(relvs_films)))/len(relvs_films))\n",
    "np.array(recals).mean()"
   ]
  },
  {
   "cell_type": "code",
   "execution_count": null,
   "metadata": {},
   "outputs": [],
   "source": []
  }
 ],
 "metadata": {
  "kernelspec": {
   "display_name": "Python 3",
   "language": "python",
   "name": "python3"
  },
  "language_info": {
   "codemirror_mode": {
    "name": "ipython",
    "version": 3
   },
   "file_extension": ".py",
   "mimetype": "text/x-python",
   "name": "python",
   "nbconvert_exporter": "python",
   "pygments_lexer": "ipython3",
   "version": "3.7.4"
  }
 },
 "nbformat": 4,
 "nbformat_minor": 4
}
