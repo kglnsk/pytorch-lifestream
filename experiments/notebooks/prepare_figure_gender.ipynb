{
 "cells": [
  {
   "cell_type": "code",
   "execution_count": 2,
   "metadata": {},
   "outputs": [],
   "source": [
    "import pandas as pd\n",
    "\n",
    "from io import StringIO"
   ]
  },
  {
   "cell_type": "code",
   "execution_count": 3,
   "metadata": {},
   "outputs": [],
   "source": [
    "import matplotlib.pyplot as plt\n",
    "import seaborn as sns\n",
    "\n",
    "from matplotlib.ticker import ScalarFormatter"
   ]
  },
  {
   "cell_type": "code",
   "execution_count": 4,
   "metadata": {},
   "outputs": [],
   "source": [
    "import matplotlib"
   ]
  },
  {
   "cell_type": "code",
   "execution_count": 5,
   "metadata": {},
   "outputs": [],
   "source": [
    "matplotlib.rc('font', size=20)"
   ]
  },
  {
   "cell_type": "code",
   "execution_count": null,
   "metadata": {},
   "outputs": [],
   "source": []
  },
  {
   "cell_type": "code",
   "execution_count": 6,
   "metadata": {},
   "outputs": [],
   "source": [
    "orig_text = \"\"\"\n",
    "                                                       oof_rocauc_score                                                         test_rocauc_score                                                        \n",
    "                                                                   mean t_int_l t_int_h    std                           values              mean t_int_l t_int_h    std                           values\n",
    "name                                                                                                                                                                                                     \n",
    "lgb_embeds: emb__hidden_size_bs_0128_hs_0032.pickle              0.8296  0.8110  0.8482 0.0134  [0.808 0.826 0.837 0.837 0.841]            0.8118  0.8078  0.8159 0.0029  [0.808 0.810 0.812 0.814 0.815]\n",
    "lgb_embeds: emb__hidden_size_bs_0128_hs_0064.pickle              0.8553  0.8331  0.8776 0.0160  [0.828 0.853 0.861 0.867 0.867]            0.8555  0.8503  0.8607 0.0037  [0.851 0.852 0.857 0.857 0.861]\n",
    "lgb_embeds: emb__hidden_size_bs_0128_hs_0128.pickle              0.8652  0.8436  0.8868 0.0155  [0.841 0.862 0.865 0.877 0.881]            0.8669  0.8639  0.8699 0.0021  [0.864 0.866 0.867 0.868 0.869]\n",
    "lgb_embeds: emb__hidden_size_bs_0128_hs_0256.pickle              0.8710  0.8508  0.8911 0.0145  [0.852 0.864 0.869 0.882 0.888]            0.8712  0.8677  0.8747 0.0025  [0.868 0.870 0.870 0.873 0.874]\n",
    "lgb_embeds: emb__hidden_size_bs_0128_hs_0512.pickle              0.8738  0.8556  0.8919 0.0131  [0.855 0.870 0.870 0.886 0.887]            0.8715  0.8657  0.8773 0.0042  [0.866 0.870 0.871 0.872 0.878]\n",
    "lgb_embeds: emb__hidden_size_bs_0128_hs_1024.pickle              0.8740  0.8584  0.8895 0.0112  [0.859 0.868 0.873 0.882 0.888]            0.8742  0.8720  0.8764 0.0016  [0.872 0.874 0.874 0.876 0.876]\n",
    "lgb_embeds: emb__hidden_size_bs_0128_hs_2048.pickle              0.8742  0.8561  0.8923 0.0130  [0.856 0.871 0.871 0.883 0.890]            0.8757  0.8725  0.8789 0.0023  [0.874 0.874 0.875 0.876 0.879]\n",
    "lgb_embeds: emb__hidden_size_bs_0128_hs_3072.pickle              0.8559  0.8443  0.8675 0.0083  [0.842 0.856 0.859 0.861 0.862]            0.8579  0.8537  0.8621 0.0030  [0.853 0.858 0.858 0.860 0.861]\n",
    "linear_embeds: emb__hidden_size_bs_0128_hs_0032.pickle           0.8231  0.8008  0.8454 0.0161  [0.797 0.820 0.828 0.833 0.837]            0.8174  0.8162  0.8187 0.0009  [0.817 0.817 0.817 0.818 0.819]\n",
    "linear_embeds: emb__hidden_size_bs_0128_hs_0064.pickle           0.8510  0.8282  0.8738 0.0164  [0.823 0.849 0.856 0.862 0.864]            0.8538  0.8521  0.8554 0.0012  [0.852 0.854 0.854 0.855 0.855]\n",
    "linear_embeds: emb__hidden_size_bs_0128_hs_0128.pickle           0.8643  0.8458  0.8828 0.0133  [0.845 0.858 0.866 0.875 0.878]            0.8639  0.8627  0.8650 0.0008  [0.863 0.863 0.864 0.864 0.865]\n",
    "linear_embeds: emb__hidden_size_bs_0128_hs_0256.pickle           0.8677  0.8474  0.8880 0.0146  [0.845 0.865 0.868 0.876 0.884]            0.8686  0.8674  0.8698 0.0009  [0.867 0.869 0.869 0.869 0.869]\n",
    "linear_embeds: emb__hidden_size_bs_0128_hs_0512.pickle           0.8674  0.8496  0.8852 0.0128  [0.848 0.864 0.867 0.879 0.879]            0.8716  0.8683  0.8749 0.0024  [0.869 0.869 0.872 0.874 0.874]\n",
    "linear_embeds: emb__hidden_size_bs_0128_hs_1024.pickle           0.8657  0.8497  0.8817 0.0116  [0.851 0.859 0.867 0.870 0.881]            0.8638  0.8601  0.8676 0.0027  [0.860 0.863 0.864 0.866 0.867]\n",
    "linear_embeds: emb__hidden_size_bs_0128_hs_2048.pickle           0.8576  0.8414  0.8738 0.0117  [0.841 0.854 0.857 0.864 0.872]            0.8678  0.8582  0.8773 0.0069  [0.858 0.864 0.869 0.874 0.874]\n",
    "linear_embeds: emb__hidden_size_bs_0128_hs_3072.pickle           0.8487  0.8333  0.8641 0.0111  [0.831 0.844 0.854 0.855 0.859]            0.8519  0.8453  0.8585 0.0047  [0.847 0.850 0.851 0.852 0.860]\n",
    "xgb_embeds: emb__hidden_size_bs_0128_hs_0032.pickle              0.8246  0.8032  0.8460 0.0154  [0.800 0.823 0.825 0.835 0.839]            0.8091  0.8054  0.8129 0.0027  [0.805 0.809 0.809 0.810 0.813]\n",
    "xgb_embeds: emb__hidden_size_bs_0128_hs_0064.pickle              0.8471  0.8235  0.8706 0.0170  [0.819 0.843 0.854 0.859 0.860]            0.8481  0.8450  0.8512 0.0023  [0.845 0.847 0.848 0.849 0.851]\n",
    "xgb_embeds: emb__hidden_size_bs_0128_hs_0128.pickle              0.8625  0.8458  0.8791 0.0120  [0.844 0.860 0.863 0.869 0.877]            0.8600  0.8543  0.8657 0.0041  [0.855 0.859 0.859 0.863 0.865]\n",
    "xgb_embeds: emb__hidden_size_bs_0128_hs_0256.pickle              0.8626  0.8407  0.8845 0.0158  [0.843 0.854 0.861 0.873 0.883]            0.8625  0.8553  0.8697 0.0052  [0.857 0.858 0.862 0.867 0.869]\n",
    "xgb_embeds: emb__hidden_size_bs_0128_hs_0512.pickle              0.8655  0.8482  0.8828 0.0124  [0.847 0.861 0.866 0.876 0.877]            0.8665  0.8640  0.8691 0.0018  [0.864 0.865 0.867 0.868 0.869]\n",
    "xgb_embeds: emb__hidden_size_bs_0128_hs_1024.pickle              0.8649  0.8496  0.8802 0.0110  [0.851 0.857 0.866 0.870 0.880]            0.8737  0.8699  0.8775 0.0027  [0.870 0.873 0.874 0.876 0.877]\n",
    "xgb_embeds: emb__hidden_size_bs_0128_hs_2048.pickle              0.8687  0.8551  0.8823 0.0098  [0.856 0.866 0.867 0.871 0.883]            0.8665  0.8601  0.8728 0.0046  [0.861 0.862 0.868 0.869 0.872]\n",
    "xgb_embeds: emb__hidden_size_bs_0128_hs_3072.pickle              0.8482  0.8365  0.8599 0.0084  [0.833 0.849 0.852 0.853 0.853]            0.8493  0.8411  0.8575 0.0059  [0.843 0.844 0.848 0.855 0.856]\n",
    "\"\"\""
   ]
  },
  {
   "cell_type": "code",
   "execution_count": null,
   "metadata": {},
   "outputs": [],
   "source": []
  },
  {
   "cell_type": "code",
   "execution_count": 7,
   "metadata": {},
   "outputs": [],
   "source": [
    "col_stats = ['mean', 't_int_l', 't_int_h', 'std'] + [f'{i}' for i in range(5)]"
   ]
  },
  {
   "cell_type": "code",
   "execution_count": 8,
   "metadata": {},
   "outputs": [],
   "source": [
    "df = pd.read_fwf(StringIO(orig_text)).iloc[3:]\n",
    "df.columns = ['name'] + [f'{k}.{n}' for k in ['valid', 'test'] for n in col_stats]"
   ]
  },
  {
   "cell_type": "code",
   "execution_count": 9,
   "metadata": {},
   "outputs": [],
   "source": [
    "df = pd.concat([\n",
    "    df['name'].str.extract(\n",
    "        r'(?P<model_type>\\w+): emb__hidden_size_bs_(?P<batch_size>\\d+)_hs_(?P<hidden_size>\\d+)\\.pickle'),\n",
    "    df\n",
    "], axis=1)"
   ]
  },
  {
   "cell_type": "code",
   "execution_count": 10,
   "metadata": {},
   "outputs": [],
   "source": [
    "for col, dt in df.dtypes.iteritems():\n",
    "    if col in ('name', 'model_type'):\n",
    "        continue\n",
    "    if dt == 'float':\n",
    "        continue\n",
    "    df[col] = pd.to_numeric(df[col].str.strip('[').str.strip(']'))"
   ]
  },
  {
   "cell_type": "code",
   "execution_count": 11,
   "metadata": {},
   "outputs": [],
   "source": [
    "def highlight_max(s):\n",
    "    '''\n",
    "    highlight the maximum in a Series yellow.\n",
    "    '''\n",
    "    is_max = s == s.max()\n",
    "    return ['background-color: lightyellow' if v else '' for v in is_max]\n",
    "\n",
    "def highlight_values(v):\n",
    "    return 'background-color: lightyellow' if not pd.isna(v) else ''"
   ]
  },
  {
   "cell_type": "code",
   "execution_count": 12,
   "metadata": {},
   "outputs": [
    {
     "data": {
      "text/html": [
       "<style  type=\"text/css\" >\n",
       "    #T_79f5e130_a6a0_11ea_8bc4_000d3aad15f1row0_col0 {\n",
       "            background-color:  lightyellow;\n",
       "        }    #T_79f5e130_a6a0_11ea_8bc4_000d3aad15f1row1_col0 {\n",
       "            background-color:  lightyellow;\n",
       "        }    #T_79f5e130_a6a0_11ea_8bc4_000d3aad15f1row2_col0 {\n",
       "            background-color:  lightyellow;\n",
       "        }    #T_79f5e130_a6a0_11ea_8bc4_000d3aad15f1row3_col0 {\n",
       "            background-color:  lightyellow;\n",
       "        }    #T_79f5e130_a6a0_11ea_8bc4_000d3aad15f1row4_col0 {\n",
       "            background-color:  lightyellow;\n",
       "        }    #T_79f5e130_a6a0_11ea_8bc4_000d3aad15f1row5_col0 {\n",
       "            background-color:  lightyellow;\n",
       "        }    #T_79f5e130_a6a0_11ea_8bc4_000d3aad15f1row6_col0 {\n",
       "            background-color:  lightyellow;\n",
       "        }    #T_79f5e130_a6a0_11ea_8bc4_000d3aad15f1row7_col0 {\n",
       "            background-color:  lightyellow;\n",
       "        }</style><table id=\"T_79f5e130_a6a0_11ea_8bc4_000d3aad15f1\" ><thead>    <tr>        <th class=\"blank\" ></th>        <th class=\"index_name level0\" >model_type</th>        <th class=\"col_heading level0 col0\" >lgb_embeds</th>        <th class=\"col_heading level0 col1\" >linear_embeds</th>        <th class=\"col_heading level0 col2\" >xgb_embeds</th>    </tr>    <tr>        <th class=\"index_name level0\" >batch_size</th>        <th class=\"index_name level1\" >hidden_size</th>        <th class=\"blank\" ></th>        <th class=\"blank\" ></th>        <th class=\"blank\" ></th>    </tr></thead><tbody>\n",
       "                <tr>\n",
       "                        <th id=\"T_79f5e130_a6a0_11ea_8bc4_000d3aad15f1level0_row0\" class=\"row_heading level0 row0\" rowspan=8>128</th>\n",
       "                        <th id=\"T_79f5e130_a6a0_11ea_8bc4_000d3aad15f1level1_row0\" class=\"row_heading level1 row0\" >32</th>\n",
       "                        <td id=\"T_79f5e130_a6a0_11ea_8bc4_000d3aad15f1row0_col0\" class=\"data row0 col0\" >0.8296</td>\n",
       "                        <td id=\"T_79f5e130_a6a0_11ea_8bc4_000d3aad15f1row0_col1\" class=\"data row0 col1\" >0.8231</td>\n",
       "                        <td id=\"T_79f5e130_a6a0_11ea_8bc4_000d3aad15f1row0_col2\" class=\"data row0 col2\" >0.8246</td>\n",
       "            </tr>\n",
       "            <tr>\n",
       "                                <th id=\"T_79f5e130_a6a0_11ea_8bc4_000d3aad15f1level1_row1\" class=\"row_heading level1 row1\" >64</th>\n",
       "                        <td id=\"T_79f5e130_a6a0_11ea_8bc4_000d3aad15f1row1_col0\" class=\"data row1 col0\" >0.8553</td>\n",
       "                        <td id=\"T_79f5e130_a6a0_11ea_8bc4_000d3aad15f1row1_col1\" class=\"data row1 col1\" >0.851</td>\n",
       "                        <td id=\"T_79f5e130_a6a0_11ea_8bc4_000d3aad15f1row1_col2\" class=\"data row1 col2\" >0.8471</td>\n",
       "            </tr>\n",
       "            <tr>\n",
       "                                <th id=\"T_79f5e130_a6a0_11ea_8bc4_000d3aad15f1level1_row2\" class=\"row_heading level1 row2\" >128</th>\n",
       "                        <td id=\"T_79f5e130_a6a0_11ea_8bc4_000d3aad15f1row2_col0\" class=\"data row2 col0\" >0.8652</td>\n",
       "                        <td id=\"T_79f5e130_a6a0_11ea_8bc4_000d3aad15f1row2_col1\" class=\"data row2 col1\" >0.8643</td>\n",
       "                        <td id=\"T_79f5e130_a6a0_11ea_8bc4_000d3aad15f1row2_col2\" class=\"data row2 col2\" >0.8625</td>\n",
       "            </tr>\n",
       "            <tr>\n",
       "                                <th id=\"T_79f5e130_a6a0_11ea_8bc4_000d3aad15f1level1_row3\" class=\"row_heading level1 row3\" >256</th>\n",
       "                        <td id=\"T_79f5e130_a6a0_11ea_8bc4_000d3aad15f1row3_col0\" class=\"data row3 col0\" >0.871</td>\n",
       "                        <td id=\"T_79f5e130_a6a0_11ea_8bc4_000d3aad15f1row3_col1\" class=\"data row3 col1\" >0.8677</td>\n",
       "                        <td id=\"T_79f5e130_a6a0_11ea_8bc4_000d3aad15f1row3_col2\" class=\"data row3 col2\" >0.8626</td>\n",
       "            </tr>\n",
       "            <tr>\n",
       "                                <th id=\"T_79f5e130_a6a0_11ea_8bc4_000d3aad15f1level1_row4\" class=\"row_heading level1 row4\" >512</th>\n",
       "                        <td id=\"T_79f5e130_a6a0_11ea_8bc4_000d3aad15f1row4_col0\" class=\"data row4 col0\" >0.8738</td>\n",
       "                        <td id=\"T_79f5e130_a6a0_11ea_8bc4_000d3aad15f1row4_col1\" class=\"data row4 col1\" >0.8674</td>\n",
       "                        <td id=\"T_79f5e130_a6a0_11ea_8bc4_000d3aad15f1row4_col2\" class=\"data row4 col2\" >0.8655</td>\n",
       "            </tr>\n",
       "            <tr>\n",
       "                                <th id=\"T_79f5e130_a6a0_11ea_8bc4_000d3aad15f1level1_row5\" class=\"row_heading level1 row5\" >1024</th>\n",
       "                        <td id=\"T_79f5e130_a6a0_11ea_8bc4_000d3aad15f1row5_col0\" class=\"data row5 col0\" >0.874</td>\n",
       "                        <td id=\"T_79f5e130_a6a0_11ea_8bc4_000d3aad15f1row5_col1\" class=\"data row5 col1\" >0.8657</td>\n",
       "                        <td id=\"T_79f5e130_a6a0_11ea_8bc4_000d3aad15f1row5_col2\" class=\"data row5 col2\" >0.8649</td>\n",
       "            </tr>\n",
       "            <tr>\n",
       "                                <th id=\"T_79f5e130_a6a0_11ea_8bc4_000d3aad15f1level1_row6\" class=\"row_heading level1 row6\" >2048</th>\n",
       "                        <td id=\"T_79f5e130_a6a0_11ea_8bc4_000d3aad15f1row6_col0\" class=\"data row6 col0\" >0.8742</td>\n",
       "                        <td id=\"T_79f5e130_a6a0_11ea_8bc4_000d3aad15f1row6_col1\" class=\"data row6 col1\" >0.8576</td>\n",
       "                        <td id=\"T_79f5e130_a6a0_11ea_8bc4_000d3aad15f1row6_col2\" class=\"data row6 col2\" >0.8687</td>\n",
       "            </tr>\n",
       "            <tr>\n",
       "                                <th id=\"T_79f5e130_a6a0_11ea_8bc4_000d3aad15f1level1_row7\" class=\"row_heading level1 row7\" >3072</th>\n",
       "                        <td id=\"T_79f5e130_a6a0_11ea_8bc4_000d3aad15f1row7_col0\" class=\"data row7 col0\" >0.8559</td>\n",
       "                        <td id=\"T_79f5e130_a6a0_11ea_8bc4_000d3aad15f1row7_col1\" class=\"data row7 col1\" >0.8487</td>\n",
       "                        <td id=\"T_79f5e130_a6a0_11ea_8bc4_000d3aad15f1row7_col2\" class=\"data row7 col2\" >0.8482</td>\n",
       "            </tr>\n",
       "    </tbody></table>"
      ],
      "text/plain": [
       "<pandas.io.formats.style.Styler at 0x7f63be64a7f0>"
      ]
     },
     "execution_count": 12,
     "metadata": {},
     "output_type": "execute_result"
    }
   ],
   "source": [
    "df.pivot_table(index=['batch_size', 'hidden_size'], columns='model_type', values='valid.mean') \\\n",
    "    .style.apply(highlight_max, axis=1)"
   ]
  },
  {
   "cell_type": "code",
   "execution_count": 13,
   "metadata": {},
   "outputs": [
    {
     "data": {
      "text/html": [
       "<style  type=\"text/css\" >\n",
       "    #T_79f5e131_a6a0_11ea_8bc4_000d3aad15f1row0_col0 {\n",
       "            background-color:  lightyellow;\n",
       "        }    #T_79f5e131_a6a0_11ea_8bc4_000d3aad15f1row1_col0 {\n",
       "            background-color:  lightyellow;\n",
       "        }    #T_79f5e131_a6a0_11ea_8bc4_000d3aad15f1row2_col0 {\n",
       "            background-color:  lightyellow;\n",
       "        }    #T_79f5e131_a6a0_11ea_8bc4_000d3aad15f1row3_col0 {\n",
       "            background-color:  lightyellow;\n",
       "        }    #T_79f5e131_a6a0_11ea_8bc4_000d3aad15f1row4_col0 {\n",
       "            background-color:  lightyellow;\n",
       "        }    #T_79f5e131_a6a0_11ea_8bc4_000d3aad15f1row5_col0 {\n",
       "            background-color:  lightyellow;\n",
       "        }    #T_79f5e131_a6a0_11ea_8bc4_000d3aad15f1row6_col0 {\n",
       "            background-color:  lightyellow;\n",
       "        }    #T_79f5e131_a6a0_11ea_8bc4_000d3aad15f1row7_col0 {\n",
       "            background-color:  lightyellow;\n",
       "        }</style><table id=\"T_79f5e131_a6a0_11ea_8bc4_000d3aad15f1\" ><thead>    <tr>        <th class=\"index_name level0\" >batch_size</th>        <th class=\"col_heading level0 col0\" >128</th>    </tr>    <tr>        <th class=\"index_name level0\" >hidden_size</th>        <th class=\"blank\" ></th>    </tr></thead><tbody>\n",
       "                <tr>\n",
       "                        <th id=\"T_79f5e131_a6a0_11ea_8bc4_000d3aad15f1level0_row0\" class=\"row_heading level0 row0\" >32</th>\n",
       "                        <td id=\"T_79f5e131_a6a0_11ea_8bc4_000d3aad15f1row0_col0\" class=\"data row0 col0\" >0.826</td>\n",
       "            </tr>\n",
       "            <tr>\n",
       "                        <th id=\"T_79f5e131_a6a0_11ea_8bc4_000d3aad15f1level0_row1\" class=\"row_heading level0 row1\" >64</th>\n",
       "                        <td id=\"T_79f5e131_a6a0_11ea_8bc4_000d3aad15f1row1_col0\" class=\"data row1 col0\" >0.851</td>\n",
       "            </tr>\n",
       "            <tr>\n",
       "                        <th id=\"T_79f5e131_a6a0_11ea_8bc4_000d3aad15f1level0_row2\" class=\"row_heading level0 row2\" >128</th>\n",
       "                        <td id=\"T_79f5e131_a6a0_11ea_8bc4_000d3aad15f1row2_col0\" class=\"data row2 col0\" >0.864</td>\n",
       "            </tr>\n",
       "            <tr>\n",
       "                        <th id=\"T_79f5e131_a6a0_11ea_8bc4_000d3aad15f1level0_row3\" class=\"row_heading level0 row3\" >256</th>\n",
       "                        <td id=\"T_79f5e131_a6a0_11ea_8bc4_000d3aad15f1row3_col0\" class=\"data row3 col0\" >0.867</td>\n",
       "            </tr>\n",
       "            <tr>\n",
       "                        <th id=\"T_79f5e131_a6a0_11ea_8bc4_000d3aad15f1level0_row4\" class=\"row_heading level0 row4\" >512</th>\n",
       "                        <td id=\"T_79f5e131_a6a0_11ea_8bc4_000d3aad15f1row4_col0\" class=\"data row4 col0\" >0.869</td>\n",
       "            </tr>\n",
       "            <tr>\n",
       "                        <th id=\"T_79f5e131_a6a0_11ea_8bc4_000d3aad15f1level0_row5\" class=\"row_heading level0 row5\" >1024</th>\n",
       "                        <td id=\"T_79f5e131_a6a0_11ea_8bc4_000d3aad15f1row5_col0\" class=\"data row5 col0\" >0.868</td>\n",
       "            </tr>\n",
       "            <tr>\n",
       "                        <th id=\"T_79f5e131_a6a0_11ea_8bc4_000d3aad15f1level0_row6\" class=\"row_heading level0 row6\" >2048</th>\n",
       "                        <td id=\"T_79f5e131_a6a0_11ea_8bc4_000d3aad15f1row6_col0\" class=\"data row6 col0\" >0.867</td>\n",
       "            </tr>\n",
       "            <tr>\n",
       "                        <th id=\"T_79f5e131_a6a0_11ea_8bc4_000d3aad15f1level0_row7\" class=\"row_heading level0 row7\" >3072</th>\n",
       "                        <td id=\"T_79f5e131_a6a0_11ea_8bc4_000d3aad15f1row7_col0\" class=\"data row7 col0\" >0.851</td>\n",
       "            </tr>\n",
       "    </tbody></table>"
      ],
      "text/plain": [
       "<pandas.io.formats.style.Styler at 0x7f635722ee10>"
      ]
     },
     "execution_count": 13,
     "metadata": {},
     "output_type": "execute_result"
    }
   ],
   "source": [
    "df.pivot_table(index='hidden_size', columns='batch_size', values='valid.mean', aggfunc='mean').round(3) \\\n",
    "    .style.applymap(highlight_values)"
   ]
  },
  {
   "cell_type": "code",
   "execution_count": 14,
   "metadata": {},
   "outputs": [],
   "source": [
    "df2 = pd.melt(\n",
    "    df,\n",
    "    id_vars=['model_type', 'batch_size', 'hidden_size', 'name'],\n",
    "    var_name='fold_n',\n",
    "    value_vars=[f'valid.{i}' for i in range(5)],\n",
    "    value_name='Valid AUROC',\n",
    ")"
   ]
  },
  {
   "cell_type": "code",
   "execution_count": 15,
   "metadata": {},
   "outputs": [
    {
     "data": {
      "text/html": [
       "<div>\n",
       "<style scoped>\n",
       "    .dataframe tbody tr th:only-of-type {\n",
       "        vertical-align: middle;\n",
       "    }\n",
       "\n",
       "    .dataframe tbody tr th {\n",
       "        vertical-align: top;\n",
       "    }\n",
       "\n",
       "    .dataframe thead th {\n",
       "        text-align: right;\n",
       "    }\n",
       "</style>\n",
       "<table border=\"1\" class=\"dataframe\">\n",
       "  <thead>\n",
       "    <tr style=\"text-align: right;\">\n",
       "      <th></th>\n",
       "      <th>model_type</th>\n",
       "      <th>batch_size</th>\n",
       "      <th>hidden_size</th>\n",
       "      <th>name</th>\n",
       "      <th>fold_n</th>\n",
       "      <th>Valid AUROC</th>\n",
       "    </tr>\n",
       "  </thead>\n",
       "  <tbody>\n",
       "    <tr>\n",
       "      <th>0</th>\n",
       "      <td>lgb_embeds</td>\n",
       "      <td>128</td>\n",
       "      <td>32</td>\n",
       "      <td>lgb_embeds: emb__hidden_size_bs_0128_hs_0032.p...</td>\n",
       "      <td>valid.0</td>\n",
       "      <td>0.808</td>\n",
       "    </tr>\n",
       "    <tr>\n",
       "      <th>1</th>\n",
       "      <td>lgb_embeds</td>\n",
       "      <td>128</td>\n",
       "      <td>64</td>\n",
       "      <td>lgb_embeds: emb__hidden_size_bs_0128_hs_0064.p...</td>\n",
       "      <td>valid.0</td>\n",
       "      <td>0.828</td>\n",
       "    </tr>\n",
       "    <tr>\n",
       "      <th>2</th>\n",
       "      <td>lgb_embeds</td>\n",
       "      <td>128</td>\n",
       "      <td>128</td>\n",
       "      <td>lgb_embeds: emb__hidden_size_bs_0128_hs_0128.p...</td>\n",
       "      <td>valid.0</td>\n",
       "      <td>0.841</td>\n",
       "    </tr>\n",
       "    <tr>\n",
       "      <th>3</th>\n",
       "      <td>lgb_embeds</td>\n",
       "      <td>128</td>\n",
       "      <td>256</td>\n",
       "      <td>lgb_embeds: emb__hidden_size_bs_0128_hs_0256.p...</td>\n",
       "      <td>valid.0</td>\n",
       "      <td>0.852</td>\n",
       "    </tr>\n",
       "    <tr>\n",
       "      <th>4</th>\n",
       "      <td>lgb_embeds</td>\n",
       "      <td>128</td>\n",
       "      <td>512</td>\n",
       "      <td>lgb_embeds: emb__hidden_size_bs_0128_hs_0512.p...</td>\n",
       "      <td>valid.0</td>\n",
       "      <td>0.855</td>\n",
       "    </tr>\n",
       "    <tr>\n",
       "      <th>...</th>\n",
       "      <td>...</td>\n",
       "      <td>...</td>\n",
       "      <td>...</td>\n",
       "      <td>...</td>\n",
       "      <td>...</td>\n",
       "      <td>...</td>\n",
       "    </tr>\n",
       "    <tr>\n",
       "      <th>115</th>\n",
       "      <td>xgb_embeds</td>\n",
       "      <td>128</td>\n",
       "      <td>256</td>\n",
       "      <td>xgb_embeds: emb__hidden_size_bs_0128_hs_0256.p...</td>\n",
       "      <td>valid.4</td>\n",
       "      <td>0.883</td>\n",
       "    </tr>\n",
       "    <tr>\n",
       "      <th>116</th>\n",
       "      <td>xgb_embeds</td>\n",
       "      <td>128</td>\n",
       "      <td>512</td>\n",
       "      <td>xgb_embeds: emb__hidden_size_bs_0128_hs_0512.p...</td>\n",
       "      <td>valid.4</td>\n",
       "      <td>0.877</td>\n",
       "    </tr>\n",
       "    <tr>\n",
       "      <th>117</th>\n",
       "      <td>xgb_embeds</td>\n",
       "      <td>128</td>\n",
       "      <td>1024</td>\n",
       "      <td>xgb_embeds: emb__hidden_size_bs_0128_hs_1024.p...</td>\n",
       "      <td>valid.4</td>\n",
       "      <td>0.880</td>\n",
       "    </tr>\n",
       "    <tr>\n",
       "      <th>118</th>\n",
       "      <td>xgb_embeds</td>\n",
       "      <td>128</td>\n",
       "      <td>2048</td>\n",
       "      <td>xgb_embeds: emb__hidden_size_bs_0128_hs_2048.p...</td>\n",
       "      <td>valid.4</td>\n",
       "      <td>0.883</td>\n",
       "    </tr>\n",
       "    <tr>\n",
       "      <th>119</th>\n",
       "      <td>xgb_embeds</td>\n",
       "      <td>128</td>\n",
       "      <td>3072</td>\n",
       "      <td>xgb_embeds: emb__hidden_size_bs_0128_hs_3072.p...</td>\n",
       "      <td>valid.4</td>\n",
       "      <td>0.853</td>\n",
       "    </tr>\n",
       "  </tbody>\n",
       "</table>\n",
       "<p>120 rows × 6 columns</p>\n",
       "</div>"
      ],
      "text/plain": [
       "     model_type  batch_size  hidden_size  \\\n",
       "0    lgb_embeds         128           32   \n",
       "1    lgb_embeds         128           64   \n",
       "2    lgb_embeds         128          128   \n",
       "3    lgb_embeds         128          256   \n",
       "4    lgb_embeds         128          512   \n",
       "..          ...         ...          ...   \n",
       "115  xgb_embeds         128          256   \n",
       "116  xgb_embeds         128          512   \n",
       "117  xgb_embeds         128         1024   \n",
       "118  xgb_embeds         128         2048   \n",
       "119  xgb_embeds         128         3072   \n",
       "\n",
       "                                                  name   fold_n  Valid AUROC  \n",
       "0    lgb_embeds: emb__hidden_size_bs_0128_hs_0032.p...  valid.0        0.808  \n",
       "1    lgb_embeds: emb__hidden_size_bs_0128_hs_0064.p...  valid.0        0.828  \n",
       "2    lgb_embeds: emb__hidden_size_bs_0128_hs_0128.p...  valid.0        0.841  \n",
       "3    lgb_embeds: emb__hidden_size_bs_0128_hs_0256.p...  valid.0        0.852  \n",
       "4    lgb_embeds: emb__hidden_size_bs_0128_hs_0512.p...  valid.0        0.855  \n",
       "..                                                 ...      ...          ...  \n",
       "115  xgb_embeds: emb__hidden_size_bs_0128_hs_0256.p...  valid.4        0.883  \n",
       "116  xgb_embeds: emb__hidden_size_bs_0128_hs_0512.p...  valid.4        0.877  \n",
       "117  xgb_embeds: emb__hidden_size_bs_0128_hs_1024.p...  valid.4        0.880  \n",
       "118  xgb_embeds: emb__hidden_size_bs_0128_hs_2048.p...  valid.4        0.883  \n",
       "119  xgb_embeds: emb__hidden_size_bs_0128_hs_3072.p...  valid.4        0.853  \n",
       "\n",
       "[120 rows x 6 columns]"
      ]
     },
     "execution_count": 15,
     "metadata": {},
     "output_type": "execute_result"
    }
   ],
   "source": [
    "df2"
   ]
  },
  {
   "cell_type": "code",
   "execution_count": 17,
   "metadata": {},
   "outputs": [
    {
     "data": {
      "image/png": "[encoded data removed]",
      "text/plain": [
       "<Figure size 720x720 with 1 Axes>"
      ]
     },
     "metadata": {
      "needs_background": "light"
     },
     "output_type": "display_data"
    }
   ],
   "source": [
    "plt.figure(figsize=(10, 10))\n",
    "ax = sns.lineplot(\n",
    "    x='Embedding size',\n",
    "    y='AUROC',\n",
    "    palette='tab10',\n",
    "    data=df2[lambda x: x['model_type'].eq('lgb_embeds')]\n",
    "    [lambda x: x['batch_size'].isin((128, ))]\n",
    "    .rename(columns={'hidden_size': 'Embedding size', 'Valid AUROC': 'AUROC'}),\n",
    "    ci=95,\n",
    ")\n",
    "# plt.title('Gender prediction task')\n",
    "ax.set_xscale('log'),\n",
    "ax.set_xticks([2 ** i for i in range(5, 12)])\n",
    "ax.get_xaxis().set_major_formatter(ScalarFormatter())\n",
    "\n",
    "# plt.axhline(df['valid.mean'].quantile(0.99), color='black', linestyle='--', linewidth=1)\n",
    "# plt.axhspan(0.8626, 0.8875, alpha=0.1, color='black')\n",
    "# plt.grid()\n",
    "# plt.show()\n",
    "\n",
    "plt.savefig('gender-hidden-size.pdf', format='pdf', bbox_inches='tight')"
   ]
  },
  {
   "cell_type": "code",
   "execution_count": null,
   "metadata": {},
   "outputs": [],
   "source": []
  }
 ],
 "metadata": {
  "kernelspec": {
   "display_name": "Python 3",
   "language": "python",
   "name": "python3"
  }
 },
 "nbformat": 4,
 "nbformat_minor": 4
}
