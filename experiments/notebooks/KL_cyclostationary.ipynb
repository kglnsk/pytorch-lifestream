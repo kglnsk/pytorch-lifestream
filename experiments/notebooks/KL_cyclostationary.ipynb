{
 "cells": [
  {
   "cell_type": "code",
   "execution_count": 205,
   "metadata": {},
   "outputs": [],
   "source": [
    "import numpy as np\n",
    "import pandas as pd"
   ]
  },
  {
   "cell_type": "code",
   "execution_count": 342,
   "metadata": {},
   "outputs": [],
   "source": [
    "import matplotlib as mpl\n",
    "import matplotlib.pyplot as plt"
   ]
  },
  {
   "cell_type": "code",
   "execution_count": 207,
   "metadata": {},
   "outputs": [],
   "source": [
    "import seaborn as sns"
   ]
  },
  {
   "cell_type": "code",
   "execution_count": null,
   "metadata": {},
   "outputs": [],
   "source": []
  },
  {
   "cell_type": "markdown",
   "metadata": {},
   "source": [
    "# Циклостационарность"
   ]
  },
  {
   "cell_type": "markdown",
   "metadata": {},
   "source": [
    "## Age Group"
   ]
  },
  {
   "cell_type": "code",
   "execution_count": 374,
   "metadata": {},
   "outputs": [],
   "source": [
    "df_trx = pd.concat([\n",
    "    pd.read_csv('pycharm-deploy/pytorch-lifestream/experiments/scenario_age_pred/data/transactions_train.csv'),\n",
    "    pd.read_csv('pycharm-deploy/pytorch-lifestream/experiments/scenario_age_pred/data/transactions_test.csv'),\n",
    "], axis=0)"
   ]
  },
  {
   "cell_type": "code",
   "execution_count": 375,
   "metadata": {},
   "outputs": [],
   "source": [
    "df_trx = df_trx.sort_values(['client_id', 'trans_date'])"
   ]
  },
  {
   "cell_type": "code",
   "execution_count": 376,
   "metadata": {},
   "outputs": [],
   "source": [
    "df_slices = df_trx.assign(cnt=1).groupby('client_id')[['cnt']].sum().sort_index()"
   ]
  },
  {
   "cell_type": "code",
   "execution_count": 377,
   "metadata": {},
   "outputs": [],
   "source": [
    "min_len, max_len = 25, 200"
   ]
  },
  {
   "cell_type": "code",
   "execution_count": 378,
   "metadata": {},
   "outputs": [],
   "source": [
    "d_slices = {}\n",
    "\n",
    "for sl_id in range(3):\n",
    "    s_cnt = df_slices['cnt'].where(df_slices['cnt'] < max_len - min_len, max_len - min_len)\n",
    "    s_len = (s_cnt * np.random.rand(len(df_slices))).astype(int) + min_len\n",
    "    s_avl_pos = s_cnt - s_len\n",
    "    s_start = (s_avl_pos * np.random.rand(len(df_slices))).astype(int)\n",
    "\n",
    "    ixs = np.concatenate([(np.arange(cn) >= st) & (np.arange(cn) <= st + ln)\n",
    "            for cl_id, (st, ln, cn) in pd.DataFrame(\n",
    "                {'s_start': s_start, 's_len': s_len, 'cnt': df_slices['cnt']}).iterrows()])\n",
    "    \n",
    "    df = df_trx.iloc[ixs]\n",
    "    df = df.pivot_table(index='client_id', columns='small_group', values='amount_rur', aggfunc=len).fillna(0)\n",
    "    df = df.div(df.sum(axis=1), axis=0)\n",
    "    \n",
    "    d_slices[sl_id] = df"
   ]
  },
  {
   "cell_type": "code",
   "execution_count": 379,
   "metadata": {},
   "outputs": [],
   "source": [
    "def kl_distribution(a, b):\n",
    "    common_index = a.columns.union(b.columns)\n",
    "\n",
    "    a = a.reindex(columns=common_index).fillna(0)\n",
    "    b = b.reindex(columns=common_index).fillna(0)\n",
    "\n",
    "    a = a.values\n",
    "    b = b.values\n",
    "\n",
    "    return np.where(a == 0, 0.0, a * np.log(np.where(a == 0, 1e-6, a) / np.where(b == 0, 1e-6, b))).sum(axis=1)"
   ]
  },
  {
   "cell_type": "code",
   "execution_count": 380,
   "metadata": {},
   "outputs": [
    {
     "data": {
      "image/png": "[encoded data removed]",
      "text/plain": [
       "<Figure size 720x720 with 1 Axes>"
      ]
     },
     "metadata": {
      "needs_background": "light"
     },
     "output_type": "display_data"
    }
   ],
   "source": [
    "ix_shuffle = np.random.choice(len(d_slices[0]), len(d_slices[0]), replace=False)\n",
    "\n",
    "with mpl.rc_context() as rc:\n",
    "    mpl.rc(\"figure\", figsize=(10, 10))\n",
    "    mpl.rc('font', size=20)\n",
    "\n",
    "    sns.histplot(pd.concat([\n",
    "        pd.DataFrame({'KL': kl_distribution(d_slices[0], d_slices[1]).clip(0, 9),\n",
    "                      'type': 'Same client sample'}),\n",
    "        pd.DataFrame({'KL': kl_distribution(d_slices[0], d_slices[2].iloc[ix_shuffle]).clip(0, 9), \n",
    "                      'type': 'Random client sample'}),\n",
    "    ], axis=0), x=\"KL\", hue=\"type\", bins=50, element='step')\n",
    "\n",
    "    plt.title('Age group')\n",
    "    mpl.pyplot.savefig('kl_age_group.pdf', format='pdf', bbox_inches='tight')\n",
    "    # plt.show()"
   ]
  },
  {
   "cell_type": "code",
   "execution_count": null,
   "metadata": {},
   "outputs": [],
   "source": []
  },
  {
   "cell_type": "markdown",
   "metadata": {},
   "source": [
    "## Churn"
   ]
  },
  {
   "cell_type": "code",
   "execution_count": 414,
   "metadata": {},
   "outputs": [],
   "source": [
    "df_trx = pd.concat([\n",
    "    pd.read_csv('pycharm-deploy/pytorch-lifestream/experiments/scenario_rosbank/data/train.csv'),\n",
    "    pd.read_csv('pycharm-deploy/pytorch-lifestream/experiments/scenario_rosbank/data/test.csv'),\n",
    "], axis=0)"
   ]
  },
  {
   "cell_type": "code",
   "execution_count": 422,
   "metadata": {},
   "outputs": [
    {
     "data": {
      "text/html": [
       "<div>\n",
       "<style scoped>\n",
       "    .dataframe tbody tr th:only-of-type {\n",
       "        vertical-align: middle;\n",
       "    }\n",
       "\n",
       "    .dataframe tbody tr th {\n",
       "        vertical-align: top;\n",
       "    }\n",
       "\n",
       "    .dataframe thead th {\n",
       "        text-align: right;\n",
       "    }\n",
       "</style>\n",
       "<table border=\"1\" class=\"dataframe\">\n",
       "  <thead>\n",
       "    <tr style=\"text-align: right;\">\n",
       "      <th></th>\n",
       "      <th>PERIOD</th>\n",
       "      <th>cl_id</th>\n",
       "      <th>MCC</th>\n",
       "      <th>channel_type</th>\n",
       "      <th>currency</th>\n",
       "      <th>TRDATETIME</th>\n",
       "      <th>amount</th>\n",
       "      <th>trx_category</th>\n",
       "      <th>target_flag</th>\n",
       "      <th>target_sum</th>\n",
       "    </tr>\n",
       "  </thead>\n",
       "  <tbody>\n",
       "    <tr>\n",
       "      <th>1</th>\n",
       "      <td>2017-10-01</td>\n",
       "      <td>0</td>\n",
       "      <td>6011</td>\n",
       "      <td>NaN</td>\n",
       "      <td>810</td>\n",
       "      <td>12OCT17:12:24:07</td>\n",
       "      <td>20000.00</td>\n",
       "      <td>DEPOSIT</td>\n",
       "      <td>0.0</td>\n",
       "      <td>0.0</td>\n",
       "    </tr>\n",
       "    <tr>\n",
       "      <th>0</th>\n",
       "      <td>2017-10-01</td>\n",
       "      <td>0</td>\n",
       "      <td>5200</td>\n",
       "      <td>NaN</td>\n",
       "      <td>810</td>\n",
       "      <td>21OCT17:00:00:00</td>\n",
       "      <td>5023.00</td>\n",
       "      <td>POS</td>\n",
       "      <td>0.0</td>\n",
       "      <td>0.0</td>\n",
       "    </tr>\n",
       "    <tr>\n",
       "      <th>3</th>\n",
       "      <td>2017-10-01</td>\n",
       "      <td>0</td>\n",
       "      <td>5411</td>\n",
       "      <td>NaN</td>\n",
       "      <td>810</td>\n",
       "      <td>21OCT17:00:00:00</td>\n",
       "      <td>2031.00</td>\n",
       "      <td>POS</td>\n",
       "      <td>0.0</td>\n",
       "      <td>0.0</td>\n",
       "    </tr>\n",
       "    <tr>\n",
       "      <th>4</th>\n",
       "      <td>2017-10-01</td>\n",
       "      <td>0</td>\n",
       "      <td>6012</td>\n",
       "      <td>NaN</td>\n",
       "      <td>810</td>\n",
       "      <td>24OCT17:13:14:24</td>\n",
       "      <td>36562.00</td>\n",
       "      <td>C2C_OUT</td>\n",
       "      <td>0.0</td>\n",
       "      <td>0.0</td>\n",
       "    </tr>\n",
       "    <tr>\n",
       "      <th>2</th>\n",
       "      <td>2017-12-01</td>\n",
       "      <td>0</td>\n",
       "      <td>5921</td>\n",
       "      <td>NaN</td>\n",
       "      <td>810</td>\n",
       "      <td>05DEC17:00:00:00</td>\n",
       "      <td>767.00</td>\n",
       "      <td>POS</td>\n",
       "      <td>0.0</td>\n",
       "      <td>0.0</td>\n",
       "    </tr>\n",
       "    <tr>\n",
       "      <th>...</th>\n",
       "      <td>...</td>\n",
       "      <td>...</td>\n",
       "      <td>...</td>\n",
       "      <td>...</td>\n",
       "      <td>...</td>\n",
       "      <td>...</td>\n",
       "      <td>...</td>\n",
       "      <td>...</td>\n",
       "      <td>...</td>\n",
       "      <td>...</td>\n",
       "    </tr>\n",
       "    <tr>\n",
       "      <th>517786</th>\n",
       "      <td>2017-05-01</td>\n",
       "      <td>10216</td>\n",
       "      <td>5411</td>\n",
       "      <td>type1</td>\n",
       "      <td>810</td>\n",
       "      <td>30MAY17:00:00:00</td>\n",
       "      <td>132.13</td>\n",
       "      <td>POS</td>\n",
       "      <td>NaN</td>\n",
       "      <td>NaN</td>\n",
       "    </tr>\n",
       "    <tr>\n",
       "      <th>517780</th>\n",
       "      <td>2017-06-01</td>\n",
       "      <td>10216</td>\n",
       "      <td>5691</td>\n",
       "      <td>type1</td>\n",
       "      <td>810</td>\n",
       "      <td>03JUN17:00:00:00</td>\n",
       "      <td>2090.00</td>\n",
       "      <td>POS</td>\n",
       "      <td>NaN</td>\n",
       "      <td>NaN</td>\n",
       "    </tr>\n",
       "    <tr>\n",
       "      <th>517783</th>\n",
       "      <td>2017-06-01</td>\n",
       "      <td>10216</td>\n",
       "      <td>5411</td>\n",
       "      <td>type1</td>\n",
       "      <td>810</td>\n",
       "      <td>03JUN17:00:00:00</td>\n",
       "      <td>1259.31</td>\n",
       "      <td>POS</td>\n",
       "      <td>NaN</td>\n",
       "      <td>NaN</td>\n",
       "    </tr>\n",
       "    <tr>\n",
       "      <th>517772</th>\n",
       "      <td>2017-06-01</td>\n",
       "      <td>10216</td>\n",
       "      <td>5691</td>\n",
       "      <td>type1</td>\n",
       "      <td>810</td>\n",
       "      <td>04JUN17:00:00:00</td>\n",
       "      <td>1185.00</td>\n",
       "      <td>POS</td>\n",
       "      <td>NaN</td>\n",
       "      <td>NaN</td>\n",
       "    </tr>\n",
       "    <tr>\n",
       "      <th>517777</th>\n",
       "      <td>2017-06-01</td>\n",
       "      <td>10216</td>\n",
       "      <td>7922</td>\n",
       "      <td>type1</td>\n",
       "      <td>810</td>\n",
       "      <td>04JUN17:00:00:00</td>\n",
       "      <td>1500.00</td>\n",
       "      <td>POS</td>\n",
       "      <td>NaN</td>\n",
       "      <td>NaN</td>\n",
       "    </tr>\n",
       "  </tbody>\n",
       "</table>\n",
       "<p>1008889 rows × 10 columns</p>\n",
       "</div>"
      ],
      "text/plain": [
       "           PERIOD  cl_id   MCC channel_type  currency        TRDATETIME  \\\n",
       "1      2017-10-01      0  6011          NaN       810  12OCT17:12:24:07   \n",
       "0      2017-10-01      0  5200          NaN       810  21OCT17:00:00:00   \n",
       "3      2017-10-01      0  5411          NaN       810  21OCT17:00:00:00   \n",
       "4      2017-10-01      0  6012          NaN       810  24OCT17:13:14:24   \n",
       "2      2017-12-01      0  5921          NaN       810  05DEC17:00:00:00   \n",
       "...           ...    ...   ...          ...       ...               ...   \n",
       "517786 2017-05-01  10216  5411        type1       810  30MAY17:00:00:00   \n",
       "517780 2017-06-01  10216  5691        type1       810  03JUN17:00:00:00   \n",
       "517783 2017-06-01  10216  5411        type1       810  03JUN17:00:00:00   \n",
       "517772 2017-06-01  10216  5691        type1       810  04JUN17:00:00:00   \n",
       "517777 2017-06-01  10216  7922        type1       810  04JUN17:00:00:00   \n",
       "\n",
       "          amount trx_category  target_flag  target_sum  \n",
       "1       20000.00      DEPOSIT          0.0         0.0  \n",
       "0        5023.00          POS          0.0         0.0  \n",
       "3        2031.00          POS          0.0         0.0  \n",
       "4       36562.00      C2C_OUT          0.0         0.0  \n",
       "2         767.00          POS          0.0         0.0  \n",
       "...          ...          ...          ...         ...  \n",
       "517786    132.13          POS          NaN         NaN  \n",
       "517780   2090.00          POS          NaN         NaN  \n",
       "517783   1259.31          POS          NaN         NaN  \n",
       "517772   1185.00          POS          NaN         NaN  \n",
       "517777   1500.00          POS          NaN         NaN  \n",
       "\n",
       "[1008889 rows x 10 columns]"
      ]
     },
     "execution_count": 422,
     "metadata": {},
     "output_type": "execute_result"
    }
   ],
   "source": [
    "df_trx"
   ]
  },
  {
   "cell_type": "code",
   "execution_count": 421,
   "metadata": {},
   "outputs": [],
   "source": [
    "df_trx['PERIOD'] = pd.to_datetime(df_trx['PERIOD'], format='%d/%m/%Y')"
   ]
  },
  {
   "cell_type": "code",
   "execution_count": 423,
   "metadata": {},
   "outputs": [],
   "source": [
    "df_trx = df_trx.sort_values(['cl_id', 'PERIOD', 'TRDATETIME'])"
   ]
  },
  {
   "cell_type": "code",
   "execution_count": 424,
   "metadata": {},
   "outputs": [],
   "source": [
    "df_slices = df_trx.assign(cnt=1).groupby('cl_id')[['cnt']].sum().sort_index()"
   ]
  },
  {
   "cell_type": "code",
   "execution_count": 425,
   "metadata": {},
   "outputs": [],
   "source": [
    "min_len, max_len = 15, 150"
   ]
  },
  {
   "cell_type": "code",
   "execution_count": 426,
   "metadata": {},
   "outputs": [],
   "source": [
    "d_slices = {}\n",
    "\n",
    "for sl_id in range(3):\n",
    "    s_cnt = df_slices['cnt'].where(df_slices['cnt'] < max_len - min_len, max_len - min_len)\n",
    "    s_len = (s_cnt * np.random.rand(len(df_slices))).astype(int) + min_len\n",
    "    s_avl_pos = s_cnt - s_len\n",
    "    s_start = (s_avl_pos * np.random.rand(len(df_slices))).astype(int)\n",
    "\n",
    "    ixs = np.concatenate([(np.arange(cn) >= st) & (np.arange(cn) <= st + ln)\n",
    "            for cl_id, (st, ln, cn) in pd.DataFrame(\n",
    "                {'s_start': s_start, 's_len': s_len, 'cnt': df_slices['cnt']}).iterrows()])\n",
    "    \n",
    "    df = df_trx.iloc[ixs]\n",
    "    df = df.pivot_table(index='cl_id', columns='MCC', values='amount', aggfunc=len).fillna(0)\n",
    "    df = df.div(df.sum(axis=1), axis=0)\n",
    "    \n",
    "    d_slices[sl_id] = df"
   ]
  },
  {
   "cell_type": "code",
   "execution_count": 427,
   "metadata": {},
   "outputs": [
    {
     "data": {
      "image/png": "[encoded data removed]",
      "text/plain": [
       "<Figure size 720x720 with 1 Axes>"
      ]
     },
     "metadata": {
      "needs_background": "light"
     },
     "output_type": "display_data"
    }
   ],
   "source": [
    "ix_shuffle = np.random.choice(len(d_slices[0]), len(d_slices[0]), replace=False)\n",
    "\n",
    "with mpl.rc_context() as rc:\n",
    "    mpl.rc(\"figure\", figsize=(10, 10))\n",
    "    mpl.rc('font', size=20)\n",
    "\n",
    "    sns.histplot(pd.concat([\n",
    "        pd.DataFrame({'KL': kl_distribution(d_slices[0], d_slices[1]).clip(0, None),\n",
    "                      'type': 'Same client sample'}),\n",
    "        pd.DataFrame({'KL': kl_distribution(d_slices[0], d_slices[2].iloc[ix_shuffle]).clip(0, None), \n",
    "                      'type': 'Random client sample'}),\n",
    "    ], axis=0), x=\"KL\", hue=\"type\", bins=50, element='step')\n",
    "\n",
    "    plt.title('Churn')\n",
    "    mpl.pyplot.savefig('kl_churn.pdf', format='pdf', bbox_inches='tight')\n",
    "    # plt.show()"
   ]
  },
  {
   "cell_type": "code",
   "execution_count": null,
   "metadata": {},
   "outputs": [],
   "source": []
  },
  {
   "cell_type": "markdown",
   "metadata": {},
   "source": [
    "## Assessment"
   ]
  },
  {
   "cell_type": "code",
   "execution_count": 388,
   "metadata": {},
   "outputs": [],
   "source": [
    "df_trx = pd.concat([\n",
    "    pd.read_csv('pycharm-deploy/pytorch-lifestream/experiments/scenario_bowl2019/data/train.csv'),\n",
    "    pd.read_csv('pycharm-deploy/pytorch-lifestream/experiments/scenario_bowl2019/data/test.csv'),\n",
    "], axis=0)"
   ]
  },
  {
   "cell_type": "code",
   "execution_count": 397,
   "metadata": {},
   "outputs": [
    {
     "data": {
      "text/html": [
       "<div>\n",
       "<style scoped>\n",
       "    .dataframe tbody tr th:only-of-type {\n",
       "        vertical-align: middle;\n",
       "    }\n",
       "\n",
       "    .dataframe tbody tr th {\n",
       "        vertical-align: top;\n",
       "    }\n",
       "\n",
       "    .dataframe thead th {\n",
       "        text-align: right;\n",
       "    }\n",
       "</style>\n",
       "<table border=\"1\" class=\"dataframe\">\n",
       "  <thead>\n",
       "    <tr style=\"text-align: right;\">\n",
       "      <th></th>\n",
       "      <th>event_id</th>\n",
       "      <th>game_session</th>\n",
       "      <th>timestamp</th>\n",
       "      <th>event_data</th>\n",
       "      <th>installation_id</th>\n",
       "      <th>event_count</th>\n",
       "      <th>event_code</th>\n",
       "      <th>game_time</th>\n",
       "      <th>title</th>\n",
       "      <th>event_type</th>\n",
       "      <th>world</th>\n",
       "    </tr>\n",
       "  </thead>\n",
       "  <tbody>\n",
       "    <tr>\n",
       "      <th>0</th>\n",
       "      <td>27253bdc</td>\n",
       "      <td>45bb1e1b6b50c07b</td>\n",
       "      <td>2019-09-06T17:53:46.937Z</td>\n",
       "      <td>{\"event_code\": 2000, \"event_count\": 1}</td>\n",
       "      <td>0001e90f</td>\n",
       "      <td>1</td>\n",
       "      <td>2000</td>\n",
       "      <td>0</td>\n",
       "      <td>Welcome to Lost Lagoon!</td>\n",
       "      <td>Clip</td>\n",
       "      <td>NONE</td>\n",
       "    </tr>\n",
       "    <tr>\n",
       "      <th>1</th>\n",
       "      <td>27253bdc</td>\n",
       "      <td>17eeb7f223665f53</td>\n",
       "      <td>2019-09-06T17:54:17.519Z</td>\n",
       "      <td>{\"event_code\": 2000, \"event_count\": 1}</td>\n",
       "      <td>0001e90f</td>\n",
       "      <td>1</td>\n",
       "      <td>2000</td>\n",
       "      <td>0</td>\n",
       "      <td>Magma Peak - Level 1</td>\n",
       "      <td>Clip</td>\n",
       "      <td>MAGMAPEAK</td>\n",
       "    </tr>\n",
       "  </tbody>\n",
       "</table>\n",
       "</div>"
      ],
      "text/plain": [
       "   event_id      game_session                 timestamp  \\\n",
       "0  27253bdc  45bb1e1b6b50c07b  2019-09-06T17:53:46.937Z   \n",
       "1  27253bdc  17eeb7f223665f53  2019-09-06T17:54:17.519Z   \n",
       "\n",
       "                               event_data installation_id  event_count  \\\n",
       "0  {\"event_code\": 2000, \"event_count\": 1}        0001e90f            1   \n",
       "1  {\"event_code\": 2000, \"event_count\": 1}        0001e90f            1   \n",
       "\n",
       "   event_code  game_time                    title event_type      world  \n",
       "0        2000          0  Welcome to Lost Lagoon!       Clip       NONE  \n",
       "1        2000          0     Magma Peak - Level 1       Clip  MAGMAPEAK  "
      ]
     },
     "execution_count": 397,
     "metadata": {},
     "output_type": "execute_result"
    }
   ],
   "source": [
    "df_trx.head(2)"
   ]
  },
  {
   "cell_type": "code",
   "execution_count": 390,
   "metadata": {},
   "outputs": [],
   "source": [
    "df_trx = df_trx.sort_values(['installation_id', 'timestamp'])"
   ]
  },
  {
   "cell_type": "code",
   "execution_count": 391,
   "metadata": {},
   "outputs": [],
   "source": [
    "df_slices = df_trx.assign(cnt=1).groupby('installation_id')[['cnt']].sum().sort_index()"
   ]
  },
  {
   "cell_type": "code",
   "execution_count": 392,
   "metadata": {},
   "outputs": [],
   "source": [
    "min_len, max_len = 100, 500"
   ]
  },
  {
   "cell_type": "code",
   "execution_count": 393,
   "metadata": {},
   "outputs": [],
   "source": [
    "d_slices = {}\n",
    "\n",
    "for sl_id in range(3):\n",
    "    s_cnt = df_slices['cnt'].where(df_slices['cnt'] < max_len - min_len, max_len - min_len)\n",
    "    s_len = (s_cnt * np.random.rand(len(df_slices))).astype(int) + min_len\n",
    "    s_avl_pos = s_cnt - s_len\n",
    "    s_start = (s_avl_pos * np.random.rand(len(df_slices))).astype(int)\n",
    "\n",
    "    ixs = np.concatenate([(np.arange(cn) >= st) & (np.arange(cn) <= st + ln)\n",
    "            for cl_id, (st, ln, cn) in pd.DataFrame(\n",
    "                {'s_start': s_start, 's_len': s_len, 'cnt': df_slices['cnt']}).iterrows()])\n",
    "    \n",
    "    df = df_trx.iloc[ixs]\n",
    "    df = df.pivot_table(index='installation_id', columns='event_code', values='title', aggfunc=len).fillna(0)\n",
    "    df = df.div(df.sum(axis=1), axis=0)\n",
    "    \n",
    "    d_slices[sl_id] = df"
   ]
  },
  {
   "cell_type": "code",
   "execution_count": 395,
   "metadata": {},
   "outputs": [
    {
     "data": {
      "image/png": "[encoded data removed]",
      "text/plain": [
       "<Figure size 720x720 with 1 Axes>"
      ]
     },
     "metadata": {
      "needs_background": "light"
     },
     "output_type": "display_data"
    }
   ],
   "source": [
    "ix_shuffle = np.random.choice(len(d_slices[0]), len(d_slices[0]), replace=False)\n",
    "\n",
    "with mpl.rc_context() as rc:\n",
    "    mpl.rc(\"figure\", figsize=(10, 10))\n",
    "    mpl.rc('font', size=20)\n",
    "\n",
    "    sns.histplot(pd.concat([\n",
    "        pd.DataFrame({'KL': kl_distribution(d_slices[0], d_slices[1]).clip(0, None),\n",
    "                      'type': 'Same client sample'}),\n",
    "        pd.DataFrame({'KL': kl_distribution(d_slices[0], d_slices[2].iloc[ix_shuffle]).clip(0, None), \n",
    "                      'type': 'Random client sample'}),\n",
    "    ], axis=0), x=\"KL\", hue=\"type\", bins=50, element='step')\n",
    "\n",
    "    plt.title('Assessment')\n",
    "    mpl.pyplot.savefig('kl_assessment.pdf', format='pdf', bbox_inches='tight')\n",
    "    # plt.show()"
   ]
  },
  {
   "cell_type": "code",
   "execution_count": null,
   "metadata": {},
   "outputs": [],
   "source": []
  },
  {
   "cell_type": "markdown",
   "metadata": {},
   "source": [
    "## X5"
   ]
  },
  {
   "cell_type": "code",
   "execution_count": 398,
   "metadata": {},
   "outputs": [],
   "source": [
    "df_trx = pd.read_csv('pycharm-deploy/pytorch-lifestream/experiments/scenario_x5/data/purchases.csv')"
   ]
  },
  {
   "cell_type": "code",
   "execution_count": 405,
   "metadata": {},
   "outputs": [],
   "source": [
    "df_products = pd.read_csv('pycharm-deploy/pytorch-lifestream/experiments/scenario_x5/data/products.csv')"
   ]
  },
  {
   "cell_type": "code",
   "execution_count": 406,
   "metadata": {},
   "outputs": [],
   "source": [
    "df_trx = pd.merge(df_trx, df_products[['product_id', 'level_3', 'level_4']])"
   ]
  },
  {
   "cell_type": "code",
   "execution_count": 407,
   "metadata": {},
   "outputs": [
    {
     "data": {
      "text/html": [
       "<div>\n",
       "<style scoped>\n",
       "    .dataframe tbody tr th:only-of-type {\n",
       "        vertical-align: middle;\n",
       "    }\n",
       "\n",
       "    .dataframe tbody tr th {\n",
       "        vertical-align: top;\n",
       "    }\n",
       "\n",
       "    .dataframe thead th {\n",
       "        text-align: right;\n",
       "    }\n",
       "</style>\n",
       "<table border=\"1\" class=\"dataframe\">\n",
       "  <thead>\n",
       "    <tr style=\"text-align: right;\">\n",
       "      <th></th>\n",
       "      <th>client_id</th>\n",
       "      <th>transaction_id</th>\n",
       "      <th>transaction_datetime</th>\n",
       "      <th>regular_points_received</th>\n",
       "      <th>express_points_received</th>\n",
       "      <th>regular_points_spent</th>\n",
       "      <th>express_points_spent</th>\n",
       "      <th>purchase_sum</th>\n",
       "      <th>store_id</th>\n",
       "      <th>product_id</th>\n",
       "      <th>product_quantity</th>\n",
       "      <th>trn_sum_from_iss</th>\n",
       "      <th>trn_sum_from_red</th>\n",
       "      <th>level_3</th>\n",
       "      <th>level_4</th>\n",
       "    </tr>\n",
       "  </thead>\n",
       "  <tbody>\n",
       "    <tr>\n",
       "      <th>0</th>\n",
       "      <td>000012768d</td>\n",
       "      <td>7e3e2e3984</td>\n",
       "      <td>2018-12-01 07:12:45</td>\n",
       "      <td>10.0</td>\n",
       "      <td>0.0</td>\n",
       "      <td>0.0</td>\n",
       "      <td>0.0</td>\n",
       "      <td>1007.00</td>\n",
       "      <td>54a4a11a29</td>\n",
       "      <td>9a80204f78</td>\n",
       "      <td>2.0</td>\n",
       "      <td>80.0</td>\n",
       "      <td>NaN</td>\n",
       "      <td>b25baa9dd5</td>\n",
       "      <td>51647c28e9</td>\n",
       "    </tr>\n",
       "    <tr>\n",
       "      <th>1</th>\n",
       "      <td>0003b55871</td>\n",
       "      <td>755ee5d934</td>\n",
       "      <td>2019-02-25 16:26:51</td>\n",
       "      <td>17.7</td>\n",
       "      <td>0.0</td>\n",
       "      <td>0.0</td>\n",
       "      <td>0.0</td>\n",
       "      <td>1770.38</td>\n",
       "      <td>b2ebbbc616</td>\n",
       "      <td>9a80204f78</td>\n",
       "      <td>1.0</td>\n",
       "      <td>45.0</td>\n",
       "      <td>NaN</td>\n",
       "      <td>b25baa9dd5</td>\n",
       "      <td>51647c28e9</td>\n",
       "    </tr>\n",
       "  </tbody>\n",
       "</table>\n",
       "</div>"
      ],
      "text/plain": [
       "    client_id transaction_id transaction_datetime  regular_points_received  \\\n",
       "0  000012768d     7e3e2e3984  2018-12-01 07:12:45                     10.0   \n",
       "1  0003b55871     755ee5d934  2019-02-25 16:26:51                     17.7   \n",
       "\n",
       "   express_points_received  regular_points_spent  express_points_spent  \\\n",
       "0                      0.0                   0.0                   0.0   \n",
       "1                      0.0                   0.0                   0.0   \n",
       "\n",
       "   purchase_sum    store_id  product_id  product_quantity  trn_sum_from_iss  \\\n",
       "0       1007.00  54a4a11a29  9a80204f78               2.0              80.0   \n",
       "1       1770.38  b2ebbbc616  9a80204f78               1.0              45.0   \n",
       "\n",
       "   trn_sum_from_red     level_3     level_4  \n",
       "0               NaN  b25baa9dd5  51647c28e9  \n",
       "1               NaN  b25baa9dd5  51647c28e9  "
      ]
     },
     "execution_count": 407,
     "metadata": {},
     "output_type": "execute_result"
    }
   ],
   "source": [
    "df_trx.head(2)"
   ]
  },
  {
   "cell_type": "code",
   "execution_count": 408,
   "metadata": {},
   "outputs": [],
   "source": [
    "df_trx = df_trx.sort_values(['client_id', 'transaction_datetime'])"
   ]
  },
  {
   "cell_type": "code",
   "execution_count": 409,
   "metadata": {},
   "outputs": [],
   "source": [
    "df_slices = df_trx.assign(cnt=1).groupby('client_id')[['cnt']].sum().sort_index()"
   ]
  },
  {
   "cell_type": "code",
   "execution_count": 410,
   "metadata": {},
   "outputs": [],
   "source": [
    "min_len, max_len = 30, 180"
   ]
  },
  {
   "cell_type": "code",
   "execution_count": 411,
   "metadata": {},
   "outputs": [],
   "source": [
    "d_slices = {}\n",
    "\n",
    "for sl_id in range(3):\n",
    "    s_cnt = df_slices['cnt'].where(df_slices['cnt'] < max_len - min_len, max_len - min_len)\n",
    "    s_len = (s_cnt * np.random.rand(len(df_slices))).astype(int) + min_len\n",
    "    s_avl_pos = s_cnt - s_len\n",
    "    s_start = (s_avl_pos * np.random.rand(len(df_slices))).astype(int)\n",
    "\n",
    "    ixs = np.concatenate([(np.arange(cn) >= st) & (np.arange(cn) <= st + ln)\n",
    "            for cl_id, (st, ln, cn) in pd.DataFrame(\n",
    "                {'s_start': s_start, 's_len': s_len, 'cnt': df_slices['cnt']}).iterrows()])\n",
    "    \n",
    "    df = df_trx.iloc[ixs]\n",
    "    df = df.pivot_table(index='client_id', columns='level_3', values='level_4', aggfunc=len).fillna(0)\n",
    "    df = df.div(df.sum(axis=1), axis=0)\n",
    "    \n",
    "    d_slices[sl_id] = df"
   ]
  },
  {
   "cell_type": "code",
   "execution_count": 412,
   "metadata": {},
   "outputs": [
    {
     "data": {
      "image/png": "[encoded data removed]",
      "text/plain": [
       "<Figure size 720x720 with 1 Axes>"
      ]
     },
     "metadata": {
      "needs_background": "light"
     },
     "output_type": "display_data"
    }
   ],
   "source": [
    "ix_shuffle = np.random.choice(len(d_slices[0]), len(d_slices[0]), replace=False)\n",
    "\n",
    "with mpl.rc_context() as rc:\n",
    "    mpl.rc(\"figure\", figsize=(10, 10))\n",
    "    mpl.rc('font', size=20)\n",
    "\n",
    "    sns.histplot(pd.concat([\n",
    "        pd.DataFrame({'KL': kl_distribution(d_slices[0], d_slices[1]).clip(0, None),\n",
    "                      'type': 'Same client sample'}),\n",
    "        pd.DataFrame({'KL': kl_distribution(d_slices[0], d_slices[2].iloc[ix_shuffle]).clip(0, None), \n",
    "                      'type': 'Random client sample'}),\n",
    "    ], axis=0), x=\"KL\", hue=\"type\", bins=50, element='step')\n",
    "\n",
    "    plt.title('Retail')\n",
    "    mpl.pyplot.savefig('kl_retail.pdf', format='pdf', bbox_inches='tight')\n",
    "    # plt.show()"
   ]
  },
  {
   "cell_type": "code",
   "execution_count": null,
   "metadata": {},
   "outputs": [],
   "source": []
  }
 ],
 "metadata": {
  "kernelspec": {
   "display_name": "Python 3",
   "language": "python",
   "name": "python3"
  },
  "language_info": {
   "codemirror_mode": {
    "name": "ipython",
    "version": 3
   },
   "file_extension": ".py",
   "mimetype": "text/x-python",
   "name": "python",
   "nbconvert_exporter": "python",
   "pygments_lexer": "ipython3",
   "version": "3.8.0"
  }
 },
 "nbformat": 4,
 "nbformat_minor": 4
}
