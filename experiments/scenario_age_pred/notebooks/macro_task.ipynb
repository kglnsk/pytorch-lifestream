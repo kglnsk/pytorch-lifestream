{
 "cells": [
  {
   "cell_type": "code",
   "execution_count": 1,
   "id": "modified-diary",
   "metadata": {},
   "outputs": [
    {
     "name": "stdout",
     "output_type": "stream",
     "text": [
      "../data/small_group_description.csv  ../data/train_target.csv\r\n",
      "../data/test.csv\t\t     ../data/transactions_test.csv\r\n",
      "../data/test_ids_file.csv\t     ../data/transactions_train.csv\r\n"
     ]
    }
   ],
   "source": [
    "!ls ../data/*.csv"
   ]
  },
  {
   "cell_type": "code",
   "execution_count": null,
   "id": "organic-device",
   "metadata": {},
   "outputs": [],
   "source": []
  },
  {
   "cell_type": "markdown",
   "id": "trying-kuwait",
   "metadata": {},
   "source": [
    "# Data Preparation"
   ]
  },
  {
   "cell_type": "code",
   "execution_count": 2,
   "id": "therapeutic-overview",
   "metadata": {},
   "outputs": [],
   "source": [
    "import numpy as np\n",
    "import pandas as pd\n",
    "\n",
    "import matplotlib.pyplot as plt"
   ]
  },
  {
   "cell_type": "code",
   "execution_count": 3,
   "id": "olympic-jerusalem",
   "metadata": {},
   "outputs": [],
   "source": [
    "import sys"
   ]
  },
  {
   "cell_type": "code",
   "execution_count": 4,
   "id": "native-carnival",
   "metadata": {},
   "outputs": [],
   "source": [
    "from IPython.display import display"
   ]
  },
  {
   "cell_type": "code",
   "execution_count": 5,
   "id": "built-guarantee",
   "metadata": {},
   "outputs": [],
   "source": [
    "sys.path.append('../../../')"
   ]
  },
  {
   "cell_type": "code",
   "execution_count": 6,
   "id": "first-anxiety",
   "metadata": {},
   "outputs": [],
   "source": [
    "pd.options.display.float_format = '{:,.3f}'.format"
   ]
  },
  {
   "cell_type": "code",
   "execution_count": 7,
   "id": "charitable-profit",
   "metadata": {},
   "outputs": [],
   "source": [
    "df_trx = pd.concat([\n",
    "    pd.read_csv('../data/transactions_train.csv'),\n",
    "    pd.read_csv('../data/transactions_test.csv'),        \n",
    "], axis=0)"
   ]
  },
  {
   "cell_type": "code",
   "execution_count": 8,
   "id": "improving-singer",
   "metadata": {},
   "outputs": [
    {
     "data": {
      "text/html": [
       "<div>\n",
       "<style scoped>\n",
       "    .dataframe tbody tr th:only-of-type {\n",
       "        vertical-align: middle;\n",
       "    }\n",
       "\n",
       "    .dataframe tbody tr th {\n",
       "        vertical-align: top;\n",
       "    }\n",
       "\n",
       "    .dataframe thead th {\n",
       "        text-align: right;\n",
       "    }\n",
       "</style>\n",
       "<table border=\"1\" class=\"dataframe\">\n",
       "  <thead>\n",
       "    <tr style=\"text-align: right;\">\n",
       "      <th></th>\n",
       "      <th>client_id</th>\n",
       "      <th>trans_date</th>\n",
       "      <th>small_group</th>\n",
       "      <th>amount_rur</th>\n",
       "    </tr>\n",
       "  </thead>\n",
       "  <tbody>\n",
       "    <tr>\n",
       "      <th>0</th>\n",
       "      <td>33172</td>\n",
       "      <td>6</td>\n",
       "      <td>4</td>\n",
       "      <td>71.463</td>\n",
       "    </tr>\n",
       "    <tr>\n",
       "      <th>1</th>\n",
       "      <td>33172</td>\n",
       "      <td>6</td>\n",
       "      <td>35</td>\n",
       "      <td>45.017</td>\n",
       "    </tr>\n",
       "    <tr>\n",
       "      <th>2</th>\n",
       "      <td>33172</td>\n",
       "      <td>8</td>\n",
       "      <td>11</td>\n",
       "      <td>13.887</td>\n",
       "    </tr>\n",
       "    <tr>\n",
       "      <th>3</th>\n",
       "      <td>33172</td>\n",
       "      <td>9</td>\n",
       "      <td>11</td>\n",
       "      <td>15.983</td>\n",
       "    </tr>\n",
       "    <tr>\n",
       "      <th>4</th>\n",
       "      <td>33172</td>\n",
       "      <td>10</td>\n",
       "      <td>11</td>\n",
       "      <td>21.341</td>\n",
       "    </tr>\n",
       "  </tbody>\n",
       "</table>\n",
       "</div>"
      ],
      "text/plain": [
       "   client_id  trans_date  small_group  amount_rur\n",
       "0      33172           6            4      71.463\n",
       "1      33172           6           35      45.017\n",
       "2      33172           8           11      13.887\n",
       "3      33172           9           11      15.983\n",
       "4      33172          10           11      21.341"
      ]
     },
     "execution_count": 8,
     "metadata": {},
     "output_type": "execute_result"
    }
   ],
   "source": [
    "df_trx.head()"
   ]
  },
  {
   "cell_type": "code",
   "execution_count": 9,
   "id": "portuguese-saudi",
   "metadata": {},
   "outputs": [],
   "source": [
    "s_y = df_trx.groupby('trans_date')['amount_rur'].sum().sort_index()"
   ]
  },
  {
   "cell_type": "code",
   "execution_count": 10,
   "id": "desirable-affiliate",
   "metadata": {},
   "outputs": [],
   "source": [
    "assert (np.diff(s_y.index.values) == 1).all()"
   ]
  },
  {
   "cell_type": "code",
   "execution_count": 11,
   "id": "alternate-nancy",
   "metadata": {},
   "outputs": [
    {
     "data": {
      "text/plain": [
       "trans_date\n",
       "0     1,122,959.265\n",
       "1     2,563,636.431\n",
       "2     2,824,431.548\n",
       "3     2,851,063.215\n",
       "4     2,865,754.323\n",
       "           ...     \n",
       "725   5,469,871.939\n",
       "726   6,303,825.154\n",
       "727   7,087,211.302\n",
       "728   8,076,970.285\n",
       "729   4,974,039.653\n",
       "Name: amount_rur, Length: 730, dtype: float64"
      ]
     },
     "execution_count": 11,
     "metadata": {},
     "output_type": "execute_result"
    }
   ],
   "source": [
    "s_y"
   ]
  },
  {
   "cell_type": "code",
   "execution_count": null,
   "id": "silent-prairie",
   "metadata": {},
   "outputs": [],
   "source": []
  },
  {
   "cell_type": "code",
   "execution_count": 12,
   "id": "focal-paintball",
   "metadata": {},
   "outputs": [
    {
     "data": {
      "text/plain": [
       "75"
      ]
     },
     "execution_count": 12,
     "metadata": {},
     "output_type": "execute_result"
    }
   ],
   "source": [
    "df_trx[lambda x: x['trans_date'] < 450] \\\n",
    "    ['small_group'].value_counts(normalize=True).cumsum()[lambda x: x <= 0.99].size"
   ]
  },
  {
   "cell_type": "code",
   "execution_count": 13,
   "id": "faced-harvest",
   "metadata": {},
   "outputs": [],
   "source": [
    "used_small_group = df_trx[lambda x: x['trans_date'] < 450]['small_group'].value_counts().index.tolist()[:70]"
   ]
  },
  {
   "cell_type": "code",
   "execution_count": 14,
   "id": "modular-distance",
   "metadata": {},
   "outputs": [],
   "source": [
    "df_features = df_trx[lambda x: x['small_group'].isin(used_small_group)].pivot_table(\n",
    "    index='trans_date',\n",
    "    columns='small_group',\n",
    "    values='amount_rur',\n",
    "    aggfunc=[len, 'sum', 'std'],\n",
    ").reindex(s_y.index).fillna(0)"
   ]
  },
  {
   "cell_type": "code",
   "execution_count": 15,
   "id": "cathedral-edinburgh",
   "metadata": {},
   "outputs": [],
   "source": [
    "# df_features = df_features.rolling(window=7).sum()"
   ]
  },
  {
   "cell_type": "code",
   "execution_count": 16,
   "id": "under-joyce",
   "metadata": {},
   "outputs": [],
   "source": [
    "# df_features = df_features - df_features.ewm(alpha=0.2).mean()"
   ]
  },
  {
   "cell_type": "code",
   "execution_count": 17,
   "id": "worthy-aerospace",
   "metadata": {},
   "outputs": [
    {
     "data": {
      "image/png": "[encoded data removed]",
      "text/plain": [
       "<Figure size 432x288 with 1 Axes>"
      ]
     },
     "metadata": {
      "needs_background": "light"
     },
     "output_type": "display_data"
    }
   ],
   "source": [
    "df_features.loc[:450].std().sort_values().reset_index(drop=True).plot(logy=True)\n",
    "plt.show()"
   ]
  },
  {
   "cell_type": "code",
   "execution_count": 18,
   "id": "military-confusion",
   "metadata": {},
   "outputs": [],
   "source": [
    "df_features = df_features / df_features.loc[:450].std()"
   ]
  },
  {
   "cell_type": "code",
   "execution_count": 19,
   "id": "seven-ability",
   "metadata": {},
   "outputs": [
    {
     "data": {
      "text/plain": [
       "(730, 210)"
      ]
     },
     "execution_count": 19,
     "metadata": {},
     "output_type": "execute_result"
    }
   ],
   "source": [
    "df_features.shape"
   ]
  },
  {
   "cell_type": "code",
   "execution_count": 20,
   "id": "intermediate-rwanda",
   "metadata": {},
   "outputs": [
    {
     "data": {
      "text/html": [
       "<div>\n",
       "<style scoped>\n",
       "    .dataframe tbody tr th:only-of-type {\n",
       "        vertical-align: middle;\n",
       "    }\n",
       "\n",
       "    .dataframe tbody tr th {\n",
       "        vertical-align: top;\n",
       "    }\n",
       "\n",
       "    .dataframe thead tr th {\n",
       "        text-align: left;\n",
       "    }\n",
       "\n",
       "    .dataframe thead tr:last-of-type th {\n",
       "        text-align: right;\n",
       "    }\n",
       "</style>\n",
       "<table border=\"1\" class=\"dataframe\">\n",
       "  <thead>\n",
       "    <tr>\n",
       "      <th></th>\n",
       "      <th colspan=\"10\" halign=\"left\">len</th>\n",
       "      <th>...</th>\n",
       "      <th colspan=\"10\" halign=\"left\">std</th>\n",
       "    </tr>\n",
       "    <tr>\n",
       "      <th>small_group</th>\n",
       "      <th>0</th>\n",
       "      <th>1</th>\n",
       "      <th>2</th>\n",
       "      <th>3</th>\n",
       "      <th>4</th>\n",
       "      <th>5</th>\n",
       "      <th>6</th>\n",
       "      <th>7</th>\n",
       "      <th>8</th>\n",
       "      <th>9</th>\n",
       "      <th>...</th>\n",
       "      <th>76</th>\n",
       "      <th>77</th>\n",
       "      <th>78</th>\n",
       "      <th>80</th>\n",
       "      <th>82</th>\n",
       "      <th>83</th>\n",
       "      <th>91</th>\n",
       "      <th>106</th>\n",
       "      <th>109</th>\n",
       "      <th>115</th>\n",
       "    </tr>\n",
       "    <tr>\n",
       "      <th>trans_date</th>\n",
       "      <th></th>\n",
       "      <th></th>\n",
       "      <th></th>\n",
       "      <th></th>\n",
       "      <th></th>\n",
       "      <th></th>\n",
       "      <th></th>\n",
       "      <th></th>\n",
       "      <th></th>\n",
       "      <th></th>\n",
       "      <th></th>\n",
       "      <th></th>\n",
       "      <th></th>\n",
       "      <th></th>\n",
       "      <th></th>\n",
       "      <th></th>\n",
       "      <th></th>\n",
       "      <th></th>\n",
       "      <th></th>\n",
       "      <th></th>\n",
       "      <th></th>\n",
       "    </tr>\n",
       "  </thead>\n",
       "  <tbody>\n",
       "    <tr>\n",
       "      <th>0</th>\n",
       "      <td>0.189</td>\n",
       "      <td>2.846</td>\n",
       "      <td>2.294</td>\n",
       "      <td>9.812</td>\n",
       "      <td>1.975</td>\n",
       "      <td>2.824</td>\n",
       "      <td>2.022</td>\n",
       "      <td>0.321</td>\n",
       "      <td>0.670</td>\n",
       "      <td>2.087</td>\n",
       "      <td>...</td>\n",
       "      <td>2.303</td>\n",
       "      <td>0.489</td>\n",
       "      <td>1.817</td>\n",
       "      <td>0.151</td>\n",
       "      <td>1.970</td>\n",
       "      <td>0.308</td>\n",
       "      <td>0.314</td>\n",
       "      <td>0.385</td>\n",
       "      <td>1.577</td>\n",
       "      <td>0.196</td>\n",
       "    </tr>\n",
       "    <tr>\n",
       "      <th>1</th>\n",
       "      <td>3.428</td>\n",
       "      <td>5.009</td>\n",
       "      <td>4.273</td>\n",
       "      <td>8.408</td>\n",
       "      <td>4.457</td>\n",
       "      <td>2.678</td>\n",
       "      <td>1.699</td>\n",
       "      <td>1.026</td>\n",
       "      <td>2.935</td>\n",
       "      <td>5.820</td>\n",
       "      <td>...</td>\n",
       "      <td>0.636</td>\n",
       "      <td>1.162</td>\n",
       "      <td>1.525</td>\n",
       "      <td>1.760</td>\n",
       "      <td>0.271</td>\n",
       "      <td>2.076</td>\n",
       "      <td>0.361</td>\n",
       "      <td>0.417</td>\n",
       "      <td>0.641</td>\n",
       "      <td>0.696</td>\n",
       "    </tr>\n",
       "    <tr>\n",
       "      <th>2</th>\n",
       "      <td>4.140</td>\n",
       "      <td>5.547</td>\n",
       "      <td>4.756</td>\n",
       "      <td>8.263</td>\n",
       "      <td>4.551</td>\n",
       "      <td>3.173</td>\n",
       "      <td>2.427</td>\n",
       "      <td>1.347</td>\n",
       "      <td>3.337</td>\n",
       "      <td>6.574</td>\n",
       "      <td>...</td>\n",
       "      <td>0.355</td>\n",
       "      <td>0.527</td>\n",
       "      <td>0.758</td>\n",
       "      <td>0.203</td>\n",
       "      <td>0.977</td>\n",
       "      <td>0.745</td>\n",
       "      <td>0.456</td>\n",
       "      <td>1.058</td>\n",
       "      <td>0.357</td>\n",
       "      <td>0.206</td>\n",
       "    </tr>\n",
       "    <tr>\n",
       "      <th>3</th>\n",
       "      <td>3.922</td>\n",
       "      <td>5.731</td>\n",
       "      <td>4.856</td>\n",
       "      <td>8.172</td>\n",
       "      <td>4.429</td>\n",
       "      <td>3.028</td>\n",
       "      <td>1.780</td>\n",
       "      <td>1.347</td>\n",
       "      <td>3.203</td>\n",
       "      <td>6.667</td>\n",
       "      <td>...</td>\n",
       "      <td>0.621</td>\n",
       "      <td>0.711</td>\n",
       "      <td>1.311</td>\n",
       "      <td>0.288</td>\n",
       "      <td>0.662</td>\n",
       "      <td>0.575</td>\n",
       "      <td>0.459</td>\n",
       "      <td>0.674</td>\n",
       "      <td>0.327</td>\n",
       "      <td>0.114</td>\n",
       "    </tr>\n",
       "    <tr>\n",
       "      <th>4</th>\n",
       "      <td>3.719</td>\n",
       "      <td>5.819</td>\n",
       "      <td>4.943</td>\n",
       "      <td>7.971</td>\n",
       "      <td>4.326</td>\n",
       "      <td>3.726</td>\n",
       "      <td>2.508</td>\n",
       "      <td>0.834</td>\n",
       "      <td>3.423</td>\n",
       "      <td>6.742</td>\n",
       "      <td>...</td>\n",
       "      <td>0.371</td>\n",
       "      <td>0.633</td>\n",
       "      <td>1.930</td>\n",
       "      <td>0.407</td>\n",
       "      <td>0.411</td>\n",
       "      <td>0.578</td>\n",
       "      <td>0.483</td>\n",
       "      <td>0.617</td>\n",
       "      <td>0.497</td>\n",
       "      <td>0.490</td>\n",
       "    </tr>\n",
       "    <tr>\n",
       "      <th>...</th>\n",
       "      <td>...</td>\n",
       "      <td>...</td>\n",
       "      <td>...</td>\n",
       "      <td>...</td>\n",
       "      <td>...</td>\n",
       "      <td>...</td>\n",
       "      <td>...</td>\n",
       "      <td>...</td>\n",
       "      <td>...</td>\n",
       "      <td>...</td>\n",
       "      <td>...</td>\n",
       "      <td>...</td>\n",
       "      <td>...</td>\n",
       "      <td>...</td>\n",
       "      <td>...</td>\n",
       "      <td>...</td>\n",
       "      <td>...</td>\n",
       "      <td>...</td>\n",
       "      <td>...</td>\n",
       "      <td>...</td>\n",
       "      <td>...</td>\n",
       "    </tr>\n",
       "    <tr>\n",
       "      <th>725</th>\n",
       "      <td>7.060</td>\n",
       "      <td>10.667</td>\n",
       "      <td>6.228</td>\n",
       "      <td>10.549</td>\n",
       "      <td>8.075</td>\n",
       "      <td>5.764</td>\n",
       "      <td>4.126</td>\n",
       "      <td>5.708</td>\n",
       "      <td>3.885</td>\n",
       "      <td>9.526</td>\n",
       "      <td>...</td>\n",
       "      <td>1.416</td>\n",
       "      <td>1.932</td>\n",
       "      <td>1.964</td>\n",
       "      <td>0.213</td>\n",
       "      <td>2.244</td>\n",
       "      <td>1.550</td>\n",
       "      <td>2.184</td>\n",
       "      <td>2.182</td>\n",
       "      <td>0.092</td>\n",
       "      <td>0.408</td>\n",
       "    </tr>\n",
       "    <tr>\n",
       "      <th>726</th>\n",
       "      <td>8.033</td>\n",
       "      <td>10.696</td>\n",
       "      <td>6.615</td>\n",
       "      <td>10.011</td>\n",
       "      <td>8.650</td>\n",
       "      <td>5.211</td>\n",
       "      <td>5.420</td>\n",
       "      <td>5.965</td>\n",
       "      <td>4.482</td>\n",
       "      <td>9.932</td>\n",
       "      <td>...</td>\n",
       "      <td>0.512</td>\n",
       "      <td>5.181</td>\n",
       "      <td>1.225</td>\n",
       "      <td>2.174</td>\n",
       "      <td>1.079</td>\n",
       "      <td>0.877</td>\n",
       "      <td>0.749</td>\n",
       "      <td>0.871</td>\n",
       "      <td>0.090</td>\n",
       "      <td>0.583</td>\n",
       "    </tr>\n",
       "    <tr>\n",
       "      <th>727</th>\n",
       "      <td>9.863</td>\n",
       "      <td>10.954</td>\n",
       "      <td>8.144</td>\n",
       "      <td>9.604</td>\n",
       "      <td>9.285</td>\n",
       "      <td>5.298</td>\n",
       "      <td>6.229</td>\n",
       "      <td>5.580</td>\n",
       "      <td>6.139</td>\n",
       "      <td>11.132</td>\n",
       "      <td>...</td>\n",
       "      <td>0.586</td>\n",
       "      <td>5.741</td>\n",
       "      <td>1.562</td>\n",
       "      <td>0.509</td>\n",
       "      <td>2.053</td>\n",
       "      <td>0.888</td>\n",
       "      <td>0.569</td>\n",
       "      <td>5.353</td>\n",
       "      <td>0.078</td>\n",
       "      <td>0.623</td>\n",
       "    </tr>\n",
       "    <tr>\n",
       "      <th>728</th>\n",
       "      <td>11.447</td>\n",
       "      <td>11.116</td>\n",
       "      <td>9.162</td>\n",
       "      <td>8.956</td>\n",
       "      <td>9.055</td>\n",
       "      <td>4.454</td>\n",
       "      <td>7.038</td>\n",
       "      <td>2.630</td>\n",
       "      <td>6.918</td>\n",
       "      <td>11.984</td>\n",
       "      <td>...</td>\n",
       "      <td>0.532</td>\n",
       "      <td>1.393</td>\n",
       "      <td>1.840</td>\n",
       "      <td>2.434</td>\n",
       "      <td>1.495</td>\n",
       "      <td>0.716</td>\n",
       "      <td>0.590</td>\n",
       "      <td>0.906</td>\n",
       "      <td>2.735</td>\n",
       "      <td>0.710</td>\n",
       "    </tr>\n",
       "    <tr>\n",
       "      <th>729</th>\n",
       "      <td>7.176</td>\n",
       "      <td>10.115</td>\n",
       "      <td>5.792</td>\n",
       "      <td>9.580</td>\n",
       "      <td>7.342</td>\n",
       "      <td>3.814</td>\n",
       "      <td>4.369</td>\n",
       "      <td>1.860</td>\n",
       "      <td>4.141</td>\n",
       "      <td>9.279</td>\n",
       "      <td>...</td>\n",
       "      <td>0.396</td>\n",
       "      <td>1.369</td>\n",
       "      <td>1.301</td>\n",
       "      <td>3.750</td>\n",
       "      <td>0.372</td>\n",
       "      <td>0.929</td>\n",
       "      <td>0.356</td>\n",
       "      <td>1.476</td>\n",
       "      <td>0.284</td>\n",
       "      <td>0.741</td>\n",
       "    </tr>\n",
       "  </tbody>\n",
       "</table>\n",
       "<p>730 rows × 210 columns</p>\n",
       "</div>"
      ],
      "text/plain": [
       "               len                                                           \\\n",
       "small_group    0      1     2      3     4     5     6     7     8      9     \n",
       "trans_date                                                                    \n",
       "0            0.189  2.846 2.294  9.812 1.975 2.824 2.022 0.321 0.670  2.087   \n",
       "1            3.428  5.009 4.273  8.408 4.457 2.678 1.699 1.026 2.935  5.820   \n",
       "2            4.140  5.547 4.756  8.263 4.551 3.173 2.427 1.347 3.337  6.574   \n",
       "3            3.922  5.731 4.856  8.172 4.429 3.028 1.780 1.347 3.203  6.667   \n",
       "4            3.719  5.819 4.943  7.971 4.326 3.726 2.508 0.834 3.423  6.742   \n",
       "...            ...    ...   ...    ...   ...   ...   ...   ...   ...    ...   \n",
       "725          7.060 10.667 6.228 10.549 8.075 5.764 4.126 5.708 3.885  9.526   \n",
       "726          8.033 10.696 6.615 10.011 8.650 5.211 5.420 5.965 4.482  9.932   \n",
       "727          9.863 10.954 8.144  9.604 9.285 5.298 6.229 5.580 6.139 11.132   \n",
       "728         11.447 11.116 9.162  8.956 9.055 4.454 7.038 2.630 6.918 11.984   \n",
       "729          7.176 10.115 5.792  9.580 7.342 3.814 4.369 1.860 4.141  9.279   \n",
       "\n",
       "             ...   std                                                        \n",
       "small_group  ...   76    77    78    80    82    83    91    106   109   115  \n",
       "trans_date   ...                                                              \n",
       "0            ... 2.303 0.489 1.817 0.151 1.970 0.308 0.314 0.385 1.577 0.196  \n",
       "1            ... 0.636 1.162 1.525 1.760 0.271 2.076 0.361 0.417 0.641 0.696  \n",
       "2            ... 0.355 0.527 0.758 0.203 0.977 0.745 0.456 1.058 0.357 0.206  \n",
       "3            ... 0.621 0.711 1.311 0.288 0.662 0.575 0.459 0.674 0.327 0.114  \n",
       "4            ... 0.371 0.633 1.930 0.407 0.411 0.578 0.483 0.617 0.497 0.490  \n",
       "...          ...   ...   ...   ...   ...   ...   ...   ...   ...   ...   ...  \n",
       "725          ... 1.416 1.932 1.964 0.213 2.244 1.550 2.184 2.182 0.092 0.408  \n",
       "726          ... 0.512 5.181 1.225 2.174 1.079 0.877 0.749 0.871 0.090 0.583  \n",
       "727          ... 0.586 5.741 1.562 0.509 2.053 0.888 0.569 5.353 0.078 0.623  \n",
       "728          ... 0.532 1.393 1.840 2.434 1.495 0.716 0.590 0.906 2.735 0.710  \n",
       "729          ... 0.396 1.369 1.301 3.750 0.372 0.929 0.356 1.476 0.284 0.741  \n",
       "\n",
       "[730 rows x 210 columns]"
      ]
     },
     "execution_count": 20,
     "metadata": {},
     "output_type": "execute_result"
    }
   ],
   "source": [
    "df_features"
   ]
  },
  {
   "cell_type": "code",
   "execution_count": 21,
   "id": "tight-netherlands",
   "metadata": {},
   "outputs": [
    {
     "data": {
      "image/png": "[encoded data removed]",
      "text/plain": [
       "<Figure size 1296x288 with 1 Axes>"
      ]
     },
     "metadata": {
      "needs_background": "light"
     },
     "output_type": "display_data"
    }
   ],
   "source": [
    "ix_rand_features = np.random.choice(df_features.shape[1], 5, replace=False)\n",
    "df_features.iloc[:, ix_rand_features].plot(figsize=(18, 4))\n",
    "plt.axvline(450, color='red')\n",
    "plt.axvline(575, color='red')\n",
    "plt.show()"
   ]
  },
  {
   "cell_type": "markdown",
   "id": "compound-northeast",
   "metadata": {},
   "source": [
    "# SE Debug"
   ]
  },
  {
   "cell_type": "code",
   "execution_count": 22,
   "id": "unexpected-sweet",
   "metadata": {},
   "outputs": [],
   "source": [
    "from dltranz.lightning_modules.stream_encoder import Loader3DTensor\n",
    "from dltranz.lightning_modules.stream_encoder import TBatchNorm, TDropout, ClipRange, StreamEncoder\n",
    "\n",
    "import torch\n",
    "import pytorch_lightning as pl"
   ]
  },
  {
   "cell_type": "code",
   "execution_count": 38,
   "id": "metric-monaco",
   "metadata": {},
   "outputs": [],
   "source": [
    "import logging\n",
    "logging.getLogger('pytorch_lightning').setLevel(logging.ERROR)"
   ]
  },
  {
   "cell_type": "code",
   "execution_count": 24,
   "id": "touched-rotation",
   "metadata": {},
   "outputs": [],
   "source": [
    "!rm -r lightning_logs/"
   ]
  },
  {
   "cell_type": "code",
   "execution_count": 24,
   "id": "innocent-stick",
   "metadata": {},
   "outputs": [
    {
     "data": {
      "image/png": "[encoded data removed]",
      "text/plain": [
       "<Figure size 1296x144 with 1 Axes>"
      ]
     },
     "metadata": {
      "needs_background": "light"
     },
     "output_type": "display_data"
    },
    {
     "data": {
      "image/png": "[encoded data removed]",
      "text/plain": [
       "<Figure size 1296x144 with 1 Axes>"
      ]
     },
     "metadata": {
      "needs_background": "light"
     },
     "output_type": "display_data"
    }
   ],
   "source": [
    "df_single_feature = s_y.loc[:450]\n",
    "df_single_feature.plot(figsize=(18, 2))\n",
    "df_single_feature.ewm(alpha=0.2).mean().ewm(alpha=0.2).mean().plot()\n",
    "plt.axvline(150, color='red')\n",
    "plt.show()\n",
    "df_single_feature = (df_single_feature - \n",
    "                     df_single_feature.ewm(alpha=0.2).mean().ewm(alpha=0.2).mean()\n",
    "                    )\n",
    "df_single_feature = df_single_feature / df_single_feature.std()\n",
    "\n",
    "df_single_feature.plot(figsize=(18, 2))\n",
    "plt.axvline(150, color='red')\n",
    "plt.axhline(0, color='gray')\n",
    "plt.show()"
   ]
  },
  {
   "cell_type": "code",
   "execution_count": 25,
   "id": "welcome-roads",
   "metadata": {},
   "outputs": [],
   "source": [
    "agg_feature_encoder = torch.nn.Sequential(\n",
    "#     TBatchNorm(1),\n",
    "    ClipRange((-3, 3)),\n",
    "    TDropout(0),\n",
    ")\n",
    "\n",
    "stream_encoder = StreamEncoder(\n",
    "    encoder_x2z=agg_feature_encoder,\n",
    "    history_size=14, predict_size=7, predict_lag=0,\n",
    "    z_channels=1, c_channels=32,\n",
    "    var_gamma_z=0.5, var_gamma_c=0.2,\n",
    "    lr=0.001, weight_decay=4e-5,\n",
    "    step_size=10, gamma=0.9,\n",
    "    cpc_w=0.1,\n",
    "    cov_z_w=0.1, var_z_w=1.0,\n",
    "    cov_c_w=0.1, var_c_w=1.0,\n",
    ")"
   ]
  },
  {
   "cell_type": "code",
   "execution_count": 26,
   "id": "medical-nurse",
   "metadata": {},
   "outputs": [
    {
     "name": "stdout",
     "output_type": "stream",
     "text": [
      "9 1\n",
      "torch.Size([32, 21, 1]) torch.Size([1, 150, 1])\n"
     ]
    }
   ],
   "source": [
    "l3dt = Loader3DTensor(stream_encoder)\n",
    "dl_train = l3dt.get_train_dataloader(\n",
    "    torch.from_numpy(df_single_feature.values.reshape(-1, 1)).unsqueeze(0).float()[:, 150:, :], 32, 4)\n",
    "dl_valid = l3dt.get_valid_dataloader(\n",
    "    torch.from_numpy(df_single_feature.values.reshape(-1, 1)).unsqueeze(0).float()[:, :150, :], 32, 0)\n",
    "print(len(dl_train), len(dl_valid))\n",
    "print(next(iter(dl_train))[0].shape, next(iter(dl_valid))[0].shape)"
   ]
  },
  {
   "cell_type": "code",
   "execution_count": 27,
   "id": "acoustic-sacramento",
   "metadata": {},
   "outputs": [
    {
     "data": {
      "image/png": "[encoded data removed]",
      "text/plain": [
       "<Figure size 864x216 with 1 Axes>"
      ]
     },
     "metadata": {
      "needs_background": "light"
     },
     "output_type": "display_data"
    }
   ],
   "source": [
    "plt.figure(figsize=(12, 3))\n",
    "plt.plot(next(iter(dl_train))[0][0][:, 0].numpy())\n",
    "plt.axvline(stream_encoder.hparams.history_size, color='red')\n",
    "plt.axhline(0, color='gray')\n",
    "plt.title('train sample')\n",
    "plt.show()"
   ]
  },
  {
   "cell_type": "code",
   "execution_count": 28,
   "id": "curious-broadcasting",
   "metadata": {},
   "outputs": [
    {
     "data": {
      "image/png": "[encoded data removed]",
      "text/plain": [
       "<Figure size 1728x216 with 1 Axes>"
      ]
     },
     "metadata": {
      "needs_background": "light"
     },
     "output_type": "display_data"
    }
   ],
   "source": [
    "plt.figure(figsize=(24, 3))\n",
    "plt.plot(next(iter(dl_valid))[0][0][:, 0].numpy())\n",
    "plt.axvline(stream_encoder.hparams.history_size, color='red')\n",
    "plt.axhline(0, color='gray')\n",
    "plt.title('valid sample')\n",
    "plt.show()"
   ]
  },
  {
   "cell_type": "code",
   "execution_count": 29,
   "id": "graphic-crossing",
   "metadata": {},
   "outputs": [
    {
     "name": "stderr",
     "output_type": "stream",
     "text": [
      "GPU available: True, used: True\n",
      "TPU available: False, using: 0 TPU cores\n"
     ]
    }
   ],
   "source": [
    "trainer = pl.Trainer(\n",
    "    gpus=[3],\n",
    "    max_epochs=100,\n",
    "    log_every_n_steps=4,\n",
    "    progress_bar_refresh_rate=50,  # weights_summary='full',\n",
    "    logger=pl.loggers.TensorBoardLogger(\n",
    "        save_dir='lightning_logs/',\n",
    "        default_hp_metric=False,\n",
    "    )\n",
    ")"
   ]
  },
  {
   "cell_type": "code",
   "execution_count": 30,
   "id": "traditional-border",
   "metadata": {},
   "outputs": [
    {
     "name": "stderr",
     "output_type": "stream",
     "text": [
      "LOCAL_RANK: 0 - CUDA_VISIBLE_DEVICES: [0,1,2,3]\n",
      "\n",
      "  | Name               | Type        | Params\n",
      "---------------------------------------------------\n",
      "0 | encoder_x2z        | Sequential  | 0     \n",
      "1 | ar_rnn_z2c         | RNN         | 1.1 K \n",
      "2 | lin_predictors_c2p | ModuleList  | 231   \n",
      "3 | reg_bn_z           | BatchNorm1d | 0     \n",
      "4 | reg_bn_c           | BatchNorm1d | 0     \n",
      "---------------------------------------------------\n",
      "1.4 K     Trainable params\n",
      "0         Non-trainable params\n",
      "1.4 K     Total params\n",
      "0.005     Total estimated model params size (MB)\n"
     ]
    },
    {
     "data": {
      "application/vnd.jupyter.widget-view+json": {
       "model_id": "",
       "version_major": 2,
       "version_minor": 0
      },
      "text/plain": [
       "Validation sanity check: 0it [00:00, ?it/s]"
      ]
     },
     "metadata": {},
     "output_type": "display_data"
    },
    {
     "name": "stderr",
     "output_type": "stream",
     "text": [
      "/mnt2/kireev/pipenv_envs/pytorch-lifestream-bcSZKFyz/lib/python3.8/site-packages/pytorch_lightning/utilities/distributed.py:69: UserWarning: The dataloader, val dataloader 0, does not have many workers which may be a bottleneck. Consider increasing the value of the `num_workers` argument` (try 24 which is the number of cpus on this machine) in the `DataLoader` init to improve performance.\n",
      "  warnings.warn(*args, **kwargs)\n"
     ]
    },
    {
     "data": {
      "application/vnd.jupyter.widget-view+json": {
       "model_id": "fd38acca90fe43a7a471a85047371781",
       "version_major": 2,
       "version_minor": 0
      },
      "text/plain": [
       "Training: 0it [00:00, ?it/s]"
      ]
     },
     "metadata": {},
     "output_type": "display_data"
    },
    {
     "data": {
      "application/vnd.jupyter.widget-view+json": {
       "model_id": "",
       "version_major": 2,
       "version_minor": 0
      },
      "text/plain": [
       "Validating: 0it [00:00, ?it/s]"
      ]
     },
     "metadata": {},
     "output_type": "display_data"
    },
    {
     "data": {
      "application/vnd.jupyter.widget-view+json": {
       "model_id": "",
       "version_major": 2,
       "version_minor": 0
      },
      "text/plain": [
       "Validating: 0it [00:00, ?it/s]"
      ]
     },
     "metadata": {},
     "output_type": "display_data"
    },
    {
     "data": {
      "application/vnd.jupyter.widget-view+json": {
       "model_id": "",
       "version_major": 2,
       "version_minor": 0
      },
      "text/plain": [
       "Validating: 0it [00:00, ?it/s]"
      ]
     },
     "metadata": {},
     "output_type": "display_data"
    },
    {
     "data": {
      "application/vnd.jupyter.widget-view+json": {
       "model_id": "",
       "version_major": 2,
       "version_minor": 0
      },
      "text/plain": [
       "Validating: 0it [00:00, ?it/s]"
      ]
     },
     "metadata": {},
     "output_type": "display_data"
    },
    {
     "data": {
      "application/vnd.jupyter.widget-view+json": {
       "model_id": "",
       "version_major": 2,
       "version_minor": 0
      },
      "text/plain": [
       "Validating: 0it [00:00, ?it/s]"
      ]
     },
     "metadata": {},
     "output_type": "display_data"
    },
    {
     "data": {
      "application/vnd.jupyter.widget-view+json": {
       "model_id": "",
       "version_major": 2,
       "version_minor": 0
      },
      "text/plain": [
       "Validating: 0it [00:00, ?it/s]"
      ]
     },
     "metadata": {},
     "output_type": "display_data"
    },
    {
     "data": {
      "application/vnd.jupyter.widget-view+json": {
       "model_id": "",
       "version_major": 2,
       "version_minor": 0
      },
      "text/plain": [
       "Validating: 0it [00:00, ?it/s]"
      ]
     },
     "metadata": {},
     "output_type": "display_data"
    },
    {
     "data": {
      "application/vnd.jupyter.widget-view+json": {
       "model_id": "",
       "version_major": 2,
       "version_minor": 0
      },
      "text/plain": [
       "Validating: 0it [00:00, ?it/s]"
      ]
     },
     "metadata": {},
     "output_type": "display_data"
    },
    {
     "data": {
      "application/vnd.jupyter.widget-view+json": {
       "model_id": "",
       "version_major": 2,
       "version_minor": 0
      },
      "text/plain": [
       "Validating: 0it [00:00, ?it/s]"
      ]
     },
     "metadata": {},
     "output_type": "display_data"
    },
    {
     "data": {
      "application/vnd.jupyter.widget-view+json": {
       "model_id": "",
       "version_major": 2,
       "version_minor": 0
      },
      "text/plain": [
       "Validating: 0it [00:00, ?it/s]"
      ]
     },
     "metadata": {},
     "output_type": "display_data"
    },
    {
     "data": {
      "application/vnd.jupyter.widget-view+json": {
       "model_id": "",
       "version_major": 2,
       "version_minor": 0
      },
      "text/plain": [
       "Validating: 0it [00:00, ?it/s]"
      ]
     },
     "metadata": {},
     "output_type": "display_data"
    },
    {
     "data": {
      "application/vnd.jupyter.widget-view+json": {
       "model_id": "",
       "version_major": 2,
       "version_minor": 0
      },
      "text/plain": [
       "Validating: 0it [00:00, ?it/s]"
      ]
     },
     "metadata": {},
     "output_type": "display_data"
    },
    {
     "data": {
      "application/vnd.jupyter.widget-view+json": {
       "model_id": "",
       "version_major": 2,
       "version_minor": 0
      },
      "text/plain": [
       "Validating: 0it [00:00, ?it/s]"
      ]
     },
     "metadata": {},
     "output_type": "display_data"
    },
    {
     "data": {
      "application/vnd.jupyter.widget-view+json": {
       "model_id": "",
       "version_major": 2,
       "version_minor": 0
      },
      "text/plain": [
       "Validating: 0it [00:00, ?it/s]"
      ]
     },
     "metadata": {},
     "output_type": "display_data"
    },
    {
     "data": {
      "application/vnd.jupyter.widget-view+json": {
       "model_id": "",
       "version_major": 2,
       "version_minor": 0
      },
      "text/plain": [
       "Validating: 0it [00:00, ?it/s]"
      ]
     },
     "metadata": {},
     "output_type": "display_data"
    },
    {
     "data": {
      "application/vnd.jupyter.widget-view+json": {
       "model_id": "",
       "version_major": 2,
       "version_minor": 0
      },
      "text/plain": [
       "Validating: 0it [00:00, ?it/s]"
      ]
     },
     "metadata": {},
     "output_type": "display_data"
    },
    {
     "data": {
      "application/vnd.jupyter.widget-view+json": {
       "model_id": "",
       "version_major": 2,
       "version_minor": 0
      },
      "text/plain": [
       "Validating: 0it [00:00, ?it/s]"
      ]
     },
     "metadata": {},
     "output_type": "display_data"
    },
    {
     "data": {
      "application/vnd.jupyter.widget-view+json": {
       "model_id": "",
       "version_major": 2,
       "version_minor": 0
      },
      "text/plain": [
       "Validating: 0it [00:00, ?it/s]"
      ]
     },
     "metadata": {},
     "output_type": "display_data"
    },
    {
     "data": {
      "application/vnd.jupyter.widget-view+json": {
       "model_id": "",
       "version_major": 2,
       "version_minor": 0
      },
      "text/plain": [
       "Validating: 0it [00:00, ?it/s]"
      ]
     },
     "metadata": {},
     "output_type": "display_data"
    },
    {
     "data": {
      "application/vnd.jupyter.widget-view+json": {
       "model_id": "",
       "version_major": 2,
       "version_minor": 0
      },
      "text/plain": [
       "Validating: 0it [00:00, ?it/s]"
      ]
     },
     "metadata": {},
     "output_type": "display_data"
    },
    {
     "data": {
      "application/vnd.jupyter.widget-view+json": {
       "model_id": "",
       "version_major": 2,
       "version_minor": 0
      },
      "text/plain": [
       "Validating: 0it [00:00, ?it/s]"
      ]
     },
     "metadata": {},
     "output_type": "display_data"
    },
    {
     "data": {
      "application/vnd.jupyter.widget-view+json": {
       "model_id": "",
       "version_major": 2,
       "version_minor": 0
      },
      "text/plain": [
       "Validating: 0it [00:00, ?it/s]"
      ]
     },
     "metadata": {},
     "output_type": "display_data"
    },
    {
     "data": {
      "application/vnd.jupyter.widget-view+json": {
       "model_id": "",
       "version_major": 2,
       "version_minor": 0
      },
      "text/plain": [
       "Validating: 0it [00:00, ?it/s]"
      ]
     },
     "metadata": {},
     "output_type": "display_data"
    },
    {
     "data": {
      "application/vnd.jupyter.widget-view+json": {
       "model_id": "",
       "version_major": 2,
       "version_minor": 0
      },
      "text/plain": [
       "Validating: 0it [00:00, ?it/s]"
      ]
     },
     "metadata": {},
     "output_type": "display_data"
    },
    {
     "data": {
      "application/vnd.jupyter.widget-view+json": {
       "model_id": "",
       "version_major": 2,
       "version_minor": 0
      },
      "text/plain": [
       "Validating: 0it [00:00, ?it/s]"
      ]
     },
     "metadata": {},
     "output_type": "display_data"
    },
    {
     "data": {
      "application/vnd.jupyter.widget-view+json": {
       "model_id": "",
       "version_major": 2,
       "version_minor": 0
      },
      "text/plain": [
       "Validating: 0it [00:00, ?it/s]"
      ]
     },
     "metadata": {},
     "output_type": "display_data"
    },
    {
     "data": {
      "application/vnd.jupyter.widget-view+json": {
       "model_id": "",
       "version_major": 2,
       "version_minor": 0
      },
      "text/plain": [
       "Validating: 0it [00:00, ?it/s]"
      ]
     },
     "metadata": {},
     "output_type": "display_data"
    },
    {
     "data": {
      "application/vnd.jupyter.widget-view+json": {
       "model_id": "",
       "version_major": 2,
       "version_minor": 0
      },
      "text/plain": [
       "Validating: 0it [00:00, ?it/s]"
      ]
     },
     "metadata": {},
     "output_type": "display_data"
    },
    {
     "data": {
      "application/vnd.jupyter.widget-view+json": {
       "model_id": "",
       "version_major": 2,
       "version_minor": 0
      },
      "text/plain": [
       "Validating: 0it [00:00, ?it/s]"
      ]
     },
     "metadata": {},
     "output_type": "display_data"
    },
    {
     "data": {
      "application/vnd.jupyter.widget-view+json": {
       "model_id": "",
       "version_major": 2,
       "version_minor": 0
      },
      "text/plain": [
       "Validating: 0it [00:00, ?it/s]"
      ]
     },
     "metadata": {},
     "output_type": "display_data"
    },
    {
     "data": {
      "application/vnd.jupyter.widget-view+json": {
       "model_id": "",
       "version_major": 2,
       "version_minor": 0
      },
      "text/plain": [
       "Validating: 0it [00:00, ?it/s]"
      ]
     },
     "metadata": {},
     "output_type": "display_data"
    },
    {
     "data": {
      "application/vnd.jupyter.widget-view+json": {
       "model_id": "",
       "version_major": 2,
       "version_minor": 0
      },
      "text/plain": [
       "Validating: 0it [00:00, ?it/s]"
      ]
     },
     "metadata": {},
     "output_type": "display_data"
    },
    {
     "data": {
      "application/vnd.jupyter.widget-view+json": {
       "model_id": "",
       "version_major": 2,
       "version_minor": 0
      },
      "text/plain": [
       "Validating: 0it [00:00, ?it/s]"
      ]
     },
     "metadata": {},
     "output_type": "display_data"
    },
    {
     "data": {
      "application/vnd.jupyter.widget-view+json": {
       "model_id": "",
       "version_major": 2,
       "version_minor": 0
      },
      "text/plain": [
       "Validating: 0it [00:00, ?it/s]"
      ]
     },
     "metadata": {},
     "output_type": "display_data"
    },
    {
     "data": {
      "application/vnd.jupyter.widget-view+json": {
       "model_id": "",
       "version_major": 2,
       "version_minor": 0
      },
      "text/plain": [
       "Validating: 0it [00:00, ?it/s]"
      ]
     },
     "metadata": {},
     "output_type": "display_data"
    },
    {
     "data": {
      "application/vnd.jupyter.widget-view+json": {
       "model_id": "",
       "version_major": 2,
       "version_minor": 0
      },
      "text/plain": [
       "Validating: 0it [00:00, ?it/s]"
      ]
     },
     "metadata": {},
     "output_type": "display_data"
    },
    {
     "data": {
      "application/vnd.jupyter.widget-view+json": {
       "model_id": "",
       "version_major": 2,
       "version_minor": 0
      },
      "text/plain": [
       "Validating: 0it [00:00, ?it/s]"
      ]
     },
     "metadata": {},
     "output_type": "display_data"
    },
    {
     "data": {
      "application/vnd.jupyter.widget-view+json": {
       "model_id": "",
       "version_major": 2,
       "version_minor": 0
      },
      "text/plain": [
       "Validating: 0it [00:00, ?it/s]"
      ]
     },
     "metadata": {},
     "output_type": "display_data"
    },
    {
     "data": {
      "application/vnd.jupyter.widget-view+json": {
       "model_id": "",
       "version_major": 2,
       "version_minor": 0
      },
      "text/plain": [
       "Validating: 0it [00:00, ?it/s]"
      ]
     },
     "metadata": {},
     "output_type": "display_data"
    },
    {
     "data": {
      "application/vnd.jupyter.widget-view+json": {
       "model_id": "",
       "version_major": 2,
       "version_minor": 0
      },
      "text/plain": [
       "Validating: 0it [00:00, ?it/s]"
      ]
     },
     "metadata": {},
     "output_type": "display_data"
    },
    {
     "data": {
      "application/vnd.jupyter.widget-view+json": {
       "model_id": "",
       "version_major": 2,
       "version_minor": 0
      },
      "text/plain": [
       "Validating: 0it [00:00, ?it/s]"
      ]
     },
     "metadata": {},
     "output_type": "display_data"
    },
    {
     "data": {
      "application/vnd.jupyter.widget-view+json": {
       "model_id": "",
       "version_major": 2,
       "version_minor": 0
      },
      "text/plain": [
       "Validating: 0it [00:00, ?it/s]"
      ]
     },
     "metadata": {},
     "output_type": "display_data"
    },
    {
     "data": {
      "application/vnd.jupyter.widget-view+json": {
       "model_id": "",
       "version_major": 2,
       "version_minor": 0
      },
      "text/plain": [
       "Validating: 0it [00:00, ?it/s]"
      ]
     },
     "metadata": {},
     "output_type": "display_data"
    },
    {
     "data": {
      "application/vnd.jupyter.widget-view+json": {
       "model_id": "",
       "version_major": 2,
       "version_minor": 0
      },
      "text/plain": [
       "Validating: 0it [00:00, ?it/s]"
      ]
     },
     "metadata": {},
     "output_type": "display_data"
    },
    {
     "data": {
      "application/vnd.jupyter.widget-view+json": {
       "model_id": "",
       "version_major": 2,
       "version_minor": 0
      },
      "text/plain": [
       "Validating: 0it [00:00, ?it/s]"
      ]
     },
     "metadata": {},
     "output_type": "display_data"
    },
    {
     "data": {
      "application/vnd.jupyter.widget-view+json": {
       "model_id": "",
       "version_major": 2,
       "version_minor": 0
      },
      "text/plain": [
       "Validating: 0it [00:00, ?it/s]"
      ]
     },
     "metadata": {},
     "output_type": "display_data"
    },
    {
     "data": {
      "application/vnd.jupyter.widget-view+json": {
       "model_id": "",
       "version_major": 2,
       "version_minor": 0
      },
      "text/plain": [
       "Validating: 0it [00:00, ?it/s]"
      ]
     },
     "metadata": {},
     "output_type": "display_data"
    },
    {
     "data": {
      "application/vnd.jupyter.widget-view+json": {
       "model_id": "",
       "version_major": 2,
       "version_minor": 0
      },
      "text/plain": [
       "Validating: 0it [00:00, ?it/s]"
      ]
     },
     "metadata": {},
     "output_type": "display_data"
    },
    {
     "data": {
      "application/vnd.jupyter.widget-view+json": {
       "model_id": "",
       "version_major": 2,
       "version_minor": 0
      },
      "text/plain": [
       "Validating: 0it [00:00, ?it/s]"
      ]
     },
     "metadata": {},
     "output_type": "display_data"
    },
    {
     "data": {
      "application/vnd.jupyter.widget-view+json": {
       "model_id": "",
       "version_major": 2,
       "version_minor": 0
      },
      "text/plain": [
       "Validating: 0it [00:00, ?it/s]"
      ]
     },
     "metadata": {},
     "output_type": "display_data"
    },
    {
     "data": {
      "application/vnd.jupyter.widget-view+json": {
       "model_id": "",
       "version_major": 2,
       "version_minor": 0
      },
      "text/plain": [
       "Validating: 0it [00:00, ?it/s]"
      ]
     },
     "metadata": {},
     "output_type": "display_data"
    },
    {
     "data": {
      "application/vnd.jupyter.widget-view+json": {
       "model_id": "",
       "version_major": 2,
       "version_minor": 0
      },
      "text/plain": [
       "Validating: 0it [00:00, ?it/s]"
      ]
     },
     "metadata": {},
     "output_type": "display_data"
    },
    {
     "data": {
      "application/vnd.jupyter.widget-view+json": {
       "model_id": "",
       "version_major": 2,
       "version_minor": 0
      },
      "text/plain": [
       "Validating: 0it [00:00, ?it/s]"
      ]
     },
     "metadata": {},
     "output_type": "display_data"
    },
    {
     "data": {
      "application/vnd.jupyter.widget-view+json": {
       "model_id": "",
       "version_major": 2,
       "version_minor": 0
      },
      "text/plain": [
       "Validating: 0it [00:00, ?it/s]"
      ]
     },
     "metadata": {},
     "output_type": "display_data"
    },
    {
     "data": {
      "application/vnd.jupyter.widget-view+json": {
       "model_id": "",
       "version_major": 2,
       "version_minor": 0
      },
      "text/plain": [
       "Validating: 0it [00:00, ?it/s]"
      ]
     },
     "metadata": {},
     "output_type": "display_data"
    },
    {
     "data": {
      "application/vnd.jupyter.widget-view+json": {
       "model_id": "",
       "version_major": 2,
       "version_minor": 0
      },
      "text/plain": [
       "Validating: 0it [00:00, ?it/s]"
      ]
     },
     "metadata": {},
     "output_type": "display_data"
    },
    {
     "data": {
      "application/vnd.jupyter.widget-view+json": {
       "model_id": "",
       "version_major": 2,
       "version_minor": 0
      },
      "text/plain": [
       "Validating: 0it [00:00, ?it/s]"
      ]
     },
     "metadata": {},
     "output_type": "display_data"
    },
    {
     "data": {
      "application/vnd.jupyter.widget-view+json": {
       "model_id": "",
       "version_major": 2,
       "version_minor": 0
      },
      "text/plain": [
       "Validating: 0it [00:00, ?it/s]"
      ]
     },
     "metadata": {},
     "output_type": "display_data"
    },
    {
     "data": {
      "application/vnd.jupyter.widget-view+json": {
       "model_id": "",
       "version_major": 2,
       "version_minor": 0
      },
      "text/plain": [
       "Validating: 0it [00:00, ?it/s]"
      ]
     },
     "metadata": {},
     "output_type": "display_data"
    },
    {
     "data": {
      "application/vnd.jupyter.widget-view+json": {
       "model_id": "",
       "version_major": 2,
       "version_minor": 0
      },
      "text/plain": [
       "Validating: 0it [00:00, ?it/s]"
      ]
     },
     "metadata": {},
     "output_type": "display_data"
    },
    {
     "data": {
      "application/vnd.jupyter.widget-view+json": {
       "model_id": "",
       "version_major": 2,
       "version_minor": 0
      },
      "text/plain": [
       "Validating: 0it [00:00, ?it/s]"
      ]
     },
     "metadata": {},
     "output_type": "display_data"
    },
    {
     "data": {
      "application/vnd.jupyter.widget-view+json": {
       "model_id": "",
       "version_major": 2,
       "version_minor": 0
      },
      "text/plain": [
       "Validating: 0it [00:00, ?it/s]"
      ]
     },
     "metadata": {},
     "output_type": "display_data"
    },
    {
     "data": {
      "application/vnd.jupyter.widget-view+json": {
       "model_id": "",
       "version_major": 2,
       "version_minor": 0
      },
      "text/plain": [
       "Validating: 0it [00:00, ?it/s]"
      ]
     },
     "metadata": {},
     "output_type": "display_data"
    },
    {
     "data": {
      "application/vnd.jupyter.widget-view+json": {
       "model_id": "",
       "version_major": 2,
       "version_minor": 0
      },
      "text/plain": [
       "Validating: 0it [00:00, ?it/s]"
      ]
     },
     "metadata": {},
     "output_type": "display_data"
    },
    {
     "data": {
      "application/vnd.jupyter.widget-view+json": {
       "model_id": "",
       "version_major": 2,
       "version_minor": 0
      },
      "text/plain": [
       "Validating: 0it [00:00, ?it/s]"
      ]
     },
     "metadata": {},
     "output_type": "display_data"
    },
    {
     "data": {
      "application/vnd.jupyter.widget-view+json": {
       "model_id": "",
       "version_major": 2,
       "version_minor": 0
      },
      "text/plain": [
       "Validating: 0it [00:00, ?it/s]"
      ]
     },
     "metadata": {},
     "output_type": "display_data"
    },
    {
     "data": {
      "application/vnd.jupyter.widget-view+json": {
       "model_id": "",
       "version_major": 2,
       "version_minor": 0
      },
      "text/plain": [
       "Validating: 0it [00:00, ?it/s]"
      ]
     },
     "metadata": {},
     "output_type": "display_data"
    },
    {
     "data": {
      "application/vnd.jupyter.widget-view+json": {
       "model_id": "",
       "version_major": 2,
       "version_minor": 0
      },
      "text/plain": [
       "Validating: 0it [00:00, ?it/s]"
      ]
     },
     "metadata": {},
     "output_type": "display_data"
    },
    {
     "data": {
      "application/vnd.jupyter.widget-view+json": {
       "model_id": "",
       "version_major": 2,
       "version_minor": 0
      },
      "text/plain": [
       "Validating: 0it [00:00, ?it/s]"
      ]
     },
     "metadata": {},
     "output_type": "display_data"
    },
    {
     "data": {
      "application/vnd.jupyter.widget-view+json": {
       "model_id": "",
       "version_major": 2,
       "version_minor": 0
      },
      "text/plain": [
       "Validating: 0it [00:00, ?it/s]"
      ]
     },
     "metadata": {},
     "output_type": "display_data"
    },
    {
     "data": {
      "application/vnd.jupyter.widget-view+json": {
       "model_id": "",
       "version_major": 2,
       "version_minor": 0
      },
      "text/plain": [
       "Validating: 0it [00:00, ?it/s]"
      ]
     },
     "metadata": {},
     "output_type": "display_data"
    },
    {
     "data": {
      "application/vnd.jupyter.widget-view+json": {
       "model_id": "",
       "version_major": 2,
       "version_minor": 0
      },
      "text/plain": [
       "Validating: 0it [00:00, ?it/s]"
      ]
     },
     "metadata": {},
     "output_type": "display_data"
    },
    {
     "data": {
      "application/vnd.jupyter.widget-view+json": {
       "model_id": "",
       "version_major": 2,
       "version_minor": 0
      },
      "text/plain": [
       "Validating: 0it [00:00, ?it/s]"
      ]
     },
     "metadata": {},
     "output_type": "display_data"
    },
    {
     "data": {
      "application/vnd.jupyter.widget-view+json": {
       "model_id": "",
       "version_major": 2,
       "version_minor": 0
      },
      "text/plain": [
       "Validating: 0it [00:00, ?it/s]"
      ]
     },
     "metadata": {},
     "output_type": "display_data"
    },
    {
     "data": {
      "application/vnd.jupyter.widget-view+json": {
       "model_id": "",
       "version_major": 2,
       "version_minor": 0
      },
      "text/plain": [
       "Validating: 0it [00:00, ?it/s]"
      ]
     },
     "metadata": {},
     "output_type": "display_data"
    },
    {
     "data": {
      "application/vnd.jupyter.widget-view+json": {
       "model_id": "",
       "version_major": 2,
       "version_minor": 0
      },
      "text/plain": [
       "Validating: 0it [00:00, ?it/s]"
      ]
     },
     "metadata": {},
     "output_type": "display_data"
    },
    {
     "data": {
      "application/vnd.jupyter.widget-view+json": {
       "model_id": "",
       "version_major": 2,
       "version_minor": 0
      },
      "text/plain": [
       "Validating: 0it [00:00, ?it/s]"
      ]
     },
     "metadata": {},
     "output_type": "display_data"
    },
    {
     "data": {
      "application/vnd.jupyter.widget-view+json": {
       "model_id": "",
       "version_major": 2,
       "version_minor": 0
      },
      "text/plain": [
       "Validating: 0it [00:00, ?it/s]"
      ]
     },
     "metadata": {},
     "output_type": "display_data"
    },
    {
     "data": {
      "application/vnd.jupyter.widget-view+json": {
       "model_id": "",
       "version_major": 2,
       "version_minor": 0
      },
      "text/plain": [
       "Validating: 0it [00:00, ?it/s]"
      ]
     },
     "metadata": {},
     "output_type": "display_data"
    },
    {
     "data": {
      "application/vnd.jupyter.widget-view+json": {
       "model_id": "",
       "version_major": 2,
       "version_minor": 0
      },
      "text/plain": [
       "Validating: 0it [00:00, ?it/s]"
      ]
     },
     "metadata": {},
     "output_type": "display_data"
    },
    {
     "data": {
      "application/vnd.jupyter.widget-view+json": {
       "model_id": "",
       "version_major": 2,
       "version_minor": 0
      },
      "text/plain": [
       "Validating: 0it [00:00, ?it/s]"
      ]
     },
     "metadata": {},
     "output_type": "display_data"
    },
    {
     "data": {
      "application/vnd.jupyter.widget-view+json": {
       "model_id": "",
       "version_major": 2,
       "version_minor": 0
      },
      "text/plain": [
       "Validating: 0it [00:00, ?it/s]"
      ]
     },
     "metadata": {},
     "output_type": "display_data"
    },
    {
     "data": {
      "application/vnd.jupyter.widget-view+json": {
       "model_id": "",
       "version_major": 2,
       "version_minor": 0
      },
      "text/plain": [
       "Validating: 0it [00:00, ?it/s]"
      ]
     },
     "metadata": {},
     "output_type": "display_data"
    },
    {
     "data": {
      "application/vnd.jupyter.widget-view+json": {
       "model_id": "",
       "version_major": 2,
       "version_minor": 0
      },
      "text/plain": [
       "Validating: 0it [00:00, ?it/s]"
      ]
     },
     "metadata": {},
     "output_type": "display_data"
    },
    {
     "data": {
      "application/vnd.jupyter.widget-view+json": {
       "model_id": "",
       "version_major": 2,
       "version_minor": 0
      },
      "text/plain": [
       "Validating: 0it [00:00, ?it/s]"
      ]
     },
     "metadata": {},
     "output_type": "display_data"
    },
    {
     "data": {
      "application/vnd.jupyter.widget-view+json": {
       "model_id": "",
       "version_major": 2,
       "version_minor": 0
      },
      "text/plain": [
       "Validating: 0it [00:00, ?it/s]"
      ]
     },
     "metadata": {},
     "output_type": "display_data"
    },
    {
     "data": {
      "application/vnd.jupyter.widget-view+json": {
       "model_id": "",
       "version_major": 2,
       "version_minor": 0
      },
      "text/plain": [
       "Validating: 0it [00:00, ?it/s]"
      ]
     },
     "metadata": {},
     "output_type": "display_data"
    },
    {
     "data": {
      "application/vnd.jupyter.widget-view+json": {
       "model_id": "",
       "version_major": 2,
       "version_minor": 0
      },
      "text/plain": [
       "Validating: 0it [00:00, ?it/s]"
      ]
     },
     "metadata": {},
     "output_type": "display_data"
    },
    {
     "data": {
      "application/vnd.jupyter.widget-view+json": {
       "model_id": "",
       "version_major": 2,
       "version_minor": 0
      },
      "text/plain": [
       "Validating: 0it [00:00, ?it/s]"
      ]
     },
     "metadata": {},
     "output_type": "display_data"
    },
    {
     "data": {
      "application/vnd.jupyter.widget-view+json": {
       "model_id": "",
       "version_major": 2,
       "version_minor": 0
      },
      "text/plain": [
       "Validating: 0it [00:00, ?it/s]"
      ]
     },
     "metadata": {},
     "output_type": "display_data"
    },
    {
     "data": {
      "application/vnd.jupyter.widget-view+json": {
       "model_id": "",
       "version_major": 2,
       "version_minor": 0
      },
      "text/plain": [
       "Validating: 0it [00:00, ?it/s]"
      ]
     },
     "metadata": {},
     "output_type": "display_data"
    },
    {
     "data": {
      "application/vnd.jupyter.widget-view+json": {
       "model_id": "",
       "version_major": 2,
       "version_minor": 0
      },
      "text/plain": [
       "Validating: 0it [00:00, ?it/s]"
      ]
     },
     "metadata": {},
     "output_type": "display_data"
    },
    {
     "data": {
      "application/vnd.jupyter.widget-view+json": {
       "model_id": "",
       "version_major": 2,
       "version_minor": 0
      },
      "text/plain": [
       "Validating: 0it [00:00, ?it/s]"
      ]
     },
     "metadata": {},
     "output_type": "display_data"
    },
    {
     "data": {
      "application/vnd.jupyter.widget-view+json": {
       "model_id": "",
       "version_major": 2,
       "version_minor": 0
      },
      "text/plain": [
       "Validating: 0it [00:00, ?it/s]"
      ]
     },
     "metadata": {},
     "output_type": "display_data"
    },
    {
     "data": {
      "application/vnd.jupyter.widget-view+json": {
       "model_id": "",
       "version_major": 2,
       "version_minor": 0
      },
      "text/plain": [
       "Validating: 0it [00:00, ?it/s]"
      ]
     },
     "metadata": {},
     "output_type": "display_data"
    },
    {
     "data": {
      "application/vnd.jupyter.widget-view+json": {
       "model_id": "",
       "version_major": 2,
       "version_minor": 0
      },
      "text/plain": [
       "Validating: 0it [00:00, ?it/s]"
      ]
     },
     "metadata": {},
     "output_type": "display_data"
    },
    {
     "data": {
      "application/vnd.jupyter.widget-view+json": {
       "model_id": "",
       "version_major": 2,
       "version_minor": 0
      },
      "text/plain": [
       "Validating: 0it [00:00, ?it/s]"
      ]
     },
     "metadata": {},
     "output_type": "display_data"
    },
    {
     "data": {
      "application/vnd.jupyter.widget-view+json": {
       "model_id": "",
       "version_major": 2,
       "version_minor": 0
      },
      "text/plain": [
       "Validating: 0it [00:00, ?it/s]"
      ]
     },
     "metadata": {},
     "output_type": "display_data"
    },
    {
     "data": {
      "application/vnd.jupyter.widget-view+json": {
       "model_id": "",
       "version_major": 2,
       "version_minor": 0
      },
      "text/plain": [
       "Validating: 0it [00:00, ?it/s]"
      ]
     },
     "metadata": {},
     "output_type": "display_data"
    },
    {
     "data": {
      "application/vnd.jupyter.widget-view+json": {
       "model_id": "",
       "version_major": 2,
       "version_minor": 0
      },
      "text/plain": [
       "Validating: 0it [00:00, ?it/s]"
      ]
     },
     "metadata": {},
     "output_type": "display_data"
    }
   ],
   "source": [
    "trainer.fit(stream_encoder, train_dataloader=dl_train, val_dataloaders=dl_valid)"
   ]
  },
  {
   "cell_type": "code",
   "execution_count": null,
   "id": "contained-white",
   "metadata": {},
   "outputs": [],
   "source": []
  },
  {
   "cell_type": "code",
   "execution_count": 31,
   "id": "hungry-debate",
   "metadata": {},
   "outputs": [],
   "source": [
    "stream_encoder.eval()\n",
    "with torch.no_grad():\n",
    "    z, c = stream_encoder(torch.from_numpy(df_single_feature.values.reshape(-1, 1)).unsqueeze(0).float())\n",
    "    p = [m(c) for m in stream_encoder.lin_predictors_c2p]"
   ]
  },
  {
   "cell_type": "code",
   "execution_count": 32,
   "id": "entitled-penguin",
   "metadata": {},
   "outputs": [],
   "source": [
    "def torch_r2(y, p):\n",
    "    return torch.where(\n",
    "        y.var() * y.size(0) > 1e-6,\n",
    "        1 - (y - p).pow(2).sum() / y.var() / y.size(0),\n",
    "        torch.where(\n",
    "            (y - p).pow(2).sum() > y.var() * y.size(0),\n",
    "            torch.tensor([-1.0]),\n",
    "            torch.tensor([0.0]),\n",
    "        )\n",
    "    )"
   ]
  },
  {
   "cell_type": "code",
   "execution_count": 33,
   "id": "annual-broadcasting",
   "metadata": {},
   "outputs": [
    {
     "data": {
      "image/png": "[encoded data removed]",
      "text/plain": [
       "<Figure size 2304x216 with 1 Axes>"
      ]
     },
     "metadata": {
      "needs_background": "light"
     },
     "output_type": "display_data"
    }
   ],
   "source": [
    "_, axs = plt.subplots(z.size(2), 1, figsize=(32, 3 * z.size(2)))\n",
    "if z.size(2) == 1:\n",
    "    axs = [axs]\n",
    "for i, ax in zip(range(z.size(2)), axs):\n",
    "    _z = z[0, len(p):, i]\n",
    "    ax.plot(_z.numpy(), label='z')\n",
    "    \n",
    "    for j in range(len(p)):\n",
    "        _p = p[j][0, len(p) - (j + 1):-(j + 1), i]\n",
    "        r2_score = torch_r2(_z, _p)\n",
    "        r2_train = torch_r2(_z[150 - len(p):], _p[150 - len(p):])\n",
    "        r2_valid = torch_r2(_z[:150 - len(p)], _p[:150 - len(p)])\n",
    "        ax.plot(_p.numpy(), label=', '.join([\n",
    "            f'p[{j + 1}]',\n",
    "            f'r2={r2_score.item():.2f}',\n",
    "            f't={r2_train.item():.2f}',\n",
    "            f'v={r2_valid.item():.2f}',\n",
    "        ]))\n",
    "    \n",
    "    ax.set_title(f'{i}th compoment')\n",
    "    ax.axvline(150 - len(p), color='red')\n",
    "plt.legend()\n",
    "plt.show()"
   ]
  },
  {
   "cell_type": "code",
   "execution_count": null,
   "id": "third-cologne",
   "metadata": {},
   "outputs": [],
   "source": []
  },
  {
   "cell_type": "code",
   "execution_count": null,
   "id": "colored-sudan",
   "metadata": {},
   "outputs": [],
   "source": []
  },
  {
   "cell_type": "code",
   "execution_count": null,
   "id": "reliable-concert",
   "metadata": {},
   "outputs": [],
   "source": []
  },
  {
   "cell_type": "markdown",
   "id": "proud-empty",
   "metadata": {},
   "source": [
    "# Stream Encoder"
   ]
  },
  {
   "cell_type": "code",
   "execution_count": 25,
   "id": "exempt-premises",
   "metadata": {},
   "outputs": [],
   "source": [
    "df_se_train = df_features.iloc[7:].loc[:450]"
   ]
  },
  {
   "cell_type": "code",
   "execution_count": 26,
   "id": "reliable-extraction",
   "metadata": {},
   "outputs": [
    {
     "data": {
      "text/html": [
       "<div>\n",
       "<style scoped>\n",
       "    .dataframe tbody tr th:only-of-type {\n",
       "        vertical-align: middle;\n",
       "    }\n",
       "\n",
       "    .dataframe tbody tr th {\n",
       "        vertical-align: top;\n",
       "    }\n",
       "\n",
       "    .dataframe thead tr th {\n",
       "        text-align: left;\n",
       "    }\n",
       "\n",
       "    .dataframe thead tr:last-of-type th {\n",
       "        text-align: right;\n",
       "    }\n",
       "</style>\n",
       "<table border=\"1\" class=\"dataframe\">\n",
       "  <thead>\n",
       "    <tr>\n",
       "      <th></th>\n",
       "      <th colspan=\"10\" halign=\"left\">len</th>\n",
       "      <th>...</th>\n",
       "      <th colspan=\"10\" halign=\"left\">std</th>\n",
       "    </tr>\n",
       "    <tr>\n",
       "      <th>small_group</th>\n",
       "      <th>0</th>\n",
       "      <th>1</th>\n",
       "      <th>2</th>\n",
       "      <th>3</th>\n",
       "      <th>4</th>\n",
       "      <th>5</th>\n",
       "      <th>6</th>\n",
       "      <th>7</th>\n",
       "      <th>8</th>\n",
       "      <th>9</th>\n",
       "      <th>...</th>\n",
       "      <th>76</th>\n",
       "      <th>77</th>\n",
       "      <th>78</th>\n",
       "      <th>80</th>\n",
       "      <th>82</th>\n",
       "      <th>83</th>\n",
       "      <th>91</th>\n",
       "      <th>106</th>\n",
       "      <th>109</th>\n",
       "      <th>115</th>\n",
       "    </tr>\n",
       "    <tr>\n",
       "      <th>trans_date</th>\n",
       "      <th></th>\n",
       "      <th></th>\n",
       "      <th></th>\n",
       "      <th></th>\n",
       "      <th></th>\n",
       "      <th></th>\n",
       "      <th></th>\n",
       "      <th></th>\n",
       "      <th></th>\n",
       "      <th></th>\n",
       "      <th></th>\n",
       "      <th></th>\n",
       "      <th></th>\n",
       "      <th></th>\n",
       "      <th></th>\n",
       "      <th></th>\n",
       "      <th></th>\n",
       "      <th></th>\n",
       "      <th></th>\n",
       "      <th></th>\n",
       "      <th></th>\n",
       "    </tr>\n",
       "  </thead>\n",
       "  <tbody>\n",
       "    <tr>\n",
       "      <th>7</th>\n",
       "      <td>3.457</td>\n",
       "      <td>5.542</td>\n",
       "      <td>4.934</td>\n",
       "      <td>7.923</td>\n",
       "      <td>3.989</td>\n",
       "      <td>2.707</td>\n",
       "      <td>3.236</td>\n",
       "      <td>0.641</td>\n",
       "      <td>2.217</td>\n",
       "      <td>5.546</td>\n",
       "      <td>...</td>\n",
       "      <td>0.527</td>\n",
       "      <td>0.584</td>\n",
       "      <td>0.637</td>\n",
       "      <td>0.266</td>\n",
       "      <td>0.695</td>\n",
       "      <td>1.115</td>\n",
       "      <td>0.272</td>\n",
       "      <td>0.384</td>\n",
       "      <td>0.130</td>\n",
       "      <td>1.232</td>\n",
       "    </tr>\n",
       "    <tr>\n",
       "      <th>8</th>\n",
       "      <td>3.530</td>\n",
       "      <td>6.353</td>\n",
       "      <td>3.868</td>\n",
       "      <td>9.519</td>\n",
       "      <td>5.581</td>\n",
       "      <td>3.901</td>\n",
       "      <td>2.265</td>\n",
       "      <td>1.988</td>\n",
       "      <td>1.328</td>\n",
       "      <td>5.573</td>\n",
       "      <td>...</td>\n",
       "      <td>7.820</td>\n",
       "      <td>0.541</td>\n",
       "      <td>2.530</td>\n",
       "      <td>0.245</td>\n",
       "      <td>0.664</td>\n",
       "      <td>1.235</td>\n",
       "      <td>0.469</td>\n",
       "      <td>2.077</td>\n",
       "      <td>0.484</td>\n",
       "      <td>0.806</td>\n",
       "    </tr>\n",
       "    <tr>\n",
       "      <th>9</th>\n",
       "      <td>4.227</td>\n",
       "      <td>6.620</td>\n",
       "      <td>3.901</td>\n",
       "      <td>9.052</td>\n",
       "      <td>5.655</td>\n",
       "      <td>4.600</td>\n",
       "      <td>2.103</td>\n",
       "      <td>1.860</td>\n",
       "      <td>1.462</td>\n",
       "      <td>5.635</td>\n",
       "      <td>...</td>\n",
       "      <td>0.290</td>\n",
       "      <td>0.599</td>\n",
       "      <td>1.624</td>\n",
       "      <td>0.408</td>\n",
       "      <td>0.419</td>\n",
       "      <td>0.573</td>\n",
       "      <td>0.520</td>\n",
       "      <td>0.612</td>\n",
       "      <td>0.599</td>\n",
       "      <td>0.907</td>\n",
       "    </tr>\n",
       "    <tr>\n",
       "      <th>10</th>\n",
       "      <td>3.806</td>\n",
       "      <td>6.733</td>\n",
       "      <td>4.027</td>\n",
       "      <td>8.958</td>\n",
       "      <td>5.562</td>\n",
       "      <td>4.774</td>\n",
       "      <td>1.780</td>\n",
       "      <td>2.501</td>\n",
       "      <td>1.778</td>\n",
       "      <td>6.164</td>\n",
       "      <td>...</td>\n",
       "      <td>0.631</td>\n",
       "      <td>0.754</td>\n",
       "      <td>1.020</td>\n",
       "      <td>0.511</td>\n",
       "      <td>0.722</td>\n",
       "      <td>1.145</td>\n",
       "      <td>0.909</td>\n",
       "      <td>1.471</td>\n",
       "      <td>0.408</td>\n",
       "      <td>0.036</td>\n",
       "    </tr>\n",
       "    <tr>\n",
       "      <th>11</th>\n",
       "      <td>3.167</td>\n",
       "      <td>6.926</td>\n",
       "      <td>4.156</td>\n",
       "      <td>8.877</td>\n",
       "      <td>5.335</td>\n",
       "      <td>5.007</td>\n",
       "      <td>1.780</td>\n",
       "      <td>1.796</td>\n",
       "      <td>1.522</td>\n",
       "      <td>6.169</td>\n",
       "      <td>...</td>\n",
       "      <td>0.262</td>\n",
       "      <td>3.910</td>\n",
       "      <td>1.862</td>\n",
       "      <td>0.148</td>\n",
       "      <td>0.832</td>\n",
       "      <td>0.678</td>\n",
       "      <td>0.367</td>\n",
       "      <td>2.570</td>\n",
       "      <td>0.301</td>\n",
       "      <td>0.165</td>\n",
       "    </tr>\n",
       "    <tr>\n",
       "      <th>...</th>\n",
       "      <td>...</td>\n",
       "      <td>...</td>\n",
       "      <td>...</td>\n",
       "      <td>...</td>\n",
       "      <td>...</td>\n",
       "      <td>...</td>\n",
       "      <td>...</td>\n",
       "      <td>...</td>\n",
       "      <td>...</td>\n",
       "      <td>...</td>\n",
       "      <td>...</td>\n",
       "      <td>...</td>\n",
       "      <td>...</td>\n",
       "      <td>...</td>\n",
       "      <td>...</td>\n",
       "      <td>...</td>\n",
       "      <td>...</td>\n",
       "      <td>...</td>\n",
       "      <td>...</td>\n",
       "      <td>...</td>\n",
       "      <td>...</td>\n",
       "    </tr>\n",
       "    <tr>\n",
       "      <th>446</th>\n",
       "      <td>5.825</td>\n",
       "      <td>10.519</td>\n",
       "      <td>6.522</td>\n",
       "      <td>10.171</td>\n",
       "      <td>8.253</td>\n",
       "      <td>5.182</td>\n",
       "      <td>2.346</td>\n",
       "      <td>3.656</td>\n",
       "      <td>2.399</td>\n",
       "      <td>6.822</td>\n",
       "      <td>...</td>\n",
       "      <td>0.820</td>\n",
       "      <td>0.600</td>\n",
       "      <td>1.471</td>\n",
       "      <td>0.224</td>\n",
       "      <td>0.177</td>\n",
       "      <td>1.239</td>\n",
       "      <td>0.545</td>\n",
       "      <td>0.458</td>\n",
       "      <td>0.733</td>\n",
       "      <td>0.087</td>\n",
       "    </tr>\n",
       "    <tr>\n",
       "      <th>447</th>\n",
       "      <td>7.742</td>\n",
       "      <td>9.985</td>\n",
       "      <td>6.708</td>\n",
       "      <td>8.684</td>\n",
       "      <td>7.403</td>\n",
       "      <td>4.687</td>\n",
       "      <td>2.912</td>\n",
       "      <td>3.592</td>\n",
       "      <td>3.934</td>\n",
       "      <td>7.413</td>\n",
       "      <td>...</td>\n",
       "      <td>1.438</td>\n",
       "      <td>0.795</td>\n",
       "      <td>1.921</td>\n",
       "      <td>0.396</td>\n",
       "      <td>0.199</td>\n",
       "      <td>0.529</td>\n",
       "      <td>0.511</td>\n",
       "      <td>0.568</td>\n",
       "      <td>2.357</td>\n",
       "      <td>0.161</td>\n",
       "    </tr>\n",
       "    <tr>\n",
       "      <th>448</th>\n",
       "      <td>6.769</td>\n",
       "      <td>9.228</td>\n",
       "      <td>6.315</td>\n",
       "      <td>8.238</td>\n",
       "      <td>6.783</td>\n",
       "      <td>4.745</td>\n",
       "      <td>2.670</td>\n",
       "      <td>2.245</td>\n",
       "      <td>3.800</td>\n",
       "      <td>6.513</td>\n",
       "      <td>...</td>\n",
       "      <td>0.441</td>\n",
       "      <td>0.747</td>\n",
       "      <td>0.963</td>\n",
       "      <td>0.147</td>\n",
       "      <td>0.175</td>\n",
       "      <td>2.413</td>\n",
       "      <td>1.912</td>\n",
       "      <td>0.786</td>\n",
       "      <td>0.925</td>\n",
       "      <td>1.406</td>\n",
       "    </tr>\n",
       "    <tr>\n",
       "      <th>449</th>\n",
       "      <td>5.055</td>\n",
       "      <td>9.508</td>\n",
       "      <td>5.273</td>\n",
       "      <td>10.398</td>\n",
       "      <td>8.236</td>\n",
       "      <td>6.899</td>\n",
       "      <td>2.508</td>\n",
       "      <td>3.912</td>\n",
       "      <td>1.827</td>\n",
       "      <td>5.992</td>\n",
       "      <td>...</td>\n",
       "      <td>1.762</td>\n",
       "      <td>0.735</td>\n",
       "      <td>1.991</td>\n",
       "      <td>0.090</td>\n",
       "      <td>0.233</td>\n",
       "      <td>1.391</td>\n",
       "      <td>1.633</td>\n",
       "      <td>0.671</td>\n",
       "      <td>0.533</td>\n",
       "      <td>0.492</td>\n",
       "    </tr>\n",
       "    <tr>\n",
       "      <th>450</th>\n",
       "      <td>4.736</td>\n",
       "      <td>9.375</td>\n",
       "      <td>5.159</td>\n",
       "      <td>10.468</td>\n",
       "      <td>7.789</td>\n",
       "      <td>5.793</td>\n",
       "      <td>1.780</td>\n",
       "      <td>3.592</td>\n",
       "      <td>1.717</td>\n",
       "      <td>5.767</td>\n",
       "      <td>...</td>\n",
       "      <td>0.703</td>\n",
       "      <td>3.131</td>\n",
       "      <td>2.582</td>\n",
       "      <td>1.390</td>\n",
       "      <td>0.339</td>\n",
       "      <td>1.043</td>\n",
       "      <td>0.524</td>\n",
       "      <td>0.480</td>\n",
       "      <td>3.692</td>\n",
       "      <td>0.077</td>\n",
       "    </tr>\n",
       "  </tbody>\n",
       "</table>\n",
       "<p>444 rows × 210 columns</p>\n",
       "</div>"
      ],
      "text/plain": [
       "              len                                                          \\\n",
       "small_group   0      1     2      3     4     5     6     7     8     9     \n",
       "trans_date                                                                  \n",
       "7           3.457  5.542 4.934  7.923 3.989 2.707 3.236 0.641 2.217 5.546   \n",
       "8           3.530  6.353 3.868  9.519 5.581 3.901 2.265 1.988 1.328 5.573   \n",
       "9           4.227  6.620 3.901  9.052 5.655 4.600 2.103 1.860 1.462 5.635   \n",
       "10          3.806  6.733 4.027  8.958 5.562 4.774 1.780 2.501 1.778 6.164   \n",
       "11          3.167  6.926 4.156  8.877 5.335 5.007 1.780 1.796 1.522 6.169   \n",
       "...           ...    ...   ...    ...   ...   ...   ...   ...   ...   ...   \n",
       "446         5.825 10.519 6.522 10.171 8.253 5.182 2.346 3.656 2.399 6.822   \n",
       "447         7.742  9.985 6.708  8.684 7.403 4.687 2.912 3.592 3.934 7.413   \n",
       "448         6.769  9.228 6.315  8.238 6.783 4.745 2.670 2.245 3.800 6.513   \n",
       "449         5.055  9.508 5.273 10.398 8.236 6.899 2.508 3.912 1.827 5.992   \n",
       "450         4.736  9.375 5.159 10.468 7.789 5.793 1.780 3.592 1.717 5.767   \n",
       "\n",
       "             ...   std                                                        \n",
       "small_group  ...   76    77    78    80    82    83    91    106   109   115  \n",
       "trans_date   ...                                                              \n",
       "7            ... 0.527 0.584 0.637 0.266 0.695 1.115 0.272 0.384 0.130 1.232  \n",
       "8            ... 7.820 0.541 2.530 0.245 0.664 1.235 0.469 2.077 0.484 0.806  \n",
       "9            ... 0.290 0.599 1.624 0.408 0.419 0.573 0.520 0.612 0.599 0.907  \n",
       "10           ... 0.631 0.754 1.020 0.511 0.722 1.145 0.909 1.471 0.408 0.036  \n",
       "11           ... 0.262 3.910 1.862 0.148 0.832 0.678 0.367 2.570 0.301 0.165  \n",
       "...          ...   ...   ...   ...   ...   ...   ...   ...   ...   ...   ...  \n",
       "446          ... 0.820 0.600 1.471 0.224 0.177 1.239 0.545 0.458 0.733 0.087  \n",
       "447          ... 1.438 0.795 1.921 0.396 0.199 0.529 0.511 0.568 2.357 0.161  \n",
       "448          ... 0.441 0.747 0.963 0.147 0.175 2.413 1.912 0.786 0.925 1.406  \n",
       "449          ... 1.762 0.735 1.991 0.090 0.233 1.391 1.633 0.671 0.533 0.492  \n",
       "450          ... 0.703 3.131 2.582 1.390 0.339 1.043 0.524 0.480 3.692 0.077  \n",
       "\n",
       "[444 rows x 210 columns]"
      ]
     },
     "execution_count": 26,
     "metadata": {},
     "output_type": "execute_result"
    }
   ],
   "source": [
    "df_se_train"
   ]
  },
  {
   "cell_type": "code",
   "execution_count": 27,
   "id": "parallel-covering",
   "metadata": {},
   "outputs": [],
   "source": [
    "agg_feature_encoder = torch.nn.Sequential(\n",
    "    TBatchNorm(210),\n",
    "    ClipRange((-3, 3)),\n",
    "    TDropout(0.3),\n",
    "    torch.nn.Linear(210, 16),\n",
    ")\n",
    "\n",
    "stream_encoder = StreamEncoder(\n",
    "    encoder_x2z=agg_feature_encoder,\n",
    "    history_size=14, predict_size=12, predict_lag=7,\n",
    "    z_channels=16, c_channels=32,\n",
    "    var_gamma_z=0.5, var_gamma_c=0.2,\n",
    "    lr=0.001, weight_decay=4e-5,\n",
    "    step_size=10, gamma=0.9,\n",
    "    cpc_w=0.1,\n",
    "    cov_z_w=0.1, var_z_w=1.0,\n",
    "    cov_c_w=0.1, var_c_w=1.0,\n",
    ")"
   ]
  },
  {
   "cell_type": "code",
   "execution_count": 28,
   "id": "aggressive-costume",
   "metadata": {},
   "outputs": [],
   "source": [
    "l3dt = Loader3DTensor(stream_encoder)\n",
    "dl_train = l3dt.get_train_dataloader(torch.from_numpy(df_se_train.values).unsqueeze(0).float()[:, 150:, :], 32, 4)\n",
    "dl_valid = l3dt.get_valid_dataloader(torch.from_numpy(df_se_train.values).unsqueeze(0).float()[:, :150, :], 32, 0)"
   ]
  },
  {
   "cell_type": "code",
   "execution_count": 29,
   "id": "affecting-cisco",
   "metadata": {},
   "outputs": [
    {
     "name": "stdout",
     "output_type": "stream",
     "text": [
      "9 1\n",
      "torch.Size([32, 26, 210]) torch.Size([1, 150, 210])\n"
     ]
    }
   ],
   "source": [
    "print(len(dl_train), len(dl_valid))\n",
    "print(next(iter(dl_train))[0].shape, next(iter(dl_valid))[0].shape)"
   ]
  },
  {
   "cell_type": "code",
   "execution_count": 30,
   "id": "working-kelly",
   "metadata": {},
   "outputs": [
    {
     "name": "stderr",
     "output_type": "stream",
     "text": [
      "GPU available: True, used: True\n",
      "TPU available: False, using: 0 TPU cores\n"
     ]
    }
   ],
   "source": [
    "trainer = pl.Trainer(\n",
    "    gpus=[3],\n",
    "    max_epochs=100,\n",
    "    log_every_n_steps=4,\n",
    "    progress_bar_refresh_rate=50, weights_summary=None,\n",
    "    logger=pl.loggers.TensorBoardLogger(\n",
    "        save_dir='lightning_logs/',\n",
    "        default_hp_metric=False,\n",
    "    )\n",
    ")"
   ]
  },
  {
   "cell_type": "code",
   "execution_count": 31,
   "id": "light-leave",
   "metadata": {},
   "outputs": [
    {
     "name": "stderr",
     "output_type": "stream",
     "text": [
      "LOCAL_RANK: 0 - CUDA_VISIBLE_DEVICES: [0,1,2,3]\n",
      "Missing logger folder: lightning_logs/default\n"
     ]
    },
    {
     "data": {
      "application/vnd.jupyter.widget-view+json": {
       "model_id": "",
       "version_major": 2,
       "version_minor": 0
      },
      "text/plain": [
       "Validation sanity check: 0it [00:00, ?it/s]"
      ]
     },
     "metadata": {},
     "output_type": "display_data"
    },
    {
     "name": "stderr",
     "output_type": "stream",
     "text": [
      "/mnt2/kireev/pipenv_envs/pytorch-lifestream-bcSZKFyz/lib/python3.8/site-packages/pytorch_lightning/utilities/distributed.py:69: UserWarning: The dataloader, val dataloader 0, does not have many workers which may be a bottleneck. Consider increasing the value of the `num_workers` argument` (try 24 which is the number of cpus on this machine) in the `DataLoader` init to improve performance.\n",
      "  warnings.warn(*args, **kwargs)\n"
     ]
    },
    {
     "data": {
      "application/vnd.jupyter.widget-view+json": {
       "model_id": "3c7fdd3207a74a309aa439836a7f3169",
       "version_major": 2,
       "version_minor": 0
      },
      "text/plain": [
       "Training: 0it [00:00, ?it/s]"
      ]
     },
     "metadata": {},
     "output_type": "display_data"
    },
    {
     "data": {
      "application/vnd.jupyter.widget-view+json": {
       "model_id": "",
       "version_major": 2,
       "version_minor": 0
      },
      "text/plain": [
       "Validating: 0it [00:00, ?it/s]"
      ]
     },
     "metadata": {},
     "output_type": "display_data"
    },
    {
     "data": {
      "application/vnd.jupyter.widget-view+json": {
       "model_id": "",
       "version_major": 2,
       "version_minor": 0
      },
      "text/plain": [
       "Validating: 0it [00:00, ?it/s]"
      ]
     },
     "metadata": {},
     "output_type": "display_data"
    },
    {
     "data": {
      "application/vnd.jupyter.widget-view+json": {
       "model_id": "",
       "version_major": 2,
       "version_minor": 0
      },
      "text/plain": [
       "Validating: 0it [00:00, ?it/s]"
      ]
     },
     "metadata": {},
     "output_type": "display_data"
    },
    {
     "data": {
      "application/vnd.jupyter.widget-view+json": {
       "model_id": "",
       "version_major": 2,
       "version_minor": 0
      },
      "text/plain": [
       "Validating: 0it [00:00, ?it/s]"
      ]
     },
     "metadata": {},
     "output_type": "display_data"
    },
    {
     "data": {
      "application/vnd.jupyter.widget-view+json": {
       "model_id": "",
       "version_major": 2,
       "version_minor": 0
      },
      "text/plain": [
       "Validating: 0it [00:00, ?it/s]"
      ]
     },
     "metadata": {},
     "output_type": "display_data"
    },
    {
     "data": {
      "application/vnd.jupyter.widget-view+json": {
       "model_id": "",
       "version_major": 2,
       "version_minor": 0
      },
      "text/plain": [
       "Validating: 0it [00:00, ?it/s]"
      ]
     },
     "metadata": {},
     "output_type": "display_data"
    },
    {
     "data": {
      "application/vnd.jupyter.widget-view+json": {
       "model_id": "",
       "version_major": 2,
       "version_minor": 0
      },
      "text/plain": [
       "Validating: 0it [00:00, ?it/s]"
      ]
     },
     "metadata": {},
     "output_type": "display_data"
    },
    {
     "data": {
      "application/vnd.jupyter.widget-view+json": {
       "model_id": "",
       "version_major": 2,
       "version_minor": 0
      },
      "text/plain": [
       "Validating: 0it [00:00, ?it/s]"
      ]
     },
     "metadata": {},
     "output_type": "display_data"
    },
    {
     "data": {
      "application/vnd.jupyter.widget-view+json": {
       "model_id": "",
       "version_major": 2,
       "version_minor": 0
      },
      "text/plain": [
       "Validating: 0it [00:00, ?it/s]"
      ]
     },
     "metadata": {},
     "output_type": "display_data"
    },
    {
     "data": {
      "application/vnd.jupyter.widget-view+json": {
       "model_id": "",
       "version_major": 2,
       "version_minor": 0
      },
      "text/plain": [
       "Validating: 0it [00:00, ?it/s]"
      ]
     },
     "metadata": {},
     "output_type": "display_data"
    },
    {
     "data": {
      "application/vnd.jupyter.widget-view+json": {
       "model_id": "",
       "version_major": 2,
       "version_minor": 0
      },
      "text/plain": [
       "Validating: 0it [00:00, ?it/s]"
      ]
     },
     "metadata": {},
     "output_type": "display_data"
    },
    {
     "data": {
      "application/vnd.jupyter.widget-view+json": {
       "model_id": "",
       "version_major": 2,
       "version_minor": 0
      },
      "text/plain": [
       "Validating: 0it [00:00, ?it/s]"
      ]
     },
     "metadata": {},
     "output_type": "display_data"
    },
    {
     "data": {
      "application/vnd.jupyter.widget-view+json": {
       "model_id": "",
       "version_major": 2,
       "version_minor": 0
      },
      "text/plain": [
       "Validating: 0it [00:00, ?it/s]"
      ]
     },
     "metadata": {},
     "output_type": "display_data"
    },
    {
     "data": {
      "application/vnd.jupyter.widget-view+json": {
       "model_id": "",
       "version_major": 2,
       "version_minor": 0
      },
      "text/plain": [
       "Validating: 0it [00:00, ?it/s]"
      ]
     },
     "metadata": {},
     "output_type": "display_data"
    },
    {
     "data": {
      "application/vnd.jupyter.widget-view+json": {
       "model_id": "",
       "version_major": 2,
       "version_minor": 0
      },
      "text/plain": [
       "Validating: 0it [00:00, ?it/s]"
      ]
     },
     "metadata": {},
     "output_type": "display_data"
    },
    {
     "data": {
      "application/vnd.jupyter.widget-view+json": {
       "model_id": "",
       "version_major": 2,
       "version_minor": 0
      },
      "text/plain": [
       "Validating: 0it [00:00, ?it/s]"
      ]
     },
     "metadata": {},
     "output_type": "display_data"
    },
    {
     "data": {
      "application/vnd.jupyter.widget-view+json": {
       "model_id": "",
       "version_major": 2,
       "version_minor": 0
      },
      "text/plain": [
       "Validating: 0it [00:00, ?it/s]"
      ]
     },
     "metadata": {},
     "output_type": "display_data"
    },
    {
     "data": {
      "application/vnd.jupyter.widget-view+json": {
       "model_id": "",
       "version_major": 2,
       "version_minor": 0
      },
      "text/plain": [
       "Validating: 0it [00:00, ?it/s]"
      ]
     },
     "metadata": {},
     "output_type": "display_data"
    },
    {
     "data": {
      "application/vnd.jupyter.widget-view+json": {
       "model_id": "",
       "version_major": 2,
       "version_minor": 0
      },
      "text/plain": [
       "Validating: 0it [00:00, ?it/s]"
      ]
     },
     "metadata": {},
     "output_type": "display_data"
    },
    {
     "data": {
      "application/vnd.jupyter.widget-view+json": {
       "model_id": "",
       "version_major": 2,
       "version_minor": 0
      },
      "text/plain": [
       "Validating: 0it [00:00, ?it/s]"
      ]
     },
     "metadata": {},
     "output_type": "display_data"
    },
    {
     "data": {
      "application/vnd.jupyter.widget-view+json": {
       "model_id": "",
       "version_major": 2,
       "version_minor": 0
      },
      "text/plain": [
       "Validating: 0it [00:00, ?it/s]"
      ]
     },
     "metadata": {},
     "output_type": "display_data"
    },
    {
     "data": {
      "application/vnd.jupyter.widget-view+json": {
       "model_id": "",
       "version_major": 2,
       "version_minor": 0
      },
      "text/plain": [
       "Validating: 0it [00:00, ?it/s]"
      ]
     },
     "metadata": {},
     "output_type": "display_data"
    },
    {
     "data": {
      "application/vnd.jupyter.widget-view+json": {
       "model_id": "",
       "version_major": 2,
       "version_minor": 0
      },
      "text/plain": [
       "Validating: 0it [00:00, ?it/s]"
      ]
     },
     "metadata": {},
     "output_type": "display_data"
    },
    {
     "data": {
      "application/vnd.jupyter.widget-view+json": {
       "model_id": "",
       "version_major": 2,
       "version_minor": 0
      },
      "text/plain": [
       "Validating: 0it [00:00, ?it/s]"
      ]
     },
     "metadata": {},
     "output_type": "display_data"
    },
    {
     "data": {
      "application/vnd.jupyter.widget-view+json": {
       "model_id": "",
       "version_major": 2,
       "version_minor": 0
      },
      "text/plain": [
       "Validating: 0it [00:00, ?it/s]"
      ]
     },
     "metadata": {},
     "output_type": "display_data"
    },
    {
     "data": {
      "application/vnd.jupyter.widget-view+json": {
       "model_id": "",
       "version_major": 2,
       "version_minor": 0
      },
      "text/plain": [
       "Validating: 0it [00:00, ?it/s]"
      ]
     },
     "metadata": {},
     "output_type": "display_data"
    },
    {
     "data": {
      "application/vnd.jupyter.widget-view+json": {
       "model_id": "",
       "version_major": 2,
       "version_minor": 0
      },
      "text/plain": [
       "Validating: 0it [00:00, ?it/s]"
      ]
     },
     "metadata": {},
     "output_type": "display_data"
    },
    {
     "data": {
      "application/vnd.jupyter.widget-view+json": {
       "model_id": "",
       "version_major": 2,
       "version_minor": 0
      },
      "text/plain": [
       "Validating: 0it [00:00, ?it/s]"
      ]
     },
     "metadata": {},
     "output_type": "display_data"
    },
    {
     "data": {
      "application/vnd.jupyter.widget-view+json": {
       "model_id": "",
       "version_major": 2,
       "version_minor": 0
      },
      "text/plain": [
       "Validating: 0it [00:00, ?it/s]"
      ]
     },
     "metadata": {},
     "output_type": "display_data"
    },
    {
     "data": {
      "application/vnd.jupyter.widget-view+json": {
       "model_id": "",
       "version_major": 2,
       "version_minor": 0
      },
      "text/plain": [
       "Validating: 0it [00:00, ?it/s]"
      ]
     },
     "metadata": {},
     "output_type": "display_data"
    },
    {
     "data": {
      "application/vnd.jupyter.widget-view+json": {
       "model_id": "",
       "version_major": 2,
       "version_minor": 0
      },
      "text/plain": [
       "Validating: 0it [00:00, ?it/s]"
      ]
     },
     "metadata": {},
     "output_type": "display_data"
    },
    {
     "data": {
      "application/vnd.jupyter.widget-view+json": {
       "model_id": "",
       "version_major": 2,
       "version_minor": 0
      },
      "text/plain": [
       "Validating: 0it [00:00, ?it/s]"
      ]
     },
     "metadata": {},
     "output_type": "display_data"
    },
    {
     "data": {
      "application/vnd.jupyter.widget-view+json": {
       "model_id": "",
       "version_major": 2,
       "version_minor": 0
      },
      "text/plain": [
       "Validating: 0it [00:00, ?it/s]"
      ]
     },
     "metadata": {},
     "output_type": "display_data"
    },
    {
     "data": {
      "application/vnd.jupyter.widget-view+json": {
       "model_id": "",
       "version_major": 2,
       "version_minor": 0
      },
      "text/plain": [
       "Validating: 0it [00:00, ?it/s]"
      ]
     },
     "metadata": {},
     "output_type": "display_data"
    },
    {
     "data": {
      "application/vnd.jupyter.widget-view+json": {
       "model_id": "",
       "version_major": 2,
       "version_minor": 0
      },
      "text/plain": [
       "Validating: 0it [00:00, ?it/s]"
      ]
     },
     "metadata": {},
     "output_type": "display_data"
    },
    {
     "data": {
      "application/vnd.jupyter.widget-view+json": {
       "model_id": "",
       "version_major": 2,
       "version_minor": 0
      },
      "text/plain": [
       "Validating: 0it [00:00, ?it/s]"
      ]
     },
     "metadata": {},
     "output_type": "display_data"
    },
    {
     "data": {
      "application/vnd.jupyter.widget-view+json": {
       "model_id": "",
       "version_major": 2,
       "version_minor": 0
      },
      "text/plain": [
       "Validating: 0it [00:00, ?it/s]"
      ]
     },
     "metadata": {},
     "output_type": "display_data"
    },
    {
     "data": {
      "application/vnd.jupyter.widget-view+json": {
       "model_id": "",
       "version_major": 2,
       "version_minor": 0
      },
      "text/plain": [
       "Validating: 0it [00:00, ?it/s]"
      ]
     },
     "metadata": {},
     "output_type": "display_data"
    },
    {
     "data": {
      "application/vnd.jupyter.widget-view+json": {
       "model_id": "",
       "version_major": 2,
       "version_minor": 0
      },
      "text/plain": [
       "Validating: 0it [00:00, ?it/s]"
      ]
     },
     "metadata": {},
     "output_type": "display_data"
    },
    {
     "data": {
      "application/vnd.jupyter.widget-view+json": {
       "model_id": "",
       "version_major": 2,
       "version_minor": 0
      },
      "text/plain": [
       "Validating: 0it [00:00, ?it/s]"
      ]
     },
     "metadata": {},
     "output_type": "display_data"
    },
    {
     "data": {
      "application/vnd.jupyter.widget-view+json": {
       "model_id": "",
       "version_major": 2,
       "version_minor": 0
      },
      "text/plain": [
       "Validating: 0it [00:00, ?it/s]"
      ]
     },
     "metadata": {},
     "output_type": "display_data"
    },
    {
     "data": {
      "application/vnd.jupyter.widget-view+json": {
       "model_id": "",
       "version_major": 2,
       "version_minor": 0
      },
      "text/plain": [
       "Validating: 0it [00:00, ?it/s]"
      ]
     },
     "metadata": {},
     "output_type": "display_data"
    },
    {
     "data": {
      "application/vnd.jupyter.widget-view+json": {
       "model_id": "",
       "version_major": 2,
       "version_minor": 0
      },
      "text/plain": [
       "Validating: 0it [00:00, ?it/s]"
      ]
     },
     "metadata": {},
     "output_type": "display_data"
    },
    {
     "data": {
      "application/vnd.jupyter.widget-view+json": {
       "model_id": "",
       "version_major": 2,
       "version_minor": 0
      },
      "text/plain": [
       "Validating: 0it [00:00, ?it/s]"
      ]
     },
     "metadata": {},
     "output_type": "display_data"
    },
    {
     "data": {
      "application/vnd.jupyter.widget-view+json": {
       "model_id": "",
       "version_major": 2,
       "version_minor": 0
      },
      "text/plain": [
       "Validating: 0it [00:00, ?it/s]"
      ]
     },
     "metadata": {},
     "output_type": "display_data"
    },
    {
     "data": {
      "application/vnd.jupyter.widget-view+json": {
       "model_id": "",
       "version_major": 2,
       "version_minor": 0
      },
      "text/plain": [
       "Validating: 0it [00:00, ?it/s]"
      ]
     },
     "metadata": {},
     "output_type": "display_data"
    },
    {
     "data": {
      "application/vnd.jupyter.widget-view+json": {
       "model_id": "",
       "version_major": 2,
       "version_minor": 0
      },
      "text/plain": [
       "Validating: 0it [00:00, ?it/s]"
      ]
     },
     "metadata": {},
     "output_type": "display_data"
    },
    {
     "data": {
      "application/vnd.jupyter.widget-view+json": {
       "model_id": "",
       "version_major": 2,
       "version_minor": 0
      },
      "text/plain": [
       "Validating: 0it [00:00, ?it/s]"
      ]
     },
     "metadata": {},
     "output_type": "display_data"
    },
    {
     "data": {
      "application/vnd.jupyter.widget-view+json": {
       "model_id": "",
       "version_major": 2,
       "version_minor": 0
      },
      "text/plain": [
       "Validating: 0it [00:00, ?it/s]"
      ]
     },
     "metadata": {},
     "output_type": "display_data"
    },
    {
     "data": {
      "application/vnd.jupyter.widget-view+json": {
       "model_id": "",
       "version_major": 2,
       "version_minor": 0
      },
      "text/plain": [
       "Validating: 0it [00:00, ?it/s]"
      ]
     },
     "metadata": {},
     "output_type": "display_data"
    },
    {
     "data": {
      "application/vnd.jupyter.widget-view+json": {
       "model_id": "",
       "version_major": 2,
       "version_minor": 0
      },
      "text/plain": [
       "Validating: 0it [00:00, ?it/s]"
      ]
     },
     "metadata": {},
     "output_type": "display_data"
    },
    {
     "data": {
      "application/vnd.jupyter.widget-view+json": {
       "model_id": "",
       "version_major": 2,
       "version_minor": 0
      },
      "text/plain": [
       "Validating: 0it [00:00, ?it/s]"
      ]
     },
     "metadata": {},
     "output_type": "display_data"
    },
    {
     "data": {
      "application/vnd.jupyter.widget-view+json": {
       "model_id": "",
       "version_major": 2,
       "version_minor": 0
      },
      "text/plain": [
       "Validating: 0it [00:00, ?it/s]"
      ]
     },
     "metadata": {},
     "output_type": "display_data"
    },
    {
     "data": {
      "application/vnd.jupyter.widget-view+json": {
       "model_id": "",
       "version_major": 2,
       "version_minor": 0
      },
      "text/plain": [
       "Validating: 0it [00:00, ?it/s]"
      ]
     },
     "metadata": {},
     "output_type": "display_data"
    },
    {
     "data": {
      "application/vnd.jupyter.widget-view+json": {
       "model_id": "",
       "version_major": 2,
       "version_minor": 0
      },
      "text/plain": [
       "Validating: 0it [00:00, ?it/s]"
      ]
     },
     "metadata": {},
     "output_type": "display_data"
    },
    {
     "data": {
      "application/vnd.jupyter.widget-view+json": {
       "model_id": "",
       "version_major": 2,
       "version_minor": 0
      },
      "text/plain": [
       "Validating: 0it [00:00, ?it/s]"
      ]
     },
     "metadata": {},
     "output_type": "display_data"
    },
    {
     "data": {
      "application/vnd.jupyter.widget-view+json": {
       "model_id": "",
       "version_major": 2,
       "version_minor": 0
      },
      "text/plain": [
       "Validating: 0it [00:00, ?it/s]"
      ]
     },
     "metadata": {},
     "output_type": "display_data"
    },
    {
     "data": {
      "application/vnd.jupyter.widget-view+json": {
       "model_id": "",
       "version_major": 2,
       "version_minor": 0
      },
      "text/plain": [
       "Validating: 0it [00:00, ?it/s]"
      ]
     },
     "metadata": {},
     "output_type": "display_data"
    },
    {
     "data": {
      "application/vnd.jupyter.widget-view+json": {
       "model_id": "",
       "version_major": 2,
       "version_minor": 0
      },
      "text/plain": [
       "Validating: 0it [00:00, ?it/s]"
      ]
     },
     "metadata": {},
     "output_type": "display_data"
    },
    {
     "data": {
      "application/vnd.jupyter.widget-view+json": {
       "model_id": "",
       "version_major": 2,
       "version_minor": 0
      },
      "text/plain": [
       "Validating: 0it [00:00, ?it/s]"
      ]
     },
     "metadata": {},
     "output_type": "display_data"
    },
    {
     "data": {
      "application/vnd.jupyter.widget-view+json": {
       "model_id": "",
       "version_major": 2,
       "version_minor": 0
      },
      "text/plain": [
       "Validating: 0it [00:00, ?it/s]"
      ]
     },
     "metadata": {},
     "output_type": "display_data"
    },
    {
     "data": {
      "application/vnd.jupyter.widget-view+json": {
       "model_id": "",
       "version_major": 2,
       "version_minor": 0
      },
      "text/plain": [
       "Validating: 0it [00:00, ?it/s]"
      ]
     },
     "metadata": {},
     "output_type": "display_data"
    },
    {
     "data": {
      "application/vnd.jupyter.widget-view+json": {
       "model_id": "",
       "version_major": 2,
       "version_minor": 0
      },
      "text/plain": [
       "Validating: 0it [00:00, ?it/s]"
      ]
     },
     "metadata": {},
     "output_type": "display_data"
    },
    {
     "data": {
      "application/vnd.jupyter.widget-view+json": {
       "model_id": "",
       "version_major": 2,
       "version_minor": 0
      },
      "text/plain": [
       "Validating: 0it [00:00, ?it/s]"
      ]
     },
     "metadata": {},
     "output_type": "display_data"
    },
    {
     "data": {
      "application/vnd.jupyter.widget-view+json": {
       "model_id": "",
       "version_major": 2,
       "version_minor": 0
      },
      "text/plain": [
       "Validating: 0it [00:00, ?it/s]"
      ]
     },
     "metadata": {},
     "output_type": "display_data"
    },
    {
     "data": {
      "application/vnd.jupyter.widget-view+json": {
       "model_id": "",
       "version_major": 2,
       "version_minor": 0
      },
      "text/plain": [
       "Validating: 0it [00:00, ?it/s]"
      ]
     },
     "metadata": {},
     "output_type": "display_data"
    },
    {
     "data": {
      "application/vnd.jupyter.widget-view+json": {
       "model_id": "",
       "version_major": 2,
       "version_minor": 0
      },
      "text/plain": [
       "Validating: 0it [00:00, ?it/s]"
      ]
     },
     "metadata": {},
     "output_type": "display_data"
    },
    {
     "data": {
      "application/vnd.jupyter.widget-view+json": {
       "model_id": "",
       "version_major": 2,
       "version_minor": 0
      },
      "text/plain": [
       "Validating: 0it [00:00, ?it/s]"
      ]
     },
     "metadata": {},
     "output_type": "display_data"
    },
    {
     "data": {
      "application/vnd.jupyter.widget-view+json": {
       "model_id": "",
       "version_major": 2,
       "version_minor": 0
      },
      "text/plain": [
       "Validating: 0it [00:00, ?it/s]"
      ]
     },
     "metadata": {},
     "output_type": "display_data"
    },
    {
     "data": {
      "application/vnd.jupyter.widget-view+json": {
       "model_id": "",
       "version_major": 2,
       "version_minor": 0
      },
      "text/plain": [
       "Validating: 0it [00:00, ?it/s]"
      ]
     },
     "metadata": {},
     "output_type": "display_data"
    },
    {
     "data": {
      "application/vnd.jupyter.widget-view+json": {
       "model_id": "",
       "version_major": 2,
       "version_minor": 0
      },
      "text/plain": [
       "Validating: 0it [00:00, ?it/s]"
      ]
     },
     "metadata": {},
     "output_type": "display_data"
    },
    {
     "data": {
      "application/vnd.jupyter.widget-view+json": {
       "model_id": "",
       "version_major": 2,
       "version_minor": 0
      },
      "text/plain": [
       "Validating: 0it [00:00, ?it/s]"
      ]
     },
     "metadata": {},
     "output_type": "display_data"
    },
    {
     "data": {
      "application/vnd.jupyter.widget-view+json": {
       "model_id": "",
       "version_major": 2,
       "version_minor": 0
      },
      "text/plain": [
       "Validating: 0it [00:00, ?it/s]"
      ]
     },
     "metadata": {},
     "output_type": "display_data"
    },
    {
     "data": {
      "application/vnd.jupyter.widget-view+json": {
       "model_id": "",
       "version_major": 2,
       "version_minor": 0
      },
      "text/plain": [
       "Validating: 0it [00:00, ?it/s]"
      ]
     },
     "metadata": {},
     "output_type": "display_data"
    },
    {
     "data": {
      "application/vnd.jupyter.widget-view+json": {
       "model_id": "",
       "version_major": 2,
       "version_minor": 0
      },
      "text/plain": [
       "Validating: 0it [00:00, ?it/s]"
      ]
     },
     "metadata": {},
     "output_type": "display_data"
    },
    {
     "data": {
      "application/vnd.jupyter.widget-view+json": {
       "model_id": "",
       "version_major": 2,
       "version_minor": 0
      },
      "text/plain": [
       "Validating: 0it [00:00, ?it/s]"
      ]
     },
     "metadata": {},
     "output_type": "display_data"
    },
    {
     "data": {
      "application/vnd.jupyter.widget-view+json": {
       "model_id": "",
       "version_major": 2,
       "version_minor": 0
      },
      "text/plain": [
       "Validating: 0it [00:00, ?it/s]"
      ]
     },
     "metadata": {},
     "output_type": "display_data"
    },
    {
     "data": {
      "application/vnd.jupyter.widget-view+json": {
       "model_id": "",
       "version_major": 2,
       "version_minor": 0
      },
      "text/plain": [
       "Validating: 0it [00:00, ?it/s]"
      ]
     },
     "metadata": {},
     "output_type": "display_data"
    },
    {
     "data": {
      "application/vnd.jupyter.widget-view+json": {
       "model_id": "",
       "version_major": 2,
       "version_minor": 0
      },
      "text/plain": [
       "Validating: 0it [00:00, ?it/s]"
      ]
     },
     "metadata": {},
     "output_type": "display_data"
    },
    {
     "data": {
      "application/vnd.jupyter.widget-view+json": {
       "model_id": "",
       "version_major": 2,
       "version_minor": 0
      },
      "text/plain": [
       "Validating: 0it [00:00, ?it/s]"
      ]
     },
     "metadata": {},
     "output_type": "display_data"
    },
    {
     "data": {
      "application/vnd.jupyter.widget-view+json": {
       "model_id": "",
       "version_major": 2,
       "version_minor": 0
      },
      "text/plain": [
       "Validating: 0it [00:00, ?it/s]"
      ]
     },
     "metadata": {},
     "output_type": "display_data"
    },
    {
     "data": {
      "application/vnd.jupyter.widget-view+json": {
       "model_id": "",
       "version_major": 2,
       "version_minor": 0
      },
      "text/plain": [
       "Validating: 0it [00:00, ?it/s]"
      ]
     },
     "metadata": {},
     "output_type": "display_data"
    },
    {
     "data": {
      "application/vnd.jupyter.widget-view+json": {
       "model_id": "",
       "version_major": 2,
       "version_minor": 0
      },
      "text/plain": [
       "Validating: 0it [00:00, ?it/s]"
      ]
     },
     "metadata": {},
     "output_type": "display_data"
    },
    {
     "data": {
      "application/vnd.jupyter.widget-view+json": {
       "model_id": "",
       "version_major": 2,
       "version_minor": 0
      },
      "text/plain": [
       "Validating: 0it [00:00, ?it/s]"
      ]
     },
     "metadata": {},
     "output_type": "display_data"
    },
    {
     "data": {
      "application/vnd.jupyter.widget-view+json": {
       "model_id": "",
       "version_major": 2,
       "version_minor": 0
      },
      "text/plain": [
       "Validating: 0it [00:00, ?it/s]"
      ]
     },
     "metadata": {},
     "output_type": "display_data"
    },
    {
     "data": {
      "application/vnd.jupyter.widget-view+json": {
       "model_id": "",
       "version_major": 2,
       "version_minor": 0
      },
      "text/plain": [
       "Validating: 0it [00:00, ?it/s]"
      ]
     },
     "metadata": {},
     "output_type": "display_data"
    },
    {
     "data": {
      "application/vnd.jupyter.widget-view+json": {
       "model_id": "",
       "version_major": 2,
       "version_minor": 0
      },
      "text/plain": [
       "Validating: 0it [00:00, ?it/s]"
      ]
     },
     "metadata": {},
     "output_type": "display_data"
    },
    {
     "data": {
      "application/vnd.jupyter.widget-view+json": {
       "model_id": "",
       "version_major": 2,
       "version_minor": 0
      },
      "text/plain": [
       "Validating: 0it [00:00, ?it/s]"
      ]
     },
     "metadata": {},
     "output_type": "display_data"
    },
    {
     "data": {
      "application/vnd.jupyter.widget-view+json": {
       "model_id": "",
       "version_major": 2,
       "version_minor": 0
      },
      "text/plain": [
       "Validating: 0it [00:00, ?it/s]"
      ]
     },
     "metadata": {},
     "output_type": "display_data"
    },
    {
     "data": {
      "application/vnd.jupyter.widget-view+json": {
       "model_id": "",
       "version_major": 2,
       "version_minor": 0
      },
      "text/plain": [
       "Validating: 0it [00:00, ?it/s]"
      ]
     },
     "metadata": {},
     "output_type": "display_data"
    },
    {
     "data": {
      "application/vnd.jupyter.widget-view+json": {
       "model_id": "",
       "version_major": 2,
       "version_minor": 0
      },
      "text/plain": [
       "Validating: 0it [00:00, ?it/s]"
      ]
     },
     "metadata": {},
     "output_type": "display_data"
    },
    {
     "data": {
      "application/vnd.jupyter.widget-view+json": {
       "model_id": "",
       "version_major": 2,
       "version_minor": 0
      },
      "text/plain": [
       "Validating: 0it [00:00, ?it/s]"
      ]
     },
     "metadata": {},
     "output_type": "display_data"
    },
    {
     "data": {
      "application/vnd.jupyter.widget-view+json": {
       "model_id": "",
       "version_major": 2,
       "version_minor": 0
      },
      "text/plain": [
       "Validating: 0it [00:00, ?it/s]"
      ]
     },
     "metadata": {},
     "output_type": "display_data"
    },
    {
     "data": {
      "application/vnd.jupyter.widget-view+json": {
       "model_id": "",
       "version_major": 2,
       "version_minor": 0
      },
      "text/plain": [
       "Validating: 0it [00:00, ?it/s]"
      ]
     },
     "metadata": {},
     "output_type": "display_data"
    },
    {
     "data": {
      "application/vnd.jupyter.widget-view+json": {
       "model_id": "",
       "version_major": 2,
       "version_minor": 0
      },
      "text/plain": [
       "Validating: 0it [00:00, ?it/s]"
      ]
     },
     "metadata": {},
     "output_type": "display_data"
    },
    {
     "data": {
      "application/vnd.jupyter.widget-view+json": {
       "model_id": "",
       "version_major": 2,
       "version_minor": 0
      },
      "text/plain": [
       "Validating: 0it [00:00, ?it/s]"
      ]
     },
     "metadata": {},
     "output_type": "display_data"
    },
    {
     "data": {
      "application/vnd.jupyter.widget-view+json": {
       "model_id": "",
       "version_major": 2,
       "version_minor": 0
      },
      "text/plain": [
       "Validating: 0it [00:00, ?it/s]"
      ]
     },
     "metadata": {},
     "output_type": "display_data"
    },
    {
     "data": {
      "application/vnd.jupyter.widget-view+json": {
       "model_id": "",
       "version_major": 2,
       "version_minor": 0
      },
      "text/plain": [
       "Validating: 0it [00:00, ?it/s]"
      ]
     },
     "metadata": {},
     "output_type": "display_data"
    },
    {
     "data": {
      "application/vnd.jupyter.widget-view+json": {
       "model_id": "",
       "version_major": 2,
       "version_minor": 0
      },
      "text/plain": [
       "Validating: 0it [00:00, ?it/s]"
      ]
     },
     "metadata": {},
     "output_type": "display_data"
    },
    {
     "data": {
      "application/vnd.jupyter.widget-view+json": {
       "model_id": "",
       "version_major": 2,
       "version_minor": 0
      },
      "text/plain": [
       "Validating: 0it [00:00, ?it/s]"
      ]
     },
     "metadata": {},
     "output_type": "display_data"
    }
   ],
   "source": [
    "trainer.fit(stream_encoder, train_dataloader=dl_train, val_dataloaders=dl_valid)"
   ]
  },
  {
   "cell_type": "markdown",
   "id": "macro-struggle",
   "metadata": {},
   "source": [
    "# Tuning"
   ]
  },
  {
   "cell_type": "code",
   "execution_count": 32,
   "id": "every-lewis",
   "metadata": {},
   "outputs": [],
   "source": [
    "def r_exp(b, m):\n",
    "    a = b / m\n",
    "    b = b * m\n",
    "    a = np.log(a)\n",
    "    b = np.log(b)\n",
    "    \n",
    "    return np.exp(np.random.random(1)[0] * (b - a) + a)"
   ]
  },
  {
   "cell_type": "code",
   "execution_count": 40,
   "id": "powered-indication",
   "metadata": {},
   "outputs": [],
   "source": [
    "last_model = StreamEncoder.load_from_checkpoint(\n",
    "    'lightning_logs/default/version_29/checkpoints/epoch=66-step=602.ckpt')"
   ]
  },
  {
   "cell_type": "code",
   "execution_count": null,
   "id": "duplicate-chicago",
   "metadata": {
    "scrolled": false
   },
   "outputs": [
    {
     "name": "stdout",
     "output_type": "stream",
     "text": [
      "[0000] - start"
     ]
    },
    {
     "name": "stderr",
     "output_type": "stream",
     "text": [
      "/mnt2/kireev/pipenv_envs/pytorch-lifestream-bcSZKFyz/lib/python3.8/site-packages/pytorch_lightning/utilities/distributed.py:69: UserWarning: The dataloader, val dataloader 0, does not have many workers which may be a bottleneck. Consider increasing the value of the `num_workers` argument` (try 24 which is the number of cpus on this machine) in the `DataLoader` init to improve performance.\n",
      "  warnings.warn(*args, **kwargs)\n"
     ]
    },
    {
     "name": "stdout",
     "output_type": "stream",
     "text": [
      " - done\n",
      "[0001] - start - done\n",
      "[0002] - start - done\n",
      "[0003] - start - done\n",
      "[0004] - start - done\n",
      "[0005] - start - done\n",
      "[0006] - start - done\n",
      "[0007] - start - done\n",
      "[0008] - start - done\n",
      "[0009] - start - done\n",
      "[0010] - start - done\n",
      "[0011] - start - done\n",
      "[0012] - start - done\n",
      "[0013] - start - done\n",
      "[0014] - start - done\n",
      "[0015] - start - done\n",
      "[0016] - start - done\n",
      "[0017] - start"
     ]
    }
   ],
   "source": [
    "mul_c = 1 + 2**4  # was 6\n",
    "for i in range(20):\n",
    "    params = dict(\n",
    "        lr=r_exp(last_model.hparams.lr, mul_c),\n",
    "        cov_z_w=r_exp(last_model.hparams.cov_z_w, mul_c),\n",
    "        var_z_w=r_exp(last_model.hparams.var_z_w, mul_c),\n",
    "        cov_c_w=r_exp(last_model.hparams.cov_c_w, mul_c),\n",
    "        var_c_w=r_exp(last_model.hparams.var_c_w, mul_c),\n",
    "    )\n",
    "    print(f'[{i:04d}] - start', end='')\n",
    "    stream_encoder = StreamEncoder(\n",
    "        **{k: v for k, v in last_model.hparams.items() if k in (\n",
    "            'history_size', 'predict_size', 'predict_lag',\n",
    "            'var_gamma_z', 'var_gamma_c', 'step_size', 'gamma',\n",
    "            'z_channels', 'c_channels',\n",
    "            'weight_decay',\n",
    "            'cpc_w',\n",
    "        )},\n",
    "        encoder_x2z=torch.nn.Sequential(\n",
    "            TBatchNorm(210),\n",
    "            ClipRange((-3, 3)),\n",
    "            TDropout(0.3),\n",
    "            torch.nn.Linear(210, 16),\n",
    "        ),\n",
    "        **params,\n",
    "    )\n",
    "    pl.Trainer(\n",
    "        gpus=[3],\n",
    "        max_epochs=500,\n",
    "        log_every_n_steps=4,\n",
    "        progress_bar_refresh_rate=0, weights_summary=None,\n",
    "        logger=pl.loggers.TensorBoardLogger(\n",
    "            save_dir='lightning_logs/',\n",
    "            default_hp_metric=False,\n",
    "        ),\n",
    "        callbacks=[\n",
    "            pl.callbacks.EarlyStopping(monitor='hp/cpc_pow', mode='max', patience=10, min_delta=0.0)\n",
    "        ],\n",
    "    ).fit(stream_encoder, train_dataloader=dl_train, val_dataloaders=dl_valid)\n",
    "    print(' - done')"
   ]
  },
  {
   "cell_type": "code",
   "execution_count": null,
   "id": "immune-wyoming",
   "metadata": {},
   "outputs": [],
   "source": []
  },
  {
   "cell_type": "code",
   "execution_count": null,
   "id": "muslim-arkansas",
   "metadata": {},
   "outputs": [],
   "source": [
    "from copy import deepcopy"
   ]
  },
  {
   "cell_type": "code",
   "execution_count": null,
   "id": "banner-protein",
   "metadata": {},
   "outputs": [],
   "source": [
    "last_model = deepcopy(stream_encoder)"
   ]
  },
  {
   "cell_type": "code",
   "execution_count": null,
   "id": "driven-politics",
   "metadata": {},
   "outputs": [],
   "source": [
    "!rm -r ligh"
   ]
  },
  {
   "cell_type": "code",
   "execution_count": null,
   "id": "different-training",
   "metadata": {
    "scrolled": true
   },
   "outputs": [],
   "source": [
    "for i in range(100):\n",
    "    params = dict(\n",
    "        is_batch_norm=np.random.choice([False, True], 1)[0],\n",
    "        is_tanh=np.random.choice([False, True], 1)[0],\n",
    "        p_dropout=0 if np.random.random() < 0.1 else np.random.random(1)[0],\n",
    "    )\n",
    "    print(f'[{i:04d}] - start', end='')\n",
    "    stream_encoder = StreamEncoder(\n",
    "        **{k: v for k, v in last_model.hparams.items() if k in (\n",
    "            'history_size', 'predict_size', 'predict_lag', 'in_channels', 'clip_range',\n",
    "            'var_gamma_z', 'var_gamma_c', 'step_size', 'gamma',\n",
    "            'h_channels', 'z_channels', 'c_channels',\n",
    "            'weight_decay',\n",
    "            'cpc_w', 'lr', 'cov_z_w', 'var_z_w', 'cov_c_w', 'var_c_w',\n",
    "        )},\n",
    "        x_dropout=0.2,\n",
    "        **params,\n",
    "    )\n",
    "    pl.Trainer(\n",
    "        gpus=[3],\n",
    "        max_epochs=500,\n",
    "        log_every_n_steps=4,\n",
    "        progress_bar_refresh_rate=0, weights_summary=None,\n",
    "        logger=pl.loggers.TensorBoardLogger(\n",
    "            save_dir='lightning_logs/',\n",
    "            default_hp_metric=False,\n",
    "        ),\n",
    "        callbacks=[\n",
    "            pl.callbacks.EarlyStopping(monitor='hp/cpc_pow', mode='max', patience=10, min_delta=0.0)\n",
    "        ],\n",
    "    ).fit(stream_encoder, train_dataloader=dl_train, val_dataloaders=dl_valid)\n",
    "    print(' - done')"
   ]
  },
  {
   "cell_type": "code",
   "execution_count": null,
   "id": "compliant-lotus",
   "metadata": {},
   "outputs": [],
   "source": []
  },
  {
   "cell_type": "markdown",
   "id": "disturbed-brake",
   "metadata": {},
   "source": [
    "# Eval"
   ]
  },
  {
   "cell_type": "code",
   "execution_count": null,
   "id": "attached-madrid",
   "metadata": {},
   "outputs": [],
   "source": []
  },
  {
   "cell_type": "code",
   "execution_count": null,
   "id": "listed-fitting",
   "metadata": {},
   "outputs": [],
   "source": []
  },
  {
   "cell_type": "code",
   "execution_count": null,
   "id": "random-softball",
   "metadata": {},
   "outputs": [],
   "source": []
  },
  {
   "cell_type": "code",
   "execution_count": null,
   "id": "bottom-print",
   "metadata": {},
   "outputs": [],
   "source": [
    "model = StreamEncoder.load_from_checkpoint('lightning_logs/default/version_120/checkpoints/epoch=129-step=1169.ckpt')\n",
    "print(model.hparams)"
   ]
  },
  {
   "cell_type": "code",
   "execution_count": null,
   "id": "historical-feedback",
   "metadata": {},
   "outputs": [],
   "source": [
    "pred_horizon = 10\n",
    "model.eval()\n",
    "with torch.no_grad():\n",
    "    data_norm, z, c = model(torch.from_numpy(df_se_train.values).unsqueeze(0).float()[:, :, :])\n",
    "    p = model.lin_predictors_c2p[pred_horizon - 1 - model.hparams.predict_lag](c)"
   ]
  },
  {
   "cell_type": "code",
   "execution_count": null,
   "id": "random-motorcycle",
   "metadata": {
    "scrolled": false
   },
   "outputs": [],
   "source": [
    "data_norm, z, c, p = [t for t in [data_norm, z, c, p]]\n",
    "\n",
    "a = data_norm[0].detach().numpy()\n",
    "plt.figure(figsize=(16, 16 * a.shape[1] / a.shape[0]))\n",
    "plt.imshow(np.clip(a, *np.quantile(a, [0.05, 0.95], axis=0)).T)\n",
    "plt.title('x')\n",
    "plt.show()\n",
    "\n",
    "a = z.unsqueeze(-1).repeat(1, 1, 1, 2).view(*z.size()[:-1], -1)[0].detach().numpy()\n",
    "plt.figure(figsize=(16, 16 * 2 * a.shape[1] / a.shape[0]))\n",
    "plt.imshow(a.T)\n",
    "plt.title('z')\n",
    "plt.show()\n",
    "\n",
    "a = p.unsqueeze(-1).repeat(1, 1, 1, 2).view(*z.size()[:-1], -1)[0].detach().numpy()\n",
    "plt.figure(figsize=(16, 16 * 2 * a.shape[1] / a.shape[0]))\n",
    "plt.imshow(a.T)\n",
    "plt.title('p')\n",
    "plt.show()\n",
    "\n",
    "a = c.unsqueeze(-1).repeat(1, 1, 1, 2).view(*z.size()[:-1], -1)[0].detach().numpy()\n",
    "plt.figure(figsize=(16, 16 * 2 * a.shape[1] / a.shape[0]))\n",
    "plt.imshow(a.T)\n",
    "plt.title('c')\n",
    "plt.show()\n",
    "\n",
    "_, axs = plt.subplots(4, 1, figsize=(16, 5 * 4))\n",
    "axs[0].plot(data_norm[0].detach().numpy())\n",
    "axs[0].set_title('x signal')\n",
    "axs[1].plot(z[0].detach().numpy())\n",
    "axs[1].set_title('z signal')\n",
    "axs[2].plot(p[0].detach().numpy())\n",
    "axs[2].set_title('p signal')\n",
    "axs[3].plot(c[0].detach().numpy())\n",
    "axs[3].set_title('c signal')\n",
    "plt.show()\n",
    "\n",
    "\n",
    "_, axs = plt.subplots(z.size(2), 1, figsize=(16, 3 * z.size(2)))\n",
    "for i, ax in zip(range(z.size(2)), axs):\n",
    "    ax.plot(z[0, pred_horizon:, i].detach().numpy())\n",
    "    ax.plot(p[0, :-pred_horizon, i].detach().numpy())\n",
    "    r2_score = torch.where(\n",
    "        z[0, 7 + pred_horizon:, i].var() * (z.size(1) - pred_horizon) > 1e-6,\n",
    "        1 - (z[0, pred_horizon:, i] - p[0, :-pred_horizon, i]).pow(2).sum() / \n",
    "            z[0, pred_horizon:, i].var() / (z.size(1) - pred_horizon),\n",
    "        torch.tensor([0.0]),\n",
    "    )\n",
    "    ax.set_title(f'{i}th compoment. r2={r2_score.item():.3f}')\n",
    "plt.show()\n",
    "\n",
    "r2_score = torch.where(\n",
    "    z[:, pred_horizon:, :].var(dim=1) / (z.size(1) - pred_horizon) > 1e-6,\n",
    "    1 - (z[:, pred_horizon:] - p[:, :-pred_horizon]).pow(2).sum(dim=1) / \n",
    "        z[:, pred_horizon:, :].var(dim=1) / (z.size(1) - pred_horizon),\n",
    "    torch.tensor([0.0]),\n",
    ")\n",
    "print(f'r2_score = {r2_score.mean():.3f}')\n",
    "\n",
    "_z = (z - z.mean(dim=1, keepdims=True)) / (z.std(dim=1, keepdims=True) + 1e-6)\n",
    "mc = torch.bmm(_z.transpose(1, 2), _z).abs() / _z.size(1)\n",
    "C = mc.size(1)\n",
    "off_diag_ix = (1 - torch.eye(C)).bool().view(-1)\n",
    "m = mc.view(-1, C * C)[:, off_diag_ix].mean()\n",
    "print(f'z_self_corr = {m:.3f}')\n",
    "print(f'z_unique_features = {1 / (mc.mean() + 1e-3):.3f}', )\n",
    "print(f'cpc_pow = {r2_score.mean() / (mc.mean() + 1e-3):.3f}')"
   ]
  },
  {
   "cell_type": "code",
   "execution_count": null,
   "id": "stopped-constitution",
   "metadata": {},
   "outputs": [],
   "source": []
  },
  {
   "cell_type": "code",
   "execution_count": null,
   "id": "actual-merchant",
   "metadata": {},
   "outputs": [],
   "source": []
  },
  {
   "cell_type": "markdown",
   "id": "impressive-philadelphia",
   "metadata": {},
   "source": [
    "# Inference"
   ]
  },
  {
   "cell_type": "code",
   "execution_count": null,
   "id": "separated-teacher",
   "metadata": {},
   "outputs": [],
   "source": [
    "model.eval()\n",
    "with torch.no_grad():\n",
    "    x, z, c = model(torch.from_numpy(df_features.fillna(df_features.mean()).values).float().unsqueeze(0))"
   ]
  },
  {
   "cell_type": "code",
   "execution_count": null,
   "id": "attached-chicken",
   "metadata": {},
   "outputs": [],
   "source": [
    "df_se_x = pd.DataFrame(x[0].numpy(), index=df_features.index)\n",
    "df_se_z = pd.DataFrame(z[0].numpy(), index=df_features.index)\n",
    "df_se_c = pd.DataFrame(c[0].numpy(), index=df_features.index)"
   ]
  },
  {
   "cell_type": "code",
   "execution_count": null,
   "id": "twelve-produce",
   "metadata": {},
   "outputs": [],
   "source": []
  },
  {
   "cell_type": "markdown",
   "id": "continued-encounter",
   "metadata": {},
   "source": [
    "# Downstream task"
   ]
  },
  {
   "cell_type": "code",
   "execution_count": null,
   "id": "funny-delaware",
   "metadata": {},
   "outputs": [],
   "source": [
    "from sklearn.linear_model import Ridge, Lasso, LinearRegression\n",
    "from sklearn.ensemble import RandomForestRegressor\n",
    "\n",
    "from sklearn.metrics import r2_score, mean_squared_error, mean_absolute_percentage_error"
   ]
  },
  {
   "cell_type": "code",
   "execution_count": null,
   "id": "swedish-class",
   "metadata": {},
   "outputs": [],
   "source": [
    "[t.shape for t in [df_features, df_se_x, df_se_z, df_se_c]]"
   ]
  },
  {
   "cell_type": "markdown",
   "id": "employed-million",
   "metadata": {},
   "source": [
    "### target"
   ]
  },
  {
   "cell_type": "code",
   "execution_count": null,
   "id": "successful-victoria",
   "metadata": {},
   "outputs": [],
   "source": [
    "predict_to_future=1\n",
    "s_all_targets = s_y.rolling(window=predict_to_future).sum().shift(-predict_to_future)"
   ]
  },
  {
   "cell_type": "code",
   "execution_count": null,
   "id": "limited-fruit",
   "metadata": {},
   "outputs": [],
   "source": [
    "s_all_targets"
   ]
  },
  {
   "cell_type": "code",
   "execution_count": null,
   "id": "following-enlargement",
   "metadata": {},
   "outputs": [],
   "source": [
    "pd.concat([\n",
    "    s_y.rename('amounts'),\n",
    "    s_all_targets.rename('target'),\n",
    "], axis=1).plot(figsize=(18, 4), secondary_y='target')\n",
    "plt.axvline(450, color='red')\n",
    "plt.axvline(575, color='red')\n",
    "plt.show()"
   ]
  },
  {
   "cell_type": "code",
   "execution_count": null,
   "id": "informational-slope",
   "metadata": {},
   "outputs": [],
   "source": [
    "np.log1p(s_all_targets).hist()\n",
    "plt.show()"
   ]
  },
  {
   "cell_type": "code",
   "execution_count": null,
   "id": "distributed-sociology",
   "metadata": {},
   "outputs": [],
   "source": [
    "ix_train = s_all_targets.loc[:450].index[28:]\n",
    "ix_valid = s_all_targets.loc[450+1:575].index\n",
    "ix_test = s_all_targets.loc[575+1:].index[:-7]\n",
    "ix_all = s_all_targets.index[28:-7]\n",
    "\n",
    "(ix_train, ix_valid, ix_test, ix_all)"
   ]
  },
  {
   "cell_type": "code",
   "execution_count": null,
   "id": "grave-hammer",
   "metadata": {},
   "outputs": [],
   "source": [
    "s_all_targets.plot(figsize=(18, 4))\n",
    "s_y.rolling(window=predict_to_future).sum().ewm(alpha=0.1).mean().ewm(alpha=0.05).mean().plot()\n",
    "plt.show()"
   ]
  },
  {
   "cell_type": "code",
   "execution_count": null,
   "id": "cutting-ready",
   "metadata": {},
   "outputs": [],
   "source": [
    "def train_estimate(model_cls, model_params, X, name):\n",
    "    model = model_cls(**model_params)\n",
    "    \n",
    "    x_train = X.reindex(ix_train).values\n",
    "    x_mean = x_train.mean(axis=0, keepdims=True)\n",
    "    x_std = x_train.std(axis=0, keepdims=True)  \n",
    "    x_std = np.where(x_std < 1, 1, x_std)\n",
    "\n",
    "    y_mean = s_y.rolling(window=predict_to_future).sum().ewm(alpha=0.1).mean().ewm(alpha=0.05).mean()\n",
    "    y_std = (s_all_targets - y_mean).reindex(ix_train).values.std()\n",
    "\n",
    "    model.fit(\n",
    "        (X.reindex(ix_train).values - x_mean) / x_std, \n",
    "        (s_all_targets - y_mean).reindex(ix_train).values / y_std,\n",
    "    )\n",
    "    \n",
    "    s_predict = pd.Series(\n",
    "        model.predict((X.reindex(ix_all).values - x_mean) / x_std) * y_std,\n",
    "        index=ix_all,\n",
    "    ) + y_mean\n",
    "    df_all_predict = pd.concat([\n",
    "        s_all_targets.rename('y_true'),\n",
    "        s_predict.rename('y_predict'),\n",
    "    ], axis=1)\n",
    "\n",
    "    \n",
    "    pd_results = pd.concat([\n",
    "        df_all_predict.reindex(ix).groupby(lambda x: name).apply(\n",
    "            lambda x: pd.Series([\n",
    "                r2_score(x['y_true'], x['y_predict']),\n",
    "                mean_absolute_percentage_error(x['y_true'], x['y_predict']),\n",
    "                mean_squared_error(x['y_true'], x['y_predict'], squared=False),\n",
    "            ], index=['r2', 'mape', 'rmse']))\n",
    "        for ix, name in zip([ix_train, ix_valid, ix_test], ['train', 'valid', 'test'])\n",
    "    ]).unstack().rename(name).to_frame().T\n",
    "    display(pd_results)\n",
    "\n",
    "    ax = df_all_predict.plot(figsize=(18, 2))\n",
    "    for x in [21, 450, 575, len(s_y) - 7]:\n",
    "        ax.axvline(x, color='red')\n",
    "    plt.show()\n",
    "    \n",
    "    return pd_results"
   ]
  },
  {
   "cell_type": "code",
   "execution_count": null,
   "id": "cooperative-congress",
   "metadata": {},
   "outputs": [],
   "source": [
    "class DummyModel:\n",
    "    def fit(self, X, y):\n",
    "        return self\n",
    "    \n",
    "    def predict(self, X):\n",
    "        return np.zeros(len(X))"
   ]
  },
  {
   "cell_type": "code",
   "execution_count": null,
   "id": "informed-reserve",
   "metadata": {},
   "outputs": [],
   "source": [
    "all_results = []"
   ]
  },
  {
   "cell_type": "code",
   "execution_count": null,
   "id": "acoustic-photograph",
   "metadata": {},
   "outputs": [],
   "source": [
    "all_results.append(train_estimate(DummyModel, {}, pd.concat([\n",
    "    *[s_y.shift(i) for i in range(1)],\n",
    "], axis=1), 'dummy'))\n",
    "all_results.append(train_estimate(Ridge, dict(alpha=1), pd.concat([\n",
    "    *[s_y.shift(i) for i in range(7)],\n",
    "], axis=1), 'ar7'))\n",
    "all_results.append(train_estimate(Ridge, dict(alpha=1), pd.concat([\n",
    "    *[s_y.shift(i) for i in range(14)],\n",
    "], axis=1), 'ar14'))\n",
    "all_results.append(train_estimate(Ridge, dict(alpha=1), pd.concat([\n",
    "    *[s_y.shift(i) for i in range(21)],\n",
    "], axis=1), 'ar21'))"
   ]
  },
  {
   "cell_type": "code",
   "execution_count": null,
   "id": "interpreted-vessel",
   "metadata": {},
   "outputs": [],
   "source": [
    "all_results.append(train_estimate(Ridge, dict(alpha=300), pd.concat([\n",
    "    *[s_y.shift(i) for i in range(14)],\n",
    "    *[df_features.shift(i) for i in range(1)],\n",
    "], axis=1), 'ar14+f1'))"
   ]
  },
  {
   "cell_type": "code",
   "execution_count": null,
   "id": "seventh-heavy",
   "metadata": {},
   "outputs": [],
   "source": [
    "all_results.append(train_estimate(Ridge, dict(alpha=300), pd.concat([\n",
    "    *[s_y.shift(i) for i in range(14)],\n",
    "    *[df_se_x.shift(i) for i in range(1)],\n",
    "], axis=1), 'ar14+x1'))"
   ]
  },
  {
   "cell_type": "code",
   "execution_count": null,
   "id": "according-executive",
   "metadata": {},
   "outputs": [],
   "source": [
    "all_results.append(train_estimate(Ridge, dict(alpha=70), pd.concat([\n",
    "    *[s_y.shift(i) for i in range(14)],\n",
    "    *[df_se_z.shift(i) for i in range(1)],\n",
    "], axis=1), 'ar14+z1'))"
   ]
  },
  {
   "cell_type": "code",
   "execution_count": null,
   "id": "saved-brunswick",
   "metadata": {},
   "outputs": [],
   "source": [
    "all_results.append(train_estimate(Ridge, dict(alpha=50), pd.concat([\n",
    "    *[s_y.shift(i) for i in range(14)],\n",
    "    *[df_se_c.shift(i) for i in range(1)],\n",
    "], axis=1), 'ar14+c1'))"
   ]
  },
  {
   "cell_type": "code",
   "execution_count": null,
   "id": "respective-university",
   "metadata": {},
   "outputs": [],
   "source": []
  },
  {
   "cell_type": "code",
   "execution_count": null,
   "id": "passive-sequence",
   "metadata": {},
   "outputs": [],
   "source": []
  },
  {
   "cell_type": "code",
   "execution_count": null,
   "id": "corporate-buddy",
   "metadata": {
    "scrolled": false
   },
   "outputs": [],
   "source": [
    "m_list = pd.concat(all_results, axis=0).columns.levels[0]\n",
    "e_list = pd.concat(all_results, axis=0).index\n",
    "e_lists = [\n",
    "    ['ar14', 'ar14+f1'],\n",
    "    ['ar14', 'ar14+x1'],\n",
    "    ['ar14', 'ar14+z1'],\n",
    "    ['ar14', 'ar14+c1'],\n",
    "]\n",
    "\n",
    "_, axs = plt.subplots(1 + len(e_lists), len(m_list), figsize=(6 * len(m_list), 3 * (1 + len(e_lists))))\n",
    "for ax, m in zip(axs[0], m_list):\n",
    "    pd.concat(all_results, axis=0).stack(level=1).swaplevel().unstack()[m][e_list] \\\n",
    "    .plot(kind='bar', ax=ax, title=m)\n",
    "for l, _axs in zip(e_lists, axs[1:]):\n",
    "    for ax, m in zip(_axs, m_list):\n",
    "        pd.concat(all_results, axis=0).stack(level=1).swaplevel().unstack()[m][l] \\\n",
    "        .plot(kind='bar', ax=ax, title=m, legend=None)\n",
    "plt.show()"
   ]
  },
  {
   "cell_type": "code",
   "execution_count": null,
   "id": "painted-circuit",
   "metadata": {},
   "outputs": [],
   "source": []
  }
 ],
 "metadata": {
  "kernelspec": {
   "display_name": "pytorch_lifestream",
   "language": "python",
   "name": "pytorch_lifestream"
  },
  "language_info": {
   "codemirror_mode": {
    "name": "ipython",
    "version": 3
   },
   "file_extension": ".py",
   "mimetype": "text/x-python",
   "name": "python",
   "nbconvert_exporter": "python",
   "pygments_lexer": "ipython3",
   "version": "3.8.0"
  }
 },
 "nbformat": 4,
 "nbformat_minor": 5
}
