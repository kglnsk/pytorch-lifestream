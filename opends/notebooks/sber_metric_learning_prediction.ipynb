{
 "cells": [
  {
   "cell_type": "markdown",
   "metadata": {},
   "source": [
    "Импортируем нужные библиотеки."
   ]
  },
  {
   "cell_type": "code",
   "execution_count": 1,
   "metadata": {},
   "outputs": [],
   "source": [
    "import numpy as np\n",
    "import pandas as pd\n",
    "import pickle\n",
    "import xgboost as xgb\n",
    "import lightgbm"
   ]
  },
  {
   "cell_type": "code",
   "execution_count": 2,
   "metadata": {},
   "outputs": [],
   "source": [
    "%matplotlib inline\n",
    "import matplotlib.pyplot as plt"
   ]
  },
  {
   "cell_type": "markdown",
   "metadata": {},
   "source": [
    "Распакуйте архив с данными в папку,где находится этот jupyter notebook (baseline.ipynb). У вас будет папка data,  содержащая необходимые файлы. \n",
    "\n",
    "В данном соревновании перед вами ставится задача предсказания категории возраста, к которой принадлежит клиент банка, на основании его транзакций.\n",
    "В обучающем наборе содержатся информация по транзакциям 30000 клиентов, она находится в файле **transactions_train.csv**. Правильная категория возраста для обучающего набора находится в файле **train_target.csv**."
   ]
  },
  {
   "cell_type": "markdown",
   "metadata": {},
   "source": [
    "Считаем данные по транзакциям и правильные ответы."
   ]
  },
  {
   "cell_type": "code",
   "execution_count": 3,
   "metadata": {},
   "outputs": [],
   "source": [
    "PROJECT_PATH = '/data/kireev-ia/data_open_ds/age-prediction-nti-sbebank-2019/'"
   ]
  },
  {
   "cell_type": "code",
   "execution_count": 4,
   "metadata": {},
   "outputs": [],
   "source": [
    "transactions_train = pd.read_csv(PROJECT_PATH + 'data/transactions_train.csv')\n",
    "transactions_test = pd.read_csv(PROJECT_PATH + 'data/transactions_test.csv')"
   ]
  },
  {
   "cell_type": "code",
   "execution_count": 5,
   "metadata": {},
   "outputs": [],
   "source": [
    "train_target=pd.read_csv(PROJECT_PATH + 'data/train_target.csv')"
   ]
  },
  {
   "cell_type": "markdown",
   "metadata": {},
   "source": [
    "Посмотрим на данные."
   ]
  },
  {
   "cell_type": "code",
   "execution_count": 6,
   "metadata": {},
   "outputs": [
    {
     "data": {
      "text/html": [
       "<div>\n",
       "<style scoped>\n",
       "    .dataframe tbody tr th:only-of-type {\n",
       "        vertical-align: middle;\n",
       "    }\n",
       "\n",
       "    .dataframe tbody tr th {\n",
       "        vertical-align: top;\n",
       "    }\n",
       "\n",
       "    .dataframe thead th {\n",
       "        text-align: right;\n",
       "    }\n",
       "</style>\n",
       "<table border=\"1\" class=\"dataframe\">\n",
       "  <thead>\n",
       "    <tr style=\"text-align: right;\">\n",
       "      <th></th>\n",
       "      <th>client_id</th>\n",
       "      <th>trans_date</th>\n",
       "      <th>small_group</th>\n",
       "      <th>amount_rur</th>\n",
       "    </tr>\n",
       "  </thead>\n",
       "  <tbody>\n",
       "    <tr>\n",
       "      <th>0</th>\n",
       "      <td>33172</td>\n",
       "      <td>6</td>\n",
       "      <td>4</td>\n",
       "      <td>71.463</td>\n",
       "    </tr>\n",
       "    <tr>\n",
       "      <th>1</th>\n",
       "      <td>33172</td>\n",
       "      <td>6</td>\n",
       "      <td>35</td>\n",
       "      <td>45.017</td>\n",
       "    </tr>\n",
       "    <tr>\n",
       "      <th>2</th>\n",
       "      <td>33172</td>\n",
       "      <td>8</td>\n",
       "      <td>11</td>\n",
       "      <td>13.887</td>\n",
       "    </tr>\n",
       "    <tr>\n",
       "      <th>3</th>\n",
       "      <td>33172</td>\n",
       "      <td>9</td>\n",
       "      <td>11</td>\n",
       "      <td>15.983</td>\n",
       "    </tr>\n",
       "    <tr>\n",
       "      <th>4</th>\n",
       "      <td>33172</td>\n",
       "      <td>10</td>\n",
       "      <td>11</td>\n",
       "      <td>21.341</td>\n",
       "    </tr>\n",
       "  </tbody>\n",
       "</table>\n",
       "</div>"
      ],
      "text/plain": [
       "   client_id  trans_date  small_group  amount_rur\n",
       "0      33172           6            4      71.463\n",
       "1      33172           6           35      45.017\n",
       "2      33172           8           11      13.887\n",
       "3      33172           9           11      15.983\n",
       "4      33172          10           11      21.341"
      ]
     },
     "execution_count": 6,
     "metadata": {},
     "output_type": "execute_result"
    }
   ],
   "source": [
    "transactions_train.head()"
   ]
  },
  {
   "cell_type": "markdown",
   "metadata": {},
   "source": [
    "* client_id - уникальный идентификатор клиента\n",
    "* trans_date - дата совершения транзакции\n",
    "* small_group - категория покупки\n",
    "* amount_rur - сумма транзакции"
   ]
  },
  {
   "cell_type": "code",
   "execution_count": 7,
   "metadata": {},
   "outputs": [
    {
     "data": {
      "text/html": [
       "<div>\n",
       "<style scoped>\n",
       "    .dataframe tbody tr th:only-of-type {\n",
       "        vertical-align: middle;\n",
       "    }\n",
       "\n",
       "    .dataframe tbody tr th {\n",
       "        vertical-align: top;\n",
       "    }\n",
       "\n",
       "    .dataframe thead th {\n",
       "        text-align: right;\n",
       "    }\n",
       "</style>\n",
       "<table border=\"1\" class=\"dataframe\">\n",
       "  <thead>\n",
       "    <tr style=\"text-align: right;\">\n",
       "      <th></th>\n",
       "      <th>client_id</th>\n",
       "      <th>bins</th>\n",
       "    </tr>\n",
       "  </thead>\n",
       "  <tbody>\n",
       "    <tr>\n",
       "      <th>0</th>\n",
       "      <td>24662</td>\n",
       "      <td>2</td>\n",
       "    </tr>\n",
       "    <tr>\n",
       "      <th>1</th>\n",
       "      <td>1046</td>\n",
       "      <td>0</td>\n",
       "    </tr>\n",
       "    <tr>\n",
       "      <th>2</th>\n",
       "      <td>34089</td>\n",
       "      <td>2</td>\n",
       "    </tr>\n",
       "    <tr>\n",
       "      <th>3</th>\n",
       "      <td>34848</td>\n",
       "      <td>1</td>\n",
       "    </tr>\n",
       "    <tr>\n",
       "      <th>4</th>\n",
       "      <td>47076</td>\n",
       "      <td>3</td>\n",
       "    </tr>\n",
       "  </tbody>\n",
       "</table>\n",
       "</div>"
      ],
      "text/plain": [
       "   client_id  bins\n",
       "0      24662     2\n",
       "1       1046     0\n",
       "2      34089     2\n",
       "3      34848     1\n",
       "4      47076     3"
      ]
     },
     "execution_count": 7,
     "metadata": {},
     "output_type": "execute_result"
    }
   ],
   "source": [
    "train_target.head(5)"
   ]
  },
  {
   "cell_type": "markdown",
   "metadata": {},
   "source": [
    "* client_id - уникальный идентификатор клиента, соответствует полю client_id из транзакций\n",
    "* bins - целевая переменная, которую нужно предсказать, это категория возраста клиента"
   ]
  },
  {
   "cell_type": "code",
   "execution_count": 8,
   "metadata": {},
   "outputs": [],
   "source": [
    "from sklearn.model_selection import train_test_split"
   ]
  },
  {
   "cell_type": "code",
   "execution_count": 9,
   "metadata": {},
   "outputs": [],
   "source": [
    "train_target, test_target = train_test_split(train_target, test_size=0.4,\n",
    "                                             stratify=train_target['bins'], random_state=42)"
   ]
  },
  {
   "cell_type": "code",
   "execution_count": 10,
   "metadata": {},
   "outputs": [
    {
     "data": {
      "text/plain": [
       "((18000, 2), (12000, 2))"
      ]
     },
     "execution_count": 10,
     "metadata": {},
     "output_type": "execute_result"
    }
   ],
   "source": [
    "train_target.shape, test_target.shape"
   ]
  },
  {
   "cell_type": "markdown",
   "metadata": {},
   "source": [
    "# Metric Learning Dataset preparation"
   ]
  },
  {
   "cell_type": "code",
   "execution_count": null,
   "metadata": {},
   "outputs": [],
   "source": [
    "transactions_all = pd.concat([transactions_train, transactions_test], axis=0)"
   ]
  },
  {
   "cell_type": "code",
   "execution_count": null,
   "metadata": {},
   "outputs": [],
   "source": [
    "transactions_all.groupby('client_id')['trans_date'].count().value_counts().sort_index()"
   ]
  },
  {
   "cell_type": "code",
   "execution_count": null,
   "metadata": {},
   "outputs": [],
   "source": [
    "transactions_all['trans_date'].value_counts().sort_index()"
   ]
  },
  {
   "cell_type": "code",
   "execution_count": null,
   "metadata": {},
   "outputs": [],
   "source": [
    "transactions_all['small_group'].value_counts().sort_index()"
   ]
  },
  {
   "cell_type": "code",
   "execution_count": null,
   "metadata": {},
   "outputs": [],
   "source": [
    "transactions_all['amount_rur'].clip(None, 200).hist(figsize=(12, 6), bins=20)"
   ]
  },
  {
   "cell_type": "code",
   "execution_count": null,
   "metadata": {},
   "outputs": [],
   "source": [
    "np.log1p(transactions_all['amount_rur']).hist(figsize=(12, 6), bins=20)"
   ]
  },
  {
   "cell_type": "code",
   "execution_count": null,
   "metadata": {},
   "outputs": [],
   "source": [
    "transactions_all['amount_rur'] = np.log1p(transactions_all['amount_rur']).clip(0, 8) / 8"
   ]
  },
  {
   "cell_type": "code",
   "execution_count": null,
   "metadata": {},
   "outputs": [],
   "source": [
    "%%time\n",
    "train_dataset = transactions_all \\\n",
    "    .assign(event_time=lambda x: x['trans_date']) \\\n",
    "    .set_index(['client_id', 'event_time']).sort_index() \\\n",
    "    .groupby('client_id').apply(lambda x: {k: np.array(v) for k, v in x.to_dict(orient='list').items()}) \\\n",
    "    .rename('feature_arrays').reset_index().to_dict(orient='records')"
   ]
  },
  {
   "cell_type": "code",
   "execution_count": null,
   "metadata": {},
   "outputs": [],
   "source": [
    "def copy_time(rec):\n",
    "    rec['event_time'] = rec['feature_arrays']['trans_date'].copy()\n",
    "    return rec"
   ]
  },
  {
   "cell_type": "code",
   "execution_count": null,
   "metadata": {},
   "outputs": [],
   "source": [
    "train_dataset = [copy_time(r) for r in train_dataset]"
   ]
  },
  {
   "cell_type": "code",
   "execution_count": null,
   "metadata": {},
   "outputs": [],
   "source": [
    "len(train_dataset)"
   ]
  },
  {
   "cell_type": "code",
   "execution_count": null,
   "metadata": {},
   "outputs": [],
   "source": [
    "path_for_save = PROJECT_PATH + 'sber_all_trx.p'\n",
    "with open(path_for_save, 'wb') as f:\n",
    "    pickle.dump(train_dataset, f)\n",
    "print(f'Saved to: \"{path_for_save}\"')"
   ]
  },
  {
   "cell_type": "code",
   "execution_count": null,
   "metadata": {},
   "outputs": [],
   "source": [
    "list(train_dataset[0]['feature_arrays'].keys())"
   ]
  },
  {
   "cell_type": "code",
   "execution_count": null,
   "metadata": {},
   "outputs": [],
   "source": []
  },
  {
   "cell_type": "markdown",
   "metadata": {},
   "source": [
    "# Target DL Dataset Preparaion"
   ]
  },
  {
   "cell_type": "code",
   "execution_count": null,
   "metadata": {},
   "outputs": [],
   "source": [
    "path_for_load = PROJECT_PATH + 'sber_all_trx.p'\n",
    "with open(path_for_load, 'rb') as f:\n",
    "    all_trx_dataset = pickle.load(f)\n",
    "print(f'Loaded from: \"{path_for_load}\"')"
   ]
  },
  {
   "cell_type": "code",
   "execution_count": null,
   "metadata": {},
   "outputs": [],
   "source": [
    "d_train_target = train_target.set_index('client_id').to_dict(orient='index')\n",
    "d_test_target = test_target.set_index('client_id').to_dict(orient='index')"
   ]
  },
  {
   "cell_type": "code",
   "execution_count": null,
   "metadata": {},
   "outputs": [],
   "source": [
    "train_trx_dataset = [\n",
    "    dict([('target', d_train_target[rec['client_id']]['bins'])] + list(rec.items()))\n",
    "    for rec in all_trx_dataset if rec['client_id'] in d_train_target\n",
    "]"
   ]
  },
  {
   "cell_type": "code",
   "execution_count": null,
   "metadata": {},
   "outputs": [],
   "source": [
    "test_trx_dataset = [\n",
    "    dict([('target', d_test_target[rec['client_id']]['bins'])] + list(rec.items()))\n",
    "    for rec in all_trx_dataset if rec['client_id'] in d_test_target\n",
    "]"
   ]
  },
  {
   "cell_type": "code",
   "execution_count": null,
   "metadata": {},
   "outputs": [],
   "source": [
    "path_for_save = PROJECT_PATH + 'sber_train_trx_dataset.p'\n",
    "with open(path_for_save, 'wb') as f:\n",
    "    pickle.dump(train_trx_dataset, f)\n",
    "print(f'Saved to: \"{path_for_save}\"')\n",
    "\n",
    "path_for_save = PROJECT_PATH + 'sber_test_trx_dataset.p'\n",
    "with open(path_for_save, 'wb') as f:\n",
    "    pickle.dump(test_trx_dataset, f)\n",
    "print(f'Saved to: \"{path_for_save}\"')"
   ]
  },
  {
   "cell_type": "code",
   "execution_count": null,
   "metadata": {},
   "outputs": [],
   "source": []
  },
  {
   "cell_type": "markdown",
   "metadata": {},
   "source": [
    "# Prepare features"
   ]
  },
  {
   "cell_type": "markdown",
   "metadata": {},
   "source": [
    "## Agg featrues"
   ]
  },
  {
   "cell_type": "code",
   "execution_count": 11,
   "metadata": {},
   "outputs": [],
   "source": [
    "# transactions_train.set_index('client_id') \\\n",
    "#     .groupby(level='client_id')['trans_date'].diff() \\\n",
    "#     .groupby(level='client_id').agg(['mean', 'std']) \\\n",
    "#     .rename(columns={'mean': 'ext_tdd_mean', 'std': 'ext_tdd_std'})"
   ]
  },
  {
   "cell_type": "code",
   "execution_count": 12,
   "metadata": {},
   "outputs": [
    {
     "data": {
      "text/html": [
       "<div>\n",
       "<style scoped>\n",
       "    .dataframe tbody tr th:only-of-type {\n",
       "        vertical-align: middle;\n",
       "    }\n",
       "\n",
       "    .dataframe tbody tr th {\n",
       "        vertical-align: top;\n",
       "    }\n",
       "\n",
       "    .dataframe thead th {\n",
       "        text-align: right;\n",
       "    }\n",
       "</style>\n",
       "<table border=\"1\" class=\"dataframe\">\n",
       "  <thead>\n",
       "    <tr style=\"text-align: right;\">\n",
       "      <th></th>\n",
       "      <th>sum</th>\n",
       "      <th>mean</th>\n",
       "      <th>std</th>\n",
       "      <th>min</th>\n",
       "      <th>max</th>\n",
       "      <th>ext_small_group_unique</th>\n",
       "    </tr>\n",
       "    <tr>\n",
       "      <th>client_id</th>\n",
       "      <th></th>\n",
       "      <th></th>\n",
       "      <th></th>\n",
       "      <th></th>\n",
       "      <th></th>\n",
       "      <th></th>\n",
       "    </tr>\n",
       "  </thead>\n",
       "  <tbody>\n",
       "    <tr>\n",
       "      <th>4</th>\n",
       "      <td>28404.121</td>\n",
       "      <td>39.450168</td>\n",
       "      <td>73.511624</td>\n",
       "      <td>0.043</td>\n",
       "      <td>1341.802</td>\n",
       "      <td>22</td>\n",
       "    </tr>\n",
       "    <tr>\n",
       "      <th>6</th>\n",
       "      <td>15720.739</td>\n",
       "      <td>21.535259</td>\n",
       "      <td>26.200397</td>\n",
       "      <td>0.045</td>\n",
       "      <td>315.781</td>\n",
       "      <td>17</td>\n",
       "    </tr>\n",
       "    <tr>\n",
       "      <th>7</th>\n",
       "      <td>53630.036</td>\n",
       "      <td>69.379089</td>\n",
       "      <td>253.261383</td>\n",
       "      <td>0.043</td>\n",
       "      <td>4505.971</td>\n",
       "      <td>42</td>\n",
       "    </tr>\n",
       "    <tr>\n",
       "      <th>10</th>\n",
       "      <td>34419.365</td>\n",
       "      <td>48.752642</td>\n",
       "      <td>63.191701</td>\n",
       "      <td>0.045</td>\n",
       "      <td>654.893</td>\n",
       "      <td>28</td>\n",
       "    </tr>\n",
       "    <tr>\n",
       "      <th>11</th>\n",
       "      <td>26789.404</td>\n",
       "      <td>32.991877</td>\n",
       "      <td>107.395139</td>\n",
       "      <td>0.388</td>\n",
       "      <td>2105.058</td>\n",
       "      <td>34</td>\n",
       "    </tr>\n",
       "  </tbody>\n",
       "</table>\n",
       "</div>"
      ],
      "text/plain": [
       "                 sum       mean         std    min       max  \\\n",
       "client_id                                                      \n",
       "4          28404.121  39.450168   73.511624  0.043  1341.802   \n",
       "6          15720.739  21.535259   26.200397  0.045   315.781   \n",
       "7          53630.036  69.379089  253.261383  0.043  4505.971   \n",
       "10         34419.365  48.752642   63.191701  0.045   654.893   \n",
       "11         26789.404  32.991877  107.395139  0.388  2105.058   \n",
       "\n",
       "           ext_small_group_unique  \n",
       "client_id                          \n",
       "4                              22  \n",
       "6                              17  \n",
       "7                              42  \n",
       "10                             28  \n",
       "11                             34  "
      ]
     },
     "execution_count": 12,
     "metadata": {},
     "output_type": "execute_result"
    }
   ],
   "source": [
    "agg_features = pd.concat([\n",
    "    transactions_train.groupby('client_id')['amount_rur'].agg(['sum','mean','std','min','max']),\n",
    "    transactions_train.groupby('client_id')['small_group'].nunique().rename('ext_small_group_unique'),\n",
    "], axis=1)\n",
    "\n",
    "agg_features.head()"
   ]
  },
  {
   "cell_type": "code",
   "execution_count": 13,
   "metadata": {},
   "outputs": [],
   "source": [
    "cat_counts_train = pd.concat([\n",
    "    transactions_train.pivot_table(\n",
    "        index='client_id', columns='small_group', values='amount_rur', aggfunc='count').fillna(0.0),\n",
    "    transactions_train.pivot_table(\n",
    "        index='client_id', columns='small_group', values='amount_rur', aggfunc='mean').fillna(0.0),\n",
    "    transactions_train.pivot_table(\n",
    "        index='client_id', columns='small_group', values='amount_rur', aggfunc='std').fillna(0.0),\n",
    "], axis=1, keys=['small_group_count', 'small_group_mean', 'small_group_std'])\n"
   ]
  },
  {
   "cell_type": "code",
   "execution_count": 14,
   "metadata": {},
   "outputs": [
    {
     "data": {
      "text/html": [
       "<div>\n",
       "<style scoped>\n",
       "    .dataframe tbody tr th:only-of-type {\n",
       "        vertical-align: middle;\n",
       "    }\n",
       "\n",
       "    .dataframe tbody tr th {\n",
       "        vertical-align: top;\n",
       "    }\n",
       "\n",
       "    .dataframe thead tr th {\n",
       "        text-align: left;\n",
       "    }\n",
       "\n",
       "    .dataframe thead tr:last-of-type th {\n",
       "        text-align: right;\n",
       "    }\n",
       "</style>\n",
       "<table border=\"1\" class=\"dataframe\">\n",
       "  <thead>\n",
       "    <tr>\n",
       "      <th></th>\n",
       "      <th colspan=\"10\" halign=\"left\">small_group_count</th>\n",
       "      <th>...</th>\n",
       "      <th colspan=\"10\" halign=\"left\">small_group_std</th>\n",
       "    </tr>\n",
       "    <tr>\n",
       "      <th>small_group</th>\n",
       "      <th>0</th>\n",
       "      <th>1</th>\n",
       "      <th>2</th>\n",
       "      <th>3</th>\n",
       "      <th>4</th>\n",
       "      <th>5</th>\n",
       "      <th>6</th>\n",
       "      <th>7</th>\n",
       "      <th>8</th>\n",
       "      <th>9</th>\n",
       "      <th>...</th>\n",
       "      <th>186</th>\n",
       "      <th>187</th>\n",
       "      <th>190</th>\n",
       "      <th>191</th>\n",
       "      <th>192</th>\n",
       "      <th>193</th>\n",
       "      <th>195</th>\n",
       "      <th>196</th>\n",
       "      <th>197</th>\n",
       "      <th>198</th>\n",
       "    </tr>\n",
       "    <tr>\n",
       "      <th>client_id</th>\n",
       "      <th></th>\n",
       "      <th></th>\n",
       "      <th></th>\n",
       "      <th></th>\n",
       "      <th></th>\n",
       "      <th></th>\n",
       "      <th></th>\n",
       "      <th></th>\n",
       "      <th></th>\n",
       "      <th></th>\n",
       "      <th></th>\n",
       "      <th></th>\n",
       "      <th></th>\n",
       "      <th></th>\n",
       "      <th></th>\n",
       "      <th></th>\n",
       "      <th></th>\n",
       "      <th></th>\n",
       "      <th></th>\n",
       "      <th></th>\n",
       "      <th></th>\n",
       "    </tr>\n",
       "  </thead>\n",
       "  <tbody>\n",
       "    <tr>\n",
       "      <th>4</th>\n",
       "      <td>0.0</td>\n",
       "      <td>447.0</td>\n",
       "      <td>1.0</td>\n",
       "      <td>44.0</td>\n",
       "      <td>93.0</td>\n",
       "      <td>0.0</td>\n",
       "      <td>0.0</td>\n",
       "      <td>0.0</td>\n",
       "      <td>1.0</td>\n",
       "      <td>13.0</td>\n",
       "      <td>...</td>\n",
       "      <td>0.0</td>\n",
       "      <td>0.0</td>\n",
       "      <td>0.0</td>\n",
       "      <td>0.0</td>\n",
       "      <td>0.0</td>\n",
       "      <td>0.0</td>\n",
       "      <td>0.0</td>\n",
       "      <td>0.0</td>\n",
       "      <td>0.0</td>\n",
       "      <td>0.0</td>\n",
       "    </tr>\n",
       "    <tr>\n",
       "      <th>6</th>\n",
       "      <td>2.0</td>\n",
       "      <td>397.0</td>\n",
       "      <td>0.0</td>\n",
       "      <td>172.0</td>\n",
       "      <td>10.0</td>\n",
       "      <td>0.0</td>\n",
       "      <td>0.0</td>\n",
       "      <td>0.0</td>\n",
       "      <td>0.0</td>\n",
       "      <td>6.0</td>\n",
       "      <td>...</td>\n",
       "      <td>0.0</td>\n",
       "      <td>0.0</td>\n",
       "      <td>0.0</td>\n",
       "      <td>0.0</td>\n",
       "      <td>0.0</td>\n",
       "      <td>0.0</td>\n",
       "      <td>0.0</td>\n",
       "      <td>0.0</td>\n",
       "      <td>0.0</td>\n",
       "      <td>0.0</td>\n",
       "    </tr>\n",
       "    <tr>\n",
       "      <th>7</th>\n",
       "      <td>2.0</td>\n",
       "      <td>79.0</td>\n",
       "      <td>5.0</td>\n",
       "      <td>27.0</td>\n",
       "      <td>19.0</td>\n",
       "      <td>1.0</td>\n",
       "      <td>0.0</td>\n",
       "      <td>2.0</td>\n",
       "      <td>1.0</td>\n",
       "      <td>39.0</td>\n",
       "      <td>...</td>\n",
       "      <td>0.0</td>\n",
       "      <td>0.0</td>\n",
       "      <td>0.0</td>\n",
       "      <td>0.0</td>\n",
       "      <td>0.0</td>\n",
       "      <td>0.0</td>\n",
       "      <td>0.0</td>\n",
       "      <td>0.0</td>\n",
       "      <td>0.0</td>\n",
       "      <td>0.0</td>\n",
       "    </tr>\n",
       "    <tr>\n",
       "      <th>10</th>\n",
       "      <td>12.0</td>\n",
       "      <td>309.0</td>\n",
       "      <td>1.0</td>\n",
       "      <td>71.0</td>\n",
       "      <td>65.0</td>\n",
       "      <td>0.0</td>\n",
       "      <td>0.0</td>\n",
       "      <td>0.0</td>\n",
       "      <td>3.0</td>\n",
       "      <td>19.0</td>\n",
       "      <td>...</td>\n",
       "      <td>0.0</td>\n",
       "      <td>0.0</td>\n",
       "      <td>0.0</td>\n",
       "      <td>0.0</td>\n",
       "      <td>0.0</td>\n",
       "      <td>0.0</td>\n",
       "      <td>0.0</td>\n",
       "      <td>0.0</td>\n",
       "      <td>0.0</td>\n",
       "      <td>0.0</td>\n",
       "    </tr>\n",
       "    <tr>\n",
       "      <th>11</th>\n",
       "      <td>2.0</td>\n",
       "      <td>423.0</td>\n",
       "      <td>0.0</td>\n",
       "      <td>59.0</td>\n",
       "      <td>23.0</td>\n",
       "      <td>3.0</td>\n",
       "      <td>0.0</td>\n",
       "      <td>0.0</td>\n",
       "      <td>0.0</td>\n",
       "      <td>10.0</td>\n",
       "      <td>...</td>\n",
       "      <td>0.0</td>\n",
       "      <td>0.0</td>\n",
       "      <td>0.0</td>\n",
       "      <td>0.0</td>\n",
       "      <td>0.0</td>\n",
       "      <td>0.0</td>\n",
       "      <td>0.0</td>\n",
       "      <td>0.0</td>\n",
       "      <td>0.0</td>\n",
       "      <td>0.0</td>\n",
       "    </tr>\n",
       "    <tr>\n",
       "      <th>...</th>\n",
       "      <td>...</td>\n",
       "      <td>...</td>\n",
       "      <td>...</td>\n",
       "      <td>...</td>\n",
       "      <td>...</td>\n",
       "      <td>...</td>\n",
       "      <td>...</td>\n",
       "      <td>...</td>\n",
       "      <td>...</td>\n",
       "      <td>...</td>\n",
       "      <td>...</td>\n",
       "      <td>...</td>\n",
       "      <td>...</td>\n",
       "      <td>...</td>\n",
       "      <td>...</td>\n",
       "      <td>...</td>\n",
       "      <td>...</td>\n",
       "      <td>...</td>\n",
       "      <td>...</td>\n",
       "      <td>...</td>\n",
       "      <td>...</td>\n",
       "    </tr>\n",
       "    <tr>\n",
       "      <th>49993</th>\n",
       "      <td>0.0</td>\n",
       "      <td>206.0</td>\n",
       "      <td>1.0</td>\n",
       "      <td>83.0</td>\n",
       "      <td>40.0</td>\n",
       "      <td>4.0</td>\n",
       "      <td>0.0</td>\n",
       "      <td>1.0</td>\n",
       "      <td>1.0</td>\n",
       "      <td>12.0</td>\n",
       "      <td>...</td>\n",
       "      <td>0.0</td>\n",
       "      <td>0.0</td>\n",
       "      <td>0.0</td>\n",
       "      <td>0.0</td>\n",
       "      <td>0.0</td>\n",
       "      <td>0.0</td>\n",
       "      <td>0.0</td>\n",
       "      <td>0.0</td>\n",
       "      <td>0.0</td>\n",
       "      <td>0.0</td>\n",
       "    </tr>\n",
       "    <tr>\n",
       "      <th>49995</th>\n",
       "      <td>14.0</td>\n",
       "      <td>158.0</td>\n",
       "      <td>5.0</td>\n",
       "      <td>66.0</td>\n",
       "      <td>30.0</td>\n",
       "      <td>2.0</td>\n",
       "      <td>0.0</td>\n",
       "      <td>1.0</td>\n",
       "      <td>2.0</td>\n",
       "      <td>7.0</td>\n",
       "      <td>...</td>\n",
       "      <td>0.0</td>\n",
       "      <td>0.0</td>\n",
       "      <td>0.0</td>\n",
       "      <td>0.0</td>\n",
       "      <td>0.0</td>\n",
       "      <td>0.0</td>\n",
       "      <td>0.0</td>\n",
       "      <td>0.0</td>\n",
       "      <td>0.0</td>\n",
       "      <td>0.0</td>\n",
       "    </tr>\n",
       "    <tr>\n",
       "      <th>49996</th>\n",
       "      <td>1.0</td>\n",
       "      <td>296.0</td>\n",
       "      <td>0.0</td>\n",
       "      <td>11.0</td>\n",
       "      <td>42.0</td>\n",
       "      <td>2.0</td>\n",
       "      <td>0.0</td>\n",
       "      <td>0.0</td>\n",
       "      <td>2.0</td>\n",
       "      <td>18.0</td>\n",
       "      <td>...</td>\n",
       "      <td>0.0</td>\n",
       "      <td>0.0</td>\n",
       "      <td>0.0</td>\n",
       "      <td>0.0</td>\n",
       "      <td>0.0</td>\n",
       "      <td>0.0</td>\n",
       "      <td>0.0</td>\n",
       "      <td>0.0</td>\n",
       "      <td>0.0</td>\n",
       "      <td>0.0</td>\n",
       "    </tr>\n",
       "    <tr>\n",
       "      <th>49997</th>\n",
       "      <td>0.0</td>\n",
       "      <td>372.0</td>\n",
       "      <td>0.0</td>\n",
       "      <td>12.0</td>\n",
       "      <td>10.0</td>\n",
       "      <td>0.0</td>\n",
       "      <td>0.0</td>\n",
       "      <td>0.0</td>\n",
       "      <td>0.0</td>\n",
       "      <td>1.0</td>\n",
       "      <td>...</td>\n",
       "      <td>0.0</td>\n",
       "      <td>0.0</td>\n",
       "      <td>0.0</td>\n",
       "      <td>0.0</td>\n",
       "      <td>0.0</td>\n",
       "      <td>0.0</td>\n",
       "      <td>0.0</td>\n",
       "      <td>0.0</td>\n",
       "      <td>0.0</td>\n",
       "      <td>0.0</td>\n",
       "    </tr>\n",
       "    <tr>\n",
       "      <th>49998</th>\n",
       "      <td>0.0</td>\n",
       "      <td>313.0</td>\n",
       "      <td>123.0</td>\n",
       "      <td>160.0</td>\n",
       "      <td>3.0</td>\n",
       "      <td>0.0</td>\n",
       "      <td>0.0</td>\n",
       "      <td>0.0</td>\n",
       "      <td>0.0</td>\n",
       "      <td>37.0</td>\n",
       "      <td>...</td>\n",
       "      <td>0.0</td>\n",
       "      <td>0.0</td>\n",
       "      <td>0.0</td>\n",
       "      <td>0.0</td>\n",
       "      <td>0.0</td>\n",
       "      <td>0.0</td>\n",
       "      <td>0.0</td>\n",
       "      <td>0.0</td>\n",
       "      <td>0.0</td>\n",
       "      <td>0.0</td>\n",
       "    </tr>\n",
       "  </tbody>\n",
       "</table>\n",
       "<p>30000 rows × 598 columns</p>\n",
       "</div>"
      ],
      "text/plain": [
       "            small_group_count                                                 \\\n",
       "small_group               0      1      2      3     4    5    6    7    8     \n",
       "client_id                                                                      \n",
       "4                         0.0  447.0    1.0   44.0  93.0  0.0  0.0  0.0  1.0   \n",
       "6                         2.0  397.0    0.0  172.0  10.0  0.0  0.0  0.0  0.0   \n",
       "7                         2.0   79.0    5.0   27.0  19.0  1.0  0.0  2.0  1.0   \n",
       "10                       12.0  309.0    1.0   71.0  65.0  0.0  0.0  0.0  3.0   \n",
       "11                        2.0  423.0    0.0   59.0  23.0  3.0  0.0  0.0  0.0   \n",
       "...                       ...    ...    ...    ...   ...  ...  ...  ...  ...   \n",
       "49993                     0.0  206.0    1.0   83.0  40.0  4.0  0.0  1.0  1.0   \n",
       "49995                    14.0  158.0    5.0   66.0  30.0  2.0  0.0  1.0  2.0   \n",
       "49996                     1.0  296.0    0.0   11.0  42.0  2.0  0.0  0.0  2.0   \n",
       "49997                     0.0  372.0    0.0   12.0  10.0  0.0  0.0  0.0  0.0   \n",
       "49998                     0.0  313.0  123.0  160.0   3.0  0.0  0.0  0.0  0.0   \n",
       "\n",
       "                   ... small_group_std                                     \\\n",
       "small_group   9    ...             186  187  190  191  192  193  195  196   \n",
       "client_id          ...                                                      \n",
       "4            13.0  ...             0.0  0.0  0.0  0.0  0.0  0.0  0.0  0.0   \n",
       "6             6.0  ...             0.0  0.0  0.0  0.0  0.0  0.0  0.0  0.0   \n",
       "7            39.0  ...             0.0  0.0  0.0  0.0  0.0  0.0  0.0  0.0   \n",
       "10           19.0  ...             0.0  0.0  0.0  0.0  0.0  0.0  0.0  0.0   \n",
       "11           10.0  ...             0.0  0.0  0.0  0.0  0.0  0.0  0.0  0.0   \n",
       "...           ...  ...             ...  ...  ...  ...  ...  ...  ...  ...   \n",
       "49993        12.0  ...             0.0  0.0  0.0  0.0  0.0  0.0  0.0  0.0   \n",
       "49995         7.0  ...             0.0  0.0  0.0  0.0  0.0  0.0  0.0  0.0   \n",
       "49996        18.0  ...             0.0  0.0  0.0  0.0  0.0  0.0  0.0  0.0   \n",
       "49997         1.0  ...             0.0  0.0  0.0  0.0  0.0  0.0  0.0  0.0   \n",
       "49998        37.0  ...             0.0  0.0  0.0  0.0  0.0  0.0  0.0  0.0   \n",
       "\n",
       "                       \n",
       "small_group  197  198  \n",
       "client_id              \n",
       "4            0.0  0.0  \n",
       "6            0.0  0.0  \n",
       "7            0.0  0.0  \n",
       "10           0.0  0.0  \n",
       "11           0.0  0.0  \n",
       "...          ...  ...  \n",
       "49993        0.0  0.0  \n",
       "49995        0.0  0.0  \n",
       "49996        0.0  0.0  \n",
       "49997        0.0  0.0  \n",
       "49998        0.0  0.0  \n",
       "\n",
       "[30000 rows x 598 columns]"
      ]
     },
     "execution_count": 14,
     "metadata": {},
     "output_type": "execute_result"
    }
   ],
   "source": [
    "cat_counts_train"
   ]
  },
  {
   "cell_type": "code",
   "execution_count": 15,
   "metadata": {},
   "outputs": [],
   "source": [
    "cat_counts_train.columns = ['_'.join(map(str, c)) for c in cat_counts_train.columns.values]"
   ]
  },
  {
   "cell_type": "code",
   "execution_count": 16,
   "metadata": {},
   "outputs": [
    {
     "data": {
      "text/html": [
       "<div>\n",
       "<style scoped>\n",
       "    .dataframe tbody tr th:only-of-type {\n",
       "        vertical-align: middle;\n",
       "    }\n",
       "\n",
       "    .dataframe tbody tr th {\n",
       "        vertical-align: top;\n",
       "    }\n",
       "\n",
       "    .dataframe thead th {\n",
       "        text-align: right;\n",
       "    }\n",
       "</style>\n",
       "<table border=\"1\" class=\"dataframe\">\n",
       "  <thead>\n",
       "    <tr style=\"text-align: right;\">\n",
       "      <th></th>\n",
       "      <th>small_group_count_0</th>\n",
       "      <th>small_group_count_1</th>\n",
       "      <th>small_group_count_2</th>\n",
       "      <th>small_group_count_3</th>\n",
       "      <th>small_group_count_4</th>\n",
       "      <th>small_group_count_5</th>\n",
       "      <th>small_group_count_6</th>\n",
       "      <th>small_group_count_7</th>\n",
       "      <th>small_group_count_8</th>\n",
       "      <th>small_group_count_9</th>\n",
       "      <th>...</th>\n",
       "      <th>small_group_std_186</th>\n",
       "      <th>small_group_std_187</th>\n",
       "      <th>small_group_std_190</th>\n",
       "      <th>small_group_std_191</th>\n",
       "      <th>small_group_std_192</th>\n",
       "      <th>small_group_std_193</th>\n",
       "      <th>small_group_std_195</th>\n",
       "      <th>small_group_std_196</th>\n",
       "      <th>small_group_std_197</th>\n",
       "      <th>small_group_std_198</th>\n",
       "    </tr>\n",
       "    <tr>\n",
       "      <th>client_id</th>\n",
       "      <th></th>\n",
       "      <th></th>\n",
       "      <th></th>\n",
       "      <th></th>\n",
       "      <th></th>\n",
       "      <th></th>\n",
       "      <th></th>\n",
       "      <th></th>\n",
       "      <th></th>\n",
       "      <th></th>\n",
       "      <th></th>\n",
       "      <th></th>\n",
       "      <th></th>\n",
       "      <th></th>\n",
       "      <th></th>\n",
       "      <th></th>\n",
       "      <th></th>\n",
       "      <th></th>\n",
       "      <th></th>\n",
       "      <th></th>\n",
       "      <th></th>\n",
       "    </tr>\n",
       "  </thead>\n",
       "  <tbody>\n",
       "    <tr>\n",
       "      <th>4</th>\n",
       "      <td>0.0</td>\n",
       "      <td>447.0</td>\n",
       "      <td>1.0</td>\n",
       "      <td>44.0</td>\n",
       "      <td>93.0</td>\n",
       "      <td>0.0</td>\n",
       "      <td>0.0</td>\n",
       "      <td>0.0</td>\n",
       "      <td>1.0</td>\n",
       "      <td>13.0</td>\n",
       "      <td>...</td>\n",
       "      <td>0.0</td>\n",
       "      <td>0.0</td>\n",
       "      <td>0.0</td>\n",
       "      <td>0.0</td>\n",
       "      <td>0.0</td>\n",
       "      <td>0.0</td>\n",
       "      <td>0.0</td>\n",
       "      <td>0.0</td>\n",
       "      <td>0.0</td>\n",
       "      <td>0.0</td>\n",
       "    </tr>\n",
       "    <tr>\n",
       "      <th>6</th>\n",
       "      <td>2.0</td>\n",
       "      <td>397.0</td>\n",
       "      <td>0.0</td>\n",
       "      <td>172.0</td>\n",
       "      <td>10.0</td>\n",
       "      <td>0.0</td>\n",
       "      <td>0.0</td>\n",
       "      <td>0.0</td>\n",
       "      <td>0.0</td>\n",
       "      <td>6.0</td>\n",
       "      <td>...</td>\n",
       "      <td>0.0</td>\n",
       "      <td>0.0</td>\n",
       "      <td>0.0</td>\n",
       "      <td>0.0</td>\n",
       "      <td>0.0</td>\n",
       "      <td>0.0</td>\n",
       "      <td>0.0</td>\n",
       "      <td>0.0</td>\n",
       "      <td>0.0</td>\n",
       "      <td>0.0</td>\n",
       "    </tr>\n",
       "    <tr>\n",
       "      <th>7</th>\n",
       "      <td>2.0</td>\n",
       "      <td>79.0</td>\n",
       "      <td>5.0</td>\n",
       "      <td>27.0</td>\n",
       "      <td>19.0</td>\n",
       "      <td>1.0</td>\n",
       "      <td>0.0</td>\n",
       "      <td>2.0</td>\n",
       "      <td>1.0</td>\n",
       "      <td>39.0</td>\n",
       "      <td>...</td>\n",
       "      <td>0.0</td>\n",
       "      <td>0.0</td>\n",
       "      <td>0.0</td>\n",
       "      <td>0.0</td>\n",
       "      <td>0.0</td>\n",
       "      <td>0.0</td>\n",
       "      <td>0.0</td>\n",
       "      <td>0.0</td>\n",
       "      <td>0.0</td>\n",
       "      <td>0.0</td>\n",
       "    </tr>\n",
       "    <tr>\n",
       "      <th>10</th>\n",
       "      <td>12.0</td>\n",
       "      <td>309.0</td>\n",
       "      <td>1.0</td>\n",
       "      <td>71.0</td>\n",
       "      <td>65.0</td>\n",
       "      <td>0.0</td>\n",
       "      <td>0.0</td>\n",
       "      <td>0.0</td>\n",
       "      <td>3.0</td>\n",
       "      <td>19.0</td>\n",
       "      <td>...</td>\n",
       "      <td>0.0</td>\n",
       "      <td>0.0</td>\n",
       "      <td>0.0</td>\n",
       "      <td>0.0</td>\n",
       "      <td>0.0</td>\n",
       "      <td>0.0</td>\n",
       "      <td>0.0</td>\n",
       "      <td>0.0</td>\n",
       "      <td>0.0</td>\n",
       "      <td>0.0</td>\n",
       "    </tr>\n",
       "    <tr>\n",
       "      <th>11</th>\n",
       "      <td>2.0</td>\n",
       "      <td>423.0</td>\n",
       "      <td>0.0</td>\n",
       "      <td>59.0</td>\n",
       "      <td>23.0</td>\n",
       "      <td>3.0</td>\n",
       "      <td>0.0</td>\n",
       "      <td>0.0</td>\n",
       "      <td>0.0</td>\n",
       "      <td>10.0</td>\n",
       "      <td>...</td>\n",
       "      <td>0.0</td>\n",
       "      <td>0.0</td>\n",
       "      <td>0.0</td>\n",
       "      <td>0.0</td>\n",
       "      <td>0.0</td>\n",
       "      <td>0.0</td>\n",
       "      <td>0.0</td>\n",
       "      <td>0.0</td>\n",
       "      <td>0.0</td>\n",
       "      <td>0.0</td>\n",
       "    </tr>\n",
       "  </tbody>\n",
       "</table>\n",
       "<p>5 rows × 598 columns</p>\n",
       "</div>"
      ],
      "text/plain": [
       "           small_group_count_0  small_group_count_1  small_group_count_2  \\\n",
       "client_id                                                                  \n",
       "4                          0.0                447.0                  1.0   \n",
       "6                          2.0                397.0                  0.0   \n",
       "7                          2.0                 79.0                  5.0   \n",
       "10                        12.0                309.0                  1.0   \n",
       "11                         2.0                423.0                  0.0   \n",
       "\n",
       "           small_group_count_3  small_group_count_4  small_group_count_5  \\\n",
       "client_id                                                                  \n",
       "4                         44.0                 93.0                  0.0   \n",
       "6                        172.0                 10.0                  0.0   \n",
       "7                         27.0                 19.0                  1.0   \n",
       "10                        71.0                 65.0                  0.0   \n",
       "11                        59.0                 23.0                  3.0   \n",
       "\n",
       "           small_group_count_6  small_group_count_7  small_group_count_8  \\\n",
       "client_id                                                                  \n",
       "4                          0.0                  0.0                  1.0   \n",
       "6                          0.0                  0.0                  0.0   \n",
       "7                          0.0                  2.0                  1.0   \n",
       "10                         0.0                  0.0                  3.0   \n",
       "11                         0.0                  0.0                  0.0   \n",
       "\n",
       "           small_group_count_9  ...  small_group_std_186  small_group_std_187  \\\n",
       "client_id                       ...                                             \n",
       "4                         13.0  ...                  0.0                  0.0   \n",
       "6                          6.0  ...                  0.0                  0.0   \n",
       "7                         39.0  ...                  0.0                  0.0   \n",
       "10                        19.0  ...                  0.0                  0.0   \n",
       "11                        10.0  ...                  0.0                  0.0   \n",
       "\n",
       "           small_group_std_190  small_group_std_191  small_group_std_192  \\\n",
       "client_id                                                                  \n",
       "4                          0.0                  0.0                  0.0   \n",
       "6                          0.0                  0.0                  0.0   \n",
       "7                          0.0                  0.0                  0.0   \n",
       "10                         0.0                  0.0                  0.0   \n",
       "11                         0.0                  0.0                  0.0   \n",
       "\n",
       "           small_group_std_193  small_group_std_195  small_group_std_196  \\\n",
       "client_id                                                                  \n",
       "4                          0.0                  0.0                  0.0   \n",
       "6                          0.0                  0.0                  0.0   \n",
       "7                          0.0                  0.0                  0.0   \n",
       "10                         0.0                  0.0                  0.0   \n",
       "11                         0.0                  0.0                  0.0   \n",
       "\n",
       "           small_group_std_197  small_group_std_198  \n",
       "client_id                                            \n",
       "4                          0.0                  0.0  \n",
       "6                          0.0                  0.0  \n",
       "7                          0.0                  0.0  \n",
       "10                         0.0                  0.0  \n",
       "11                         0.0                  0.0  \n",
       "\n",
       "[5 rows x 598 columns]"
      ]
     },
     "execution_count": 16,
     "metadata": {},
     "output_type": "execute_result"
    }
   ],
   "source": [
    "cat_counts_train.head()"
   ]
  },
  {
   "cell_type": "code",
   "execution_count": 17,
   "metadata": {},
   "outputs": [
    {
     "data": {
      "text/plain": [
       "207"
      ]
     },
     "execution_count": 17,
     "metadata": {},
     "output_type": "execute_result"
    }
   ],
   "source": [
    "col_agg_features = \\\n",
    "    [col for col in agg_features.columns.tolist() if not col.startswith('ext_')] + \\\n",
    "    [col for col in cat_counts_train.columns.tolist() if col.startswith('small_group_count_')]\n",
    "len(col_agg_features)"
   ]
  },
  {
   "cell_type": "code",
   "execution_count": 18,
   "metadata": {},
   "outputs": [
    {
     "data": {
      "text/plain": [
       "604"
      ]
     },
     "execution_count": 18,
     "metadata": {},
     "output_type": "execute_result"
    }
   ],
   "source": [
    "col_ext_agg_features = agg_features.columns.tolist() + cat_counts_train.columns.tolist()\n",
    "len(col_ext_agg_features)"
   ]
  },
  {
   "cell_type": "markdown",
   "metadata": {},
   "source": [
    "## Random Tree Features"
   ]
  },
  {
   "cell_type": "code",
   "execution_count": null,
   "metadata": {},
   "outputs": [],
   "source": [
    "from tqdm.autonotebook import tqdm"
   ]
  },
  {
   "cell_type": "code",
   "execution_count": null,
   "metadata": {},
   "outputs": [],
   "source": [
    "transactions_train.head()"
   ]
  },
  {
   "cell_type": "code",
   "execution_count": null,
   "metadata": {},
   "outputs": [],
   "source": [
    "def build_rt_features(vector_size):\n",
    "    def to_pivot_norm(df, col):\n",
    "        df = df.assign(rt=col).pivot_table(\n",
    "            index='client_id', columns='rt', values='trans_date', aggfunc='count').fillna(0.0)\n",
    "        df = df.div(df.sum(axis=1), axis=0)\n",
    "        return df\n",
    "\n",
    "    _rt_map_trans_date = {v: i for v, i in \n",
    "                     zip(transactions_train['trans_date'].unique(), np.random.randint(0, vector_size, 1000))}\n",
    "\n",
    "    _rt_map_group = {v: i for v, i in \n",
    "                     zip(transactions_train['small_group'].unique(), np.random.randint(0, vector_size, 1000))}\n",
    "\n",
    "    _rt_map_amount_rur = np.unique(transactions_train['amount_rur'].quantile(np.linspace(0, 1, vector_size)).values[:-1])\n",
    "\n",
    "    _rt_e_size = vector_size\n",
    "    _rt_m1 = {v: i for v, i in zip(range(vector_size * vector_size), np.random.randint(0, _rt_e_size * 8, vector_size * vector_size))}\n",
    "    _rt_m2 = {v: i for v, i in zip(range(_rt_e_size * 8 * vector_size),\n",
    "                                   np.random.randint(0, _rt_e_size, _rt_e_size * 8 * vector_size))}\n",
    "    \n",
    "    _v1 = transactions_train['trans_date'].map(_rt_map_trans_date)\n",
    "    _v2 = transactions_train['small_group'].map(_rt_map_group)\n",
    "    _v3 = pd.cut(transactions_train['amount_rur'],\n",
    "                 _rt_map_amount_rur.tolist() + [max(transactions_train['amount_rur']) + 1],\n",
    "                 labels=range(len(_rt_map_amount_rur))).astype(int).values\n",
    "\n",
    "    s_rt_bin = ((_v1 * vector_size + _v2).map(_rt_m1) * vector_size + _v3).map(_rt_m2)\n",
    "\n",
    "    rt_agg_features = pd.concat([\n",
    "        to_pivot_norm(transactions_train, s_rt_bin),\n",
    "        to_pivot_norm(transactions_train, _v1),\n",
    "        to_pivot_norm(transactions_train, _v2),\n",
    "        to_pivot_norm(transactions_train, _v3),\n",
    "    ], axis=1)\n",
    "    \n",
    "    return rt_agg_features"
   ]
  },
  {
   "cell_type": "code",
   "execution_count": null,
   "metadata": {},
   "outputs": [],
   "source": [
    "rt_agg_features = pd.concat([build_rt_features(32) for _ in tqdm(range(4))], axis=1)"
   ]
  },
  {
   "cell_type": "code",
   "execution_count": null,
   "metadata": {},
   "outputs": [],
   "source": [
    "rt_agg_features.columns = [f\"rt_{i}\" for i in range(len(rt_agg_features.columns))]"
   ]
  },
  {
   "cell_type": "code",
   "execution_count": null,
   "metadata": {},
   "outputs": [],
   "source": [
    "col_rt_agg_features = rt_agg_features.columns.tolist()\n",
    "len(col_rt_agg_features)"
   ]
  },
  {
   "cell_type": "code",
   "execution_count": null,
   "metadata": {},
   "outputs": [],
   "source": []
  },
  {
   "cell_type": "markdown",
   "metadata": {},
   "source": [
    "## Featuretools"
   ]
  },
  {
   "cell_type": "code",
   "execution_count": null,
   "metadata": {},
   "outputs": [],
   "source": []
  },
  {
   "cell_type": "code",
   "execution_count": null,
   "metadata": {},
   "outputs": [],
   "source": []
  },
  {
   "cell_type": "code",
   "execution_count": null,
   "metadata": {},
   "outputs": [],
   "source": [
    "import featuretools as ft"
   ]
  },
  {
   "cell_type": "code",
   "execution_count": null,
   "metadata": {},
   "outputs": [],
   "source": [
    "es = ft.EntitySet()"
   ]
  },
  {
   "cell_type": "code",
   "execution_count": null,
   "metadata": {},
   "outputs": [],
   "source": [
    "transactions_train.head()"
   ]
  },
  {
   "cell_type": "code",
   "execution_count": null,
   "metadata": {},
   "outputs": [],
   "source": [
    "es.entity_from_dataframe(\n",
    "    entity_id='transactions_train',\n",
    "    dataframe=transactions_train.reset_index(),\n",
    "    index='index',\n",
    "    variable_types={\n",
    "        'small_group': ft.variable_types.Categorical,\n",
    "        'amount_rur': ft.variable_types.Numeric,\n",
    "    },\n",
    "    make_index=False,\n",
    "    time_index='trans_date',\n",
    ")"
   ]
  },
  {
   "cell_type": "code",
   "execution_count": null,
   "metadata": {},
   "outputs": [],
   "source": [
    "es['transactions_train'].variables"
   ]
  },
  {
   "cell_type": "code",
   "execution_count": null,
   "metadata": {},
   "outputs": [],
   "source": [
    "es.normalize_entity(\n",
    "    base_entity_id='transactions_train',\n",
    "    new_entity_id='client',\n",
    "    index='client_id',\n",
    "    additional_variables=None,\n",
    ")"
   ]
  },
  {
   "cell_type": "code",
   "execution_count": null,
   "metadata": {},
   "outputs": [],
   "source": [
    "es.normalize_entity(\n",
    "    base_entity_id='transactions_train',\n",
    "    new_entity_id='small_group',\n",
    "    index='small_group',\n",
    "    additional_variables=None,\n",
    ")"
   ]
  },
  {
   "cell_type": "code",
   "execution_count": null,
   "metadata": {},
   "outputs": [],
   "source": [
    "es['transactions_train'].df.head()"
   ]
  },
  {
   "cell_type": "code",
   "execution_count": null,
   "metadata": {},
   "outputs": [],
   "source": [
    "es['client'].df.head()"
   ]
  },
  {
   "cell_type": "code",
   "execution_count": null,
   "metadata": {},
   "outputs": [],
   "source": [
    "es['small_group'].df.head()"
   ]
  },
  {
   "cell_type": "code",
   "execution_count": null,
   "metadata": {},
   "outputs": [],
   "source": [
    "feature_matrix, feature_defs = ft.dfs(\n",
    "    entityset=es,\n",
    "    target_entity='client',\n",
    "    max_depth=2,\n",
    ")"
   ]
  },
  {
   "cell_type": "code",
   "execution_count": null,
   "metadata": {},
   "outputs": [],
   "source": [
    "feature_matrix"
   ]
  },
  {
   "cell_type": "code",
   "execution_count": null,
   "metadata": {},
   "outputs": [],
   "source": [
    "feature_defs"
   ]
  },
  {
   "cell_type": "code",
   "execution_count": null,
   "metadata": {},
   "outputs": [],
   "source": []
  },
  {
   "cell_type": "code",
   "execution_count": null,
   "metadata": {},
   "outputs": [],
   "source": []
  },
  {
   "cell_type": "code",
   "execution_count": null,
   "metadata": {},
   "outputs": [],
   "source": []
  },
  {
   "cell_type": "markdown",
   "metadata": {},
   "source": [
    "## Metric Learning Embeddings"
   ]
  },
  {
   "cell_type": "code",
   "execution_count": 19,
   "metadata": {},
   "outputs": [
    {
     "data": {
      "text/html": [
       "<div>\n",
       "<style scoped>\n",
       "    .dataframe tbody tr th:only-of-type {\n",
       "        vertical-align: middle;\n",
       "    }\n",
       "\n",
       "    .dataframe tbody tr th {\n",
       "        vertical-align: top;\n",
       "    }\n",
       "\n",
       "    .dataframe thead th {\n",
       "        text-align: right;\n",
       "    }\n",
       "</style>\n",
       "<table border=\"1\" class=\"dataframe\">\n",
       "  <thead>\n",
       "    <tr style=\"text-align: right;\">\n",
       "      <th></th>\n",
       "      <th>embedding_v000</th>\n",
       "      <th>embedding_v001</th>\n",
       "      <th>embedding_v002</th>\n",
       "      <th>embedding_v003</th>\n",
       "      <th>embedding_v004</th>\n",
       "      <th>embedding_v005</th>\n",
       "      <th>embedding_v006</th>\n",
       "      <th>embedding_v007</th>\n",
       "      <th>embedding_v008</th>\n",
       "      <th>embedding_v009</th>\n",
       "      <th>...</th>\n",
       "      <th>embedding_v186</th>\n",
       "      <th>embedding_v187</th>\n",
       "      <th>embedding_v188</th>\n",
       "      <th>embedding_v189</th>\n",
       "      <th>embedding_v190</th>\n",
       "      <th>embedding_v191</th>\n",
       "      <th>embedding_v192</th>\n",
       "      <th>embedding_v193</th>\n",
       "      <th>embedding_v194</th>\n",
       "      <th>embedding_v195</th>\n",
       "    </tr>\n",
       "    <tr>\n",
       "      <th>client_id</th>\n",
       "      <th></th>\n",
       "      <th></th>\n",
       "      <th></th>\n",
       "      <th></th>\n",
       "      <th></th>\n",
       "      <th></th>\n",
       "      <th></th>\n",
       "      <th></th>\n",
       "      <th></th>\n",
       "      <th></th>\n",
       "      <th></th>\n",
       "      <th></th>\n",
       "      <th></th>\n",
       "      <th></th>\n",
       "      <th></th>\n",
       "      <th></th>\n",
       "      <th></th>\n",
       "      <th></th>\n",
       "      <th></th>\n",
       "      <th></th>\n",
       "      <th></th>\n",
       "    </tr>\n",
       "  </thead>\n",
       "  <tbody>\n",
       "    <tr>\n",
       "      <th>0</th>\n",
       "      <td>-0.018819</td>\n",
       "      <td>-0.154300</td>\n",
       "      <td>0.001924</td>\n",
       "      <td>0.021944</td>\n",
       "      <td>-0.154031</td>\n",
       "      <td>-0.116138</td>\n",
       "      <td>-0.141707</td>\n",
       "      <td>-0.116143</td>\n",
       "      <td>-0.008368</td>\n",
       "      <td>-0.033296</td>\n",
       "      <td>...</td>\n",
       "      <td>0.109240</td>\n",
       "      <td>0.069249</td>\n",
       "      <td>0.002146</td>\n",
       "      <td>-0.042166</td>\n",
       "      <td>-0.011700</td>\n",
       "      <td>0.101981</td>\n",
       "      <td>0.127735</td>\n",
       "      <td>0.062277</td>\n",
       "      <td>-0.124495</td>\n",
       "      <td>0.073498</td>\n",
       "    </tr>\n",
       "    <tr>\n",
       "      <th>1</th>\n",
       "      <td>-0.072070</td>\n",
       "      <td>-0.151834</td>\n",
       "      <td>0.042985</td>\n",
       "      <td>0.017488</td>\n",
       "      <td>-0.160942</td>\n",
       "      <td>-0.039488</td>\n",
       "      <td>-0.027478</td>\n",
       "      <td>-0.064663</td>\n",
       "      <td>-0.025479</td>\n",
       "      <td>-0.034576</td>\n",
       "      <td>...</td>\n",
       "      <td>0.112494</td>\n",
       "      <td>0.001801</td>\n",
       "      <td>0.028328</td>\n",
       "      <td>-0.042896</td>\n",
       "      <td>-0.014569</td>\n",
       "      <td>0.092731</td>\n",
       "      <td>0.125989</td>\n",
       "      <td>-0.010774</td>\n",
       "      <td>-0.120740</td>\n",
       "      <td>0.116426</td>\n",
       "    </tr>\n",
       "    <tr>\n",
       "      <th>2</th>\n",
       "      <td>-0.021234</td>\n",
       "      <td>-0.143193</td>\n",
       "      <td>0.012123</td>\n",
       "      <td>0.048002</td>\n",
       "      <td>-0.172032</td>\n",
       "      <td>-0.146024</td>\n",
       "      <td>-0.151516</td>\n",
       "      <td>-0.101916</td>\n",
       "      <td>-0.045478</td>\n",
       "      <td>-0.035959</td>\n",
       "      <td>...</td>\n",
       "      <td>-0.067618</td>\n",
       "      <td>0.004167</td>\n",
       "      <td>0.051040</td>\n",
       "      <td>-0.039184</td>\n",
       "      <td>-0.023984</td>\n",
       "      <td>0.047566</td>\n",
       "      <td>0.087273</td>\n",
       "      <td>-0.033537</td>\n",
       "      <td>-0.044570</td>\n",
       "      <td>0.038441</td>\n",
       "    </tr>\n",
       "    <tr>\n",
       "      <th>3</th>\n",
       "      <td>0.047900</td>\n",
       "      <td>-0.139892</td>\n",
       "      <td>-0.022462</td>\n",
       "      <td>0.033817</td>\n",
       "      <td>-0.172863</td>\n",
       "      <td>-0.108164</td>\n",
       "      <td>-0.065419</td>\n",
       "      <td>-0.050350</td>\n",
       "      <td>0.007650</td>\n",
       "      <td>-0.040774</td>\n",
       "      <td>...</td>\n",
       "      <td>0.066909</td>\n",
       "      <td>0.066017</td>\n",
       "      <td>-0.054806</td>\n",
       "      <td>-0.040898</td>\n",
       "      <td>-0.043716</td>\n",
       "      <td>0.036167</td>\n",
       "      <td>0.125870</td>\n",
       "      <td>-0.026692</td>\n",
       "      <td>-0.124356</td>\n",
       "      <td>0.093088</td>\n",
       "    </tr>\n",
       "    <tr>\n",
       "      <th>4</th>\n",
       "      <td>-0.099266</td>\n",
       "      <td>-0.137044</td>\n",
       "      <td>0.088491</td>\n",
       "      <td>0.025266</td>\n",
       "      <td>-0.144386</td>\n",
       "      <td>-0.111142</td>\n",
       "      <td>-0.137188</td>\n",
       "      <td>-0.099266</td>\n",
       "      <td>-0.017697</td>\n",
       "      <td>-0.047963</td>\n",
       "      <td>...</td>\n",
       "      <td>0.121105</td>\n",
       "      <td>0.017826</td>\n",
       "      <td>0.027143</td>\n",
       "      <td>-0.051560</td>\n",
       "      <td>-0.035835</td>\n",
       "      <td>0.080949</td>\n",
       "      <td>0.152129</td>\n",
       "      <td>0.007338</td>\n",
       "      <td>-0.140292</td>\n",
       "      <td>0.133065</td>\n",
       "    </tr>\n",
       "  </tbody>\n",
       "</table>\n",
       "<p>5 rows × 196 columns</p>\n",
       "</div>"
      ],
      "text/plain": [
       "           embedding_v000  embedding_v001  embedding_v002  embedding_v003  \\\n",
       "client_id                                                                   \n",
       "0               -0.018819       -0.154300        0.001924        0.021944   \n",
       "1               -0.072070       -0.151834        0.042985        0.017488   \n",
       "2               -0.021234       -0.143193        0.012123        0.048002   \n",
       "3                0.047900       -0.139892       -0.022462        0.033817   \n",
       "4               -0.099266       -0.137044        0.088491        0.025266   \n",
       "\n",
       "           embedding_v004  embedding_v005  embedding_v006  embedding_v007  \\\n",
       "client_id                                                                   \n",
       "0               -0.154031       -0.116138       -0.141707       -0.116143   \n",
       "1               -0.160942       -0.039488       -0.027478       -0.064663   \n",
       "2               -0.172032       -0.146024       -0.151516       -0.101916   \n",
       "3               -0.172863       -0.108164       -0.065419       -0.050350   \n",
       "4               -0.144386       -0.111142       -0.137188       -0.099266   \n",
       "\n",
       "           embedding_v008  embedding_v009  ...  embedding_v186  \\\n",
       "client_id                                  ...                   \n",
       "0               -0.008368       -0.033296  ...        0.109240   \n",
       "1               -0.025479       -0.034576  ...        0.112494   \n",
       "2               -0.045478       -0.035959  ...       -0.067618   \n",
       "3                0.007650       -0.040774  ...        0.066909   \n",
       "4               -0.017697       -0.047963  ...        0.121105   \n",
       "\n",
       "           embedding_v187  embedding_v188  embedding_v189  embedding_v190  \\\n",
       "client_id                                                                   \n",
       "0                0.069249        0.002146       -0.042166       -0.011700   \n",
       "1                0.001801        0.028328       -0.042896       -0.014569   \n",
       "2                0.004167        0.051040       -0.039184       -0.023984   \n",
       "3                0.066017       -0.054806       -0.040898       -0.043716   \n",
       "4                0.017826        0.027143       -0.051560       -0.035835   \n",
       "\n",
       "           embedding_v191  embedding_v192  embedding_v193  embedding_v194  \\\n",
       "client_id                                                                   \n",
       "0                0.101981        0.127735        0.062277       -0.124495   \n",
       "1                0.092731        0.125989       -0.010774       -0.120740   \n",
       "2                0.047566        0.087273       -0.033537       -0.044570   \n",
       "3                0.036167        0.125870       -0.026692       -0.124356   \n",
       "4                0.080949        0.152129        0.007338       -0.140292   \n",
       "\n",
       "           embedding_v195  \n",
       "client_id                  \n",
       "0                0.073498  \n",
       "1                0.116426  \n",
       "2                0.038441  \n",
       "3                0.093088  \n",
       "4                0.133065  \n",
       "\n",
       "[5 rows x 196 columns]"
      ]
     },
     "execution_count": 19,
     "metadata": {},
     "output_type": "execute_result"
    }
   ],
   "source": [
    "df_embeddings = pd.read_pickle(PROJECT_PATH + 'sber_all_vectors.pickle').set_index('client_id')\n",
    "df_embeddings.columns = [\"embedding_\" + col for col in df_embeddings.columns]\n",
    "df_embeddings.head()"
   ]
  },
  {
   "cell_type": "code",
   "execution_count": 20,
   "metadata": {},
   "outputs": [],
   "source": [
    "col_embedding_features = df_embeddings.columns.tolist()"
   ]
  },
  {
   "cell_type": "markdown",
   "metadata": {},
   "source": [
    "## Target Model Scores"
   ]
  },
  {
   "cell_type": "code",
   "execution_count": 21,
   "metadata": {},
   "outputs": [
    {
     "data": {
      "text/html": [
       "<div>\n",
       "<style scoped>\n",
       "    .dataframe tbody tr th:only-of-type {\n",
       "        vertical-align: middle;\n",
       "    }\n",
       "\n",
       "    .dataframe tbody tr th {\n",
       "        vertical-align: top;\n",
       "    }\n",
       "\n",
       "    .dataframe thead th {\n",
       "        text-align: right;\n",
       "    }\n",
       "</style>\n",
       "<table border=\"1\" class=\"dataframe\">\n",
       "  <thead>\n",
       "    <tr style=\"text-align: right;\">\n",
       "      <th></th>\n",
       "      <th>score_v000</th>\n",
       "      <th>score_v001</th>\n",
       "      <th>score_v002</th>\n",
       "      <th>score_v003</th>\n",
       "    </tr>\n",
       "    <tr>\n",
       "      <th>client_id</th>\n",
       "      <th></th>\n",
       "      <th></th>\n",
       "      <th></th>\n",
       "      <th></th>\n",
       "    </tr>\n",
       "  </thead>\n",
       "  <tbody>\n",
       "    <tr>\n",
       "      <th>4</th>\n",
       "      <td>-7.723969</td>\n",
       "      <td>-0.009020</td>\n",
       "      <td>-10.558405</td>\n",
       "      <td>-4.766298</td>\n",
       "    </tr>\n",
       "    <tr>\n",
       "      <th>6</th>\n",
       "      <td>-1.983091</td>\n",
       "      <td>-0.728669</td>\n",
       "      <td>-4.681918</td>\n",
       "      <td>-0.992781</td>\n",
       "    </tr>\n",
       "    <tr>\n",
       "      <th>10</th>\n",
       "      <td>-1.154974</td>\n",
       "      <td>-1.274818</td>\n",
       "      <td>-2.416892</td>\n",
       "      <td>-1.151210</td>\n",
       "    </tr>\n",
       "    <tr>\n",
       "      <th>12</th>\n",
       "      <td>-4.873233</td>\n",
       "      <td>-9.158072</td>\n",
       "      <td>-0.008199</td>\n",
       "      <td>-7.796382</td>\n",
       "    </tr>\n",
       "    <tr>\n",
       "      <th>13</th>\n",
       "      <td>-2.030518</td>\n",
       "      <td>-7.715308</td>\n",
       "      <td>-0.152592</td>\n",
       "      <td>-4.624660</td>\n",
       "    </tr>\n",
       "  </tbody>\n",
       "</table>\n",
       "</div>"
      ],
      "text/plain": [
       "           score_v000  score_v001  score_v002  score_v003\n",
       "client_id                                                \n",
       "4           -7.723969   -0.009020  -10.558405   -4.766298\n",
       "6           -1.983091   -0.728669   -4.681918   -0.992781\n",
       "10          -1.154974   -1.274818   -2.416892   -1.151210\n",
       "12          -4.873233   -9.158072   -0.008199   -7.796382\n",
       "13          -2.030518   -7.715308   -0.152592   -4.624660"
      ]
     },
     "execution_count": 21,
     "metadata": {},
     "output_type": "execute_result"
    }
   ],
   "source": [
    "df_target_scores = pd.concat([\n",
    "    pd.read_pickle(PROJECT_PATH + f\"sber_target_vectors/{i:03d}.pickle\").set_index('client_id')\n",
    "    for i in range(5)\n",
    "], axis=0)\n",
    "df_target_scores.columns = [\"score_\" + col for col in df_target_scores.columns]\n",
    "df_target_scores.head()"
   ]
  },
  {
   "cell_type": "code",
   "execution_count": 22,
   "metadata": {},
   "outputs": [
    {
     "data": {
      "text/plain": [
       "30000"
      ]
     },
     "execution_count": 22,
     "metadata": {},
     "output_type": "execute_result"
    }
   ],
   "source": [
    "len(df_target_scores)"
   ]
  },
  {
   "cell_type": "code",
   "execution_count": 23,
   "metadata": {},
   "outputs": [],
   "source": [
    "col_score_features = df_target_scores.columns.tolist()"
   ]
  },
  {
   "cell_type": "markdown",
   "metadata": {},
   "source": [
    "## Fine Tuning Model Scores"
   ]
  },
  {
   "cell_type": "code",
   "execution_count": 24,
   "metadata": {},
   "outputs": [
    {
     "data": {
      "text/html": [
       "<div>\n",
       "<style scoped>\n",
       "    .dataframe tbody tr th:only-of-type {\n",
       "        vertical-align: middle;\n",
       "    }\n",
       "\n",
       "    .dataframe tbody tr th {\n",
       "        vertical-align: top;\n",
       "    }\n",
       "\n",
       "    .dataframe thead th {\n",
       "        text-align: right;\n",
       "    }\n",
       "</style>\n",
       "<table border=\"1\" class=\"dataframe\">\n",
       "  <thead>\n",
       "    <tr style=\"text-align: right;\">\n",
       "      <th></th>\n",
       "      <th>ft_v000</th>\n",
       "      <th>ft_v001</th>\n",
       "      <th>ft_v002</th>\n",
       "      <th>ft_v003</th>\n",
       "    </tr>\n",
       "    <tr>\n",
       "      <th>client_id</th>\n",
       "      <th></th>\n",
       "      <th></th>\n",
       "      <th></th>\n",
       "      <th></th>\n",
       "    </tr>\n",
       "  </thead>\n",
       "  <tbody>\n",
       "    <tr>\n",
       "      <th>4</th>\n",
       "      <td>-7.868518</td>\n",
       "      <td>-0.005001</td>\n",
       "      <td>-10.209911</td>\n",
       "      <td>-5.388455</td>\n",
       "    </tr>\n",
       "    <tr>\n",
       "      <th>6</th>\n",
       "      <td>-1.785164</td>\n",
       "      <td>-0.783238</td>\n",
       "      <td>-4.043094</td>\n",
       "      <td>-1.027884</td>\n",
       "    </tr>\n",
       "    <tr>\n",
       "      <th>10</th>\n",
       "      <td>-1.285108</td>\n",
       "      <td>-1.686247</td>\n",
       "      <td>-2.012617</td>\n",
       "      <td>-0.905035</td>\n",
       "    </tr>\n",
       "    <tr>\n",
       "      <th>12</th>\n",
       "      <td>-5.671308</td>\n",
       "      <td>-10.613232</td>\n",
       "      <td>-0.003599</td>\n",
       "      <td>-8.994674</td>\n",
       "    </tr>\n",
       "    <tr>\n",
       "      <th>13</th>\n",
       "      <td>-2.984654</td>\n",
       "      <td>-7.455932</td>\n",
       "      <td>-0.056067</td>\n",
       "      <td>-5.686997</td>\n",
       "    </tr>\n",
       "  </tbody>\n",
       "</table>\n",
       "</div>"
      ],
      "text/plain": [
       "            ft_v000    ft_v001    ft_v002   ft_v003\n",
       "client_id                                          \n",
       "4         -7.868518  -0.005001 -10.209911 -5.388455\n",
       "6         -1.785164  -0.783238  -4.043094 -1.027884\n",
       "10        -1.285108  -1.686247  -2.012617 -0.905035\n",
       "12        -5.671308 -10.613232  -0.003599 -8.994674\n",
       "13        -2.984654  -7.455932  -0.056067 -5.686997"
      ]
     },
     "execution_count": 24,
     "metadata": {},
     "output_type": "execute_result"
    }
   ],
   "source": [
    "df_ft_scores = pd.concat([\n",
    "    pd.read_pickle(PROJECT_PATH + f\"sber_ft_vectors/{i:03d}.pickle\").set_index('client_id')\n",
    "    for i in range(5)\n",
    "], axis=0)\n",
    "df_ft_scores.columns = [\"ft_\" + col for col in df_ft_scores.columns]\n",
    "df_ft_scores.head()"
   ]
  },
  {
   "cell_type": "code",
   "execution_count": 25,
   "metadata": {},
   "outputs": [
    {
     "data": {
      "text/plain": [
       "30000"
      ]
     },
     "execution_count": 25,
     "metadata": {},
     "output_type": "execute_result"
    }
   ],
   "source": [
    "len(df_ft_scores)"
   ]
  },
  {
   "cell_type": "code",
   "execution_count": 26,
   "metadata": {},
   "outputs": [],
   "source": [
    "col_ft_features = df_ft_scores.columns.tolist()"
   ]
  },
  {
   "cell_type": "code",
   "execution_count": null,
   "metadata": {},
   "outputs": [],
   "source": []
  },
  {
   "cell_type": "markdown",
   "metadata": {},
   "source": [
    "## Combine all features"
   ]
  },
  {
   "cell_type": "code",
   "execution_count": 27,
   "metadata": {},
   "outputs": [],
   "source": [
    "train = pd.merge(train_target, agg_features, left_on='client_id', right_index=True)\n",
    "train = pd.merge(train, cat_counts_train, left_on='client_id', right_index=True)\n",
    "# train = pd.merge(train, rt_agg_features, left_on='client_id', right_index=True)\n",
    "train = pd.merge(train, df_embeddings, left_on='client_id', right_index=True)\n",
    "train = pd.merge(train, df_target_scores, left_on='client_id', right_index=True)\n",
    "train = pd.merge(train, df_ft_scores, left_on='client_id', right_index=True)"
   ]
  },
  {
   "cell_type": "code",
   "execution_count": 28,
   "metadata": {},
   "outputs": [
    {
     "data": {
      "text/html": [
       "<div>\n",
       "<style scoped>\n",
       "    .dataframe tbody tr th:only-of-type {\n",
       "        vertical-align: middle;\n",
       "    }\n",
       "\n",
       "    .dataframe tbody tr th {\n",
       "        vertical-align: top;\n",
       "    }\n",
       "\n",
       "    .dataframe thead th {\n",
       "        text-align: right;\n",
       "    }\n",
       "</style>\n",
       "<table border=\"1\" class=\"dataframe\">\n",
       "  <thead>\n",
       "    <tr style=\"text-align: right;\">\n",
       "      <th></th>\n",
       "      <th>client_id</th>\n",
       "      <th>bins</th>\n",
       "      <th>sum</th>\n",
       "      <th>mean</th>\n",
       "      <th>std</th>\n",
       "      <th>min</th>\n",
       "      <th>max</th>\n",
       "      <th>ext_small_group_unique</th>\n",
       "      <th>small_group_count_0</th>\n",
       "      <th>small_group_count_1</th>\n",
       "      <th>...</th>\n",
       "      <th>embedding_v194</th>\n",
       "      <th>embedding_v195</th>\n",
       "      <th>score_v000</th>\n",
       "      <th>score_v001</th>\n",
       "      <th>score_v002</th>\n",
       "      <th>score_v003</th>\n",
       "      <th>ft_v000</th>\n",
       "      <th>ft_v001</th>\n",
       "      <th>ft_v002</th>\n",
       "      <th>ft_v003</th>\n",
       "    </tr>\n",
       "  </thead>\n",
       "  <tbody>\n",
       "    <tr>\n",
       "      <th>4812</th>\n",
       "      <td>45979</td>\n",
       "      <td>3</td>\n",
       "      <td>87476.355</td>\n",
       "      <td>110.729563</td>\n",
       "      <td>302.374120</td>\n",
       "      <td>0.060</td>\n",
       "      <td>4803.101</td>\n",
       "      <td>58</td>\n",
       "      <td>0.0</td>\n",
       "      <td>189.0</td>\n",
       "      <td>...</td>\n",
       "      <td>-0.097828</td>\n",
       "      <td>0.061561</td>\n",
       "      <td>-1.014562</td>\n",
       "      <td>-1.607859</td>\n",
       "      <td>-3.560163</td>\n",
       "      <td>-0.894801</td>\n",
       "      <td>-1.387066</td>\n",
       "      <td>-1.424644</td>\n",
       "      <td>-3.517234</td>\n",
       "      <td>-0.734142</td>\n",
       "    </tr>\n",
       "    <tr>\n",
       "      <th>18933</th>\n",
       "      <td>11534</td>\n",
       "      <td>0</td>\n",
       "      <td>32977.599</td>\n",
       "      <td>43.678939</td>\n",
       "      <td>79.426087</td>\n",
       "      <td>0.284</td>\n",
       "      <td>979.773</td>\n",
       "      <td>49</td>\n",
       "      <td>2.0</td>\n",
       "      <td>162.0</td>\n",
       "      <td>...</td>\n",
       "      <td>-0.060607</td>\n",
       "      <td>0.090760</td>\n",
       "      <td>-0.808736</td>\n",
       "      <td>-2.889763</td>\n",
       "      <td>-2.560991</td>\n",
       "      <td>-0.863315</td>\n",
       "      <td>-0.666702</td>\n",
       "      <td>-3.153454</td>\n",
       "      <td>-3.693807</td>\n",
       "      <td>-0.869838</td>\n",
       "    </tr>\n",
       "    <tr>\n",
       "      <th>21318</th>\n",
       "      <td>33962</td>\n",
       "      <td>3</td>\n",
       "      <td>67879.611</td>\n",
       "      <td>66.224011</td>\n",
       "      <td>463.932282</td>\n",
       "      <td>0.302</td>\n",
       "      <td>14747.796</td>\n",
       "      <td>53</td>\n",
       "      <td>4.0</td>\n",
       "      <td>270.0</td>\n",
       "      <td>...</td>\n",
       "      <td>-0.121610</td>\n",
       "      <td>0.032585</td>\n",
       "      <td>-1.118014</td>\n",
       "      <td>-2.077857</td>\n",
       "      <td>-3.408392</td>\n",
       "      <td>-0.664018</td>\n",
       "      <td>-1.105899</td>\n",
       "      <td>-2.706249</td>\n",
       "      <td>-3.399079</td>\n",
       "      <td>-0.564058</td>\n",
       "    </tr>\n",
       "    <tr>\n",
       "      <th>25624</th>\n",
       "      <td>22211</td>\n",
       "      <td>0</td>\n",
       "      <td>40288.786</td>\n",
       "      <td>40.168281</td>\n",
       "      <td>134.134048</td>\n",
       "      <td>0.043</td>\n",
       "      <td>3579.590</td>\n",
       "      <td>53</td>\n",
       "      <td>4.0</td>\n",
       "      <td>328.0</td>\n",
       "      <td>...</td>\n",
       "      <td>-0.142472</td>\n",
       "      <td>0.107691</td>\n",
       "      <td>-0.457521</td>\n",
       "      <td>-2.963936</td>\n",
       "      <td>-2.553839</td>\n",
       "      <td>-1.436527</td>\n",
       "      <td>-0.352810</td>\n",
       "      <td>-4.430120</td>\n",
       "      <td>-1.989951</td>\n",
       "      <td>-1.905997</td>\n",
       "    </tr>\n",
       "    <tr>\n",
       "      <th>13070</th>\n",
       "      <td>28838</td>\n",
       "      <td>0</td>\n",
       "      <td>51654.224</td>\n",
       "      <td>52.440837</td>\n",
       "      <td>191.147127</td>\n",
       "      <td>0.043</td>\n",
       "      <td>4872.555</td>\n",
       "      <td>55</td>\n",
       "      <td>0.0</td>\n",
       "      <td>218.0</td>\n",
       "      <td>...</td>\n",
       "      <td>-0.146451</td>\n",
       "      <td>0.079197</td>\n",
       "      <td>-1.208248</td>\n",
       "      <td>-1.185420</td>\n",
       "      <td>-3.472433</td>\n",
       "      <td>-1.008898</td>\n",
       "      <td>-0.970942</td>\n",
       "      <td>-2.163274</td>\n",
       "      <td>-3.064574</td>\n",
       "      <td>-0.777286</td>\n",
       "    </tr>\n",
       "  </tbody>\n",
       "</table>\n",
       "<p>5 rows × 810 columns</p>\n",
       "</div>"
      ],
      "text/plain": [
       "       client_id  bins        sum        mean         std    min        max  \\\n",
       "4812       45979     3  87476.355  110.729563  302.374120  0.060   4803.101   \n",
       "18933      11534     0  32977.599   43.678939   79.426087  0.284    979.773   \n",
       "21318      33962     3  67879.611   66.224011  463.932282  0.302  14747.796   \n",
       "25624      22211     0  40288.786   40.168281  134.134048  0.043   3579.590   \n",
       "13070      28838     0  51654.224   52.440837  191.147127  0.043   4872.555   \n",
       "\n",
       "       ext_small_group_unique  small_group_count_0  small_group_count_1  ...  \\\n",
       "4812                       58                  0.0                189.0  ...   \n",
       "18933                      49                  2.0                162.0  ...   \n",
       "21318                      53                  4.0                270.0  ...   \n",
       "25624                      53                  4.0                328.0  ...   \n",
       "13070                      55                  0.0                218.0  ...   \n",
       "\n",
       "       embedding_v194  embedding_v195  score_v000  score_v001  score_v002  \\\n",
       "4812        -0.097828        0.061561   -1.014562   -1.607859   -3.560163   \n",
       "18933       -0.060607        0.090760   -0.808736   -2.889763   -2.560991   \n",
       "21318       -0.121610        0.032585   -1.118014   -2.077857   -3.408392   \n",
       "25624       -0.142472        0.107691   -0.457521   -2.963936   -2.553839   \n",
       "13070       -0.146451        0.079197   -1.208248   -1.185420   -3.472433   \n",
       "\n",
       "       score_v003   ft_v000   ft_v001   ft_v002   ft_v003  \n",
       "4812    -0.894801 -1.387066 -1.424644 -3.517234 -0.734142  \n",
       "18933   -0.863315 -0.666702 -3.153454 -3.693807 -0.869838  \n",
       "21318   -0.664018 -1.105899 -2.706249 -3.399079 -0.564058  \n",
       "25624   -1.436527 -0.352810 -4.430120 -1.989951 -1.905997  \n",
       "13070   -1.008898 -0.970942 -2.163274 -3.064574 -0.777286  \n",
       "\n",
       "[5 rows x 810 columns]"
      ]
     },
     "execution_count": 28,
     "metadata": {},
     "output_type": "execute_result"
    }
   ],
   "source": [
    "train.head()"
   ]
  },
  {
   "cell_type": "code",
   "execution_count": 29,
   "metadata": {},
   "outputs": [],
   "source": [
    "test = pd.merge(test_target, agg_features, left_on='client_id', right_index=True)\n",
    "test = pd.merge(test, cat_counts_train, left_on='client_id', right_index=True)\n",
    "# test = pd.merge(test, rt_agg_features, left_on='client_id', right_index=True)\n",
    "test = pd.merge(test, df_embeddings, left_on='client_id', right_index=True)\n",
    "test = pd.merge(test, df_target_scores, left_on='client_id', right_index=True)\n",
    "test = pd.merge(test, df_ft_scores, left_on='client_id', right_index=True)"
   ]
  },
  {
   "cell_type": "code",
   "execution_count": 30,
   "metadata": {},
   "outputs": [
    {
     "data": {
      "text/html": [
       "<div>\n",
       "<style scoped>\n",
       "    .dataframe tbody tr th:only-of-type {\n",
       "        vertical-align: middle;\n",
       "    }\n",
       "\n",
       "    .dataframe tbody tr th {\n",
       "        vertical-align: top;\n",
       "    }\n",
       "\n",
       "    .dataframe thead th {\n",
       "        text-align: right;\n",
       "    }\n",
       "</style>\n",
       "<table border=\"1\" class=\"dataframe\">\n",
       "  <thead>\n",
       "    <tr style=\"text-align: right;\">\n",
       "      <th></th>\n",
       "      <th>client_id</th>\n",
       "      <th>bins</th>\n",
       "      <th>sum</th>\n",
       "      <th>mean</th>\n",
       "      <th>std</th>\n",
       "      <th>min</th>\n",
       "      <th>max</th>\n",
       "      <th>ext_small_group_unique</th>\n",
       "      <th>small_group_count_0</th>\n",
       "      <th>small_group_count_1</th>\n",
       "      <th>...</th>\n",
       "      <th>embedding_v194</th>\n",
       "      <th>embedding_v195</th>\n",
       "      <th>score_v000</th>\n",
       "      <th>score_v001</th>\n",
       "      <th>score_v002</th>\n",
       "      <th>score_v003</th>\n",
       "      <th>ft_v000</th>\n",
       "      <th>ft_v001</th>\n",
       "      <th>ft_v002</th>\n",
       "      <th>ft_v003</th>\n",
       "    </tr>\n",
       "  </thead>\n",
       "  <tbody>\n",
       "    <tr>\n",
       "      <th>14986</th>\n",
       "      <td>13208</td>\n",
       "      <td>1</td>\n",
       "      <td>62400.013</td>\n",
       "      <td>61.843422</td>\n",
       "      <td>116.999367</td>\n",
       "      <td>0.518</td>\n",
       "      <td>1509.466</td>\n",
       "      <td>44</td>\n",
       "      <td>0.0</td>\n",
       "      <td>320.0</td>\n",
       "      <td>...</td>\n",
       "      <td>-0.160209</td>\n",
       "      <td>-0.028746</td>\n",
       "      <td>-5.160534</td>\n",
       "      <td>-0.079212</td>\n",
       "      <td>-8.289759</td>\n",
       "      <td>-2.656888</td>\n",
       "      <td>-4.909724</td>\n",
       "      <td>-0.051263</td>\n",
       "      <td>-7.165516</td>\n",
       "      <td>-3.174301</td>\n",
       "    </tr>\n",
       "    <tr>\n",
       "      <th>28251</th>\n",
       "      <td>2078</td>\n",
       "      <td>2</td>\n",
       "      <td>14677.710</td>\n",
       "      <td>20.557017</td>\n",
       "      <td>61.008919</td>\n",
       "      <td>0.432</td>\n",
       "      <td>1358.519</td>\n",
       "      <td>36</td>\n",
       "      <td>0.0</td>\n",
       "      <td>259.0</td>\n",
       "      <td>...</td>\n",
       "      <td>-0.055514</td>\n",
       "      <td>0.086506</td>\n",
       "      <td>-4.333508</td>\n",
       "      <td>-10.129864</td>\n",
       "      <td>-0.013571</td>\n",
       "      <td>-8.053814</td>\n",
       "      <td>-5.586629</td>\n",
       "      <td>-12.313540</td>\n",
       "      <td>-0.003805</td>\n",
       "      <td>-9.992947</td>\n",
       "    </tr>\n",
       "    <tr>\n",
       "      <th>17150</th>\n",
       "      <td>4331</td>\n",
       "      <td>2</td>\n",
       "      <td>12856.757</td>\n",
       "      <td>17.733458</td>\n",
       "      <td>32.678898</td>\n",
       "      <td>0.092</td>\n",
       "      <td>503.061</td>\n",
       "      <td>27</td>\n",
       "      <td>0.0</td>\n",
       "      <td>338.0</td>\n",
       "      <td>...</td>\n",
       "      <td>-0.045182</td>\n",
       "      <td>0.102017</td>\n",
       "      <td>-2.326214</td>\n",
       "      <td>-4.243108</td>\n",
       "      <td>-0.149793</td>\n",
       "      <td>-3.608734</td>\n",
       "      <td>-2.047637</td>\n",
       "      <td>-3.754925</td>\n",
       "      <td>-0.198490</td>\n",
       "      <td>-3.590286</td>\n",
       "    </tr>\n",
       "    <tr>\n",
       "      <th>19437</th>\n",
       "      <td>19860</td>\n",
       "      <td>3</td>\n",
       "      <td>44064.945</td>\n",
       "      <td>54.671148</td>\n",
       "      <td>182.899582</td>\n",
       "      <td>0.043</td>\n",
       "      <td>4121.575</td>\n",
       "      <td>50</td>\n",
       "      <td>1.0</td>\n",
       "      <td>181.0</td>\n",
       "      <td>...</td>\n",
       "      <td>-0.106573</td>\n",
       "      <td>0.059305</td>\n",
       "      <td>-0.687700</td>\n",
       "      <td>-3.069371</td>\n",
       "      <td>-2.948502</td>\n",
       "      <td>-0.920298</td>\n",
       "      <td>-0.572014</td>\n",
       "      <td>-3.048374</td>\n",
       "      <td>-3.979825</td>\n",
       "      <td>-0.995639</td>\n",
       "    </tr>\n",
       "    <tr>\n",
       "      <th>11437</th>\n",
       "      <td>15753</td>\n",
       "      <td>2</td>\n",
       "      <td>78882.494</td>\n",
       "      <td>96.315621</td>\n",
       "      <td>546.004161</td>\n",
       "      <td>0.045</td>\n",
       "      <td>4121.575</td>\n",
       "      <td>42</td>\n",
       "      <td>29.0</td>\n",
       "      <td>219.0</td>\n",
       "      <td>...</td>\n",
       "      <td>-0.145721</td>\n",
       "      <td>0.101698</td>\n",
       "      <td>-2.090112</td>\n",
       "      <td>-3.569410</td>\n",
       "      <td>-0.230040</td>\n",
       "      <td>-2.925225</td>\n",
       "      <td>-1.458850</td>\n",
       "      <td>-3.758252</td>\n",
       "      <td>-0.387053</td>\n",
       "      <td>-2.731569</td>\n",
       "    </tr>\n",
       "  </tbody>\n",
       "</table>\n",
       "<p>5 rows × 810 columns</p>\n",
       "</div>"
      ],
      "text/plain": [
       "       client_id  bins        sum       mean         std    min       max  \\\n",
       "14986      13208     1  62400.013  61.843422  116.999367  0.518  1509.466   \n",
       "28251       2078     2  14677.710  20.557017   61.008919  0.432  1358.519   \n",
       "17150       4331     2  12856.757  17.733458   32.678898  0.092   503.061   \n",
       "19437      19860     3  44064.945  54.671148  182.899582  0.043  4121.575   \n",
       "11437      15753     2  78882.494  96.315621  546.004161  0.045  4121.575   \n",
       "\n",
       "       ext_small_group_unique  small_group_count_0  small_group_count_1  ...  \\\n",
       "14986                      44                  0.0                320.0  ...   \n",
       "28251                      36                  0.0                259.0  ...   \n",
       "17150                      27                  0.0                338.0  ...   \n",
       "19437                      50                  1.0                181.0  ...   \n",
       "11437                      42                 29.0                219.0  ...   \n",
       "\n",
       "       embedding_v194  embedding_v195  score_v000  score_v001  score_v002  \\\n",
       "14986       -0.160209       -0.028746   -5.160534   -0.079212   -8.289759   \n",
       "28251       -0.055514        0.086506   -4.333508  -10.129864   -0.013571   \n",
       "17150       -0.045182        0.102017   -2.326214   -4.243108   -0.149793   \n",
       "19437       -0.106573        0.059305   -0.687700   -3.069371   -2.948502   \n",
       "11437       -0.145721        0.101698   -2.090112   -3.569410   -0.230040   \n",
       "\n",
       "       score_v003   ft_v000    ft_v001   ft_v002   ft_v003  \n",
       "14986   -2.656888 -4.909724  -0.051263 -7.165516 -3.174301  \n",
       "28251   -8.053814 -5.586629 -12.313540 -0.003805 -9.992947  \n",
       "17150   -3.608734 -2.047637  -3.754925 -0.198490 -3.590286  \n",
       "19437   -0.920298 -0.572014  -3.048374 -3.979825 -0.995639  \n",
       "11437   -2.925225 -1.458850  -3.758252 -0.387053 -2.731569  \n",
       "\n",
       "[5 rows x 810 columns]"
      ]
     },
     "execution_count": 30,
     "metadata": {},
     "output_type": "execute_result"
    }
   ],
   "source": [
    "test.head()"
   ]
  },
  {
   "cell_type": "code",
   "execution_count": null,
   "metadata": {},
   "outputs": [],
   "source": []
  },
  {
   "cell_type": "code",
   "execution_count": 33,
   "metadata": {},
   "outputs": [],
   "source": [
    "param={'objective':'multi:softprob','num_class':4,'n_jobs':4,'seed':42}"
   ]
  },
  {
   "cell_type": "code",
   "execution_count": null,
   "metadata": {},
   "outputs": [],
   "source": []
  },
  {
   "cell_type": "markdown",
   "metadata": {},
   "source": [
    "# Estimate features"
   ]
  },
  {
   "cell_type": "markdown",
   "metadata": {},
   "source": [
    "## Baseline Agg features"
   ]
  },
  {
   "cell_type": "code",
   "execution_count": null,
   "metadata": {},
   "outputs": [],
   "source": [
    "%%time\n",
    "y_train=train['bins']\n",
    "y_test=test['bins']\n",
    "X_train=train[col_agg_features]\n",
    "X_test=test[col_agg_features]"
   ]
  },
  {
   "cell_type": "code",
   "execution_count": 34,
   "metadata": {},
   "outputs": [
    {
     "name": "stdout",
     "output_type": "stream",
     "text": [
      "accuracy: 0.6108\n",
      "CPU times: user 1min 58s, sys: 196 ms, total: 1min 58s\n",
      "Wall time: 30.2 s\n"
     ]
    }
   ],
   "source": [
    "model=xgb.XGBClassifier(**param,n_estimators=300)\n",
    "model.fit(X_train,y_train)\n",
    "\n",
    "pred = model.predict(X_test)\n",
    "\n",
    "accuracy = (y_test == pred).mean()\n",
    "print(f'accuracy: {accuracy:.4f}')"
   ]
  },
  {
   "cell_type": "markdown",
   "metadata": {},
   "source": [
    "На public лидерборде такое предсказание должно дать качество 0.6118.\n",
    "\n",
    "На части train такое предсказание должно дать качество: 0.6108."
   ]
  },
  {
   "cell_type": "code",
   "execution_count": 37,
   "metadata": {},
   "outputs": [
    {
     "name": "stdout",
     "output_type": "stream",
     "text": [
      "accuracy: 0.6091\n",
      "CPU times: user 36.4 s, sys: 188 ms, total: 36.6 s\n",
      "Wall time: 9.38 s\n"
     ]
    }
   ],
   "source": [
    "%%time\n",
    "model=lightgbm.LGBMClassifier(n_estimators=300, n_jobs=4)\n",
    "model.fit(X_train,y_train)\n",
    "\n",
    "pred = model.predict(X_test)\n",
    "\n",
    "accuracy = (y_test == pred).mean()\n",
    "print(f'accuracy: {accuracy:.4f}')"
   ]
  },
  {
   "cell_type": "code",
   "execution_count": null,
   "metadata": {},
   "outputs": [],
   "source": []
  },
  {
   "cell_type": "code",
   "execution_count": null,
   "metadata": {},
   "outputs": [],
   "source": []
  },
  {
   "cell_type": "markdown",
   "metadata": {},
   "source": [
    "## Extended Agg features"
   ]
  },
  {
   "cell_type": "code",
   "execution_count": 56,
   "metadata": {},
   "outputs": [
    {
     "name": "stdout",
     "output_type": "stream",
     "text": [
      "CPU times: user 40 ms, sys: 20 ms, total: 60 ms\n",
      "Wall time: 59.2 ms\n"
     ]
    }
   ],
   "source": [
    "%%time\n",
    "y_train=train['bins']\n",
    "y_test=test['bins']\n",
    "X_train=train[col_ext_agg_features]\n",
    "X_test=test[col_ext_agg_features]"
   ]
  },
  {
   "cell_type": "code",
   "execution_count": 44,
   "metadata": {},
   "outputs": [
    {
     "name": "stdout",
     "output_type": "stream",
     "text": [
      "CPU times: user 6min 32s, sys: 9.52 s, total: 6min 41s\n",
      "Wall time: 1min 49s\n"
     ]
    },
    {
     "data": {
      "text/plain": [
       "XGBClassifier(base_score=0.5, booster='gbtree', colsample_bylevel=1,\n",
       "              colsample_bynode=1, colsample_bytree=1, gamma=0,\n",
       "              learning_rate=0.1, max_delta_step=0, max_depth=3,\n",
       "              min_child_weight=1, missing=None, n_estimators=300, n_jobs=4,\n",
       "              nthread=None, num_class=4, objective='multi:softprob',\n",
       "              random_state=0, reg_alpha=0, reg_lambda=1, scale_pos_weight=1,\n",
       "              seed=42, silent=None, subsample=1, verbosity=1)"
      ]
     },
     "execution_count": 44,
     "metadata": {},
     "output_type": "execute_result"
    }
   ],
   "source": [
    "model=xgb.XGBClassifier(**param,n_estimators=300)\n",
    "model.fit(X_train,y_train)"
   ]
  },
  {
   "cell_type": "code",
   "execution_count": 45,
   "metadata": {},
   "outputs": [
    {
     "data": {
      "text/plain": [
       "array([1, 2, 2, ..., 3, 2, 3])"
      ]
     },
     "execution_count": 45,
     "metadata": {},
     "output_type": "execute_result"
    }
   ],
   "source": [
    "pred = model.predict(X_test)\n",
    "pred"
   ]
  },
  {
   "cell_type": "markdown",
   "metadata": {},
   "source": [
    "На части train такое предсказание должно дать качество 0.6182."
   ]
  },
  {
   "cell_type": "code",
   "execution_count": 46,
   "metadata": {},
   "outputs": [
    {
     "name": "stdout",
     "output_type": "stream",
     "text": [
      "accuracy: 0.6182\n"
     ]
    }
   ],
   "source": [
    "accuracy = (y_test == pred).mean()\n",
    "print(f'accuracy: {accuracy:.4f}')"
   ]
  },
  {
   "cell_type": "code",
   "execution_count": 57,
   "metadata": {},
   "outputs": [
    {
     "name": "stdout",
     "output_type": "stream",
     "text": [
      "accuracy: 0.6208\n",
      "CPU times: user 1min 58s, sys: 3.8 s, total: 2min 2s\n",
      "Wall time: 35.3 s\n"
     ]
    }
   ],
   "source": [
    "%%time\n",
    "model=lightgbm.LGBMClassifier(n_estimators=300, n_jobs=4)\n",
    "model.fit(X_train,y_train)\n",
    "\n",
    "pred = model.predict(X_test)\n",
    "\n",
    "accuracy = (y_test == pred).mean()\n",
    "print(f'accuracy: {accuracy:.4f}')"
   ]
  },
  {
   "cell_type": "markdown",
   "metadata": {},
   "source": [
    "## Random Tree agg features"
   ]
  },
  {
   "cell_type": "code",
   "execution_count": null,
   "metadata": {},
   "outputs": [],
   "source": [
    "%%time\n",
    "y_train=train['bins']\n",
    "y_test=test['bins']\n",
    "X_train=train[col_rt_agg_features]\n",
    "X_test=test[col_rt_agg_features]"
   ]
  },
  {
   "cell_type": "code",
   "execution_count": 69,
   "metadata": {},
   "outputs": [
    {
     "name": "stdout",
     "output_type": "stream",
     "text": [
      "CPU times: user 12min 47s, sys: 10.8 s, total: 12min 58s\n",
      "Wall time: 3min 23s\n"
     ]
    },
    {
     "data": {
      "text/plain": [
       "XGBClassifier(base_score=0.5, booster='gbtree', colsample_bylevel=1,\n",
       "              colsample_bynode=1, colsample_bytree=1, gamma=0,\n",
       "              learning_rate=0.1, max_delta_step=0, max_depth=3,\n",
       "              min_child_weight=1, missing=None, n_estimators=300, n_jobs=4,\n",
       "              nthread=None, num_class=4, objective='multi:softprob',\n",
       "              random_state=0, reg_alpha=0, reg_lambda=1, scale_pos_weight=1,\n",
       "              seed=42, silent=None, subsample=1, verbosity=1)"
      ]
     },
     "execution_count": 69,
     "metadata": {},
     "output_type": "execute_result"
    }
   ],
   "source": [
    "model=xgb.XGBClassifier(**param, n_estimators=300)\n",
    "model.fit(X_train,y_train)"
   ]
  },
  {
   "cell_type": "code",
   "execution_count": 70,
   "metadata": {},
   "outputs": [
    {
     "data": {
      "text/plain": [
       "array([1, 2, 2, ..., 0, 2, 3])"
      ]
     },
     "execution_count": 70,
     "metadata": {},
     "output_type": "execute_result"
    }
   ],
   "source": [
    "pred = model.predict(X_test)\n",
    "pred"
   ]
  },
  {
   "cell_type": "markdown",
   "metadata": {},
   "source": [
    "accuracy: 0.5992, если делать деревья размером 128, брать общее дерево и по каждой фиче"
   ]
  },
  {
   "cell_type": "code",
   "execution_count": 71,
   "metadata": {},
   "outputs": [
    {
     "name": "stdout",
     "output_type": "stream",
     "text": [
      "accuracy: 0.6013\n"
     ]
    }
   ],
   "source": [
    "accuracy = (y_test == pred).mean()\n",
    "print(f'accuracy: {accuracy:.4f}')"
   ]
  },
  {
   "cell_type": "code",
   "execution_count": null,
   "metadata": {},
   "outputs": [],
   "source": [
    "%%time\n",
    "model=lightgbm.LGBMClassifier(n_estimators=300, n_jobs=4)\n",
    "model.fit(X_train,y_train)\n",
    "\n",
    "pred = model.predict(X_test)\n",
    "\n",
    "accuracy = (y_test == pred).mean()\n",
    "print(f'accuracy: {accuracy:.4f}')"
   ]
  },
  {
   "cell_type": "code",
   "execution_count": null,
   "metadata": {},
   "outputs": [],
   "source": []
  },
  {
   "cell_type": "markdown",
   "metadata": {},
   "source": [
    "## Embedding features"
   ]
  },
  {
   "cell_type": "code",
   "execution_count": 58,
   "metadata": {},
   "outputs": [
    {
     "name": "stdout",
     "output_type": "stream",
     "text": [
      "CPU times: user 12 ms, sys: 0 ns, total: 12 ms\n",
      "Wall time: 10.7 ms\n"
     ]
    }
   ],
   "source": [
    "%%time\n",
    "y_train=train['bins']\n",
    "y_test=test['bins']\n",
    "X_train=train[col_embedding_features]\n",
    "X_test=test[col_embedding_features]"
   ]
  },
  {
   "cell_type": "code",
   "execution_count": 31,
   "metadata": {},
   "outputs": [
    {
     "name": "stdout",
     "output_type": "stream",
     "text": [
      "CPU times: user 5min 30s, sys: 84 ms, total: 5min 31s\n",
      "Wall time: 1min 22s\n"
     ]
    },
    {
     "data": {
      "text/plain": [
       "XGBClassifier(base_score=0.5, booster='gbtree', colsample_bylevel=1,\n",
       "              colsample_bynode=1, colsample_bytree=1, gamma=0,\n",
       "              learning_rate=0.1, max_delta_step=0, max_depth=3,\n",
       "              min_child_weight=1, missing=None, n_estimators=300, n_jobs=4,\n",
       "              nthread=None, num_class=4, objective='multi:softprob',\n",
       "              random_state=0, reg_alpha=0, reg_lambda=1, scale_pos_weight=1,\n",
       "              seed=42, silent=None, subsample=1, verbosity=1)"
      ]
     },
     "execution_count": 31,
     "metadata": {},
     "output_type": "execute_result"
    }
   ],
   "source": [
    "model=xgb.XGBClassifier(**param,n_estimators=300)\n",
    "model.fit(X_train,y_train)"
   ]
  },
  {
   "cell_type": "code",
   "execution_count": 32,
   "metadata": {},
   "outputs": [
    {
     "data": {
      "text/plain": [
       "array([1, 2, 2, ..., 0, 2, 1])"
      ]
     },
     "execution_count": 32,
     "metadata": {},
     "output_type": "execute_result"
    }
   ],
   "source": [
    "pred = model.predict(X_test)\n",
    "pred"
   ]
  },
  {
   "cell_type": "code",
   "execution_count": 33,
   "metadata": {},
   "outputs": [
    {
     "name": "stdout",
     "output_type": "stream",
     "text": [
      "accuracy: 0.6121\n"
     ]
    }
   ],
   "source": [
    "accuracy = (y_test == pred).mean()\n",
    "print(f'accuracy: {accuracy:.4f}')"
   ]
  },
  {
   "cell_type": "markdown",
   "metadata": {},
   "source": [
    "| accuracy   | n_epoch | train content | hid_s | embed_s | loss_margin | cnt_min | cnt_max |\n",
    "| ---------- | ------- | ------------- | ----- | ------- | ----------- | ------- | ------- |\n",
    "|   0.5033   | 25      |  train only   |   16  |   4     | 1.0         | 25      |  400    |\n",
    "|   0.5215   | 25      |  train + test |   16  |   4     | 1.0         | 25      |  400    |\n",
    "|   0.5389   | 50      |  train + test |   16  |   4     | 1.0         | 25      |  400    |\n",
    "|   0.5537   | 50      |  train + test |   32  |   4     | 1.0         | 25      |  400    |\n",
    "|   0.5643   | 25      |  train + test |  128  |   4     | 1.0         | 25      |  400    |\n",
    "|   0.5916   | 50      |  train + test |  128  |   8     | 1.0         | 25      |  400    |\n",
    "|   0.5982   | 50      |  train + test |  128  |   8     | 0.5         | 25      |  400    |\n",
    "| **0.6057** | 50      |  train + test |  128  |  16     | 0.5         | 25      |  400    |\n",
    "|   0.5977   | 50      |  train + test |  128  |  16     | 0.5         | 300     |  400    |\n",
    "|   0.5894   | 50      |  train + test |  128  |  16     | 0.5         | 300     |  600    |\n",
    "|   0.5968   | 50      |  train + test |  128  |  16     | 0.5         | 25      |  600    |\n",
    "| ---------- | ------- | ------------- | ----- | ------- | ----------- | ------- | ------- |\n",
    "|   0.5945   | 25      |  train + test |  128  |  16     | 0.5         | 25      |  100    |\n",
    "|   0.6038   | 25      |  train + test |  128  |  16     | 0.5         | 80      |  300    |\n",
    "|   0.5831   | 25      |  train + test |  128  |  16     | 0.5         | 250     |  700    |\n",
    "|   0.6053   | 25      |  train + test |  128  |  16     | 0.5         | SML     |  SML    |\n",
    "| **0.6097** | 75      |  train + test |  196  |  16     | 0.5         | 25      |  600    |\n",
    "| **0.6122** | 150     |  train + test |  196  |  16     | 0.5         | 25      |  600    |\n",
    "|   0.6117   | 300     |  train + test |  196  |  16     | 0.5         | 25      |  600    |\n",
    "|   0.6121   | 300     |  all data     |  196  |  16     | 0.5         | 25      |  600    |\n",
    "| ---------- | ------- | ------------- | ----- | ------- | ----------- | ------- | ------- |\n",
    "|   0.5643   | 25      |  train + test |  128  |   4     | 1.0         | 25      |  400    |\n",
    "|   0.5683   | 25 amntfix      |  train + test |  128  |   4     | 1.0         | 25      |  400    |"
   ]
  },
  {
   "cell_type": "code",
   "execution_count": 59,
   "metadata": {},
   "outputs": [
    {
     "name": "stdout",
     "output_type": "stream",
     "text": [
      "accuracy: 0.6106\n",
      "CPU times: user 1min 35s, sys: 2.7 s, total: 1min 38s\n",
      "Wall time: 26.1 s\n"
     ]
    }
   ],
   "source": [
    "%%time\n",
    "model=lightgbm.LGBMClassifier(n_estimators=300, n_jobs=4)\n",
    "model.fit(X_train,y_train)\n",
    "\n",
    "pred = model.predict(X_test)\n",
    "\n",
    "accuracy = (y_test == pred).mean()\n",
    "print(f'accuracy: {accuracy:.4f}')"
   ]
  },
  {
   "cell_type": "code",
   "execution_count": null,
   "metadata": {},
   "outputs": [],
   "source": []
  },
  {
   "cell_type": "markdown",
   "metadata": {},
   "source": [
    "## Scores features"
   ]
  },
  {
   "cell_type": "code",
   "execution_count": 60,
   "metadata": {},
   "outputs": [
    {
     "name": "stdout",
     "output_type": "stream",
     "text": [
      "CPU times: user 0 ns, sys: 0 ns, total: 0 ns\n",
      "Wall time: 2.54 ms\n"
     ]
    }
   ],
   "source": [
    "%%time\n",
    "y_train=train['bins']\n",
    "y_test=test['bins']\n",
    "X_train=train[col_score_features]\n",
    "X_test=test[col_score_features]"
   ]
  },
  {
   "cell_type": "code",
   "execution_count": 34,
   "metadata": {},
   "outputs": [
    {
     "name": "stdout",
     "output_type": "stream",
     "text": [
      "CPU times: user 16.3 s, sys: 20 ms, total: 16.4 s\n",
      "Wall time: 4.09 s\n"
     ]
    },
    {
     "data": {
      "text/plain": [
       "XGBClassifier(base_score=0.5, booster='gbtree', colsample_bylevel=1,\n",
       "              colsample_bynode=1, colsample_bytree=1, gamma=0,\n",
       "              learning_rate=0.1, max_delta_step=0, max_depth=3,\n",
       "              min_child_weight=1, missing=None, n_estimators=300, n_jobs=4,\n",
       "              nthread=None, num_class=4, objective='multi:softprob',\n",
       "              random_state=0, reg_alpha=0, reg_lambda=1, scale_pos_weight=1,\n",
       "              seed=42, silent=None, subsample=1, verbosity=1)"
      ]
     },
     "execution_count": 34,
     "metadata": {},
     "output_type": "execute_result"
    }
   ],
   "source": [
    "model=xgb.XGBClassifier(**param,n_estimators=300)\n",
    "model.fit(X_train,y_train)"
   ]
  },
  {
   "cell_type": "code",
   "execution_count": 35,
   "metadata": {},
   "outputs": [
    {
     "data": {
      "text/plain": [
       "array([1, 2, 2, ..., 1, 2, 3])"
      ]
     },
     "execution_count": 35,
     "metadata": {},
     "output_type": "execute_result"
    }
   ],
   "source": [
    "pred = model.predict(X_test)\n",
    "pred"
   ]
  },
  {
   "cell_type": "code",
   "execution_count": 36,
   "metadata": {},
   "outputs": [
    {
     "name": "stdout",
     "output_type": "stream",
     "text": [
      "accuracy: 0.6189\n"
     ]
    }
   ],
   "source": [
    "accuracy = (y_test == pred).mean()\n",
    "print(f'accuracy: {accuracy:.4f}')"
   ]
  },
  {
   "cell_type": "code",
   "execution_count": 61,
   "metadata": {},
   "outputs": [
    {
     "name": "stdout",
     "output_type": "stream",
     "text": [
      "accuracy: 0.6090\n",
      "CPU times: user 8.24 s, sys: 2.05 s, total: 10.3 s\n",
      "Wall time: 3.43 s\n"
     ]
    }
   ],
   "source": [
    "%%time\n",
    "model=lightgbm.LGBMClassifier(n_estimators=300, n_jobs=4)\n",
    "model.fit(X_train,y_train)\n",
    "\n",
    "pred = model.predict(X_test)\n",
    "\n",
    "accuracy = (y_test == pred).mean()\n",
    "print(f'accuracy: {accuracy:.4f}')"
   ]
  },
  {
   "cell_type": "markdown",
   "metadata": {},
   "source": [
    "## FT scores"
   ]
  },
  {
   "cell_type": "code",
   "execution_count": 62,
   "metadata": {},
   "outputs": [
    {
     "name": "stdout",
     "output_type": "stream",
     "text": [
      "CPU times: user 4 ms, sys: 0 ns, total: 4 ms\n",
      "Wall time: 2.45 ms\n"
     ]
    }
   ],
   "source": [
    "%%time\n",
    "y_train=train['bins']\n",
    "y_test=test['bins']\n",
    "X_train=train[col_ft_features]\n",
    "X_test=test[col_ft_features]"
   ]
  },
  {
   "cell_type": "code",
   "execution_count": 56,
   "metadata": {},
   "outputs": [
    {
     "name": "stdout",
     "output_type": "stream",
     "text": [
      "CPU times: user 16.6 s, sys: 28 ms, total: 16.6 s\n",
      "Wall time: 4.18 s\n"
     ]
    },
    {
     "data": {
      "text/plain": [
       "XGBClassifier(base_score=0.5, booster='gbtree', colsample_bylevel=1,\n",
       "              colsample_bynode=1, colsample_bytree=1, gamma=0,\n",
       "              learning_rate=0.1, max_delta_step=0, max_depth=3,\n",
       "              min_child_weight=1, missing=None, n_estimators=300, n_jobs=4,\n",
       "              nthread=None, num_class=4, objective='multi:softprob',\n",
       "              random_state=0, reg_alpha=0, reg_lambda=1, scale_pos_weight=1,\n",
       "              seed=42, silent=None, subsample=1, verbosity=1)"
      ]
     },
     "execution_count": 56,
     "metadata": {},
     "output_type": "execute_result"
    }
   ],
   "source": [
    "model=xgb.XGBClassifier(**param,n_estimators=300)\n",
    "model.fit(X_train,y_train)"
   ]
  },
  {
   "cell_type": "code",
   "execution_count": 57,
   "metadata": {},
   "outputs": [
    {
     "data": {
      "text/plain": [
       "array([1, 2, 2, ..., 1, 2, 3])"
      ]
     },
     "execution_count": 57,
     "metadata": {},
     "output_type": "execute_result"
    }
   ],
   "source": [
    "pred = model.predict(X_test)\n",
    "pred"
   ]
  },
  {
   "cell_type": "code",
   "execution_count": 58,
   "metadata": {},
   "outputs": [
    {
     "name": "stdout",
     "output_type": "stream",
     "text": [
      "accuracy: 0.6318\n"
     ]
    }
   ],
   "source": [
    "accuracy = (y_test == pred).mean()\n",
    "print(f'accuracy: {accuracy:.4f}')"
   ]
  },
  {
   "cell_type": "code",
   "execution_count": 63,
   "metadata": {},
   "outputs": [
    {
     "name": "stdout",
     "output_type": "stream",
     "text": [
      "accuracy: 0.6166\n",
      "CPU times: user 8.23 s, sys: 2.01 s, total: 10.2 s\n",
      "Wall time: 3.43 s\n"
     ]
    }
   ],
   "source": [
    "%%time\n",
    "model=lightgbm.LGBMClassifier(n_estimators=300, n_jobs=4)\n",
    "model.fit(X_train,y_train)\n",
    "\n",
    "pred = model.predict(X_test)\n",
    "\n",
    "accuracy = (y_test == pred).mean()\n",
    "print(f'accuracy: {accuracy:.4f}')"
   ]
  },
  {
   "cell_type": "code",
   "execution_count": null,
   "metadata": {},
   "outputs": [],
   "source": []
  },
  {
   "cell_type": "markdown",
   "metadata": {},
   "source": [
    "## Feature combinations"
   ]
  },
  {
   "cell_type": "code",
   "execution_count": 37,
   "metadata": {},
   "outputs": [
    {
     "name": "stdout",
     "output_type": "stream",
     "text": [
      "CPU times: user 7min 21s, sys: 232 ms, total: 7min 21s\n",
      "Wall time: 1min 50s\n"
     ]
    },
    {
     "data": {
      "text/plain": [
       "XGBClassifier(base_score=0.5, booster='gbtree', colsample_bylevel=1,\n",
       "              colsample_bynode=1, colsample_bytree=1, gamma=0,\n",
       "              learning_rate=0.1, max_delta_step=0, max_depth=3,\n",
       "              min_child_weight=1, missing=None, n_estimators=300, n_jobs=4,\n",
       "              nthread=None, num_class=4, objective='multi:softprob',\n",
       "              random_state=0, reg_alpha=0, reg_lambda=1, scale_pos_weight=1,\n",
       "              seed=42, silent=None, subsample=1, verbosity=1)"
      ]
     },
     "execution_count": 37,
     "metadata": {},
     "output_type": "execute_result"
    }
   ],
   "source": [
    "%%time\n",
    "y_train=train['bins']\n",
    "y_test=test['bins']\n",
    "X_train=train[col_agg_features + col_embedding_features]\n",
    "X_test=test[col_agg_features + col_embedding_features]\n",
    "\n",
    "model=xgb.XGBClassifier(**param,n_estimators=300)\n",
    "model.fit(X_train,y_train)"
   ]
  },
  {
   "cell_type": "code",
   "execution_count": 38,
   "metadata": {},
   "outputs": [
    {
     "data": {
      "text/plain": [
       "array([1, 2, 2, ..., 3, 2, 1])"
      ]
     },
     "execution_count": 38,
     "metadata": {},
     "output_type": "execute_result"
    }
   ],
   "source": [
    "pred = model.predict(X_test)\n",
    "pred"
   ]
  },
  {
   "cell_type": "code",
   "execution_count": 39,
   "metadata": {},
   "outputs": [
    {
     "name": "stdout",
     "output_type": "stream",
     "text": [
      "accuracy: 0.6207\n"
     ]
    }
   ],
   "source": [
    "accuracy = (y_test == pred).mean()\n",
    "print(f'accuracy: {accuracy:.4f}')"
   ]
  },
  {
   "cell_type": "markdown",
   "metadata": {},
   "source": [
    "| accuracy   | n_epoch | train content | hid_s | embed_s | loss_margin | cnt_min | cnt_max |\n",
    "| ---------- | ------- | ------------- | ----- | ------- | ----------- | ------- | ------- |\n",
    "|   0.60     | 25      |  train only   |   16  |   4     | 1.0         | 25      |  400    |\n",
    "|   0.6120   | 25      |  train + test |   16  |   4     | 1.0         | 25      |  400    |\n",
    "|   0.6112   | 50      |  train + test |   16  |   4     | 1.0         | 25      |  400    |\n",
    "|   0.6156   | 50      |  train + test |   32  |   4     | 1.0         | 25      |  400    |\n",
    "|   0.6149   | 25      |  train + test |  128  |   4     | 1.0         | 25      |  400    |\n",
    "|   0.6117   | 50      |  train + test |  128  |   8     | 1.0         | 25      |  400    |\n",
    "|   0.6148   | 50      |  train + test |  128  |   8     | 0.5         | 25      |  400    |\n",
    "|   0.6181   | 50      |  train + test |  128  |  16     | 0.5         | 25      |  400    |\n",
    "|   0.6160   | 50      |  train + test |  128  |  16     | 0.5         | 300     |  400    |\n",
    "|   0.6107   | 50      |  train + test |  128  |  16     | 0.5         | 300     |  600    |\n",
    "| **0.6183** | 50      |  train + test |  128  |  16     | 0.5         | 25      |  600    |\n",
    "| ---------- | ------- | ------------- | ----- | ------- | ----------- | ------- | ------- |\n",
    "|   0.6123   | 25      |  train + test |  128  |  16     | 0.5         | 25      |  100    |\n",
    "|   0.6158   | 25      |  train + test |  128  |  16     | 0.5         | 80      |  300    |\n",
    "|   0.6092   | 25      |  train + test |  128  |  16     | 0.5         | 250     |  700    |\n",
    "|   0.6137   | 25      |  train + test |  128  |  16     | 0.5         | SML     |  SML    |\n",
    "|   0.6218   | 75      |  train + test |  196  |  16     | 0.5         | 25      |  600    |\n",
    "|   0.6218   | 150     |  train + test |  196  |  16     | 0.5         | 25      |  600    |\n",
    "| **0.6241** | 300     |  train + test |  196  |  16     | 0.5         | 25      |  600    |\n",
    "|   0.6207   | 300     |  all data     |  196  |  16     | 0.5         | 25      |  600    |\n",
    "| ---------- | ------- | ------------- | ----- | ------- | ----------- | ------- | ------- |\n",
    "|   0.6149   | 25      |  train + test |  128  |   4     | 1.0         | 25      |  400    |\n",
    "|   0.6074   | 25 amntfix      |  train + test |  128  |   4     | 1.0         | 25      |  400    |"
   ]
  },
  {
   "cell_type": "code",
   "execution_count": null,
   "metadata": {},
   "outputs": [],
   "source": []
  },
  {
   "cell_type": "code",
   "execution_count": 40,
   "metadata": {},
   "outputs": [
    {
     "name": "stdout",
     "output_type": "stream",
     "text": [
      "CPU times: user 2min 4s, sys: 96 ms, total: 2min 4s\n",
      "Wall time: 31.5 s\n"
     ]
    },
    {
     "data": {
      "text/plain": [
       "XGBClassifier(base_score=0.5, booster='gbtree', colsample_bylevel=1,\n",
       "              colsample_bynode=1, colsample_bytree=1, gamma=0,\n",
       "              learning_rate=0.1, max_delta_step=0, max_depth=3,\n",
       "              min_child_weight=1, missing=None, n_estimators=300, n_jobs=4,\n",
       "              nthread=None, num_class=4, objective='multi:softprob',\n",
       "              random_state=0, reg_alpha=0, reg_lambda=1, scale_pos_weight=1,\n",
       "              seed=42, silent=None, subsample=1, verbosity=1)"
      ]
     },
     "execution_count": 40,
     "metadata": {},
     "output_type": "execute_result"
    }
   ],
   "source": [
    "%%time\n",
    "y_train=train['bins']\n",
    "y_test=test['bins']\n",
    "X_train=train[col_agg_features + col_score_features]\n",
    "X_test=test[col_agg_features + col_score_features]\n",
    "\n",
    "model=xgb.XGBClassifier(**param,n_estimators=300)\n",
    "model.fit(X_train,y_train)"
   ]
  },
  {
   "cell_type": "code",
   "execution_count": 41,
   "metadata": {},
   "outputs": [
    {
     "data": {
      "text/plain": [
       "array([1, 2, 2, ..., 1, 2, 1])"
      ]
     },
     "execution_count": 41,
     "metadata": {},
     "output_type": "execute_result"
    }
   ],
   "source": [
    "pred = model.predict(X_test)\n",
    "pred"
   ]
  },
  {
   "cell_type": "code",
   "execution_count": 42,
   "metadata": {},
   "outputs": [
    {
     "name": "stdout",
     "output_type": "stream",
     "text": [
      "accuracy: 0.6269\n"
     ]
    }
   ],
   "source": [
    "accuracy = (y_test == pred).mean()\n",
    "print(f'accuracy: {accuracy:.4f}')"
   ]
  },
  {
   "cell_type": "code",
   "execution_count": null,
   "metadata": {},
   "outputs": [],
   "source": []
  },
  {
   "cell_type": "code",
   "execution_count": 59,
   "metadata": {},
   "outputs": [
    {
     "name": "stdout",
     "output_type": "stream",
     "text": [
      "CPU times: user 2min 2s, sys: 80 ms, total: 2min 2s\n",
      "Wall time: 30.7 s\n"
     ]
    },
    {
     "data": {
      "text/plain": [
       "XGBClassifier(base_score=0.5, booster='gbtree', colsample_bylevel=1,\n",
       "              colsample_bynode=1, colsample_bytree=1, gamma=0,\n",
       "              learning_rate=0.1, max_delta_step=0, max_depth=3,\n",
       "              min_child_weight=1, missing=None, n_estimators=300, n_jobs=4,\n",
       "              nthread=None, num_class=4, objective='multi:softprob',\n",
       "              random_state=0, reg_alpha=0, reg_lambda=1, scale_pos_weight=1,\n",
       "              seed=42, silent=None, subsample=1, verbosity=1)"
      ]
     },
     "execution_count": 59,
     "metadata": {},
     "output_type": "execute_result"
    }
   ],
   "source": [
    "%%time\n",
    "y_train=train['bins']\n",
    "y_test=test['bins']\n",
    "X_train=train[col_agg_features + col_ft_features]\n",
    "X_test=test[col_agg_features + col_ft_features]\n",
    "\n",
    "model=xgb.XGBClassifier(**param,n_estimators=300)\n",
    "model.fit(X_train,y_train)"
   ]
  },
  {
   "cell_type": "code",
   "execution_count": 60,
   "metadata": {},
   "outputs": [
    {
     "data": {
      "text/plain": [
       "array([1, 2, 2, ..., 3, 2, 1])"
      ]
     },
     "execution_count": 60,
     "metadata": {},
     "output_type": "execute_result"
    }
   ],
   "source": [
    "pred = model.predict(X_test)\n",
    "pred"
   ]
  },
  {
   "cell_type": "code",
   "execution_count": 61,
   "metadata": {},
   "outputs": [
    {
     "name": "stdout",
     "output_type": "stream",
     "text": [
      "accuracy: 0.6316\n"
     ]
    }
   ],
   "source": [
    "accuracy = (y_test == pred).mean()\n",
    "print(f'accuracy: {accuracy:.4f}')"
   ]
  },
  {
   "cell_type": "code",
   "execution_count": null,
   "metadata": {},
   "outputs": [],
   "source": []
  },
  {
   "cell_type": "code",
   "execution_count": 64,
   "metadata": {},
   "outputs": [
    {
     "name": "stdout",
     "output_type": "stream",
     "text": [
      "CPU times: user 44 ms, sys: 52 ms, total: 96 ms\n",
      "Wall time: 93.8 ms\n"
     ]
    }
   ],
   "source": [
    "%%time\n",
    "y_train=train['bins']\n",
    "y_test=test['bins']\n",
    "X_train=train[col_ext_agg_features + col_ft_features]\n",
    "X_test=test[col_ext_agg_features + col_ft_features]"
   ]
  },
  {
   "cell_type": "code",
   "execution_count": 144,
   "metadata": {},
   "outputs": [
    {
     "name": "stdout",
     "output_type": "stream",
     "text": [
      "CPU times: user 6min 39s, sys: 8.58 s, total: 6min 48s\n",
      "Wall time: 1min 48s\n"
     ]
    },
    {
     "data": {
      "text/plain": [
       "XGBClassifier(base_score=0.5, booster='gbtree', colsample_bylevel=1,\n",
       "              colsample_bynode=1, colsample_bytree=1, gamma=0,\n",
       "              learning_rate=0.1, max_delta_step=0, max_depth=3,\n",
       "              min_child_weight=1, missing=None, n_estimators=300, n_jobs=4,\n",
       "              nthread=None, num_class=4, objective='multi:softprob',\n",
       "              random_state=0, reg_alpha=0, reg_lambda=1, scale_pos_weight=1,\n",
       "              seed=42, silent=None, subsample=1, verbosity=1)"
      ]
     },
     "execution_count": 144,
     "metadata": {},
     "output_type": "execute_result"
    }
   ],
   "source": [
    "model=xgb.XGBClassifier(**param,n_estimators=300)\n",
    "model.fit(X_train,y_train)"
   ]
  },
  {
   "cell_type": "code",
   "execution_count": 145,
   "metadata": {},
   "outputs": [
    {
     "data": {
      "text/plain": [
       "array([1, 2, 2, ..., 1, 2, 3])"
      ]
     },
     "execution_count": 145,
     "metadata": {},
     "output_type": "execute_result"
    }
   ],
   "source": [
    "pred = model.predict(X_test)\n",
    "pred"
   ]
  },
  {
   "cell_type": "code",
   "execution_count": 146,
   "metadata": {},
   "outputs": [
    {
     "name": "stdout",
     "output_type": "stream",
     "text": [
      "accuracy: 0.6382\n"
     ]
    }
   ],
   "source": [
    "accuracy = (y_test == pred).mean()\n",
    "print(f'accuracy: {accuracy:.4f}')"
   ]
  },
  {
   "cell_type": "code",
   "execution_count": 65,
   "metadata": {},
   "outputs": [
    {
     "name": "stdout",
     "output_type": "stream",
     "text": [
      "accuracy: 0.6307\n",
      "CPU times: user 1min 47s, sys: 3.67 s, total: 1min 51s\n",
      "Wall time: 33.2 s\n"
     ]
    }
   ],
   "source": [
    "%%time\n",
    "model=lightgbm.LGBMClassifier(n_estimators=300, n_jobs=4)\n",
    "model.fit(X_train,y_train)\n",
    "\n",
    "pred = model.predict(X_test)\n",
    "\n",
    "accuracy = (y_test == pred).mean()\n",
    "print(f'accuracy: {accuracy:.4f}')"
   ]
  },
  {
   "cell_type": "code",
   "execution_count": null,
   "metadata": {},
   "outputs": [],
   "source": []
  },
  {
   "cell_type": "code",
   "execution_count": 62,
   "metadata": {},
   "outputs": [
    {
     "name": "stdout",
     "output_type": "stream",
     "text": [
      "CPU times: user 22.9 s, sys: 16 ms, total: 22.9 s\n",
      "Wall time: 5.73 s\n"
     ]
    },
    {
     "data": {
      "text/plain": [
       "XGBClassifier(base_score=0.5, booster='gbtree', colsample_bylevel=1,\n",
       "              colsample_bynode=1, colsample_bytree=1, gamma=0,\n",
       "              learning_rate=0.1, max_delta_step=0, max_depth=3,\n",
       "              min_child_weight=1, missing=None, n_estimators=300, n_jobs=4,\n",
       "              nthread=None, num_class=4, objective='multi:softprob',\n",
       "              random_state=0, reg_alpha=0, reg_lambda=1, scale_pos_weight=1,\n",
       "              seed=42, silent=None, subsample=1, verbosity=1)"
      ]
     },
     "execution_count": 62,
     "metadata": {},
     "output_type": "execute_result"
    }
   ],
   "source": [
    "%%time\n",
    "y_train=train['bins']\n",
    "y_test=test['bins']\n",
    "X_train=train[col_score_features + col_ft_features]\n",
    "X_test=test[col_score_features + col_ft_features]\n",
    "\n",
    "model=xgb.XGBClassifier(**param,n_estimators=300)\n",
    "model.fit(X_train,y_train)"
   ]
  },
  {
   "cell_type": "code",
   "execution_count": 63,
   "metadata": {},
   "outputs": [
    {
     "data": {
      "text/plain": [
       "array([1, 2, 2, ..., 1, 2, 3])"
      ]
     },
     "execution_count": 63,
     "metadata": {},
     "output_type": "execute_result"
    }
   ],
   "source": [
    "pred = model.predict(X_test)\n",
    "pred"
   ]
  },
  {
   "cell_type": "code",
   "execution_count": 64,
   "metadata": {},
   "outputs": [
    {
     "name": "stdout",
     "output_type": "stream",
     "text": [
      "accuracy: 0.6311\n"
     ]
    }
   ],
   "source": [
    "accuracy = (y_test == pred).mean()\n",
    "print(f'accuracy: {accuracy:.4f}')"
   ]
  },
  {
   "cell_type": "code",
   "execution_count": null,
   "metadata": {},
   "outputs": [],
   "source": []
  },
  {
   "cell_type": "code",
   "execution_count": null,
   "metadata": {},
   "outputs": [],
   "source": []
  },
  {
   "cell_type": "code",
   "execution_count": 65,
   "metadata": {},
   "outputs": [
    {
     "name": "stdout",
     "output_type": "stream",
     "text": [
      "CPU times: user 5min 38s, sys: 160 ms, total: 5min 38s\n",
      "Wall time: 1min 24s\n"
     ]
    },
    {
     "data": {
      "text/plain": [
       "XGBClassifier(base_score=0.5, booster='gbtree', colsample_bylevel=1,\n",
       "              colsample_bynode=1, colsample_bytree=1, gamma=0,\n",
       "              learning_rate=0.1, max_delta_step=0, max_depth=3,\n",
       "              min_child_weight=1, missing=None, n_estimators=300, n_jobs=4,\n",
       "              nthread=None, num_class=4, objective='multi:softprob',\n",
       "              random_state=0, reg_alpha=0, reg_lambda=1, scale_pos_weight=1,\n",
       "              seed=42, silent=None, subsample=1, verbosity=1)"
      ]
     },
     "execution_count": 65,
     "metadata": {},
     "output_type": "execute_result"
    }
   ],
   "source": [
    "%%time\n",
    "y_train=train['bins']\n",
    "y_test=test['bins']\n",
    "X_train=train[col_embedding_features + col_ft_features]\n",
    "X_test=test[col_embedding_features + col_ft_features]\n",
    "\n",
    "model=xgb.XGBClassifier(**param,n_estimators=300)\n",
    "model.fit(X_train,y_train)"
   ]
  },
  {
   "cell_type": "code",
   "execution_count": 66,
   "metadata": {},
   "outputs": [
    {
     "data": {
      "text/plain": [
       "array([1, 2, 2, ..., 3, 2, 3])"
      ]
     },
     "execution_count": 66,
     "metadata": {},
     "output_type": "execute_result"
    }
   ],
   "source": [
    "pred = model.predict(X_test)\n",
    "pred"
   ]
  },
  {
   "cell_type": "code",
   "execution_count": 67,
   "metadata": {},
   "outputs": [
    {
     "name": "stdout",
     "output_type": "stream",
     "text": [
      "accuracy: 0.6296\n"
     ]
    }
   ],
   "source": [
    "accuracy = (y_test == pred).mean()\n",
    "print(f'accuracy: {accuracy:.4f}')"
   ]
  },
  {
   "cell_type": "code",
   "execution_count": null,
   "metadata": {},
   "outputs": [],
   "source": []
  },
  {
   "cell_type": "code",
   "execution_count": null,
   "metadata": {},
   "outputs": [],
   "source": []
  },
  {
   "cell_type": "code",
   "execution_count": 43,
   "metadata": {},
   "outputs": [
    {
     "name": "stdout",
     "output_type": "stream",
     "text": [
      "CPU times: user 7min 19s, sys: 132 ms, total: 7min 20s\n",
      "Wall time: 1min 50s\n"
     ]
    },
    {
     "data": {
      "text/plain": [
       "XGBClassifier(base_score=0.5, booster='gbtree', colsample_bylevel=1,\n",
       "              colsample_bynode=1, colsample_bytree=1, gamma=0,\n",
       "              learning_rate=0.1, max_delta_step=0, max_depth=3,\n",
       "              min_child_weight=1, missing=None, n_estimators=300, n_jobs=4,\n",
       "              nthread=None, num_class=4, objective='multi:softprob',\n",
       "              random_state=0, reg_alpha=0, reg_lambda=1, scale_pos_weight=1,\n",
       "              seed=42, silent=None, subsample=1, verbosity=1)"
      ]
     },
     "execution_count": 43,
     "metadata": {},
     "output_type": "execute_result"
    }
   ],
   "source": [
    "%%time\n",
    "y_train=train['bins']\n",
    "y_test=test['bins']\n",
    "X_train=train[col_agg_features + col_embedding_features + col_score_features]\n",
    "X_test=test[col_agg_features + col_embedding_features + col_score_features]\n",
    "\n",
    "model=xgb.XGBClassifier(**param,n_estimators=300)\n",
    "model.fit(X_train,y_train)"
   ]
  },
  {
   "cell_type": "code",
   "execution_count": 44,
   "metadata": {},
   "outputs": [
    {
     "data": {
      "text/plain": [
       "array([1, 2, 2, ..., 1, 2, 3])"
      ]
     },
     "execution_count": 44,
     "metadata": {},
     "output_type": "execute_result"
    }
   ],
   "source": [
    "pred = model.predict(X_test)\n",
    "pred"
   ]
  },
  {
   "cell_type": "code",
   "execution_count": 45,
   "metadata": {},
   "outputs": [
    {
     "name": "stdout",
     "output_type": "stream",
     "text": [
      "accuracy: 0.6231\n"
     ]
    }
   ],
   "source": [
    "accuracy = (y_test == pred).mean()\n",
    "print(f'accuracy: {accuracy:.4f}')"
   ]
  },
  {
   "cell_type": "code",
   "execution_count": null,
   "metadata": {},
   "outputs": [],
   "source": []
  },
  {
   "cell_type": "code",
   "execution_count": 68,
   "metadata": {},
   "outputs": [
    {
     "name": "stdout",
     "output_type": "stream",
     "text": [
      "CPU times: user 7min 27s, sys: 236 ms, total: 7min 27s\n",
      "Wall time: 1min 52s\n"
     ]
    },
    {
     "data": {
      "text/plain": [
       "XGBClassifier(base_score=0.5, booster='gbtree', colsample_bylevel=1,\n",
       "              colsample_bynode=1, colsample_bytree=1, gamma=0,\n",
       "              learning_rate=0.1, max_delta_step=0, max_depth=3,\n",
       "              min_child_weight=1, missing=None, n_estimators=300, n_jobs=4,\n",
       "              nthread=None, num_class=4, objective='multi:softprob',\n",
       "              random_state=0, reg_alpha=0, reg_lambda=1, scale_pos_weight=1,\n",
       "              seed=42, silent=None, subsample=1, verbosity=1)"
      ]
     },
     "execution_count": 68,
     "metadata": {},
     "output_type": "execute_result"
    }
   ],
   "source": [
    "%%time\n",
    "y_train=train['bins']\n",
    "y_test=test['bins']\n",
    "X_train=train[col_agg_features + col_embedding_features + col_score_features + col_ft_features]\n",
    "X_test=test[col_agg_features + col_embedding_features + col_score_features + col_ft_features]\n",
    "\n",
    "model=xgb.XGBClassifier(**param,n_estimators=300)\n",
    "model.fit(X_train,y_train)"
   ]
  },
  {
   "cell_type": "code",
   "execution_count": 69,
   "metadata": {},
   "outputs": [
    {
     "data": {
      "text/plain": [
       "array([1, 2, 2, ..., 3, 2, 3])"
      ]
     },
     "execution_count": 69,
     "metadata": {},
     "output_type": "execute_result"
    }
   ],
   "source": [
    "pred = model.predict(X_test)\n",
    "pred"
   ]
  },
  {
   "cell_type": "code",
   "execution_count": 70,
   "metadata": {},
   "outputs": [
    {
     "name": "stdout",
     "output_type": "stream",
     "text": [
      "accuracy: 0.6303\n"
     ]
    }
   ],
   "source": [
    "accuracy = (y_test == pred).mean()\n",
    "print(f'accuracy: {accuracy:.4f}')"
   ]
  },
  {
   "cell_type": "code",
   "execution_count": null,
   "metadata": {},
   "outputs": [],
   "source": []
  },
  {
   "cell_type": "code",
   "execution_count": null,
   "metadata": {},
   "outputs": [],
   "source": []
  },
  {
   "cell_type": "code",
   "execution_count": 46,
   "metadata": {},
   "outputs": [
    {
     "name": "stdout",
     "output_type": "stream",
     "text": [
      "CPU times: user 5min 35s, sys: 72 ms, total: 5min 35s\n",
      "Wall time: 1min 24s\n"
     ]
    },
    {
     "data": {
      "text/plain": [
       "XGBClassifier(base_score=0.5, booster='gbtree', colsample_bylevel=1,\n",
       "              colsample_bynode=1, colsample_bytree=1, gamma=0,\n",
       "              learning_rate=0.1, max_delta_step=0, max_depth=3,\n",
       "              min_child_weight=1, missing=None, n_estimators=300, n_jobs=4,\n",
       "              nthread=None, num_class=4, objective='multi:softprob',\n",
       "              random_state=0, reg_alpha=0, reg_lambda=1, scale_pos_weight=1,\n",
       "              seed=42, silent=None, subsample=1, verbosity=1)"
      ]
     },
     "execution_count": 46,
     "metadata": {},
     "output_type": "execute_result"
    }
   ],
   "source": [
    "%%time\n",
    "y_train=train['bins']\n",
    "y_test=test['bins']\n",
    "X_train=train[col_embedding_features + col_score_features]\n",
    "X_test=test[col_embedding_features + col_score_features]\n",
    "\n",
    "model=xgb.XGBClassifier(**param,n_estimators=300)\n",
    "model.fit(X_train,y_train)"
   ]
  },
  {
   "cell_type": "code",
   "execution_count": 47,
   "metadata": {},
   "outputs": [
    {
     "data": {
      "text/plain": [
       "array([1, 2, 2, ..., 1, 2, 3])"
      ]
     },
     "execution_count": 47,
     "metadata": {},
     "output_type": "execute_result"
    }
   ],
   "source": [
    "pred = model.predict(X_test)\n",
    "pred"
   ]
  },
  {
   "cell_type": "code",
   "execution_count": 48,
   "metadata": {},
   "outputs": [
    {
     "name": "stdout",
     "output_type": "stream",
     "text": [
      "accuracy: 0.6206\n"
     ]
    }
   ],
   "source": [
    "accuracy = (y_test == pred).mean()\n",
    "print(f'accuracy: {accuracy:.4f}')"
   ]
  },
  {
   "cell_type": "markdown",
   "metadata": {},
   "source": [
    "# Сводная таблица\n",
    "\n",
    "| Метод                            | accuracy          | pos on leaderboard |\n",
    "| -------------------------------- | ----------------- | ------------------ |\n",
    "| Baseline на агрегатных фичах     |   0.6108          | 144                |\n",
    "| Улучшенные агрегатные фичи       |   0.6182          | 100                |\n",
    "| Metric learning embeddings       |   0.6121 (0.6122) | 121 (120)          |\n",
    "| Скоры с обучения под таргет      |   0.6189          | 96                 |\n",
    "| Скоры с Fine Tuning под таргет   | **0.6318**        | 57                 |\n",
    "| -------------------------------- | ----------------- | ------------------ |\n",
    "| агрегаты и эмбеддинги            |   0.6207 (0.6241) | 87 (73)            |\n",
    "| агрегаты и скоры под target      |   0.6269          | 67                 |\n",
    "| агрегаты и fine tuning скоры     |   0.6316          | 57                 |\n",
    "| улучшенные агрегаты и ft скоры   | **0.6382**        | 44                 |\n",
    "| эмбеддинги и скоры               |   0.6206          | 88                 |\n",
    "| -------------------------------- | ----------------- | ------------------ |\n",
    "| агрегаты скоры и эмбеддинги      |   0.6231          | 77                 |\n",
    "\n",
    "---\n",
    "Использовалась модель XGBoost\n",
    "\n",
    "Lightgbm дает меньшее качество на тех же фичах.\n",
    "\n",
    "AutoMl не работает в многоклассовом режиме.\n"
   ]
  },
  {
   "cell_type": "code",
   "execution_count": null,
   "metadata": {},
   "outputs": [],
   "source": []
  }
 ],
 "metadata": {
  "kernelspec": {
   "display_name": "automl_env",
   "language": "python",
   "name": "automl_env"
  },
  "language_info": {
   "codemirror_mode": {
    "name": "ipython",
    "version": 3
   },
   "file_extension": ".py",
   "mimetype": "text/x-python",
   "name": "python",
   "nbconvert_exporter": "python",
   "pygments_lexer": "ipython3",
   "version": "3.6.4"
  }
 },
 "nbformat": 4,
 "nbformat_minor": 2
}
