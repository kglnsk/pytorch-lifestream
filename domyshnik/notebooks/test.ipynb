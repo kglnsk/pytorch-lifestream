{
 "cells": [
  {
   "cell_type": "code",
   "execution_count": 1,
   "metadata": {},
   "outputs": [
    {
     "name": "stdout",
     "output_type": "stream",
     "text": [
      "model _params:\n",
      "        N_AUGMENTS 5\n",
      "        LEARNING_RATE 0.002\n",
      "        GAMMA 0.9025\n",
      "        BATCH_SIZE 128\n",
      "        EPOCHS 20\n",
      "        SAMPLING_STRATEGY HardNegativePair\n",
      "        NEGATIVES_COUNT 6\n",
      "        MARGING 0.5\n",
      "        STEP_SIZE 5\n",
      "        MODEL_POSTFIX \n",
      "       \n"
     ]
    }
   ],
   "source": [
    "import torch\n",
    "import torch.nn as nn\n",
    "import numpy as np\n",
    "import matplotlib.pyplot as plt\n",
    "import sys\n",
    "\n",
    "sys.path.insert(0, '/mnt/data/molchanov/dltranz')\n",
    "\n",
    "from domyshnik.models import *\n",
    "from domyshnik.data import *\n",
    "from domyshnik.constants import *\n",
    "\n",
    "def draw(imgs):\n",
    "        if isinstance(imgs, list):\n",
    "            imgs = torch.stack(imgs)\n",
    "        fig = plt.figure()\n",
    "        rows, columns = 1, imgs.shape[0]\n",
    "        for i in range(imgs.shape[0]):\n",
    "            fig.add_subplot(rows, columns, i+1)\n",
    "            plt.imshow(imgs[i])\n",
    "        plt.show()\n",
    "        \n",
    "%matplotlib inline"
   ]
  },
  {
   "cell_type": "markdown",
   "metadata": {},
   "source": [
    "# Metric Learning MNIST Test "
   ]
  },
  {
   "cell_type": "code",
   "execution_count": null,
   "metadata": {},
   "outputs": [],
   "source": [
    "model = get_mnist_metriclearning_model()\n",
    "model"
   ]
  },
  {
   "cell_type": "code",
   "execution_count": null,
   "metadata": {},
   "outputs": [],
   "source": [
    "data_loader = get_mnist_test_loader(BATCH_SIZE, n_augments=N_AUGMENTS)\n",
    "sample = next(iter(data_loader))\n",
    "data = sample[0].view(-1, sample[0].size(-2), sample[0].size(-1))\n",
    "draw(sample[0][0])"
   ]
  },
  {
   "cell_type": "code",
   "execution_count": null,
   "metadata": {},
   "outputs": [],
   "source": [
    "embeds = model(sample[0])"
   ]
  },
  {
   "cell_type": "code",
   "execution_count": null,
   "metadata": {},
   "outputs": [],
   "source": [
    "distances = torch.matmul(embeds, embeds.transpose(0, 1))\n",
    "for i in range(distances.shape[0]):\n",
    "    distances[i, i] = -100"
   ]
  },
  {
   "cell_type": "code",
   "execution_count": null,
   "metadata": {
    "scrolled": true
   },
   "outputs": [],
   "source": [
    "for i in range(distances.shape[0]):\n",
    "    vals, idx = torch.sort(distances[i], descending=True)\n",
    "    idx = [i] + idx[:N_AUGMENTS + 1].numpy().tolist()\n",
    "    imgs = data[idx]\n",
    "    draw(imgs)"
   ]
  },
  {
   "cell_type": "markdown",
   "metadata": {},
   "source": [
    "# Domyshnik Mnist Test"
   ]
  },
  {
   "cell_type": "code",
   "execution_count": 2,
   "metadata": {},
   "outputs": [
    {
     "data": {
      "image/png": "[encoded data removed]",
      "text/plain": [
       "<Figure size 432x288 with 6 Axes>"
      ]
     },
     "metadata": {
      "needs_background": "light"
     },
     "output_type": "display_data"
    }
   ],
   "source": [
    "data_loader = get_mnist_test_loader(BATCH_SIZE, n_augments=N_AUGMENTS, augment_labels=True)\n",
    "sample = next(iter(data_loader))\n",
    "data = sample[0].view(-1, sample[0].size(-2), sample[0].size(-1))\n",
    "draw(sample[0][0])"
   ]
  },
  {
   "cell_type": "code",
   "execution_count": 3,
   "metadata": {},
   "outputs": [
    {
     "data": {
      "text/plain": [
       "[tensor([1, 6, 1, 6, 0, 4, 9, 1, 0, 9, 2, 3, 6, 8, 9, 5, 1, 0, 4, 1, 4, 5, 8, 4,\n",
       "         1, 5, 5, 1, 8, 0, 6, 9, 7, 6, 2, 4, 6, 9, 6, 0, 8, 1, 9, 4, 5, 5, 1, 2,\n",
       "         8, 2, 2, 0, 6, 7, 6, 5, 2, 4, 1, 4, 9, 4, 2, 4, 3, 5, 9, 7, 2, 9, 7, 4,\n",
       "         3, 4, 3, 0, 5, 8, 7, 6, 7, 0, 5, 5, 7, 8, 9, 8, 6, 4, 4, 3, 1, 6, 8, 0,\n",
       "         2, 2, 9, 1, 8, 0, 7, 7, 0, 4, 4, 6, 0, 1, 5, 4, 8, 4, 1, 5, 1, 6, 8, 0,\n",
       "         2, 8, 3, 4, 8, 5, 8, 5]),\n",
       " tensor([-0.1000, -0.1000, -1.0000, -0.1000, -0.1000, -0.1000, -0.1000, -0.1000,\n",
       "         -0.1000, -1.0000, -0.1000, -0.1000, -0.1000, -0.1000, -0.1000, -1.0000,\n",
       "         -0.1000, -0.1000, -0.1000, -0.1000, -0.1000, -0.1000, -0.1000, -0.1000,\n",
       "         -0.1000, -0.1000, -0.1000, -0.1000, -0.1000, -0.1000, -0.1000, -0.1000,\n",
       "         -0.1000, -0.1000, -0.1000, -0.1000, -0.1000, -0.1000, -0.1000, -0.1000,\n",
       "         -0.1000, -0.1000, -0.1000, -0.1000, -0.1000, -1.0000, -1.0000, -1.0000,\n",
       "         -0.1000, -0.1000, -0.1000, -0.1000, -0.1000, -0.1000, -1.0000, -0.1000,\n",
       "         -0.1000, -0.1000, -0.1000, -0.1000, -0.1000, -0.1000, -0.1000, -0.1000,\n",
       "         -0.1000, -0.1000, -0.1000, -0.1000, -0.1000, -0.1000, -1.0000, -0.1000,\n",
       "         -0.1000, -0.1000, -0.1000, -0.1000, -0.1000, -0.1000, -0.1000, -0.1000,\n",
       "         -1.0000, -0.1000, -0.1000, -0.1000, -0.1000, -0.1000, -0.1000, -0.1000,\n",
       "         -1.0000, -0.1000, -0.1000, -0.1000, -0.1000, -0.1000, -0.1000, -0.1000,\n",
       "         -0.1000, -0.1000, -0.1000, -0.1000, -0.1000, -1.0000, -0.1000, -0.1000,\n",
       "         -0.1000, -0.1000, -0.1000, -0.1000, -0.1000, -0.1000, -0.1000, -0.1000,\n",
       "         -0.1000, -0.1000, -0.1000, -0.1000, -0.1000, -0.1000, -0.1000, -0.1000,\n",
       "         -0.1000, -0.1000, -0.1000, -0.1000, -0.1000, -0.1000, -0.1000, -1.0000],\n",
       "        dtype=torch.float64)]"
      ]
     },
     "execution_count": 3,
     "metadata": {},
     "output_type": "execute_result"
    }
   ],
   "source": [
    "sample[1]"
   ]
  },
  {
   "cell_type": "code",
   "execution_count": null,
   "metadata": {},
   "outputs": [],
   "source": []
  }
 ],
 "metadata": {
  "kernelspec": {
   "display_name": "Python 3",
   "language": "python",
   "name": "python3"
  },
  "language_info": {
   "codemirror_mode": {
    "name": "ipython",
    "version": 3
   },
   "file_extension": ".py",
   "mimetype": "text/x-python",
   "name": "python",
   "nbconvert_exporter": "python",
   "pygments_lexer": "ipython3",
   "version": "3.7.4"
  }
 },
 "nbformat": 4,
 "nbformat_minor": 4
}
