{
 "cells": [
  {
   "cell_type": "code",
   "execution_count": 1,
   "metadata": {},
   "outputs": [
    {
     "name": "stdout",
     "output_type": "stream",
     "text": [
      "model _params:\n",
      "        N_AUGMENTS 15\n",
      "        LEARNING_RATE 0.002\n",
      "        GAMMA 0.9025\n",
      "        BATCH_SIZE 512\n",
      "        EPOCHS 20\n",
      "        SAMPLING_STRATEGY HardNegativePair\n",
      "        NEGATIVES_COUNT 3\n",
      "        MARGING 0.01\n",
      "        STEP_SIZE 2\n",
      "        MODEL_POSTFIX \n",
      "       \n",
      "load model /mnt/data/molchanov/models/mnist_metric_learning.w\n",
      "load model /mnt/data/molchanov/models/mnist_metric_learning.w\n"
     ]
    }
   ],
   "source": [
    "import torch\n",
    "import torch.nn as nn\n",
    "import numpy as np\n",
    "import matplotlib.pyplot as plt\n",
    "import sys\n",
    "\n",
    "sys.path.insert(0, '/mnt/data/molchanov/dltranz')\n",
    "\n",
    "from domyshnik.models import *\n",
    "from domyshnik.data import *\n",
    "from domyshnik.constants import *\n",
    "from domyshnik.utils import *\n",
    "\n",
    "\n",
    "def draw(imgs):\n",
    "        if isinstance(imgs, list):\n",
    "            imgs = torch.stack(imgs)\n",
    "        fig = plt.figure()\n",
    "        rows, columns = 1, imgs.shape[0]\n",
    "        for i in range(imgs.shape[0]):\n",
    "            fig.add_subplot(rows, columns, i+1)\n",
    "            plt.imshow(imgs[i])\n",
    "        plt.show()\n",
    "        \n",
    "%matplotlib inline"
   ]
  },
  {
   "cell_type": "markdown",
   "metadata": {},
   "source": [
    "# Metric Learning MNIST Test "
   ]
  },
  {
   "cell_type": "code",
   "execution_count": null,
   "metadata": {},
   "outputs": [],
   "source": [
    "model = get_mnist_metriclearning_model()\n",
    "model"
   ]
  },
  {
   "cell_type": "code",
   "execution_count": null,
   "metadata": {},
   "outputs": [],
   "source": [
    "data_loader = get_mnist_test_loader(BATCH_SIZE, n_augments=N_AUGMENTS)\n",
    "sample = next(iter(data_loader))\n",
    "data = sample[0].view(-1, sample[0].size(-2), sample[0].size(-1))\n",
    "draw(sample[0][0])"
   ]
  },
  {
   "cell_type": "code",
   "execution_count": null,
   "metadata": {},
   "outputs": [],
   "source": [
    "embeds = model(sample[0])"
   ]
  },
  {
   "cell_type": "code",
   "execution_count": null,
   "metadata": {},
   "outputs": [],
   "source": [
    "distances = torch.matmul(embeds, embeds.transpose(0, 1))\n",
    "for i in range(distances.shape[0]):\n",
    "    distances[i, i] = -100"
   ]
  },
  {
   "cell_type": "code",
   "execution_count": null,
   "metadata": {
    "scrolled": true
   },
   "outputs": [],
   "source": [
    "for i in range(distances.shape[0]):\n",
    "    vals, idx = torch.sort(distances[i], descending=True)\n",
    "    idx = [i] + idx[:N_AUGMENTS + 1].numpy().tolist()\n",
    "    imgs = data[idx]\n",
    "    draw(imgs)"
   ]
  },
  {
   "cell_type": "markdown",
   "metadata": {},
   "source": [
    "# Domyshnik Mnist Test"
   ]
  },
  {
   "cell_type": "code",
   "execution_count": 11,
   "metadata": {},
   "outputs": [],
   "source": [
    "import torch.nn.functional as F"
   ]
  },
  {
   "cell_type": "code",
   "execution_count": 3,
   "metadata": {},
   "outputs": [
    {
     "data": {
      "image/png": "[encoded data removed]",
      "text/plain": [
       "<Figure size 432x288 with 6 Axes>"
      ]
     },
     "metadata": {
      "needs_background": "light"
     },
     "output_type": "display_data"
    }
   ],
   "source": [
    "data_loader = get_mnist_test_loader(BATCH_SIZE, n_augments=5, augment_labels=True)\n",
    "sample = next(iter(data_loader))\n",
    "data = sample[0].view(-1, sample[0].size(-2), sample[0].size(-1))\n",
    "draw(sample[0][0])"
   ]
  },
  {
   "cell_type": "code",
   "execution_count": 3,
   "metadata": {},
   "outputs": [
    {
     "data": {
      "text/plain": [
       "[tensor([1, 6, 1, 6, 0, 4, 9, 1, 0, 9, 2, 3, 6, 8, 9, 5, 1, 0, 4, 1, 4, 5, 8, 4,\n",
       "         1, 5, 5, 1, 8, 0, 6, 9, 7, 6, 2, 4, 6, 9, 6, 0, 8, 1, 9, 4, 5, 5, 1, 2,\n",
       "         8, 2, 2, 0, 6, 7, 6, 5, 2, 4, 1, 4, 9, 4, 2, 4, 3, 5, 9, 7, 2, 9, 7, 4,\n",
       "         3, 4, 3, 0, 5, 8, 7, 6, 7, 0, 5, 5, 7, 8, 9, 8, 6, 4, 4, 3, 1, 6, 8, 0,\n",
       "         2, 2, 9, 1, 8, 0, 7, 7, 0, 4, 4, 6, 0, 1, 5, 4, 8, 4, 1, 5, 1, 6, 8, 0,\n",
       "         2, 8, 3, 4, 8, 5, 8, 5]),\n",
       " tensor([-0.1000, -0.1000, -1.0000, -0.1000, -0.1000, -0.1000, -0.1000, -0.1000,\n",
       "         -0.1000, -1.0000, -0.1000, -0.1000, -0.1000, -0.1000, -0.1000, -1.0000,\n",
       "         -0.1000, -0.1000, -0.1000, -0.1000, -0.1000, -0.1000, -0.1000, -0.1000,\n",
       "         -0.1000, -0.1000, -0.1000, -0.1000, -0.1000, -0.1000, -0.1000, -0.1000,\n",
       "         -0.1000, -0.1000, -0.1000, -0.1000, -0.1000, -0.1000, -0.1000, -0.1000,\n",
       "         -0.1000, -0.1000, -0.1000, -0.1000, -0.1000, -1.0000, -1.0000, -1.0000,\n",
       "         -0.1000, -0.1000, -0.1000, -0.1000, -0.1000, -0.1000, -1.0000, -0.1000,\n",
       "         -0.1000, -0.1000, -0.1000, -0.1000, -0.1000, -0.1000, -0.1000, -0.1000,\n",
       "         -0.1000, -0.1000, -0.1000, -0.1000, -0.1000, -0.1000, -1.0000, -0.1000,\n",
       "         -0.1000, -0.1000, -0.1000, -0.1000, -0.1000, -0.1000, -0.1000, -0.1000,\n",
       "         -1.0000, -0.1000, -0.1000, -0.1000, -0.1000, -0.1000, -0.1000, -0.1000,\n",
       "         -1.0000, -0.1000, -0.1000, -0.1000, -0.1000, -0.1000, -0.1000, -0.1000,\n",
       "         -0.1000, -0.1000, -0.1000, -0.1000, -0.1000, -1.0000, -0.1000, -0.1000,\n",
       "         -0.1000, -0.1000, -0.1000, -0.1000, -0.1000, -0.1000, -0.1000, -0.1000,\n",
       "         -0.1000, -0.1000, -0.1000, -0.1000, -0.1000, -0.1000, -0.1000, -0.1000,\n",
       "         -0.1000, -0.1000, -0.1000, -0.1000, -0.1000, -0.1000, -0.1000, -1.0000],\n",
       "        dtype=torch.float64)]"
      ]
     },
     "execution_count": 3,
     "metadata": {},
     "output_type": "execute_result"
    }
   ],
   "source": [
    "sample[1]"
   ]
  },
  {
   "cell_type": "markdown",
   "metadata": {},
   "source": [
    "# experiment 1 (domyshnik net)"
   ]
  },
  {
   "cell_type": "code",
   "execution_count": 2,
   "metadata": {},
   "outputs": [],
   "source": [
    "info = mnist_domyshnik_lunch_info\n",
    "sample = next(iter(info.test_loader))"
   ]
  },
  {
   "cell_type": "code",
   "execution_count": 4,
   "metadata": {},
   "outputs": [
    {
     "name": "stdout",
     "output_type": "stream",
     "text": [
      "load model /mnt/data/molchanov/models/mnist_metric_learning.w\n",
      "load model /mnt/data/molchanov/models/mnist_domushnik.w\n"
     ]
    },
    {
     "data": {
      "text/plain": [
       "MnistDomyshnikNetNet(\n",
       "  (metric_learn_model): MnistMetricLearningNet2(\n",
       "    (conv1): Conv2d(1, 32, kernel_size=(3, 3), stride=(1, 1))\n",
       "    (conv2): Conv2d(32, 64, kernel_size=(3, 3), stride=(1, 1))\n",
       "    (dropout1): Dropout2d(p=0.25, inplace=False)\n",
       "    (dropout2): Dropout2d(p=0.5, inplace=False)\n",
       "    (fc1): Linear(in_features=9216, out_features=256, bias=True)\n",
       "  )\n",
       "  (fc0): Linear(in_features=256, out_features=512, bias=True)\n",
       "  (fc1_): Linear(in_features=512, out_features=10, bias=True)\n",
       ")"
      ]
     },
     "execution_count": 4,
     "metadata": {},
     "output_type": "execute_result"
    }
   ],
   "source": [
    "model = get_mnist_domyshnik_model()\n",
    "model"
   ]
  },
  {
   "cell_type": "code",
   "execution_count": 5,
   "metadata": {},
   "outputs": [
    {
     "data": {
      "text/plain": [
       "torch.Size([512, 16, 10])"
      ]
     },
     "execution_count": 5,
     "metadata": {},
     "output_type": "execute_result"
    }
   ],
   "source": [
    "out = model(sample[0])\n",
    "out = out.view(BATCH_SIZE, N_AUGMENTS + 1, out.size(-1))\n",
    "out = F.softmax(out, dim=-1)\n",
    "out.size()\n"
   ]
  },
  {
   "cell_type": "code",
   "execution_count": 6,
   "metadata": {},
   "outputs": [
    {
     "data": {
      "image/png": "[encoded data removed]",
      "text/plain": [
       "<Figure size 432x288 with 16 Axes>"
      ]
     },
     "metadata": {
      "needs_background": "light"
     },
     "output_type": "display_data"
    }
   ],
   "source": [
    "draw(sample[0][0])"
   ]
  },
  {
   "cell_type": "code",
   "execution_count": 7,
   "metadata": {},
   "outputs": [
    {
     "data": {
      "text/plain": [
       "('max',\n",
       " tensor(0.1643, grad_fn=<MaxBackward1>),\n",
       " 'min',\n",
       " tensor(0.0932, grad_fn=<MinBackward1>))"
      ]
     },
     "execution_count": 7,
     "metadata": {},
     "output_type": "execute_result"
    }
   ],
   "source": [
    "out0 = out[0]\n",
    "dists = torch.matmul(out0, out0.transpose(0, 1))\n",
    "'max', dists.max(), 'min', dists.min()"
   ]
  },
  {
   "cell_type": "code",
   "execution_count": 8,
   "metadata": {},
   "outputs": [
    {
     "data": {
      "image/png": "[encoded data removed]",
      "text/plain": [
       "<Figure size 432x288 with 16 Axes>"
      ]
     },
     "metadata": {
      "needs_background": "light"
     },
     "output_type": "display_data"
    }
   ],
   "source": [
    "draw(sample[0][10])"
   ]
  },
  {
   "cell_type": "code",
   "execution_count": 9,
   "metadata": {},
   "outputs": [
    {
     "data": {
      "text/plain": [
       "('max',\n",
       " tensor(0.1221, grad_fn=<MaxBackward1>),\n",
       " 'min',\n",
       " tensor(0.0806, grad_fn=<MinBackward1>))"
      ]
     },
     "execution_count": 9,
     "metadata": {},
     "output_type": "execute_result"
    }
   ],
   "source": [
    "out1 = out[1]\n",
    "dists = torch.matmul(out0, out1.transpose(0, 1))\n",
    "'max', dists.max(), 'min', dists.min()"
   ]
  },
  {
   "cell_type": "code",
   "execution_count": 10,
   "metadata": {},
   "outputs": [
    {
     "name": "stdout",
     "output_type": "stream",
     "text": [
      "tensor([0.2097, 0.0886, 0.0580, 0.0628, 0.1052, 0.1433, 0.1100, 0.1111, 0.0513,\n",
      "        0.0600], grad_fn=<SelectBackward>)\n",
      "tensor([0.2098, 0.1019, 0.0612, 0.0810, 0.0928, 0.1154, 0.1100, 0.0946, 0.0636,\n",
      "        0.0696], grad_fn=<SelectBackward>)\n",
      "tensor([0.1800, 0.0403, 0.0252, 0.0766, 0.1903, 0.1218, 0.1753, 0.0798, 0.0454,\n",
      "        0.0655], grad_fn=<SelectBackward>)\n",
      "tensor([0.0438, 0.1584, 0.0572, 0.1099, 0.0984, 0.1318, 0.1354, 0.1228, 0.0544,\n",
      "        0.0879], grad_fn=<SelectBackward>)\n",
      "tensor([0.1181, 0.0961, 0.0676, 0.0842, 0.0875, 0.1334, 0.1398, 0.0845, 0.0984,\n",
      "        0.0904], grad_fn=<SelectBackward>)\n",
      "tensor([0.0383, 0.1000, 0.0520, 0.2103, 0.0988, 0.1198, 0.1102, 0.1121, 0.0445,\n",
      "        0.1139], grad_fn=<SelectBackward>)\n",
      "tensor([0.0133, 0.1502, 0.0874, 0.0737, 0.1029, 0.1116, 0.1126, 0.0957, 0.1584,\n",
      "        0.0942], grad_fn=<SelectBackward>)\n",
      "tensor([0.0799, 0.0316, 0.0313, 0.0100, 0.2652, 0.1547, 0.0171, 0.0865, 0.1637,\n",
      "        0.1600], grad_fn=<SelectBackward>)\n"
     ]
    }
   ],
   "source": [
    "print(out[0, 0])\n",
    "print(out[0, 1])\n",
    "print(out[0, 2])\n",
    "print(out[0, 3])\n",
    "\n",
    "print(out[10, 0])\n",
    "print(out[110, 1])\n",
    "print(out[23, 2])\n",
    "print(out[4, 3])"
   ]
  },
  {
   "cell_type": "raw",
   "metadata": {},
   "source": [
    "как видно - модель получилась константной - локально константный лосс сделал ее полность константной"
   ]
  },
  {
   "cell_type": "markdown",
   "metadata": {},
   "source": [
    "# experiment 2 metric learning simularity"
   ]
  },
  {
   "cell_type": "code",
   "execution_count": 8,
   "metadata": {},
   "outputs": [
    {
     "name": "stdout",
     "output_type": "stream",
     "text": [
      "load model /mnt/data/molchanov/models/mnist_metric_learning.w\n"
     ]
    },
    {
     "data": {
      "text/plain": [
       "MnistMetricLearningNet(\n",
       "  (conv1): Conv2d(1, 32, kernel_size=(3, 3), stride=(1, 1))\n",
       "  (conv2): Conv2d(32, 64, kernel_size=(3, 3), stride=(1, 1))\n",
       "  (dropout1): Dropout2d(p=0.25, inplace=False)\n",
       "  (dropout2): Dropout2d(p=0.5, inplace=False)\n",
       "  (fc1): Linear(in_features=9216, out_features=256, bias=True)\n",
       "  (fc2): Linear(in_features=256, out_features=32, bias=True)\n",
       "  (norm): L2Normalization()\n",
       ")"
      ]
     },
     "execution_count": 8,
     "metadata": {},
     "output_type": "execute_result"
    }
   ],
   "source": [
    "m_model = get_mnist_metriclearning_model()\n",
    "m_model"
   ]
  },
  {
   "cell_type": "code",
   "execution_count": 9,
   "metadata": {},
   "outputs": [
    {
     "data": {
      "text/plain": [
       "torch.Size([512, 26, 32])"
      ]
     },
     "execution_count": 9,
     "metadata": {},
     "output_type": "execute_result"
    }
   ],
   "source": [
    "m_out = m_model(sample[0])\n",
    "m_out = m_out.view(BATCH_SIZE, N_AUGMENTS + 1, m_out.size(-1))\n",
    "m_out.size()"
   ]
  },
  {
   "cell_type": "code",
   "execution_count": 25,
   "metadata": {},
   "outputs": [
    {
     "data": {
      "text/plain": [
       "('max',\n",
       " tensor(1.0000, grad_fn=<MaxBackward1>),\n",
       " 'min',\n",
       " tensor(0.9851, grad_fn=<MinBackward1>))"
      ]
     },
     "execution_count": 25,
     "metadata": {},
     "output_type": "execute_result"
    }
   ],
   "source": [
    "m_out0 = m_out[0]\n",
    "dists = torch.matmul(m_out0, m_out0.transpose(0, 1))\n",
    "'max', dists.max(), 'min', dists.min()"
   ]
  },
  {
   "cell_type": "code",
   "execution_count": 31,
   "metadata": {},
   "outputs": [
    {
     "data": {
      "text/plain": [
       "('max',\n",
       " tensor(0.9847, grad_fn=<MaxBackward1>),\n",
       " 'min',\n",
       " tensor(0.8532, grad_fn=<MinBackward1>))"
      ]
     },
     "execution_count": 31,
     "metadata": {},
     "output_type": "execute_result"
    }
   ],
   "source": [
    "m_out1 = m_out[130]\n",
    "dists = torch.matmul(m_out0, m_out1.transpose(0, 1))\n",
    "'max', dists.max(), 'min', dists.min()"
   ]
  },
  {
   "cell_type": "code",
   "execution_count": 33,
   "metadata": {},
   "outputs": [
    {
     "data": {
      "text/plain": [
       "('max',\n",
       " tensor(0.4538, grad_fn=<MaxBackward1>),\n",
       " 'min',\n",
       " tensor(0.2940, grad_fn=<MinBackward1>))"
      ]
     },
     "execution_count": 33,
     "metadata": {},
     "output_type": "execute_result"
    }
   ],
   "source": [
    "dists = F.pairwise_distance(m_out0, m_out[10])\n",
    "'max', dists.max(), 'min', dists.min()"
   ]
  },
  {
   "cell_type": "code",
   "execution_count": 39,
   "metadata": {},
   "outputs": [
    {
     "data": {
      "text/plain": [
       "('max', 0.504342257976532)"
      ]
     },
     "execution_count": 39,
     "metadata": {},
     "output_type": "execute_result"
    }
   ],
   "source": [
    "t = -1\n",
    "for i in range(BATCH_SIZE):\n",
    "    dists = F.pairwise_distance(m_out[i], m_out[i][torch.randperm(m_out0.size(0))])\n",
    "    if t < dists.max().item():\n",
    "        t = dists.max().item()\n",
    "'max', t"
   ]
  },
  {
   "cell_type": "code",
   "execution_count": 40,
   "metadata": {},
   "outputs": [
    {
     "data": {
      "text/plain": [
       "('max', 0.5334939360618591)"
      ]
     },
     "execution_count": 40,
     "metadata": {},
     "output_type": "execute_result"
    }
   ],
   "source": [
    "t = -1\n",
    "for i in range(BATCH_SIZE):\n",
    "    dists = F.pairwise_distance(m_out[0], m_out[i])\n",
    "    if t < dists.max().item():\n",
    "        t = dists.max().item()\n",
    "'max', t"
   ]
  },
  {
   "cell_type": "raw",
   "metadata": {},
   "source": [
    "как видно все примеры лежат в шаре радиуса 05 - у нас не вышло выучить хороших векторов для метрик леарнинга "
   ]
  }
 ],
 "metadata": {
  "kernelspec": {
   "display_name": "Python 3",
   "language": "python",
   "name": "python3"
  },
  "language_info": {
   "codemirror_mode": {
    "name": "ipython",
    "version": 3
   },
   "file_extension": ".py",
   "mimetype": "text/x-python",
   "name": "python",
   "nbconvert_exporter": "python",
   "pygments_lexer": "ipython3",
   "version": "3.7.4"
  }
 },
 "nbformat": 4,
 "nbformat_minor": 4
}
