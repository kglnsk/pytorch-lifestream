{
 "cells": [
  {
   "cell_type": "code",
   "execution_count": null,
   "metadata": {},
   "outputs": [],
   "source": [
    "import torch\n",
    "import torch.nn as nn\n",
    "import numpy as np\n",
    "import matplotlib.pyplot as plt\n",
    "import sys\n",
    "\n",
    "sys.path.insert(0, '/mnt/data/molchanov/dltranz')\n",
    "\n",
    "from domyshnik.models import *\n",
    "from domyshnik.data import *\n",
    "from domyshnik.constants import *\n",
    "from domyshnik.utils import *\n",
    "\n",
    "\n",
    "def draw(imgs):\n",
    "        if isinstance(imgs, list):\n",
    "            imgs = torch.stack(imgs)\n",
    "        fig = plt.figure()\n",
    "        rows, columns = 1, imgs.shape[0]\n",
    "        for i in range(imgs.shape[0]):\n",
    "            fig.add_subplot(rows, columns, i+1)\n",
    "            plt.imshow(imgs[i])\n",
    "        plt.show()\n",
    "        \n",
    "%matplotlib inline"
   ]
  },
  {
   "cell_type": "markdown",
   "metadata": {},
   "source": [
    "# Metric Learning MNIST Test "
   ]
  },
  {
   "cell_type": "code",
   "execution_count": null,
   "metadata": {},
   "outputs": [],
   "source": [
    "#model = get_mnist_metriclearning_model()\n",
    "model = get_mnist_metriclearning_persample_model()\n",
    "model"
   ]
  },
  {
   "cell_type": "code",
   "execution_count": null,
   "metadata": {},
   "outputs": [],
   "source": [
    "data_loader = get_mnist_test_loader(BATCH_SIZE, n_augments=N_AUGMENTS)\n",
    "sample = next(iter(data_loader))\n",
    "data = sample[0].view(-1, sample[0].size(-2), sample[0].size(-1))\n",
    "draw(sample[0][0])"
   ]
  },
  {
   "cell_type": "code",
   "execution_count": null,
   "metadata": {},
   "outputs": [],
   "source": [
    "embeds = model(sample[0])"
   ]
  },
  {
   "cell_type": "code",
   "execution_count": null,
   "metadata": {},
   "outputs": [],
   "source": [
    "distances = torch.matmul(embeds, embeds.transpose(0, 1))\n",
    "for i in range(distances.shape[0]):\n",
    "    distances[i, i] = -100"
   ]
  },
  {
   "cell_type": "code",
   "execution_count": null,
   "metadata": {
    "scrolled": true
   },
   "outputs": [],
   "source": [
    "for i in range(distances.shape[0]):\n",
    "    vals, idx = torch.sort(distances[i], descending=True)\n",
    "    idx = [i] + idx[:N_AUGMENTS + 1].numpy().tolist()\n",
    "    imgs = data[idx]\n",
    "    draw(imgs)"
   ]
  },
  {
   "cell_type": "markdown",
   "metadata": {},
   "source": [
    "# Domyshnik Mnist Test"
   ]
  },
  {
   "cell_type": "code",
   "execution_count": null,
   "metadata": {},
   "outputs": [],
   "source": [
    "import torch.nn.functional as F"
   ]
  },
  {
   "cell_type": "code",
   "execution_count": null,
   "metadata": {},
   "outputs": [],
   "source": [
    "data_loader = get_mnist_test_loader(BATCH_SIZE, n_augments=N_AUGMENTS, augment_labels=True)\n",
    "sample = next(iter(data_loader))\n",
    "data = sample[0].view(-1, sample[0].size(-2), sample[0].size(-1))\n",
    "draw(sample[0][0])"
   ]
  },
  {
   "cell_type": "code",
   "execution_count": null,
   "metadata": {},
   "outputs": [],
   "source": [
    "sample[1]"
   ]
  },
  {
   "cell_type": "markdown",
   "metadata": {},
   "source": [
    "# experiment 1 (domyshnik net)"
   ]
  },
  {
   "cell_type": "code",
   "execution_count": null,
   "metadata": {},
   "outputs": [],
   "source": [
    "info = mnist_domyshnik_lunch_info\n",
    "sample = next(iter(info.test_loader))"
   ]
  },
  {
   "cell_type": "code",
   "execution_count": null,
   "metadata": {},
   "outputs": [],
   "source": [
    "model = get_mnist_domyshnik_model()\n",
    "model"
   ]
  },
  {
   "cell_type": "code",
   "execution_count": null,
   "metadata": {},
   "outputs": [],
   "source": [
    "out = model(sample[0])\n",
    "out = out.view(BATCH_SIZE, N_AUGMENTS + 1, out.size(-1))\n",
    "out = F.softmax(out, dim=-1)\n",
    "out.size()\n"
   ]
  },
  {
   "cell_type": "code",
   "execution_count": null,
   "metadata": {},
   "outputs": [],
   "source": [
    "draw(sample[0][0])"
   ]
  },
  {
   "cell_type": "code",
   "execution_count": null,
   "metadata": {},
   "outputs": [],
   "source": [
    "out0 = out[0]\n",
    "dists = torch.matmul(out0, out0.transpose(0, 1))\n",
    "'max', dists.max(), 'min', dists.min()"
   ]
  },
  {
   "cell_type": "code",
   "execution_count": null,
   "metadata": {},
   "outputs": [],
   "source": [
    "draw(sample[0][10])"
   ]
  },
  {
   "cell_type": "code",
   "execution_count": null,
   "metadata": {},
   "outputs": [],
   "source": [
    "out1 = out[1]\n",
    "dists = torch.matmul(out0, out1.transpose(0, 1))\n",
    "'max', dists.max(), 'min', dists.min()"
   ]
  },
  {
   "cell_type": "code",
   "execution_count": null,
   "metadata": {},
   "outputs": [],
   "source": [
    "print(out[0, 0])\n",
    "print(out[0, 1])\n",
    "print(out[0, 2])\n",
    "print(out[0, 3])\n",
    "\n",
    "print(out[10, 0])\n",
    "print(out[110, 1])\n",
    "print(out[23, 2])\n",
    "print(out[4, 3])"
   ]
  },
  {
   "cell_type": "raw",
   "metadata": {},
   "source": [
    "как видно - модель получилась константной - локально константный лосс сделал ее полность константной"
   ]
  },
  {
   "cell_type": "markdown",
   "metadata": {},
   "source": [
    "# experiment 2 metric learning simularity"
   ]
  },
  {
   "cell_type": "code",
   "execution_count": null,
   "metadata": {
    "scrolled": true
   },
   "outputs": [],
   "source": [
    "#m_model = get_mnist_metriclearning_model()\n",
    "m_model = get_mnist_metriclearning_persample_model()\n",
    "m_model"
   ]
  },
  {
   "cell_type": "code",
   "execution_count": null,
   "metadata": {},
   "outputs": [],
   "source": [
    "m_out = m_model(sample[0])\n",
    "m_out = m_out.view(BATCH_SIZE, N_AUGMENTS + 1, m_out.size(-1))\n",
    "m_out.size()"
   ]
  },
  {
   "cell_type": "markdown",
   "metadata": {},
   "source": [
    "### distance to negatives"
   ]
  },
  {
   "cell_type": "code",
   "execution_count": null,
   "metadata": {},
   "outputs": [],
   "source": [
    "dists = F.pairwise_distance(m_out[0], m_out[10])\n",
    "'max', dists.max().item(), 'min', dists.min().item()"
   ]
  },
  {
   "cell_type": "markdown",
   "metadata": {},
   "source": [
    "### distance to self "
   ]
  },
  {
   "cell_type": "code",
   "execution_count": null,
   "metadata": {},
   "outputs": [],
   "source": [
    "dists = F.pairwise_distance(m_out[0], m_out[0][torch.randperm(m_out[0].size(0))])\n",
    "'max', dists.max().item(), 'min', dists.min().item()\n",
    "dists"
   ]
  },
  {
   "cell_type": "code",
   "execution_count": null,
   "metadata": {},
   "outputs": [],
   "source": [
    "t = -1\n",
    "for i in range(BATCH_SIZE):\n",
    "    dists = F.pairwise_distance(m_out[i], m_out[i][torch.randperm(m_out0.size(0))])\n",
    "    if t < dists.max().item():\n",
    "        t = dists.max().item()\n",
    "'max', t"
   ]
  },
  {
   "cell_type": "code",
   "execution_count": null,
   "metadata": {},
   "outputs": [],
   "source": [
    "t = -1\n",
    "for i in range(BATCH_SIZE):\n",
    "    dists = F.pairwise_distance(m_out[0], m_out[i])\n",
    "    if t < dists.max().item():\n",
    "        t = dists.max().item()\n",
    "'max', t"
   ]
  },
  {
   "cell_type": "raw",
   "metadata": {},
   "source": [
    "как видно все примеры лежат в шаре радиуса 05 - у нас не вышло выучить хороших векторов для метрик леарнинга "
   ]
  },
  {
   "cell_type": "code",
   "execution_count": null,
   "metadata": {},
   "outputs": [],
   "source": [
    "m = MnistDomyshnikNetNet3()\n",
    "m"
   ]
  },
  {
   "cell_type": "code",
   "execution_count": null,
   "metadata": {},
   "outputs": [],
   "source": [
    "out = m(sample[0])\n",
    "out.size()"
   ]
  },
  {
   "cell_type": "code",
   "execution_count": null,
   "metadata": {},
   "outputs": [],
   "source": []
  }
 ],
 "metadata": {
  "kernelspec": {
   "display_name": "Python 3",
   "language": "python",
   "name": "python3"
  },
  "language_info": {
   "codemirror_mode": {
    "name": "ipython",
    "version": 3
   },
   "file_extension": ".py",
   "mimetype": "text/x-python",
   "name": "python",
   "nbconvert_exporter": "python",
   "pygments_lexer": "ipython3",
   "version": "3.7.4"
  }
 },
 "nbformat": 4,
 "nbformat_minor": 4
}
