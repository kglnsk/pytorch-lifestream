{
 "cells": [
  {
   "cell_type": "code",
   "execution_count": 1,
   "metadata": {},
   "outputs": [
    {
     "name": "stdout",
     "output_type": "stream",
     "text": [
      "model _params:\n",
      "        CURRENT_PARAMS metric_learning_per_class\n",
      "        N_AUGMENTS 5\n",
      "        LEARNING_RATE 0.002\n",
      "        GAMMA 0.9025\n",
      "        BATCH_SIZE 512\n",
      "        EPOCHS 30\n",
      "        SAMPLING_STRATEGY HardNegativePair\n",
      "        NEGATIVES_COUNT 10\n",
      "        MARGING 0.3\n",
      "        STEP_SIZE 5\n",
      "        MODEL_POSTFIX mnist_per_class\n",
      "       \n",
      "Files already downloaded and verified\n",
      "Files already downloaded and verified\n"
     ]
    }
   ],
   "source": [
    "import sys\n",
    "\n",
    "sys.path.insert(0, '/mnt/data/molchanov/dltranz')\n",
    "\n",
    "import torch\n",
    "\n",
    "from domyshnik.models import *\n",
    "from domyshnik.data import *\n",
    "from domyshnik.constants import *\n",
    "from domyshnik.utils import *\n"
   ]
  },
  {
   "cell_type": "code",
   "execution_count": 3,
   "metadata": {},
   "outputs": [
    {
     "data": {
      "text/plain": [
       "torch.Size([4, 3, 28, 28])"
      ]
     },
     "execution_count": 3,
     "metadata": {},
     "output_type": "execute_result"
    }
   ],
   "source": [
    "t = torch.randn(3, 28, 28)\n",
    "n = torch.stack((t, t, t, t))\n",
    "n.size()"
   ]
  },
  {
   "cell_type": "code",
   "execution_count": null,
   "metadata": {},
   "outputs": [],
   "source": []
  }
 ],
 "metadata": {
  "kernelspec": {
   "display_name": "Python 3",
   "language": "python",
   "name": "python3"
  },
  "language_info": {
   "codemirror_mode": {
    "name": "ipython",
    "version": 3
   },
   "file_extension": ".py",
   "mimetype": "text/x-python",
   "name": "python",
   "nbconvert_exporter": "python",
   "pygments_lexer": "ipython3",
   "version": "3.7.4"
  }
 },
 "nbformat": 4,
 "nbformat_minor": 4
}
