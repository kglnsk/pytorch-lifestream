{
 "cells": [
  {
   "cell_type": "code",
   "execution_count": 2,
   "metadata": {},
   "outputs": [
    {
     "name": "stdout",
     "output_type": "stream",
     "text": [
      "model _params:\n",
      "        N_AUGMENTS 25\n",
      "        LEARNING_RATE 0.0002\n",
      "        GAMMA 0.9025\n",
      "        BATCH_SIZE 512\n",
      "        EPOCHS 20\n",
      "        SAMPLING_STRATEGY HardNegativePair\n",
      "        NEGATIVES_COUNT 1\n",
      "        MARGING 0.001\n",
      "        STEP_SIZE 15\n",
      "        MODEL_POSTFIX \n",
      "       \n",
      "load model /mnt/data/molchanov/models/mnist_metric_learning.w\n",
      "load model /mnt/data/molchanov/models/mnist_metric_learning.w\n"
     ]
    }
   ],
   "source": [
    "import sys\n",
    "\n",
    "sys.path.insert(0, '/mnt/data/molchanov/dltranz')\n",
    "\n",
    "from domyshnik.models import *\n",
    "from domyshnik.data import *\n",
    "from domyshnik.constants import *\n",
    "from domyshnik.utils import *\n"
   ]
  },
  {
   "cell_type": "code",
   "execution_count": 7,
   "metadata": {},
   "outputs": [
    {
     "name": "stdout",
     "output_type": "stream",
     "text": [
      "load model /mnt/data/molchanov/models/mnist_metric_learning.w\n"
     ]
    },
    {
     "data": {
      "text/plain": [
       "MnistDomyshnikNetNet(\n",
       "  (metric_learn_model): Sequential(\n",
       "    (0): Conv2d(1, 32, kernel_size=(3, 3), stride=(1, 1))\n",
       "    (1): Conv2d(32, 64, kernel_size=(3, 3), stride=(1, 1))\n",
       "    (2): Dropout2d(p=0.25, inplace=False)\n",
       "    (3): Dropout2d(p=0.5, inplace=False)\n",
       "    (4): Linear(in_features=9216, out_features=256, bias=True)\n",
       "  )\n",
       "  (fc0): Linear(in_features=256, out_features=512, bias=True)\n",
       "  (fc1): Linear(in_features=512, out_features=10, bias=True)\n",
       ")"
      ]
     },
     "execution_count": 7,
     "metadata": {},
     "output_type": "execute_result"
    }
   ],
   "source": [
    "model = MnistDomyshnikNetNet()\n",
    "model"
   ]
  },
  {
   "cell_type": "code",
   "execution_count": 3,
   "metadata": {},
   "outputs": [
    {
     "name": "stdout",
     "output_type": "stream",
     "text": [
      "load model /mnt/data/molchanov/models/mnist_metric_learning.w\n"
     ]
    }
   ],
   "source": [
    "model = get_mnist_metriclearning_model_cated()"
   ]
  },
  {
   "cell_type": "code",
   "execution_count": 4,
   "metadata": {},
   "outputs": [
    {
     "data": {
      "text/plain": [
       "MnistMetricLearningNet2(\n",
       "  (conv1): Conv2d(1, 32, kernel_size=(3, 3), stride=(1, 1))\n",
       "  (conv2): Conv2d(32, 64, kernel_size=(3, 3), stride=(1, 1))\n",
       "  (dropout1): Dropout2d(p=0.25, inplace=False)\n",
       "  (dropout2): Dropout2d(p=0.5, inplace=False)\n",
       "  (fc1): Linear(in_features=9216, out_features=256, bias=True)\n",
       ")"
      ]
     },
     "execution_count": 4,
     "metadata": {},
     "output_type": "execute_result"
    }
   ],
   "source": [
    "model"
   ]
  },
  {
   "cell_type": "code",
   "execution_count": 5,
   "metadata": {},
   "outputs": [],
   "source": [
    "loader = get_mnist_test_loader(10, 5, True)"
   ]
  },
  {
   "cell_type": "code",
   "execution_count": 6,
   "metadata": {},
   "outputs": [],
   "source": [
    "sample = next(iter(loader))"
   ]
  },
  {
   "cell_type": "code",
   "execution_count": null,
   "metadata": {},
   "outputs": [],
   "source": []
  }
 ],
 "metadata": {
  "kernelspec": {
   "display_name": "Python 3",
   "language": "python",
   "name": "python3"
  },
  "language_info": {
   "codemirror_mode": {
    "name": "ipython",
    "version": 3
   },
   "file_extension": ".py",
   "mimetype": "text/x-python",
   "name": "python",
   "nbconvert_exporter": "python",
   "pygments_lexer": "ipython3",
   "version": "3.7.4"
  }
 },
 "nbformat": 4,
 "nbformat_minor": 4
}
