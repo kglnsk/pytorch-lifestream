{
 "cells": [
  {
   "cell_type": "code",
   "execution_count": 1,
   "metadata": {},
   "outputs": [
    {
     "name": "stdout",
     "output_type": "stream",
     "text": [
      "model _params:\n",
      "        CURRENT_PARAMS domyshnik\n",
      "        N_AUGMENTS 20\n",
      "        LEARNING_RATE 0.0004\n",
      "        GAMMA 0.9025\n",
      "        BATCH_SIZE 128\n",
      "        EPOCHS 30\n",
      "        SAMPLING_STRATEGY HardNegativePair\n",
      "        NEGATIVES_COUNT 10\n",
      "        MARGING 0.1\n",
      "        STEP_SIZE 5\n",
      "        MODEL_POSTFIX mnist\n",
      "        ADD_INFO {'refresh_reward_step': 4}\n",
      "       \n"
     ]
    }
   ],
   "source": [
    "import sys\n",
    "\n",
    "sys.path.insert(0, '/mnt/data/molchanov/dltranz')\n",
    "\n",
    "import torch\n",
    "import torch.nn.functional as F\n",
    "\n",
    "import matplotlib.pyplot as plt\n",
    "\n",
    "from domyshnik.models import *\n",
    "from domyshnik.data import *\n",
    "from domyshnik.constants import *\n",
    "from domyshnik.utils import *\n",
    "\n",
    "def draw(imgs):\n",
    "        if isinstance(imgs, list):\n",
    "            imgs = torch.stack(imgs)\n",
    "        fig = plt.figure()\n",
    "        rows, columns = 1, imgs.shape[0]\n",
    "        for i in range(imgs.shape[0]):\n",
    "            fig.add_subplot(rows, columns, i+1)\n",
    "            if imgs[i].size(0) == 3:\n",
    "                plt.imshow(imgs[i].transpose(0, 1).transpose(1, 2))\n",
    "            else:\n",
    "                plt.imshow(imgs[i])\n",
    "        plt.show()\n",
    "        \n",
    "%matplotlib inline\n"
   ]
  },
  {
   "cell_type": "code",
   "execution_count": 2,
   "metadata": {},
   "outputs": [
    {
     "name": "stdout",
     "output_type": "stream",
     "text": [
      "Files already downloaded and verified\n"
     ]
    },
    {
     "name": "stderr",
     "output_type": "stream",
     "text": [
      "Clipping input data to the valid range for imshow with RGB data ([0..1] for floats or [0..255] for integers).\n",
      "Clipping input data to the valid range for imshow with RGB data ([0..1] for floats or [0..255] for integers).\n",
      "Clipping input data to the valid range for imshow with RGB data ([0..1] for floats or [0..255] for integers).\n"
     ]
    },
    {
     "name": "stdout",
     "output_type": "stream",
     "text": [
      "torch.Size([256, 4, 3, 32, 32]) torch.Size([4, 3, 32, 32])\n"
     ]
    },
    {
     "data": {
      "image/png": "[encoded data removed]",
      "text/plain": [
       "<Figure size 432x288 with 4 Axes>"
      ]
     },
     "metadata": {
      "needs_background": "light"
     },
     "output_type": "display_data"
    }
   ],
   "source": [
    "loader = get_cifar10_test_loader(BATCH_SIZE, n_augments=3)\n",
    "sample = next(iter(loader))[0]\n",
    "print(sample.size(), sample[0].size())\n",
    "draw(sample[0])"
   ]
  },
  {
   "cell_type": "code",
   "execution_count": 3,
   "metadata": {},
   "outputs": [
    {
     "data": {
      "text/plain": [
       "tensor(-0.5966)"
      ]
     },
     "execution_count": 3,
     "metadata": {},
     "output_type": "execute_result"
    }
   ],
   "source": [
    "inp = F.soft_max(torch.randn(5, 3))\n",
    "F.kl_div(input=torch.Tensor([0.5, 0.5]), \n",
    "         target=torch.Tensor([0.5, 0.5]))"
   ]
  },
  {
   "cell_type": "code",
   "execution_count": 43,
   "metadata": {},
   "outputs": [
    {
     "name": "stdout",
     "output_type": "stream",
     "text": [
      "tensor([[0.4659, 0.2324, 0.3017],\n",
      "        [0.0379, 0.0835, 0.8785],\n",
      "        [0.3435, 0.6353, 0.0212],\n",
      "        [0.0564, 0.6376, 0.3060],\n",
      "        [0.7161, 0.1611, 0.1228]])\n",
      "tensor([[0.0272, 0.2313, 0.7415],\n",
      "        [0.4222, 0.3608, 0.2169],\n",
      "        [0.7198, 0.1370, 0.1431],\n",
      "        [0.6095, 0.3082, 0.0823],\n",
      "        [0.8608, 0.0913, 0.0479]])\n"
     ]
    }
   ],
   "source": [
    "inp = F.log_softmax(torch.randn(5, 3), dim=-1)\n",
    "trg = F.log_softmax(torch.randn(5, 3), dim=-1)\n",
    "print(F.softmax(inp, dim=-1))\n",
    "#print()\n",
    "print(F.softmax(trg, dim=-1))\n",
    "trg = F.softmax(trg, dim=-1)"
   ]
  },
  {
   "cell_type": "code",
   "execution_count": 35,
   "metadata": {},
   "outputs": [
    {
     "data": {
      "text/plain": [
       "tensor([0.1596, 0.6725, 0.5518, 0.0873, 0.9967])"
      ]
     },
     "execution_count": 35,
     "metadata": {},
     "output_type": "execute_result"
    }
   ],
   "source": [
    "F.kl_div(inp, trg, reduction='none').sum(-1)"
   ]
  },
  {
   "cell_type": "code",
   "execution_count": null,
   "metadata": {},
   "outputs": [],
   "source": [
    "a = inp\n"
   ]
  },
  {
   "cell_type": "code",
   "execution_count": 34,
   "metadata": {},
   "outputs": [
    {
     "data": {
      "text/plain": [
       "tensor([2.8476, 3.2002, 3.2514, 3.2022, 3.4977])"
      ]
     },
     "execution_count": 34,
     "metadata": {},
     "output_type": "execute_result"
    }
   ],
   "source": [
    "torch.pairwise_distance(inp,trg)"
   ]
  },
  {
   "cell_type": "code",
   "execution_count": 41,
   "metadata": {},
   "outputs": [
    {
     "name": "stderr",
     "output_type": "stream",
     "text": [
      "/mnt/data/molchanov/miniconda3/lib/python3.7/site-packages/ipykernel_launcher.py:1: UserWarning: Implicit dimension choice for log_softmax has been deprecated. Change the call to include dim=X as an argument.\n",
      "  \"\"\"Entry point for launching an IPython kernel.\n"
     ]
    }
   ],
   "source": [
    "dist1 = F.log_softmax(torch.Tensor([0.5, 0.5]))\n",
    "dist2 = torch.Tensor([0.5, 0.5])"
   ]
  },
  {
   "cell_type": "code",
   "execution_count": 42,
   "metadata": {},
   "outputs": [
    {
     "data": {
      "text/plain": [
       "tensor(0.)"
      ]
     },
     "execution_count": 42,
     "metadata": {},
     "output_type": "execute_result"
    }
   ],
   "source": [
    "F.kl_div(dist1, dist2, reduction='none').sum(-1)"
   ]
  },
  {
   "cell_type": "code",
   "execution_count": null,
   "metadata": {},
   "outputs": [],
   "source": []
  },
  {
   "cell_type": "code",
   "execution_count": 30,
   "metadata": {},
   "outputs": [],
   "source": [
    "labels = torch.Tensor([0,0,0, 1,1,1,2,2,2])\n",
    "n = labels.size(0)"
   ]
  },
  {
   "cell_type": "code",
   "execution_count": 33,
   "metadata": {},
   "outputs": [
    {
     "name": "stdout",
     "output_type": "stream",
     "text": [
      "tensor([[ 0.,  0.,  0.,  1.,  1.,  1.,  2.,  2.,  2.],\n",
      "        [ 0.,  0.,  0.,  1.,  1.,  1.,  2.,  2.,  2.],\n",
      "        [ 0.,  0.,  0.,  1.,  1.,  1.,  2.,  2.,  2.],\n",
      "        [-1., -1., -1.,  0.,  0.,  0.,  1.,  1.,  1.],\n",
      "        [-1., -1., -1.,  0.,  0.,  0.,  1.,  1.,  1.],\n",
      "        [-1., -1., -1.,  0.,  0.,  0.,  1.,  1.,  1.],\n",
      "        [-2., -2., -2., -1., -1., -1.,  0.,  0.,  0.],\n",
      "        [-2., -2., -2., -1., -1., -1.,  0.,  0.,  0.],\n",
      "        [-2., -2., -2., -1., -1., -1.,  0.,  0.,  0.]])\n",
      "tensor([[0, 1],\n",
      "        [0, 2],\n",
      "        [1, 2],\n",
      "        [3, 4],\n",
      "        [3, 5],\n",
      "        [4, 5],\n",
      "        [6, 7],\n",
      "        [6, 8],\n",
      "        [7, 8]])\n"
     ]
    }
   ],
   "source": [
    "x = labels.expand(n,n) - labels.expand(n,n).t()     \n",
    "print(x)\n",
    "            \n",
    "# positive pairs\n",
    "positive_pairs = torch.triu((x == 0).int(), diagonal = 1).nonzero()\n",
    "print(positive_pairs)"
   ]
  },
  {
   "cell_type": "code",
   "execution_count": 31,
   "metadata": {},
   "outputs": [
    {
     "data": {
      "text/plain": [
       "tensor([[0., 0., 0., 1., 1., 1., 2., 2., 2.],\n",
       "        [0., 0., 0., 1., 1., 1., 2., 2., 2.],\n",
       "        [0., 0., 0., 1., 1., 1., 2., 2., 2.],\n",
       "        [0., 0., 0., 1., 1., 1., 2., 2., 2.],\n",
       "        [0., 0., 0., 1., 1., 1., 2., 2., 2.],\n",
       "        [0., 0., 0., 1., 1., 1., 2., 2., 2.],\n",
       "        [0., 0., 0., 1., 1., 1., 2., 2., 2.],\n",
       "        [0., 0., 0., 1., 1., 1., 2., 2., 2.],\n",
       "        [0., 0., 0., 1., 1., 1., 2., 2., 2.]])"
      ]
     },
     "execution_count": 31,
     "metadata": {},
     "output_type": "execute_result"
    }
   ],
   "source": [
    "labels.expand(n,n)"
   ]
  },
  {
   "cell_type": "code",
   "execution_count": null,
   "metadata": {},
   "outputs": [],
   "source": []
  }
 ],
 "metadata": {
  "kernelspec": {
   "display_name": "Python 3",
   "language": "python",
   "name": "python3"
  },
  "language_info": {
   "codemirror_mode": {
    "name": "ipython",
    "version": 3
   },
   "file_extension": ".py",
   "mimetype": "text/x-python",
   "name": "python",
   "nbconvert_exporter": "python",
   "pygments_lexer": "ipython3",
   "version": "3.7.4"
  }
 },
 "nbformat": 4,
 "nbformat_minor": 4
}
