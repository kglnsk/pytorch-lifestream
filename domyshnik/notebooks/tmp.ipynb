{
 "cells": [
  {
   "cell_type": "code",
   "execution_count": null,
   "metadata": {},
   "outputs": [],
   "source": [
    "import sys\n",
    "\n",
    "sys.path.insert(0, '/mnt/data/molchanov/dltranz')\n",
    "\n",
    "import torch\n",
    "import torch.nn.functional as F\n",
    "from torch.autograd import Function, Variable\n",
    "import numpy as np\n",
    "import random\n",
    "\n",
    "import matplotlib.pyplot as plt\n",
    "\n",
    "from domyshnik.models import *\n",
    "from domyshnik.data import *\n",
    "from domyshnik.constants import *\n",
    "from domyshnik.utils import *\n",
    "from domyshnik.losses import *\n",
    "\n",
    "def draw(imgs):\n",
    "        if isinstance(imgs, list):\n",
    "            imgs = torch.stack(imgs)\n",
    "        fig = plt.figure()\n",
    "        rows, columns = 1, imgs.shape[0]\n",
    "        for i in range(imgs.shape[0]):\n",
    "            fig.add_subplot(rows, columns, i+1)\n",
    "            if imgs[i].size(0) == 3:\n",
    "                plt.imshow(imgs[i].transpose(0, 1).transpose(1, 2))\n",
    "            else:\n",
    "                plt.imshow(imgs[i])\n",
    "        plt.show()\n",
    "        \n",
    "def draw_rgb(imgs):\n",
    "    if isinstance(imgs, list):\n",
    "        imgs = torch.stack(imgs)\n",
    "    fig = plt.figure()\n",
    "    rows, columns = 1, imgs.shape[0]\n",
    "    for i in range(imgs.shape[0]):\n",
    "        fig.add_subplot(rows, columns, i+1)\n",
    "        plt.imshow(imgs[i].transpose(0, 1).transpose(1, 2))\n",
    "    plt.show()\n",
    "        \n",
    "%matplotlib inline\n"
   ]
  },
  {
   "cell_type": "code",
   "execution_count": null,
   "metadata": {},
   "outputs": [],
   "source": [
    "b = 2\n",
    "n = 4\n",
    "loader = get_cifar10_test_loader(batch_size=b, n_augments=n, augment_labels=True)\n",
    "sample = next(iter(loader))\n"
   ]
  },
  {
   "cell_type": "code",
   "execution_count": null,
   "metadata": {},
   "outputs": [],
   "source": [
    "imgs, (new_lbl, lbl, reward) = sample"
   ]
  },
  {
   "cell_type": "code",
   "execution_count": null,
   "metadata": {},
   "outputs": [],
   "source": [
    "new_lbl, lbl, reward"
   ]
  },
  {
   "cell_type": "code",
   "execution_count": null,
   "metadata": {},
   "outputs": [],
   "source": [
    "draw(imgs[0])\n",
    "draw(imgs[1])"
   ]
  },
  {
   "cell_type": "code",
   "execution_count": null,
   "metadata": {},
   "outputs": [],
   "source": [
    "model = get_cifar10_metriclearning_persample_model_cated()"
   ]
  },
  {
   "cell_type": "code",
   "execution_count": null,
   "metadata": {},
   "outputs": [],
   "source": [
    "embeddings = model(imgs)\n",
    "b = 2\n",
    "n = 4\n",
    "h = 256\n",
    "\n",
    "# get local neighboars\n",
    "idx = torch.arange(0, embeddings.size(0), embeddings.size(0)/b).long()\n",
    "tmp = torch.index_select(embeddings, dim=0, index=idx)\n",
    "embeds0 = tmp.unsqueeze(0).repeat(n + 1, 1, 1).transpose(0, 1).contiguous().view(-1, h)\n",
    "delta = F.pairwise_distance(embeds0, embeddings).view(b, -1).max(-1)\n",
    "\n",
    "# get elements from batch which fall in these regions"
   ]
  },
  {
   "cell_type": "code",
   "execution_count": null,
   "metadata": {},
   "outputs": [],
   "source": [
    "b = 2\n",
    "n = 4\n",
    "h = 256"
   ]
  },
  {
   "cell_type": "code",
   "execution_count": null,
   "metadata": {},
   "outputs": [],
   "source": [
    "idx = torch.arange(0, embeds.size(0), embeds.size(0)/b).long()\n",
    "embeds0 = torch.index_select(embeds, dim=0, index=idx)\n"
   ]
  },
  {
   "cell_type": "code",
   "execution_count": null,
   "metadata": {},
   "outputs": [],
   "source": [
    "es = embeds0.unsqueeze(0).repeat(n + 1, 1, 1).transpose(0, 1).contiguous().view(-1, h)"
   ]
  },
  {
   "cell_type": "code",
   "execution_count": null,
   "metadata": {},
   "outputs": [],
   "source": [
    "es[:, :3]"
   ]
  },
  {
   "cell_type": "code",
   "execution_count": null,
   "metadata": {},
   "outputs": [],
   "source": []
  }
 ],
 "metadata": {
  "kernelspec": {
   "display_name": "Python 3",
   "language": "python",
   "name": "python3"
  },
  "language_info": {
   "codemirror_mode": {
    "name": "ipython",
    "version": 3
   },
   "file_extension": ".py",
   "mimetype": "text/x-python",
   "name": "python",
   "nbconvert_exporter": "python",
   "pygments_lexer": "ipython3",
   "version": "3.7.4"
  }
 },
 "nbformat": 4,
 "nbformat_minor": 4
}
