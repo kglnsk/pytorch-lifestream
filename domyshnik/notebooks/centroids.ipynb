{
 "cells": [
  {
   "cell_type": "code",
   "execution_count": null,
   "metadata": {},
   "outputs": [],
   "source": [
    "import torch\n",
    "import torch.nn as nn\n",
    "import numpy as np\n",
    "import matplotlib.pyplot as plt\n",
    "import sys\n",
    "import tqdm\n",
    "\n",
    "sys.path.insert(0, '/mnt/data/molchanov/dltranz')\n",
    "\n",
    "from domyshnik.models import *\n",
    "from domyshnik.data import *\n",
    "from domyshnik.constants import *\n",
    "from domyshnik.utils import *\n",
    "\n",
    "from sklearn.manifold import TSNE\n",
    "from sklearn.decomposition import PCA\n",
    "import matplotlib.colors as mcolors\n",
    "\n",
    "\n",
    "def draw(imgs):\n",
    "        if isinstance(imgs, list):\n",
    "            imgs = torch.stack(imgs)\n",
    "        fig = plt.figure()\n",
    "        rows, columns = 1, imgs.shape[0]\n",
    "        for i in range(imgs.shape[0]):\n",
    "            fig.add_subplot(rows, columns, i+1)\n",
    "            plt.imshow(imgs[i])\n",
    "        plt.show()\n",
    "        \n",
    "def draw_rgb(imgs):\n",
    "    if isinstance(imgs, list):\n",
    "        imgs = torch.stack(imgs)\n",
    "    fig = plt.figure()\n",
    "    rows, columns = 1, imgs.shape[0]\n",
    "    for i in range(imgs.shape[0]):\n",
    "        fig.add_subplot(rows, columns, i+1)\n",
    "        plt.imshow(imgs[i].transpose(0, 1).transpose(1, 2))\n",
    "    plt.show()\n",
    "    \n",
    "        \n",
    "%matplotlib inline"
   ]
  },
  {
   "cell_type": "code",
   "execution_count": null,
   "metadata": {},
   "outputs": [],
   "source": []
  },
  {
   "cell_type": "code",
   "execution_count": null,
   "metadata": {},
   "outputs": [],
   "source": [
    "DEVICE = torch.device('cuda:0')\n",
    "#loader = get_cifar10_test_loader_without_augmentation(batch_size=1024)\n",
    "loader =get_cifar10_train_loader(batch_size=1024, n_augments=-1, augment_labels=False)\n",
    "sample = next(iter(loader))"
   ]
  },
  {
   "cell_type": "code",
   "execution_count": null,
   "metadata": {},
   "outputs": [],
   "source": [
    "#model = get_cifar10_metriclearning_persample_model_cated()\n",
    "model = get_cifar10_centroids_model(31)\n",
    "model.eval()\n",
    "model.to(DEVICE)\n",
    "\n",
    "embeddings = []\n",
    "labels = []\n",
    "\n",
    "with torch.no_grad():\n",
    "    with tqdm.notebook.tqdm(total=len(loader)) as steps:\n",
    "        for itr, data in enumerate(loader):\n",
    "            x, y = data[0].to(DEVICE), data[1]\n",
    "            out = model(x)\n",
    "            \n",
    "            out = out.detach().cpu()\n",
    "            y = y.cpu()\n",
    "            \n",
    "            embeddings.append(out.detach().cpu())\n",
    "            labels.append(y.detach().cpu())\n",
    "            \n",
    "            steps.update()\n",
    "\n",
    "embeddings = torch.cat(embeddings, dim=0).numpy()\n",
    "labels = torch.cat(labels, dim=0).numpy()\n",
    "            \n",
    "print(f'embeddings shape {embeddings.shape}')\n",
    "print(f'labels shape {labels.shape}')"
   ]
  },
  {
   "cell_type": "code",
   "execution_count": null,
   "metadata": {},
   "outputs": [],
   "source": [
    "pca = PCA(n_components=50)\n",
    "pca.fit(embeddings)\n",
    "X_embedded = pca.transform(embeddings)\n",
    "\n",
    "centroids = model.centroids.data.cpu().numpy()\n",
    "X_centroids = pca.transform(centroids)\n",
    "\n",
    "X_embedded = np.concatenate((X_centroids, X_embedded), 0)\n",
    "\n",
    "tsne = TSNE(n_components=2)\n",
    "X_embedded = tsne.fit_transform(X_embedded)\n",
    "\n",
    "X_centroids = X_embedded[:X_centroids.shape[0]]\n",
    "X_embedded = X_embedded[X_centroids.shape[0]:]\n",
    "\n",
    "#X_embedded = PCA(n_components=50).fit_transform(embeddings)\n",
    "#X_embedded = TSNE(n_components=2).fit_transform(X_embedded)"
   ]
  },
  {
   "cell_type": "code",
   "execution_count": null,
   "metadata": {},
   "outputs": [],
   "source": [
    "colors = [col for col in mcolors.TABLEAU_COLORS]\n",
    "cl = [colors[lbl] for lbl in labels]\n",
    "\n",
    "plt.figure(figsize=(80,80))\n",
    "ax1 = plt.subplot()\n",
    "ax1.scatter(X_embedded[:, 0], X_embedded[:, 1], s=700, c=cl, alpha=0.2)\n",
    "\n",
    "ax1.scatter(X_centroids[:, 0], X_centroids[:, 1], s=3700, c='black', marker='X')\n",
    "\n",
    "plt.show()"
   ]
  },
  {
   "cell_type": "code",
   "execution_count": null,
   "metadata": {},
   "outputs": [],
   "source": [
    "clas_names = ['airplane',\n",
    " 'automobile',\n",
    " 'bird',\n",
    " 'cat',\n",
    " 'deer',\n",
    " 'dog',\n",
    " 'frog',\n",
    " 'horse',\n",
    " 'ship',\n",
    " 'truck']\n",
    "\n",
    "plt.figure(figsize=(20,10))\n",
    "plt.bar(clas_names, height=1, data=clas_names, color=colors)"
   ]
  },
  {
   "cell_type": "code",
   "execution_count": null,
   "metadata": {
    "scrolled": false
   },
   "outputs": [],
   "source": [
    "# one class plots\n",
    "colors = [col for col in mcolors.TABLEAU_COLORS]\n",
    "cl = [colors[lbl] for lbl in labels]\n",
    "for l in range(10):\n",
    "    idx = (labels == l).astype('int').nonzero()\n",
    "    mas = X_embedded[idx]\n",
    "    cc = np.array(cl)[idx]\n",
    "    \n",
    "    plt.figure(figsize=(80,80))\n",
    "    ax1 = plt.subplot()\n",
    "    ax1.scatter(mas[:, 0], mas[:, 1], s=700, c=cc)\n",
    "    \n",
    "    ax1.scatter(X_centroids[:, 0], X_centroids[:, 1], s=2700, c='black', marker='X')\n",
    "\n",
    "\n",
    "    plt.title(clas_names[l], fontsize=140)\n",
    "    plt.show()"
   ]
  },
  {
   "cell_type": "code",
   "execution_count": null,
   "metadata": {},
   "outputs": [],
   "source": []
  },
  {
   "cell_type": "code",
   "execution_count": null,
   "metadata": {},
   "outputs": [],
   "source": []
  },
  {
   "cell_type": "code",
   "execution_count": null,
   "metadata": {},
   "outputs": [],
   "source": [
    "model = get_cifar10_centroids_model(50)\n",
    "model.eval()\n",
    "model.to(DEVICE)"
   ]
  },
  {
   "cell_type": "markdown",
   "metadata": {},
   "source": [
    "# Distances to all other samples"
   ]
  },
  {
   "cell_type": "code",
   "execution_count": null,
   "metadata": {},
   "outputs": [],
   "source": [
    "loader = get_cifar10_train_loader(batch_size=128, n_augments=-1, augment_labels=False)\n",
    "sample = next(iter(loader))\n",
    "print(sample[0].size())\n",
    "out = model(sample[0].to(DEVICE))\n",
    "lbl = sample[1]\n",
    "\n",
    "\n",
    "def calc_hist(s1, s2):\n",
    "    d = outer_pairwise_distance(s1, s2)\n",
    "    return d.detach().cpu().numpy()\n",
    "\n",
    "D = None\n",
    "LBL = []\n",
    "for i, data in tqdm.notebook.tqdm(enumerate(loader)):\n",
    "    if i == 0:\n",
    "        continue\n",
    "    out1 = model(data[0].to(DEVICE))\n",
    "    d = calc_hist(out, out1)\n",
    "    if D is None:\n",
    "        D = d\n",
    "    else:\n",
    "        D = np.concatenate((D, d), -1)\n",
    "        \n",
    "    LBL += data[1].numpy().tolist()\n",
    "\n",
    "D.shape"
   ]
  },
  {
   "cell_type": "raw",
   "metadata": {},
   "source": [
    "for i in range(128):\n",
    "    plt.hist(D[i], bins=1000)\n",
    "    plt.show()\n",
    "    plt.close()"
   ]
  },
  {
   "cell_type": "code",
   "execution_count": null,
   "metadata": {
    "scrolled": true
   },
   "outputs": [],
   "source": [
    "i = 0\n",
    "for i in range(128):\n",
    "    mask = (D[i] < 0.3)\n",
    "    dist = D[i][mask]\n",
    "    lbls = np.array(LBL)[mask]\n",
    "    #plt.hist(dist, bins=100)\n",
    "    #plt.show()\n",
    "    #plt.close()\n",
    "\n",
    "    dt = torch.Tensor(dist)\n",
    "    lb = torch.Tensor(lbls)\n",
    "\n",
    "    dt, idx = torch.sort(dt)\n",
    "    lb = lb.index_select(0, idx)\n",
    "\n",
    "    plt.hist(lb.numpy(), bins=100, color='red')\n",
    "    plt.title(lbl[i].item())\n",
    "    plt.show()\n",
    "    plt.close()\n",
    "    print('-------------------------------------------------------')"
   ]
  },
  {
   "cell_type": "code",
   "execution_count": null,
   "metadata": {
    "scrolled": true
   },
   "outputs": [],
   "source": [
    "dist = outer_pairwise_distance(out).detach().cpu().numpy()\n",
    "imgs = sample[0]\n",
    "lb = sample[1]\n",
    "for i in range(dist.shape[0]):\n",
    "    print('\\n--------------------------------------')\n",
    "    plt.hist(dist[i], bins=100)\n",
    "    plt.show()\n",
    "    plt.close()\n",
    "    \n",
    "    ti, idx = torch.Tensor(dist[i]).sort()\n",
    "    best_imgs = imgs.index_select(0, idx)\n",
    "    lbs = lb[i] + lb[idx][:10]\n",
    "    print(f'labels: {lbs.data}')\n",
    "    draw_rgb([imgs[i]] + [im for im in best_imgs[:5]])"
   ]
  },
  {
   "cell_type": "code",
   "execution_count": null,
   "metadata": {},
   "outputs": [],
   "source": [
    "dist = outer_pairwise_distance(out).detach().cpu().numpy()\n",
    "dist.shape[0]"
   ]
  },
  {
   "cell_type": "markdown",
   "metadata": {},
   "source": [
    "# Distance hist for augments and other images in batch"
   ]
  },
  {
   "cell_type": "code",
   "execution_count": null,
   "metadata": {},
   "outputs": [],
   "source": [
    "loader =get_cifar10_train_loader(batch_size=128, n_augments=10, augment_labels=False)\n",
    "sample = next(iter(loader))\n",
    "print(sample[0].size())\n",
    "out = model(sample[0].to(DEVICE))\n",
    "out = out.view(128, 11, -1)"
   ]
  },
  {
   "cell_type": "raw",
   "metadata": {
    "scrolled": true
   },
   "source": [
    "for i in range(1024):\n",
    "    d = outer_pairwise_distance(out[i]).view(-1).detach().cpu().numpy() + (torch.eye(11)*2).view(-1).numpy()\n",
    "    plt.hist(d, bins=20)\n",
    "    plt.show()\n",
    "    plt.close()"
   ]
  },
  {
   "cell_type": "code",
   "execution_count": null,
   "metadata": {
    "scrolled": true
   },
   "outputs": [],
   "source": [
    "for i in range(1, 128):\n",
    "    print('\\n----------------------------------')\n",
    "    d1 = outer_pairwise_distance(out[0]).view(-1).detach().cpu().numpy() + (torch.eye(11)*3).view(-1).numpy()\n",
    "    d2 = outer_pairwise_distance(out[0], out[i]).view(-1).detach().cpu().numpy()\n",
    "    if d2.min() < 0.6:\n",
    "        print(f'{sample[1][0].item()} vs {sample[1][i].item()}')\n",
    "        draw_rgb([sample[0][0, 0], sample[0][i, 0]])\n",
    "        \n",
    "    elif sample[1][0].item() == sample[1][i].item():\n",
    "        print(f'{sample[1][0].item()} vs {sample[1][i].item()}')\n",
    "        draw_rgb([sample[0][0, 0], sample[0][i, 0]])\n",
    "        \n",
    "    plt.hist(d1, color='blue')\n",
    "    plt.hist(d2, color='red')\n",
    "    plt.show()\n",
    "    plt.close()"
   ]
  },
  {
   "cell_type": "markdown",
   "metadata": {},
   "source": [
    "# Centroids distance hist"
   ]
  },
  {
   "cell_type": "code",
   "execution_count": null,
   "metadata": {
    "scrolled": true
   },
   "outputs": [],
   "source": [
    "for i in range(model.centroids.size(0)):\n",
    "    plt.hist(dcc[i].detach().cpu().numpy())\n",
    "    plt.show()\n",
    "    plt.close()"
   ]
  },
  {
   "cell_type": "code",
   "execution_count": null,
   "metadata": {},
   "outputs": [],
   "source": []
  },
  {
   "cell_type": "code",
   "execution_count": null,
   "metadata": {
    "scrolled": false
   },
   "outputs": [],
   "source": [
    "def cifar_torch_augmentation(p=1):\n",
    "    return torchvision.transforms.Compose([\n",
    "        transforms.ToPILImage(),   \n",
    "        transforms.RandomApply([\n",
    "            transforms.RandomResizedCrop(size=32, scale=(0.5, 1.0))\n",
    "            ], p=0.5),\n",
    "        \n",
    "        transforms.RandomApply([\n",
    "            transforms.ColorJitter(brightness=0.3, \n",
    "                                   contrast=0.3,#0.7, \n",
    "                                   saturation=(0.3, 0.5),#(0.5, 1), \n",
    "                                   hue=0.5)\n",
    "            ], p=0.5),\n",
    "        \n",
    "        transforms.RandomApply([\n",
    "            transforms.RandomHorizontalFlip()\n",
    "        ], p=0.7),\n",
    "        \n",
    "        transforms.ToTensor(),\n",
    "        #transforms.Normalize((0.4914, 0.4822, 0.4465), (0.247, 0.243, 0.261)),\n",
    "    ])\n",
    "\n",
    "aug = cifar_torch_augmentation()\n",
    "\n",
    "loader =get_cifar10_test_loader(batch_size=128, n_augments=-2, augment_labels=False)\n",
    "sample = next(iter(loader))\n",
    "print(sample[0].size())\n",
    "for i in range(sample[0].size(0)):\n",
    "    print('\\n----------------------------------------')\n",
    "    draw_rgb([sample[0][i], aug(sample[0][i])])\n",
    "    "
   ]
  }
 ],
 "metadata": {
  "kernelspec": {
   "display_name": "Python 3",
   "language": "python",
   "name": "python3"
  },
  "language_info": {
   "codemirror_mode": {
    "name": "ipython",
    "version": 3
   },
   "file_extension": ".py",
   "mimetype": "text/x-python",
   "name": "python",
   "nbconvert_exporter": "python",
   "pygments_lexer": "ipython3",
   "version": "3.7.4"
  }
 },
 "nbformat": 4,
 "nbformat_minor": 4
}
